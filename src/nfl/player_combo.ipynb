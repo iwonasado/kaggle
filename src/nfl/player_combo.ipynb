{
 "metadata": {
  "name": "",
  "signature": "sha256:def1ee339f3008a7d5b77eacee428c1312bbeb4f679e584f2b20ce7122209f24"
 },
 "nbformat": 3,
 "nbformat_minor": 0,
 "worksheets": [
  {
   "cells": [
    {
     "cell_type": "code",
     "collapsed": false,
     "input": [
      "import pandas as pd\n",
      "import pylab as p\n",
      "import matplotlib.pyplot as plt\n",
      "from sklearn.ensemble import RandomForestClassifier\n",
      "from sklearn.ensemble import RandomForestRegressor\n",
      "from sklearn.ensemble import ExtraTreesClassifier\n",
      "from sklearn import cross_validation\n",
      "from sklearn.grid_search import GridSearchCV\n",
      "import scipy\n",
      "import random\n",
      "import time\n",
      "import requests\n",
      "from requests.adapters import HTTPAdapter\n",
      "from multiprocessing import Pool"
     ],
     "language": "python",
     "metadata": {},
     "outputs": [],
     "prompt_number": 65
    },
    {
     "cell_type": "code",
     "collapsed": false,
     "input": [
      "defense_df = pd.read_csv(\"/Users/jostheim/workspace/kaggle/data/nfl/college_defense_df.csv\")\n",
      "passing_df = pd.read_csv(\"/Users/jostheim/workspace/kaggle/data/nfl/college_passing_df.csv\")\n",
      "rushing_df = pd.read_csv(\"/Users/jostheim/workspace/kaggle/data/nfl/college_rushing_df.csv\")\n",
      "receiving_df = pd.read_csv(\"/Users/jostheim/workspace/kaggle/data/nfl/college_receiving_df.csv\")\n",
      "scoring_df = pd.read_csv(\"/Users/jostheim/workspace/kaggle/data/nfl/college_scoring_df.csv\")\n",
      "returning_df = pd.read_csv(\"/Users/jostheim/workspace/kaggle/data/nfl/college_returning_df.csv\")\n",
      "kicking_df = pd.read_csv(\"/Users/jostheim/workspace/kaggle/data/nfl/college_kicking_df.csv\")\n",
      "punting_df = pd.read_csv(\"/Users/jostheim/workspace/kaggle/data/nfl/college_punting_df.csv\")\n",
      "tables = {'college_defense':defense_df, 'college_passing':passing_df, \"college_rushing\":rushing_df, \"college_receiving\":receiving_df, \"college_scoring\":scoring_df, \"college_returning\":returning_df, \"college_kicking\":kicking_df, \"college_punting\":punting_df}"
     ],
     "language": "python",
     "metadata": {},
     "outputs": [],
     "prompt_number": 66
    },
    {
     "cell_type": "code",
     "collapsed": false,
     "input": [
      "combine_df = pd.read_csv(\"/Users/jostheim/workspace/kaggle/data/nfl/combine_df.csv\")\n",
      "combine_df \n",
      "tables[\"combine_df\"] = combine_df"
     ],
     "language": "python",
     "metadata": {},
     "outputs": [],
     "prompt_number": 67
    },
    {
     "cell_type": "code",
     "collapsed": false,
     "input": [
      "players_df = pd.read_csv('/Users/jostheim/workspace/kaggle/data/nfl/NFLData_2000-2012/PLAYERS.csv', usecols=[\"PLAYER\", \"FNAME\", \"LNAME\"])\n",
      "players_df.columns = [\"PLAYERID\", \"FNAME\", \"LNAME\"]"
     ],
     "language": "python",
     "metadata": {},
     "outputs": [],
     "prompt_number": 68
    },
    {
     "cell_type": "code",
     "collapsed": false,
     "input": [
      "for i, (key, df) in enumerate(tables.iteritems()):\n",
      "    df = pd.merge(df, players_df, right_on=[\"FNAME\", \"LNAME\"], left_on=[\"first_name\", \"last_name\"], how=\"left\") \n",
      "    del df[\"FNAME\"]\n",
      "    del df[\"LNAME\"]\n",
      "    df.to_csv(\"/Users/jostheim/workspace/kaggle/data/nfl/\"+key+\"_joined.csv\", index=False)\n",
      " "
     ],
     "language": "python",
     "metadata": {},
     "outputs": [],
     "prompt_number": 69
    },
    {
     "cell_type": "code",
     "collapsed": false,
     "input": [],
     "language": "python",
     "metadata": {},
     "outputs": [],
     "prompt_number": 54
    },
    {
     "cell_type": "code",
     "collapsed": false,
     "input": [],
     "language": "python",
     "metadata": {},
     "outputs": []
    }
   ],
   "metadata": {}
  }
 ]
}