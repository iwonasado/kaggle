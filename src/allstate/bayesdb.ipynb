{
 "metadata": {
  "name": "",
  "signature": "sha256:23434e390aca52afa9f515edce3d334833db914687a5e9e07ed2cecf30479705"
 },
 "nbformat": 3,
 "nbformat_minor": 0,
 "worksheets": [
  {
   "cells": [
    {
     "cell_type": "code",
     "collapsed": false,
     "input": [
      "import pandas as pd\n",
      "import numpy as np\n",
      "import types\n",
      "import dateutil\n",
      "import datetime\n",
      "from dateutil import tz\n",
      "from multiprocessing import Pool\n",
      "import os, sys\n",
      "import random\n",
      "import pickle\n",
      "import pytz\n",
      "from pytz import timezone\n",
      "from sklearn.ensemble import RandomForestClassifier\n",
      "from sklearn.ensemble import ExtraTreesClassifier\n",
      "from sklearn.cross_validation import ShuffleSplit\n",
      "from sklearn import cross_validation\n",
      "import traceback\n",
      "from sklearn.metrics.pairwise import check_pairwise_arrays\n",
      "from sklearn.metrics.pairwise import linear_kernel\n",
      "from sklearn.preprocessing import normalize\n",
      "from sklearn.utils.extmath import safe_sparse_dot\n",
      "import matplotlib.pyplot as plt\n",
      "import csv\n",
      "from bayesdb.client import Client"
     ],
     "language": "python",
     "metadata": {},
     "outputs": [],
     "prompt_number": 1
    },
    {
     "cell_type": "code",
     "collapsed": false,
     "input": [
      "allstate_data = pd.read_csv(\"/Users/jostheim/workspace/kaggle/data/allstate/train.csv\", na_values=[\"NA\"])"
     ],
     "language": "python",
     "metadata": {},
     "outputs": [],
     "prompt_number": 2
    },
    {
     "cell_type": "code",
     "collapsed": false,
     "input": [
      "print allstate_data"
     ],
     "language": "python",
     "metadata": {},
     "outputs": [
      {
       "output_type": "stream",
       "stream": "stdout",
       "text": [
        "<class 'pandas.core.frame.DataFrame'>\n",
        "Int64Index: 665249 entries, 0 to 665248\n",
        "Data columns (total 25 columns):\n",
        "customer_ID          665249  non-null values\n",
        "shopping_pt          665249  non-null values\n",
        "record_type          665249  non-null values\n",
        "day                  665249  non-null values\n",
        "time                 665249  non-null values\n",
        "state                665249  non-null values\n",
        "location             665249  non-null values\n",
        "group_size           665249  non-null values\n",
        "homeowner            665249  non-null values\n",
        "car_age              665249  non-null values\n",
        "car_value            663718  non-null values\n",
        "risk_factor          424831  non-null values\n",
        "age_oldest           665249  non-null values\n",
        "age_youngest         665249  non-null values\n",
        "married_couple       665249  non-null values\n",
        "C_previous           646538  non-null values\n",
        "duration_previous    646538  non-null values\n",
        "A                    665249  non-null values\n",
        "B                    665249  non-null values\n",
        "C                    665249  non-null values\n",
        "D                    665249  non-null values\n",
        "E                    665249  non-null values\n",
        "F                    665249  non-null values\n",
        "G                    665249  non-null values\n",
        "cost                 665249  non-null values\n",
        "dtypes: float64(3), int64(19), object(3)\n"
       ]
      }
     ],
     "prompt_number": 3
    },
    {
     "cell_type": "code",
     "collapsed": false,
     "input": [
      "flattened = []\n",
      "grouped = allstate_data.groupby('customer_ID')\n",
      "for name, group in grouped:\n",
      "    d = {'customer_ID':name}\n",
      "    for i, (ix, row) in enumerate(group.iterrows()):\n",
      "        shopping_point = row['shopping_pt']\n",
      "        d['shopping_point'] = shopping_point\n",
      "        if (i+1) == len(group):\n",
      "            shopping_point = \"final\"\n",
      "        for key, val in row.iteritems():\n",
      "            d[\"{0}_{1}\".format(shopping_point, key)] = val\n",
      "    flattened.append(d)\n",
      "allstate_flattened = pd.DataFrame(flattened)"
     ],
     "language": "python",
     "metadata": {},
     "outputs": [],
     "prompt_number": 12
    },
    {
     "cell_type": "code",
     "collapsed": false,
     "input": [
      "allstate_flattened.to_csv(\"/Users/jostheim/workspace/kaggle/src/allstate/training_flattened.csv\")"
     ],
     "language": "python",
     "metadata": {},
     "outputs": [],
     "prompt_number": 13
    },
    {
     "cell_type": "code",
     "collapsed": false,
     "input": [
      "client = Client()\n",
      "client('DROP BTABLE allstate_table')\n",
      "client('CREATE BTABLE allstate_table FROM /Users/jostheim/workspace/kaggle/src/allstate/training_flattened.csv;')"
     ],
     "language": "python",
     "metadata": {},
     "outputs": [
      {
       "output_type": "stream",
       "stream": "stdout",
       "text": [
        "Are you sure you want to permanently delete this btable, and all associated models, without any way to get them back? Enter 'y' if yes.\n"
       ]
      },
      {
       "name": "stdout",
       "output_type": "stream",
       "stream": "stdout",
       "text": [
        "y\n"
       ]
      },
      {
       "output_type": "stream",
       "stream": "stdout",
       "text": [
        "\n",
        "Created btable allstate_table. Inferred schema:"
       ]
      },
      {
       "output_type": "stream",
       "stream": "stdout",
       "text": [
        "\n",
        "+------------+-------------+-------------+-------------+---------------+-------------+-------------+-------------+-------------+---------------+-----------------+-------------+--------------+-------------+----------------+-------------+----------------------+---------------+--------------+-------------+-------------------+----------------+----------------+----------------+-------------+-------------+-------------+-------------+-------------+---------------+-------------+-------------+-------------+-------------+---------------+-----------------+-------------+--------------+-------------+----------------+-------------+----------------------+---------------+--------------+-------------+-------------------+----------------+----------------+----------------+-------------+-------------+-------------+-------------+-------------+---------------+-------------+-------------+-------------+-------------+---------------+-----------------+-------------+--------------+-------------+----------------+-------------+----------------------+---------------+--------------+-------------+-------------------+----------------+----------------+----------------+-------------+-------------+-------------+-------------+-------------+--------------+-------------+-------------+-------------+-------------+--------------+----------------+-------------+-------------+-------------+---------------+-------------+---------------------+--------------+-------------+------------+------------------+---------------+---------------+---------------+-------------+-------------+-------------+-------------+-------------+--------------+-------------+-------------+-------------+-------------+--------------+----------------+-------------+-------------+-------------+---------------+-------------+---------------------+--------------+-------------+------------+------------------+---------------+---------------+---------------+-------------+-------------+-------------+-------------+-------------+--------------+-------------+-------------+-------------+-------------+--------------+----------------+-------------+-------------+-------------+---------------+-------------+---------------------+--------------+-------------+------------+------------------+---------------+---------------+---------------+-------------+-------------+-------------+-------------+-------------+--------------+-------------+-------------+-------------+-------------+--------------+----------------+-------------+-------------+-------------+---------------+-------------+---------------------+--------------+-------------+------------+------------------+---------------+---------------+---------------+-------------+-------------+-------------+-------------+-------------+--------------+-------------+-------------+-------------+-------------+--------------+----------------+-------------+-------------+-------------+---------------+-------------+---------------------+--------------+-------------+------------+------------------+---------------+---------------+---------------+-------------+-------------+-------------+-------------+-------------+--------------+-------------+-------------+-------------+-------------+--------------+----------------+-------------+-------------+-------------+---------------+-------------+---------------------+--------------+-------------+------------+------------------+---------------+---------------+---------------+-------------+-------------+-------------+-------------+-------------+--------------+-------------+-------------+-------------+-------------+--------------+----------------+-------------+-------------+-------------+---------------+-------------+---------------------+--------------+-------------+------------+------------------+---------------+---------------+---------------+-------------+-------------+-------------+-------------+-------------+--------------+-------------+-------------+-------------+-------------+--------------+----------------+-------------+-------------+-------------+---------------+-------------+---------------------+--------------+-------------+------------+------------------+---------------+---------------+---------------+-------------+-------------+-------------+-------------+-------------+--------------+-------------+-------------+-------------+-------------+--------------+----------------+-------------+-------------+-------------+---------------+-------------+---------------------+--------------+-------------+------------+------------------+---------------+---------------+---------------+-------------+-------------+-------------+-------------+-------------+-------------+------------------+-------------+-------------+-------------+-------------+------------------+--------------------+---------------+-----------------+-------------+-------------------+-------------+-------------------------+------------------+-----------------+----------------+----------------------+-------------------+-------------------+-------------------+-------------+-------------+----------------+\n",
        "|            |     10_A    |     10_B    |     10_C    | 10_C_previous |     10_D    |     10_E    |     10_F    |     10_G    | 10_age_oldest | 10_age_youngest |  10_car_age | 10_car_value |   10_cost   | 10_customer_ID |    10_day   | 10_duration_previous | 10_group_size | 10_homeowner | 10_location | 10_married_couple | 10_record_type | 10_risk_factor | 10_shopping_pt |   10_state  |   10_time   |     11_A    |     11_B    |     11_C    | 11_C_previous |     11_D    |     11_E    |     11_F    |     11_G    | 11_age_oldest | 11_age_youngest |  11_car_age | 11_car_value |   11_cost   | 11_customer_ID |    11_day   | 11_duration_previous | 11_group_size | 11_homeowner | 11_location | 11_married_couple | 11_record_type | 11_risk_factor | 11_shopping_pt |   11_state  |   11_time   |     12_A    |     12_B    |     12_C    | 12_C_previous |     12_D    |     12_E    |     12_F    |     12_G    | 12_age_oldest | 12_age_youngest |  12_car_age | 12_car_value |   12_cost   | 12_customer_ID |    12_day   | 12_duration_previous | 12_group_size | 12_homeowner | 12_location | 12_married_couple | 12_record_type | 12_risk_factor | 12_shopping_pt |   12_state  |   12_time   |     1_A     |     1_B     |     1_C     | 1_C_previous |     1_D     |     1_E     |     1_F     |     1_G     | 1_age_oldest | 1_age_youngest |  1_car_age  | 1_car_value |    1_cost   | 1_customer_ID |    1_day    | 1_duration_previous | 1_group_size | 1_homeowner | 1_location | 1_married_couple | 1_record_type | 1_risk_factor | 1_shopping_pt |   1_state   |    1_time   |     2_A     |     2_B     |     2_C     | 2_C_previous |     2_D     |     2_E     |     2_F     |     2_G     | 2_age_oldest | 2_age_youngest |  2_car_age  | 2_car_value |    2_cost   | 2_customer_ID |    2_day    | 2_duration_previous | 2_group_size | 2_homeowner | 2_location | 2_married_couple | 2_record_type | 2_risk_factor | 2_shopping_pt |   2_state   |    2_time   |     3_A     |     3_B     |     3_C     | 3_C_previous |     3_D     |     3_E     |     3_F     |     3_G     | 3_age_oldest | 3_age_youngest |  3_car_age  | 3_car_value |    3_cost   | 3_customer_ID |    3_day    | 3_duration_previous | 3_group_size | 3_homeowner | 3_location | 3_married_couple | 3_record_type | 3_risk_factor | 3_shopping_pt |   3_state   |    3_time   |     4_A     |     4_B     |     4_C     | 4_C_previous |     4_D     |     4_E     |     4_F     |     4_G     | 4_age_oldest | 4_age_youngest |  4_car_age  | 4_car_value |    4_cost   | 4_customer_ID |    4_day    | 4_duration_previous | 4_group_size | 4_homeowner | 4_location | 4_married_couple | 4_record_type | 4_risk_factor | 4_shopping_pt |   4_state   |    4_time   |     5_A     |     5_B     |     5_C     | 5_C_previous |     5_D     |     5_E     |     5_F     |     5_G     | 5_age_oldest | 5_age_youngest |  5_car_age  | 5_car_value |    5_cost   | 5_customer_ID |    5_day    | 5_duration_previous | 5_group_size | 5_homeowner | 5_location | 5_married_couple | 5_record_type | 5_risk_factor | 5_shopping_pt |   5_state   |    5_time   |     6_A     |     6_B     |     6_C     | 6_C_previous |     6_D     |     6_E     |     6_F     |     6_G     | 6_age_oldest | 6_age_youngest |  6_car_age  | 6_car_value |    6_cost   | 6_customer_ID |    6_day    | 6_duration_previous | 6_group_size | 6_homeowner | 6_location | 6_married_couple | 6_record_type | 6_risk_factor | 6_shopping_pt |   6_state   |    6_time   |     7_A     |     7_B     |     7_C     | 7_C_previous |     7_D     |     7_E     |     7_F     |     7_G     | 7_age_oldest | 7_age_youngest |  7_car_age  | 7_car_value |    7_cost   | 7_customer_ID |    7_day    | 7_duration_previous | 7_group_size | 7_homeowner | 7_location | 7_married_couple | 7_record_type | 7_risk_factor | 7_shopping_pt |   7_state   |    7_time   |     8_A     |     8_B     |     8_C     | 8_C_previous |     8_D     |     8_E     |     8_F     |     8_G     | 8_age_oldest | 8_age_youngest |  8_car_age  | 8_car_value |    8_cost   | 8_customer_ID |    8_day    | 8_duration_previous | 8_group_size | 8_homeowner | 8_location | 8_married_couple | 8_record_type | 8_risk_factor | 8_shopping_pt |   8_state   |    8_time   |     9_A     |     9_B     |     9_C     | 9_C_previous |     9_D     |     9_E     |     9_F     |     9_G     | 9_age_oldest | 9_age_youngest |  9_car_age  | 9_car_value |    9_cost   | 9_customer_ID |    9_day    | 9_duration_previous | 9_group_size | 9_homeowner | 9_location | 9_married_couple | 9_record_type | 9_risk_factor | 9_shopping_pt |   9_state   |    9_time   | customer_ID |   final_A   |   final_B   |   final_C   | final_C_previous |   final_D   |   final_E   |   final_F   |   final_G   | final_age_oldest | final_age_youngest | final_car_age | final_car_value |  final_cost | final_customer_ID |  final_day  | final_duration_previous | final_group_size | final_homeowner | final_location | final_married_couple | final_record_type | final_risk_factor | final_shopping_pt | final_state |  final_time | shopping_point |\n",
        "+------------+-------------+-------------+-------------+---------------+-------------+-------------+-------------+-------------+---------------+-----------------+-------------+--------------+-------------+----------------+-------------+----------------------+---------------+--------------+-------------+-------------------+----------------+----------------+----------------+-------------+-------------+-------------+-------------+-------------+---------------+-------------+-------------+-------------+-------------+---------------+-----------------+-------------+--------------+-------------+----------------+-------------+----------------------+---------------+--------------+-------------+-------------------+----------------+----------------+----------------+-------------+-------------+-------------+-------------+-------------+---------------+-------------+-------------+-------------+-------------+---------------+-----------------+-------------+--------------+-------------+----------------+-------------+----------------------+---------------+--------------+-------------+-------------------+----------------+----------------+----------------+-------------+-------------+-------------+-------------+-------------+--------------+-------------+-------------+-------------+-------------+--------------+----------------+-------------+-------------+-------------+---------------+-------------+---------------------+--------------+-------------+------------+------------------+---------------+---------------+---------------+-------------+-------------+-------------+-------------+-------------+--------------+-------------+-------------+-------------+-------------+--------------+----------------+-------------+-------------+-------------+---------------+-------------+---------------------+--------------+-------------+------------+------------------+---------------+---------------+---------------+-------------+-------------+-------------+-------------+-------------+--------------+-------------+-------------+-------------+-------------+--------------+----------------+-------------+-------------+-------------+---------------+-------------+---------------------+--------------+-------------+------------+------------------+---------------+---------------+---------------+-------------+-------------+-------------+-------------+-------------+--------------+-------------+-------------+-------------+-------------+--------------+----------------+-------------+-------------+-------------+---------------+-------------+---------------------+--------------+-------------+------------+------------------+---------------+---------------+---------------+-------------+-------------+-------------+-------------+-------------+--------------+-------------+-------------+-------------+-------------+--------------+----------------+-------------+-------------+-------------+---------------+-------------+---------------------+--------------+-------------+------------+------------------+---------------+---------------+---------------+-------------+-------------+-------------+-------------+-------------+--------------+-------------+-------------+-------------+-------------+--------------+----------------+-------------+-------------+-------------+---------------+-------------+---------------------+--------------+-------------+------------+------------------+---------------+---------------+---------------+-------------+-------------+-------------+-------------+-------------+--------------+-------------+-------------+-------------+-------------+--------------+----------------+-------------+-------------+-------------+---------------+-------------+---------------------+--------------+-------------+------------+------------------+---------------+---------------+---------------+-------------+-------------+-------------+-------------+-------------+--------------+-------------+-------------+-------------+-------------+--------------+----------------+-------------+-------------+-------------+---------------+-------------+---------------------+--------------+-------------+------------+------------------+---------------+---------------+---------------+-------------+-------------+-------------+-------------+-------------+--------------+-------------+-------------+-------------+-------------+--------------+----------------+-------------+-------------+-------------+---------------+-------------+---------------------+--------------+-------------+------------+------------------+---------------+---------------+---------------+-------------+-------------+-------------+-------------+-------------+-------------+------------------+-------------+-------------+-------------+-------------+------------------+--------------------+---------------+-----------------+-------------+-------------------+-------------+-------------------------+------------------+-----------------+----------------+----------------------+-------------------+-------------------+-------------------+-------------+-------------+----------------+\n",
        "| continuous | multinomial | multinomial | multinomial |  multinomial  | multinomial | multinomial | multinomial | multinomial |  multinomial  |   multinomial   | multinomial | multinomial  | multinomial |   continuous   | multinomial |     multinomial      |  multinomial  | multinomial  | multinomial |    multinomial    |  multinomial   |  multinomial   |  multinomial   | multinomial | multinomial | multinomial | multinomial | multinomial |  multinomial  | multinomial | multinomial | multinomial | multinomial |  multinomial  |   multinomial   | multinomial | multinomial  | multinomial |  multinomial   | multinomial |     multinomial      |  multinomial  | multinomial  | multinomial |    multinomial    |  multinomial   |  multinomial   |  multinomial   | multinomial | multinomial | multinomial | multinomial | multinomial |  multinomial  | multinomial | multinomial | multinomial | multinomial |  multinomial  |   multinomial   | multinomial | multinomial  | multinomial |  multinomial   | multinomial |     multinomial      |  multinomial  | multinomial  | multinomial |    multinomial    |  multinomial   |  multinomial   |  multinomial   | multinomial | multinomial | multinomial | multinomial | multinomial | multinomial  | multinomial | multinomial | multinomial | multinomial | multinomial  |  multinomial   | multinomial | multinomial | multinomial |   continuous  | multinomial |     multinomial     | multinomial  | multinomial | continuous |   multinomial    |  multinomial  |  multinomial  |  multinomial  | multinomial | multinomial | multinomial | multinomial | multinomial | multinomial  | multinomial | multinomial | multinomial | multinomial | multinomial  |  multinomial   | multinomial | multinomial | multinomial |   continuous  | multinomial |     multinomial     | multinomial  | multinomial | continuous |   multinomial    |  multinomial  |  multinomial  |  multinomial  | multinomial | multinomial | multinomial | multinomial | multinomial | multinomial  | multinomial | multinomial | multinomial | multinomial | multinomial  |  multinomial   | multinomial | multinomial | multinomial |   continuous  | multinomial |     multinomial     | multinomial  | multinomial | continuous |   multinomial    |  multinomial  |  multinomial  |  multinomial  | multinomial | multinomial | multinomial | multinomial | multinomial | multinomial  | multinomial | multinomial | multinomial | multinomial | multinomial  |  multinomial   | multinomial | multinomial | multinomial |   continuous  | multinomial |     multinomial     | multinomial  | multinomial | continuous |   multinomial    |  multinomial  |  multinomial  |  multinomial  | multinomial | multinomial | multinomial | multinomial | multinomial | multinomial  | multinomial | multinomial | multinomial | multinomial | multinomial  |  multinomial   | multinomial | multinomial | multinomial |   continuous  | multinomial |     multinomial     | multinomial  | multinomial | continuous |   multinomial    |  multinomial  |  multinomial  |  multinomial  | multinomial | multinomial | multinomial | multinomial | multinomial | multinomial  | multinomial | multinomial | multinomial | multinomial | multinomial  |  multinomial   | multinomial | multinomial | multinomial |   continuous  | multinomial |     multinomial     | multinomial  | multinomial | continuous |   multinomial    |  multinomial  |  multinomial  |  multinomial  | multinomial | multinomial | multinomial | multinomial | multinomial | multinomial  | multinomial | multinomial | multinomial | multinomial | multinomial  |  multinomial   | multinomial | multinomial | multinomial |   continuous  | multinomial |     multinomial     | multinomial  | multinomial | continuous |   multinomial    |  multinomial  |  multinomial  |  multinomial  | multinomial | multinomial | multinomial | multinomial | multinomial | multinomial  | multinomial | multinomial | multinomial | multinomial | multinomial  |  multinomial   | multinomial | multinomial | multinomial |   continuous  | multinomial |     multinomial     | multinomial  | multinomial | continuous |   multinomial    |  multinomial  |  multinomial  |  multinomial  | multinomial | multinomial | multinomial | multinomial | multinomial | multinomial  | multinomial | multinomial | multinomial | multinomial | multinomial  |  multinomial   | multinomial | multinomial | multinomial |   continuous  | multinomial |     multinomial     | multinomial  | multinomial | continuous |   multinomial    |  multinomial  |  multinomial  |  multinomial  | multinomial | multinomial |  continuous | multinomial | multinomial | multinomial |   multinomial    | multinomial | multinomial | multinomial | multinomial |   multinomial    |    multinomial     |  multinomial  |   multinomial   | multinomial |     continuous    | multinomial |       multinomial       |   multinomial    |   multinomial   |   continuous   |     multinomial      |    multinomial    |    multinomial    |    multinomial    | multinomial | multinomial |  multinomial   |\n",
        "+------------+-------------+-------------+-------------+---------------+-------------+-------------+-------------+-------------+---------------+-----------------+-------------+--------------+-------------+----------------+-------------+----------------------+---------------+--------------+-------------+-------------------+----------------+----------------+----------------+-------------+-------------+-------------+-------------+-------------+---------------+-------------+-------------+-------------+-------------+---------------+-----------------+-------------+--------------+-------------+----------------+-------------+----------------------+---------------+--------------+-------------+-------------------+----------------+----------------+----------------+-------------+-------------+-------------+-------------+-------------+---------------+-------------+-------------+-------------+-------------+---------------+-----------------+-------------+--------------+-------------+----------------+-------------+----------------------+---------------+--------------+-------------+-------------------+----------------+----------------+----------------+-------------+-------------+-------------+-------------+-------------+--------------+-------------+-------------+-------------+-------------+--------------+----------------+-------------+-------------+-------------+---------------+-------------+---------------------+--------------+-------------+------------+------------------+---------------+---------------+---------------+-------------+-------------+-------------+-------------+-------------+--------------+-------------+-------------+-------------+-------------+--------------+----------------+-------------+-------------+-------------+---------------+-------------+---------------------+--------------+-------------+------------+------------------+---------------+---------------+---------------+-------------+-------------+-------------+-------------+-------------+--------------+-------------+-------------+-------------+-------------+--------------+----------------+-------------+-------------+-------------+---------------+-------------+---------------------+--------------+-------------+------------+------------------+---------------+---------------+---------------+-------------+-------------+-------------+-------------+-------------+--------------+-------------+-------------+-------------+-------------+--------------+----------------+-------------+-------------+-------------+---------------+-------------+---------------------+--------------+-------------+------------+------------------+---------------+---------------+---------------+-------------+-------------+-------------+-------------+-------------+--------------+-------------+-------------+-------------+-------------+--------------+----------------+-------------+-------------+-------------+---------------+-------------+---------------------+--------------+-------------+------------+------------------+---------------+---------------+---------------+-------------+-------------+-------------+-------------+-------------+--------------+-------------+-------------+-------------+-------------+--------------+----------------+-------------+-------------+-------------+---------------+-------------+---------------------+--------------+-------------+------------+------------------+---------------+---------------+---------------+-------------+-------------+-------------+-------------+-------------+--------------+-------------+-------------+-------------+-------------+--------------+----------------+-------------+-------------+-------------+---------------+-------------+---------------------+--------------+-------------+------------+------------------+---------------+---------------+---------------+-------------+-------------+-------------+-------------+-------------+--------------+-------------+-------------+-------------+-------------+--------------+----------------+-------------+-------------+-------------+---------------+-------------+---------------------+--------------+-------------+------------+------------------+---------------+---------------+---------------+-------------+-------------+-------------+-------------+-------------+--------------+-------------+-------------+-------------+-------------+--------------+----------------+-------------+-------------+-------------+---------------+-------------+---------------------+--------------+-------------+------------+------------------+---------------+---------------+---------------+-------------+-------------+-------------+-------------+-------------+-------------+------------------+-------------+-------------+-------------+-------------+------------------+--------------------+---------------+-----------------+-------------+-------------------+-------------+-------------------------+------------------+-----------------+----------------+----------------------+-------------------+-------------------+-------------------+-------------+-------------+----------------+\n"
       ]
      }
     ],
     "prompt_number": 14
    },
    {
     "cell_type": "code",
     "collapsed": false,
     "input": [
      "client('DROP MODELS FOR allstate_table;')\n",
      "client('INITIALIZE 300 MODELS FOR allstate_table;')\n",
      "client('ANALYZE allstate_table FOR 600 ITERATIONS;')"
     ],
     "language": "python",
     "metadata": {},
     "outputs": []
    },
    {
     "cell_type": "code",
     "collapsed": false,
     "input": [],
     "language": "python",
     "metadata": {},
     "outputs": []
    }
   ],
   "metadata": {}
  }
 ]
}