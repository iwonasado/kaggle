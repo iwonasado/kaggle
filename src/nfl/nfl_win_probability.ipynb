{
 "metadata": {
  "name": ""
 },
 "nbformat": 3,
 "nbformat_minor": 0,
 "worksheets": [
  {
   "cells": [
    {
     "cell_type": "code",
     "collapsed": false,
     "input": [
      "import pandas as pd\n",
      "import pylab as p\n",
      "import matplotlib.pyplot as plt\n",
      "from sklearn.ensemble import RandomForestClassifier\n",
      "from sklearn import cross_validation"
     ],
     "language": "python",
     "metadata": {},
     "outputs": [],
     "prompt_number": 1
    },
    {
     "cell_type": "code",
     "collapsed": false,
     "input": [
      "win_orig_df = pd.read_csv('/Users/jostheim/workspace/kaggle/src/nfl/win_probability.csv', header=None, names=['gameId', 'qtr', 'min', 'sec', 'off', 'def', 'down', 'togo', 'ydline', 'description', 'offscore', 'defscore', 'season'])\n",
      "win_orig_df"
     ],
     "language": "python",
     "metadata": {},
     "outputs": [
      {
       "output_type": "stream",
       "stream": "stderr",
       "text": [
        "/Users/jostheim/Virtualenvs/data_science/lib/python2.7/site-packages/pandas/core/config.py:570: DeprecationWarning: height has been deprecated.\n",
        "\n",
        "  warnings.warn(d.msg, DeprecationWarning)\n"
       ]
      },
      {
       "html": [
        "<pre>\n",
        "&lt;class 'pandas.core.frame.DataFrame'&gt;\n",
        "Int64Index: 518730 entries, 0 to 518729\n",
        "Data columns (total 13 columns):\n",
        "gameId         518729  non-null values\n",
        "qtr            518730  non-null values\n",
        "min            518730  non-null values\n",
        "sec            518730  non-null values\n",
        "off            517790  non-null values\n",
        "def            518729  non-null values\n",
        "down           518730  non-null values\n",
        "togo           518730  non-null values\n",
        "ydline         518730  non-null values\n",
        "description    518194  non-null values\n",
        "offscore       518730  non-null values\n",
        "defscore       518730  non-null values\n",
        "season         518730  non-null values\n",
        "dtypes: int64(9), object(4)\n",
        "</pre>"
       ],
       "metadata": {},
       "output_type": "pyout",
       "prompt_number": 120,
       "text": [
        "<class 'pandas.core.frame.DataFrame'>\n",
        "Int64Index: 518730 entries, 0 to 518729\n",
        "Data columns (total 13 columns):\n",
        "gameId         518729  non-null values\n",
        "qtr            518730  non-null values\n",
        "min            518730  non-null values\n",
        "sec            518730  non-null values\n",
        "off            517790  non-null values\n",
        "def            518729  non-null values\n",
        "down           518730  non-null values\n",
        "togo           518730  non-null values\n",
        "ydline         518730  non-null values\n",
        "description    518194  non-null values\n",
        "offscore       518730  non-null values\n",
        "defscore       518730  non-null values\n",
        "season         518730  non-null values\n",
        "dtypes: int64(9), object(4)"
       ]
      }
     ],
     "prompt_number": 120
    },
    {
     "cell_type": "code",
     "collapsed": false,
     "input": [
      "# remove kickoffs and other untimed plays\n",
      "win_orig_df = win_orig_df[win_orig_df['down'] != 0]\n",
      "plt.hist(win_orig_df[win_orig_df['qtr'] == 1]['min'], bins=50)\n",
      "plt.show()"
     ],
     "language": "python",
     "metadata": {},
     "outputs": [
      {
       "metadata": {},
       "output_type": "display_data",
       "png": "[encoded data removed]",
       "text": [
        "<matplotlib.figure.Figure at 0x114b15d90>"
       ]
      }
     ],
     "prompt_number": 121
    },
    {
     "cell_type": "code",
     "collapsed": false,
     "input": [
      "win_orig_df['time_remaining'] = (win_orig_df['min']*60 + win_orig_df['sec']) \n",
      "plt.hist(win_orig_df['time_remaining'], bins=50)\n",
      "plt.show()"
     ],
     "language": "python",
     "metadata": {},
     "outputs": [
      {
       "metadata": {},
       "output_type": "display_data",
       "png": "[encoded data removed]",
       "text": [
        "<matplotlib.figure.Figure at 0x10829cf90>"
       ]
      }
     ],
     "prompt_number": 122
    },
    {
     "cell_type": "code",
     "collapsed": false,
     "input": [
      "# only regulation\n",
      "win_orig_df = win_orig_df[win_orig_df['time_remaining'] > 0]\n",
      "# remove pro bowls\n",
      "win_orig_df = win_orig_df[win_orig_df['off'] != \"AFC\"]\n",
      "win_orig_df = win_orig_df[win_orig_df['def'] != \"AFC\"]\n",
      "win_orig_df = win_orig_df[win_orig_df['def'] != \"NFC\"]\n",
      "win_orig_df = win_orig_df[win_orig_df['off'] != \"NFC\"]\n",
      "plt.hist(win_orig_df['time_remaining'], bins=50)\n",
      "plt.show()"
     ],
     "language": "python",
     "metadata": {},
     "outputs": [
      {
       "metadata": {},
       "output_type": "display_data",
       "png": "[encoded data removed]",
       "text": [
        "<matplotlib.figure.Figure at 0x106ba9390>"
       ]
      }
     ],
     "prompt_number": 123
    },
    {
     "cell_type": "code",
     "collapsed": false,
     "input": [
      "grouped = win_orig_df.groupby('gameId')\n",
      "join_df = pd.DataFrame()\n",
      "for i, (name, group) in enumerate(grouped):\n",
      "    group_df = pd.DataFrame(index=group.index)\n",
      "    group_df['max_off_score'] = group[group['off'] == group.irow(0)['off']]['offscore'].max()\n",
      "    group_df['max_def_score'] = group[group['def'] == group.irow(0)['def']]['defscore'].max()\n",
      "    group_df['score_diff'] = group[group['off'] == group.irow(0)['off']]['offscore'].max() - group[group['def'] == group.irow(0)['def']]['defscore'].max()\n",
      "    group_df['winner'] = 1 if group[group['off'] == group.irow(0)['off']]['offscore'].max() - group[group['def'] == group.irow(0)['def']]['defscore'].max() > 0 else 0\n",
      "    #print group_df['max_off_score'] , group_df['max_def_score'],group_df['score_diff']\n",
      "    join_df = pd.concat([join_df, group_df])\n"
     ],
     "language": "python",
     "metadata": {},
     "outputs": [],
     "prompt_number": 124
    },
    {
     "cell_type": "code",
     "collapsed": false,
     "input": [
      "win_orig_df = win_orig_df.join(join_df)\n",
      "\n"
     ],
     "language": "python",
     "metadata": {},
     "outputs": [],
     "prompt_number": 125
    },
    {
     "cell_type": "code",
     "collapsed": false,
     "input": [
      "grouped = win_orig_df.groupby('off')\n",
      "join_df = pd.DataFrame()\n",
      "team_names_to_integer = {}\n",
      "for i, (name, group) in enumerate(grouped):\n",
      "    group_df = pd.DataFrame(index=group.index)\n",
      "    group_df['off_team_name_integer'] = i\n",
      "    team_names_to_integer[name] = i\n",
      "    join_df = pd.concat([join_df, group_df])\n",
      "win_orig_df = win_orig_df.join(join_df)\n",
      "\n",
      "grouped = win_orig_df.groupby('def')\n",
      "join_df = pd.DataFrame()\n",
      "for i, (name, group) in enumerate(grouped):\n",
      "    group_df = pd.DataFrame(index=group.index)\n",
      "    group_df['def_team_name_integer'] = team_names_to_integer[name]\n",
      "    join_df = pd.concat([join_df, group_df])\n",
      "win_orig_df = win_orig_df.join(join_df)"
     ],
     "language": "python",
     "metadata": {},
     "outputs": [],
     "prompt_number": 126
    },
    {
     "cell_type": "code",
     "collapsed": false,
     "input": [
      "win_orig_df = win_orig_df.dropna()"
     ],
     "language": "python",
     "metadata": {},
     "outputs": [],
     "prompt_number": 127
    },
    {
     "cell_type": "code",
     "collapsed": false,
     "input": [
      "features = win_orig_df.copy(deep=True)\n",
      "features['current_score_diff'] = features['offscore'] - features['defscore']\n",
      "#features['ydline'] = features['ydline'].apply(lambda x: 50 + x if x < 50 else 50 - (-1*x + 100) )\n",
      "# leave out > 2012 given the histogram number of plays disparity\n",
      "#features = features[features['season'] < 2012]\n",
      "classes = features['winner']\n",
      "print len(classes[(classes == 0)])\n",
      "print len(classes[(classes == 1)])\n",
      "\n",
      "del features['gameId']\n",
      "del features['min']\n",
      "del features['sec']\n",
      "del features['description']\n",
      "del features['winner']\n",
      "del features['max_off_score']\n",
      "del features['offscore']\n",
      "del features['defscore']\n",
      "del features['score_diff']\n",
      "del features['max_def_score']\n",
      "del features['season']\n",
      "del features['off']\n",
      "del features['def']\n",
      "del features['off_team_name_integer']\n",
      "del features['def_team_name_integer']\n",
      "# not sure about this as it probably doesn't hurt\n",
      "del features['qtr']\n",
      "\n",
      "features\n"
     ],
     "language": "python",
     "metadata": {},
     "outputs": [
      {
       "output_type": "stream",
       "stream": "stdout",
       "text": [
        "274134\n",
        "192359\n"
       ]
      },
      {
       "output_type": "stream",
       "stream": "stderr",
       "text": [
        "/Users/jostheim/Virtualenvs/data_science/lib/python2.7/site-packages/pandas/core/config.py:570: DeprecationWarning: height has been deprecated.\n",
        "\n",
        "  warnings.warn(d.msg, DeprecationWarning)\n"
       ]
      },
      {
       "html": [
        "<pre>\n",
        "&lt;class 'pandas.core.frame.DataFrame'&gt;\n",
        "Int64Index: 466493 entries, 1 to 518727\n",
        "Data columns (total 5 columns):\n",
        "down                  466493  non-null values\n",
        "togo                  466493  non-null values\n",
        "ydline                466493  non-null values\n",
        "time_remaining        466493  non-null values\n",
        "current_score_diff    466493  non-null values\n",
        "dtypes: int64(5)\n",
        "</pre>"
       ],
       "metadata": {},
       "output_type": "pyout",
       "prompt_number": 146,
       "text": [
        "<class 'pandas.core.frame.DataFrame'>\n",
        "Int64Index: 466493 entries, 1 to 518727\n",
        "Data columns (total 5 columns):\n",
        "down                  466493  non-null values\n",
        "togo                  466493  non-null values\n",
        "ydline                466493  non-null values\n",
        "time_remaining        466493  non-null values\n",
        "current_score_diff    466493  non-null values\n",
        "dtypes: int64(5)"
       ]
      }
     ],
     "prompt_number": 146
    },
    {
     "cell_type": "code",
     "collapsed": false,
     "input": [
      "plt.hist(win_orig_df['score_diff'], bins=20)\n",
      "plt.show()\n",
      "plt.hist(features['down'], bins=20)\n",
      "plt.show()\n",
      "plt.hist(features['togo'], bins=20)\n",
      "plt.show()\n",
      "plt.hist(features['ydline'], bins=20)\n",
      "plt.show()\n",
      "plt.hist(np.abs(features['current_score_diff']), bins=100)\n",
      "plt.show()\n",
      "plt.hist(features['time_remaining'], bins=20)\n",
      "plt.show()\n",
      "plt.hist(features['off_team_name_integer'], bins=32)\n",
      "plt.show()\n",
      "plt.hist(features['def_team_name_integer'], bins=32)\n",
      "plt.show()\n",
      "plt.hist(features['season'], bins=32)\n",
      "plt.show()"
     ],
     "language": "python",
     "metadata": {},
     "outputs": [
      {
       "metadata": {},
       "output_type": "display_data",
       "png": "[encoded data removed]",
       "text": [
        "<matplotlib.figure.Figure at 0x108375090>"
       ]
      },
      {
       "metadata": {},
       "output_type": "display_data",
       "png": "[encoded data removed]",
       "text": [
        "<matplotlib.figure.Figure at 0x128632790>"
       ]
      },
      {
       "metadata": {},
       "output_type": "display_data",
       "png": "[encoded data removed]",
       "text": [
        "<matplotlib.figure.Figure at 0x102fa0310>"
       ]
      },
      {
       "metadata": {},
       "output_type": "display_data",
       "png": "[encoded data removed]",
       "text": [
        "<matplotlib.figure.Figure at 0x1094607d0>"
       ]
      },
      {
       "metadata": {},
       "output_type": "display_data",
       "png": "[encoded data removed]",
       "text": [
        "<matplotlib.figure.Figure at 0x128634e10>"
       ]
      },
      {
       "metadata": {},
       "output_type": "display_data",
       "png": "[encoded data removed]",
       "text": [
        "<matplotlib.figure.Figure at 0x100b5a650>"
       ]
      },
      {
       "ename": "KeyError",
       "evalue": "u'no item named off_team_name_integer'",
       "output_type": "pyerr",
       "traceback": [
        "\u001b[0;31m---------------------------------------------------------------------------\u001b[0m\n\u001b[0;31mKeyError\u001b[0m                                  Traceback (most recent call last)",
        "\u001b[0;32m<ipython-input-147-0850a47753c0>\u001b[0m in \u001b[0;36m<module>\u001b[0;34m()\u001b[0m\n\u001b[1;32m     11\u001b[0m \u001b[0mplt\u001b[0m\u001b[0;34m.\u001b[0m\u001b[0mhist\u001b[0m\u001b[0;34m(\u001b[0m\u001b[0mfeatures\u001b[0m\u001b[0;34m[\u001b[0m\u001b[0;34m'time_remaining'\u001b[0m\u001b[0;34m]\u001b[0m\u001b[0;34m,\u001b[0m \u001b[0mbins\u001b[0m\u001b[0;34m=\u001b[0m\u001b[0;36m20\u001b[0m\u001b[0;34m)\u001b[0m\u001b[0;34m\u001b[0m\u001b[0m\n\u001b[1;32m     12\u001b[0m \u001b[0mplt\u001b[0m\u001b[0;34m.\u001b[0m\u001b[0mshow\u001b[0m\u001b[0;34m(\u001b[0m\u001b[0;34m)\u001b[0m\u001b[0;34m\u001b[0m\u001b[0m\n\u001b[0;32m---> 13\u001b[0;31m \u001b[0mplt\u001b[0m\u001b[0;34m.\u001b[0m\u001b[0mhist\u001b[0m\u001b[0;34m(\u001b[0m\u001b[0mfeatures\u001b[0m\u001b[0;34m[\u001b[0m\u001b[0;34m'off_team_name_integer'\u001b[0m\u001b[0;34m]\u001b[0m\u001b[0;34m,\u001b[0m \u001b[0mbins\u001b[0m\u001b[0;34m=\u001b[0m\u001b[0;36m32\u001b[0m\u001b[0;34m)\u001b[0m\u001b[0;34m\u001b[0m\u001b[0m\n\u001b[0m\u001b[1;32m     14\u001b[0m \u001b[0mplt\u001b[0m\u001b[0;34m.\u001b[0m\u001b[0mshow\u001b[0m\u001b[0;34m(\u001b[0m\u001b[0;34m)\u001b[0m\u001b[0;34m\u001b[0m\u001b[0m\n\u001b[1;32m     15\u001b[0m \u001b[0mplt\u001b[0m\u001b[0;34m.\u001b[0m\u001b[0mhist\u001b[0m\u001b[0;34m(\u001b[0m\u001b[0mfeatures\u001b[0m\u001b[0;34m[\u001b[0m\u001b[0;34m'def_team_name_integer'\u001b[0m\u001b[0;34m]\u001b[0m\u001b[0;34m,\u001b[0m \u001b[0mbins\u001b[0m\u001b[0;34m=\u001b[0m\u001b[0;36m32\u001b[0m\u001b[0;34m)\u001b[0m\u001b[0;34m\u001b[0m\u001b[0m\n",
        "\u001b[0;32m/Users/jostheim/Virtualenvs/data_science/lib/python2.7/site-packages/pandas/core/frame.pyc\u001b[0m in \u001b[0;36m__getitem__\u001b[0;34m(self, key)\u001b[0m\n\u001b[1;32m   2001\u001b[0m             \u001b[0;31m# get column\u001b[0m\u001b[0;34m\u001b[0m\u001b[0;34m\u001b[0m\u001b[0m\n\u001b[1;32m   2002\u001b[0m             \u001b[0;32mif\u001b[0m \u001b[0mself\u001b[0m\u001b[0;34m.\u001b[0m\u001b[0mcolumns\u001b[0m\u001b[0;34m.\u001b[0m\u001b[0mis_unique\u001b[0m\u001b[0;34m:\u001b[0m\u001b[0;34m\u001b[0m\u001b[0m\n\u001b[0;32m-> 2003\u001b[0;31m                 \u001b[0;32mreturn\u001b[0m \u001b[0mself\u001b[0m\u001b[0;34m.\u001b[0m\u001b[0m_get_item_cache\u001b[0m\u001b[0;34m(\u001b[0m\u001b[0mkey\u001b[0m\u001b[0;34m)\u001b[0m\u001b[0;34m\u001b[0m\u001b[0m\n\u001b[0m\u001b[1;32m   2004\u001b[0m \u001b[0;34m\u001b[0m\u001b[0m\n\u001b[1;32m   2005\u001b[0m             \u001b[0;31m# duplicate columns\u001b[0m\u001b[0;34m\u001b[0m\u001b[0;34m\u001b[0m\u001b[0m\n",
        "\u001b[0;32m/Users/jostheim/Virtualenvs/data_science/lib/python2.7/site-packages/pandas/core/generic.pyc\u001b[0m in \u001b[0;36m_get_item_cache\u001b[0;34m(self, item)\u001b[0m\n\u001b[1;32m    665\u001b[0m             \u001b[0;32mreturn\u001b[0m \u001b[0mcache\u001b[0m\u001b[0;34m[\u001b[0m\u001b[0mitem\u001b[0m\u001b[0;34m]\u001b[0m\u001b[0;34m\u001b[0m\u001b[0m\n\u001b[1;32m    666\u001b[0m         \u001b[0;32mexcept\u001b[0m \u001b[0mException\u001b[0m\u001b[0;34m:\u001b[0m\u001b[0;34m\u001b[0m\u001b[0m\n\u001b[0;32m--> 667\u001b[0;31m             \u001b[0mvalues\u001b[0m \u001b[0;34m=\u001b[0m \u001b[0mself\u001b[0m\u001b[0;34m.\u001b[0m\u001b[0m_data\u001b[0m\u001b[0;34m.\u001b[0m\u001b[0mget\u001b[0m\u001b[0;34m(\u001b[0m\u001b[0mitem\u001b[0m\u001b[0;34m)\u001b[0m\u001b[0;34m\u001b[0m\u001b[0m\n\u001b[0m\u001b[1;32m    668\u001b[0m             \u001b[0mres\u001b[0m \u001b[0;34m=\u001b[0m \u001b[0mself\u001b[0m\u001b[0;34m.\u001b[0m\u001b[0m_box_item_values\u001b[0m\u001b[0;34m(\u001b[0m\u001b[0mitem\u001b[0m\u001b[0;34m,\u001b[0m \u001b[0mvalues\u001b[0m\u001b[0;34m)\u001b[0m\u001b[0;34m\u001b[0m\u001b[0m\n\u001b[1;32m    669\u001b[0m             \u001b[0mcache\u001b[0m\u001b[0;34m[\u001b[0m\u001b[0mitem\u001b[0m\u001b[0;34m]\u001b[0m \u001b[0;34m=\u001b[0m \u001b[0mres\u001b[0m\u001b[0;34m\u001b[0m\u001b[0m\n",
        "\u001b[0;32m/Users/jostheim/Virtualenvs/data_science/lib/python2.7/site-packages/pandas/core/internals.pyc\u001b[0m in \u001b[0;36mget\u001b[0;34m(self, item)\u001b[0m\n\u001b[1;32m   1653\u001b[0m     \u001b[0;32mdef\u001b[0m \u001b[0mget\u001b[0m\u001b[0;34m(\u001b[0m\u001b[0mself\u001b[0m\u001b[0;34m,\u001b[0m \u001b[0mitem\u001b[0m\u001b[0;34m)\u001b[0m\u001b[0;34m:\u001b[0m\u001b[0;34m\u001b[0m\u001b[0m\n\u001b[1;32m   1654\u001b[0m         \u001b[0;32mif\u001b[0m \u001b[0mself\u001b[0m\u001b[0;34m.\u001b[0m\u001b[0mitems\u001b[0m\u001b[0;34m.\u001b[0m\u001b[0mis_unique\u001b[0m\u001b[0;34m:\u001b[0m\u001b[0;34m\u001b[0m\u001b[0m\n\u001b[0;32m-> 1655\u001b[0;31m             \u001b[0m_\u001b[0m\u001b[0;34m,\u001b[0m \u001b[0mblock\u001b[0m \u001b[0;34m=\u001b[0m \u001b[0mself\u001b[0m\u001b[0;34m.\u001b[0m\u001b[0m_find_block\u001b[0m\u001b[0;34m(\u001b[0m\u001b[0mitem\u001b[0m\u001b[0;34m)\u001b[0m\u001b[0;34m\u001b[0m\u001b[0m\n\u001b[0m\u001b[1;32m   1656\u001b[0m             \u001b[0;32mreturn\u001b[0m \u001b[0mblock\u001b[0m\u001b[0;34m.\u001b[0m\u001b[0mget\u001b[0m\u001b[0;34m(\u001b[0m\u001b[0mitem\u001b[0m\u001b[0;34m)\u001b[0m\u001b[0;34m\u001b[0m\u001b[0m\n\u001b[1;32m   1657\u001b[0m         \u001b[0;32melse\u001b[0m\u001b[0;34m:\u001b[0m\u001b[0;34m\u001b[0m\u001b[0m\n",
        "\u001b[0;32m/Users/jostheim/Virtualenvs/data_science/lib/python2.7/site-packages/pandas/core/internals.pyc\u001b[0m in \u001b[0;36m_find_block\u001b[0;34m(self, item)\u001b[0m\n\u001b[1;32m   1933\u001b[0m \u001b[0;34m\u001b[0m\u001b[0m\n\u001b[1;32m   1934\u001b[0m     \u001b[0;32mdef\u001b[0m \u001b[0m_find_block\u001b[0m\u001b[0;34m(\u001b[0m\u001b[0mself\u001b[0m\u001b[0;34m,\u001b[0m \u001b[0mitem\u001b[0m\u001b[0;34m)\u001b[0m\u001b[0;34m:\u001b[0m\u001b[0;34m\u001b[0m\u001b[0m\n\u001b[0;32m-> 1935\u001b[0;31m         \u001b[0mself\u001b[0m\u001b[0;34m.\u001b[0m\u001b[0m_check_have\u001b[0m\u001b[0;34m(\u001b[0m\u001b[0mitem\u001b[0m\u001b[0;34m)\u001b[0m\u001b[0;34m\u001b[0m\u001b[0m\n\u001b[0m\u001b[1;32m   1936\u001b[0m         \u001b[0;32mfor\u001b[0m \u001b[0mi\u001b[0m\u001b[0;34m,\u001b[0m \u001b[0mblock\u001b[0m \u001b[0;32min\u001b[0m \u001b[0menumerate\u001b[0m\u001b[0;34m(\u001b[0m\u001b[0mself\u001b[0m\u001b[0;34m.\u001b[0m\u001b[0mblocks\u001b[0m\u001b[0;34m)\u001b[0m\u001b[0;34m:\u001b[0m\u001b[0;34m\u001b[0m\u001b[0m\n\u001b[1;32m   1937\u001b[0m             \u001b[0;32mif\u001b[0m \u001b[0mitem\u001b[0m \u001b[0;32min\u001b[0m \u001b[0mblock\u001b[0m\u001b[0;34m:\u001b[0m\u001b[0;34m\u001b[0m\u001b[0m\n",
        "\u001b[0;32m/Users/jostheim/Virtualenvs/data_science/lib/python2.7/site-packages/pandas/core/internals.pyc\u001b[0m in \u001b[0;36m_check_have\u001b[0;34m(self, item)\u001b[0m\n\u001b[1;32m   1940\u001b[0m     \u001b[0;32mdef\u001b[0m \u001b[0m_check_have\u001b[0m\u001b[0;34m(\u001b[0m\u001b[0mself\u001b[0m\u001b[0;34m,\u001b[0m \u001b[0mitem\u001b[0m\u001b[0;34m)\u001b[0m\u001b[0;34m:\u001b[0m\u001b[0;34m\u001b[0m\u001b[0m\n\u001b[1;32m   1941\u001b[0m         \u001b[0;32mif\u001b[0m \u001b[0mitem\u001b[0m \u001b[0;32mnot\u001b[0m \u001b[0;32min\u001b[0m \u001b[0mself\u001b[0m\u001b[0;34m.\u001b[0m\u001b[0mitems\u001b[0m\u001b[0;34m:\u001b[0m\u001b[0;34m\u001b[0m\u001b[0m\n\u001b[0;32m-> 1942\u001b[0;31m             \u001b[0;32mraise\u001b[0m \u001b[0mKeyError\u001b[0m\u001b[0;34m(\u001b[0m\u001b[0;34m'no item named %s'\u001b[0m \u001b[0;34m%\u001b[0m \u001b[0mcom\u001b[0m\u001b[0;34m.\u001b[0m\u001b[0mpprint_thing\u001b[0m\u001b[0;34m(\u001b[0m\u001b[0mitem\u001b[0m\u001b[0;34m)\u001b[0m\u001b[0;34m)\u001b[0m\u001b[0;34m\u001b[0m\u001b[0m\n\u001b[0m\u001b[1;32m   1943\u001b[0m \u001b[0;34m\u001b[0m\u001b[0m\n\u001b[1;32m   1944\u001b[0m     \u001b[0;32mdef\u001b[0m \u001b[0mreindex_axis\u001b[0m\u001b[0;34m(\u001b[0m\u001b[0mself\u001b[0m\u001b[0;34m,\u001b[0m \u001b[0mnew_axis\u001b[0m\u001b[0;34m,\u001b[0m \u001b[0mmethod\u001b[0m\u001b[0;34m=\u001b[0m\u001b[0mNone\u001b[0m\u001b[0;34m,\u001b[0m \u001b[0maxis\u001b[0m\u001b[0;34m=\u001b[0m\u001b[0;36m0\u001b[0m\u001b[0;34m,\u001b[0m \u001b[0mcopy\u001b[0m\u001b[0;34m=\u001b[0m\u001b[0mTrue\u001b[0m\u001b[0;34m)\u001b[0m\u001b[0;34m:\u001b[0m\u001b[0;34m\u001b[0m\u001b[0m\n",
        "\u001b[0;31mKeyError\u001b[0m: u'no item named off_team_name_integer'"
       ]
      }
     ],
     "prompt_number": 147
    },
    {
     "cell_type": "code",
     "collapsed": false,
     "input": [
      "num_cv = 5\n",
      "cv = cross_validation.KFold(len(features), n_folds=num_cv, indices=False)\n",
      "score_sum = 0.0\n",
      "for i, (traincv, testcv) in enumerate(cv):\n",
      "    cfr = RandomForestClassifier(\n",
      "            oob_score = True, verbose = 1,  criterion = 'entropy', max_features = 3, n_estimators = 150, min_samples_leaf = 100,\n",
      "            n_jobs=4,\n",
      "            random_state=0,\n",
      "    )\n",
      "    print \"Fitting cross validation #{0}\".format(i)\n",
      "    cfr.fit(features[traincv], classes[traincv])\n",
      "    print \"Scoring cross validation #{0}\".format(i)\n",
      "    cfr.set_params(n_jobs=1)\n",
      "    predicted = cfr.predict(features[testcv])\n",
      "    p = cfr.predict_proba(features[testcv])\n",
      "    score = cfr.score(features[testcv], classes[testcv])\n",
      "    print \"Score for run {0} is {1}\".format(i, score)\n",
      "    score_sum += score"
     ],
     "language": "python",
     "metadata": {},
     "outputs": [
      {
       "output_type": "stream",
       "stream": "stdout",
       "text": [
        "Fitting cross validation #0\n"
       ]
      },
      {
       "output_type": "stream",
       "stream": "stderr",
       "text": [
        "[Parallel(n_jobs=4)]: Done   1 out of   4 | elapsed:  2.4min remaining:  7.3min\n",
        "[Parallel(n_jobs=4)]: Done   4 out of   4 | elapsed:  2.5min finished\n"
       ]
      },
      {
       "output_type": "stream",
       "stream": "stderr",
       "text": [
        "[Parallel(n_jobs=1)]: Done   1 jobs       | elapsed:    1.5s\n",
        "[Parallel(n_jobs=1)]: Done   1 out of   1 | elapsed:    1.5s finished\n",
        "[Parallel(n_jobs=1)]: Done   1 jobs       | elapsed:    1.4s\n"
       ]
      },
      {
       "output_type": "stream",
       "stream": "stderr",
       "text": [
        "[Parallel(n_jobs=1)]: Done   1 out of   1 | elapsed:    1.4s finished\n",
        "[Parallel(n_jobs=1)]: Done   1 jobs       | elapsed:    1.4s\n"
       ]
      },
      {
       "output_type": "stream",
       "stream": "stdout",
       "text": [
        "Scoring cross validation #0\n",
        "Score for run 0 is 0.592407206937"
       ]
      },
      {
       "output_type": "stream",
       "stream": "stdout",
       "text": [
        "\n",
        "Fitting cross validation #1\n"
       ]
      },
      {
       "output_type": "stream",
       "stream": "stderr",
       "text": [
        "[Parallel(n_jobs=1)]: Done   1 out of   1 | elapsed:    1.4s finished\n"
       ]
      },
      {
       "output_type": "stream",
       "stream": "stderr",
       "text": [
        "[Parallel(n_jobs=4)]: Done   1 out of   4 | elapsed:  1.4min remaining:  4.1min\n",
        "[Parallel(n_jobs=4)]: Done   4 out of   4 | elapsed:  1.4min finished\n"
       ]
      },
      {
       "output_type": "stream",
       "stream": "stderr",
       "text": [
        "[Parallel(n_jobs=1)]: Done   1 jobs       | elapsed:    1.5s\n",
        "[Parallel(n_jobs=1)]: Done   1 out of   1 | elapsed:    1.5s finished\n",
        "[Parallel(n_jobs=1)]: Done   1 jobs       | elapsed:    1.5s\n"
       ]
      },
      {
       "output_type": "stream",
       "stream": "stderr",
       "text": [
        "[Parallel(n_jobs=1)]: Done   1 out of   1 | elapsed:    1.5s finished\n",
        "[Parallel(n_jobs=1)]: Done   1 jobs       | elapsed:    1.5s\n"
       ]
      },
      {
       "output_type": "stream",
       "stream": "stdout",
       "text": [
        "Scoring cross validation #1\n",
        "Score for run 1 is 0.608505986131"
       ]
      },
      {
       "output_type": "stream",
       "stream": "stdout",
       "text": [
        "\n",
        "Fitting cross validation #2\n"
       ]
      },
      {
       "output_type": "stream",
       "stream": "stderr",
       "text": [
        "[Parallel(n_jobs=1)]: Done   1 out of   1 | elapsed:    1.6s finished\n"
       ]
      },
      {
       "output_type": "stream",
       "stream": "stderr",
       "text": [
        "[Parallel(n_jobs=4)]: Done   1 out of   4 | elapsed:  1.3min remaining:  3.8min\n",
        "[Parallel(n_jobs=4)]: Done   4 out of   4 | elapsed:  1.3min finished\n"
       ]
      },
      {
       "output_type": "stream",
       "stream": "stderr",
       "text": [
        "[Parallel(n_jobs=1)]: Done   1 jobs       | elapsed:    1.4s\n",
        "[Parallel(n_jobs=1)]: Done   1 out of   1 | elapsed:    1.4s finished\n",
        "[Parallel(n_jobs=1)]: Done   1 jobs       | elapsed:    1.4s\n"
       ]
      },
      {
       "output_type": "stream",
       "stream": "stderr",
       "text": [
        "[Parallel(n_jobs=1)]: Done   1 out of   1 | elapsed:    1.4s finished\n",
        "[Parallel(n_jobs=1)]: Done   1 jobs       | elapsed:    1.5s\n"
       ]
      },
      {
       "output_type": "stream",
       "stream": "stdout",
       "text": [
        "Scoring cross validation #2\n",
        "Score for run 2 is 0.569416606823"
       ]
      },
      {
       "output_type": "stream",
       "stream": "stdout",
       "text": [
        "\n",
        "Fitting cross validation #3\n"
       ]
      },
      {
       "output_type": "stream",
       "stream": "stderr",
       "text": [
        "[Parallel(n_jobs=1)]: Done   1 out of   1 | elapsed:    1.5s finished\n"
       ]
      },
      {
       "output_type": "stream",
       "stream": "stderr",
       "text": [
        "[Parallel(n_jobs=4)]: Done   1 out of   4 | elapsed:  1.3min remaining:  3.9min\n",
        "[Parallel(n_jobs=4)]: Done   4 out of   4 | elapsed:  1.3min finished\n"
       ]
      },
      {
       "output_type": "stream",
       "stream": "stderr",
       "text": [
        "[Parallel(n_jobs=1)]: Done   1 jobs       | elapsed:    1.4s\n",
        "[Parallel(n_jobs=1)]: Done   1 out of   1 | elapsed:    1.4s finished\n",
        "[Parallel(n_jobs=1)]: Done   1 jobs       | elapsed:    1.4s\n"
       ]
      },
      {
       "output_type": "stream",
       "stream": "stderr",
       "text": [
        "[Parallel(n_jobs=1)]: Done   1 out of   1 | elapsed:    1.4s finished\n",
        "[Parallel(n_jobs=1)]: Done   1 jobs       | elapsed:    1.4s\n"
       ]
      },
      {
       "output_type": "stream",
       "stream": "stdout",
       "text": [
        "Scoring cross validation #3\n",
        "Score for run 3 is 0.592338528157"
       ]
      },
      {
       "output_type": "stream",
       "stream": "stdout",
       "text": [
        "\n",
        "Fitting cross validation #4\n"
       ]
      },
      {
       "output_type": "stream",
       "stream": "stderr",
       "text": [
        "[Parallel(n_jobs=1)]: Done   1 out of   1 | elapsed:    1.4s finished\n"
       ]
      },
      {
       "output_type": "stream",
       "stream": "stderr",
       "text": [
        "[Parallel(n_jobs=4)]: Done   1 out of   4 | elapsed:  1.3min remaining:  4.0min\n",
        "[Parallel(n_jobs=4)]: Done   4 out of   4 | elapsed:  1.3min finished\n"
       ]
      },
      {
       "output_type": "stream",
       "stream": "stderr",
       "text": [
        "[Parallel(n_jobs=1)]: Done   1 jobs       | elapsed:    1.4s\n",
        "[Parallel(n_jobs=1)]: Done   1 out of   1 | elapsed:    1.4s finished\n",
        "[Parallel(n_jobs=1)]: Done   1 jobs       | elapsed:    1.5s\n"
       ]
      },
      {
       "output_type": "stream",
       "stream": "stderr",
       "text": [
        "[Parallel(n_jobs=1)]: Done   1 out of   1 | elapsed:    1.5s finished\n",
        "[Parallel(n_jobs=1)]: Done   1 jobs       | elapsed:    1.4s\n"
       ]
      },
      {
       "output_type": "stream",
       "stream": "stdout",
       "text": [
        "Scoring cross validation #4\n",
        "Score for run 4 is 0.581437972947"
       ]
      },
      {
       "output_type": "stream",
       "stream": "stdout",
       "text": [
        "\n"
       ]
      },
      {
       "output_type": "stream",
       "stream": "stderr",
       "text": [
        "[Parallel(n_jobs=1)]: Done   1 out of   1 | elapsed:    1.4s finished\n"
       ]
      }
     ],
     "prompt_number": 149
    },
    {
     "cell_type": "code",
     "collapsed": false,
     "input": [],
     "language": "python",
     "metadata": {},
     "outputs": []
    }
   ],
   "metadata": {}
  }
 ]
}