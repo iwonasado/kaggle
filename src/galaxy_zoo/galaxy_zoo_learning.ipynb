{
 "metadata": {
  "name": ""
 },
 "nbformat": 3,
 "nbformat_minor": 0,
 "worksheets": [
  {
   "cells": [
    {
     "cell_type": "code",
     "collapsed": false,
     "input": [
      "file = '/Users/jostheim/workspace/kaggle/data/galaxy_zoo/{0}'\n",
      "pd.read(file.format(\"features_10000_samples_50_theta_bins_50_log_radial_bins.csv\"))"
     ],
     "language": "python",
     "metadata": {},
     "outputs": [],
     "prompt_number": "*"
    }
   ],
   "metadata": {}
  }
 ]
}