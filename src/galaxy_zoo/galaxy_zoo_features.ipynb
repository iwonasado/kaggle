{
 "metadata": {
  "name": ""
 },
 "nbformat": 3,
 "nbformat_minor": 0,
 "worksheets": [
  {
   "cells": [
    {
     "cell_type": "code",
     "collapsed": false,
     "input": [
      "import pandas as pd\n",
      "import pylab as p\n",
      "import matplotlib.pyplot as plt\n",
      "from sklearn.ensemble import RandomForestClassifier\n",
      "from sklearn import cross_validation\n",
      "import scipy.misc\n",
      "from multiprocessing import Pool\n",
      "import numpy as np\n",
      "from PIL import Image\n",
      "import random\n",
      "import time"
     ],
     "language": "python",
     "metadata": {},
     "outputs": [],
     "prompt_number": 1
    },
    {
     "cell_type": "code",
     "collapsed": false,
     "input": [
      "def radial_data(data, nbins=10, theta_range=[-np.pi,np.pi], x=None, y=None, rmax=None):\n",
      "    \"\"\"\n",
      "    r = radial_data(data,annulus_width,working_mask,x,y)\n",
      "    \n",
      "    A function to reduce an image to a radial cross-section.\n",
      "    \n",
      "    INPUT:\n",
      "    ------\n",
      "    data   - whatever data you are radially averaging.  Data is\n",
      "            binned into a series of annuli of width 'annulus_width'\n",
      "            pixels.\n",
      "    annulus_width - width of each annulus.  Default is 1.\n",
      "    working_mask - array of same size as 'data', with zeros at\n",
      "                      whichever 'data' points you don't want included\n",
      "                      in the radial data computations.\n",
      "      x,y - coordinate system in which the data exists (used to set\n",
      "             the center of the data).  By default, these are set to\n",
      "             integer meshgrids\n",
      "      rmax -- maximum radial value over which to compute statistics\n",
      "    \n",
      "     OUTPUT:\n",
      "     -------\n",
      "      r - a data structure containing the following\n",
      "                   statistics, computed across each annulus:\n",
      "          .r      - the radial coordinate used (outer edge of annulus)\n",
      "          .mean   - mean of the data in the annulus\n",
      "          .std    - standard deviation of the data in the annulus\n",
      "          .median - median value in the annulus\n",
      "          .max    - maximum value in the annulus\n",
      "          .min    - minimum value in the annulus\n",
      "          .numel  - number of elements in the annulus\n",
      "    \"\"\"\n",
      "    \n",
      "# 2010-03-10 19:22 IJC: Ported to python from Matlab\n",
      "# 2005/12/19 Added 'working_region' option (IJC)\n",
      "# 2005/12/15 Switched order of outputs (IJC)\n",
      "# 2005/12/12 IJC: Removed decifact, changed name, wrote comments.\n",
      "# 2005/11/04 by Ian Crossfield at the Jet Propulsion Laboratory\n",
      " \n",
      "    class radialDat:\n",
      "        \"\"\"Empty object container.\n",
      "        \"\"\"\n",
      "        def __init__(self): \n",
      "            self.mean = None\n",
      "            self.std = None\n",
      "            self.median = None\n",
      "            self.numel = None\n",
      "            self.max = None\n",
      "            self.min = None\n",
      "            self.r = None\n",
      "            self.theta_range = None\n",
      "\n",
      "    #---------------------\n",
      "    # Set up input parameters\n",
      "    #---------------------\n",
      "    data = np.array(data)\n",
      "        \n",
      "    npix, npiy, nz = data.shape\n",
      "    if x==None or y==None:\n",
      "        x1 = np.arange(-npix/2.,npix/2.)\n",
      "        y1 = np.arange(-npiy/2.,npiy/2.)\n",
      "        x,y = np.meshgrid(y1,x1)\n",
      "\n",
      "    theta = np.arctan2(y, x)\n",
      "    #thetaindex = (theta >= theta_range[0]) * (theta < theta_range[1]) \n",
      "    #if thetaindex.ravel().any():\n",
      "         #print thetaindex.ravel().any()\n",
      "         #print data[thetaindex]\n",
      "         #data = data[thetaindex]\n",
      "    \n",
      "    \n",
      "    r = np.sqrt(x**2 + y**2) #abs(x+1j*y)\n",
      "    \n",
      "    if rmax==None:\n",
      "        rmax = r.max()\n",
      "\n",
      "    #---------------------\n",
      "    # Prepare the data container\n",
      "    #---------------------\n",
      "#    dr = np.abs([x[0,0] - x[0,1]]) * annulus_width\n",
      "#     radial = np.arange(rmax/dr)*dr + dr/2.\n",
      "#    radial = np.logspace(np.log10(1.0), np.log10(rmax), num=nbins, base=10)\n",
      "    radial = np.linspace(0.0, rmax, num=nbins)\n",
      "    nrad = nbins\n",
      "    radialdata = radialDat()\n",
      "    radialdata.mean = np.zeros(nrad)\n",
      "    radialdata.std = np.zeros(nrad)\n",
      "    radialdata.median = np.zeros(nrad)\n",
      "    radialdata.numel = np.zeros(nrad)\n",
      "    radialdata.max = np.zeros(nrad)\n",
      "    radialdata.min = np.zeros(nrad)\n",
      "    radialdata.r = radial\n",
      "    radialdata.theta_range = theta_range\n",
      "    \n",
      "    #---------------------\n",
      "    # Loop through the bins\n",
      "    #---------------------\n",
      "    for irad, minrad in enumerate(radial): #= 1:numel(radial)\n",
      "      if irad+1 == len(radial):\n",
      "        continue\n",
      "      maxrad = radial[irad+1]\n",
      "      thisindex = ((r>=minrad) * (r<maxrad)) * ((theta >= theta_range[0]) * (theta < theta_range[1])) \n",
      "\n",
      "      if not thisindex.ravel().any():\n",
      "        radialdata.mean[irad] = np.nan\n",
      "        radialdata.std[irad]  = np.nan\n",
      "        radialdata.median[irad] = np.nan\n",
      "        radialdata.numel[irad] = np.nan\n",
      "        radialdata.max[irad] = np.nan\n",
      "        radialdata.min[irad] = np.nan\n",
      "      else:\n",
      "        radialdata.mean[irad] = data[thisindex].mean()\n",
      "        radialdata.std[irad]  = data[thisindex].std()\n",
      "        radialdata.median[irad] = np.median(data[thisindex])\n",
      "        radialdata.numel[irad] = data[thisindex].size\n",
      "        radialdata.max[irad] = data[thisindex].max()\n",
      "        radialdata.min[irad] = data[thisindex].min()\n",
      "                \n",
      "    \n",
      "    #---------------------\n",
      "    # Return with data\n",
      "    #---------------------\n",
      "    \n",
      "    return radialdata"
     ],
     "language": "python",
     "metadata": {},
     "outputs": [],
     "prompt_number": 71
    },
    {
     "cell_type": "code",
     "collapsed": false,
     "input": [
      "def radial_profile(image, number_radial_bins, theta_range, galaxy_id):\n",
      "    profile_data = radial_data(image, number_radial_bins, theta_range=theta_range)\n",
      "    radial_profile = []\n",
      "    for i, r in enumerate(profile_data.r):\n",
      "        radial_profile.append({\"GalaxyId\":galaxy_id, \"r\":r, \"mean\":profile_data.mean[i], \"median\":profile_data.median[i], \"std\":profile_data.std[i], \"max\":profile_data.max[i], \"min\":profile_data.min[i], \"theta_range_min\":profile_data.theta_range[0], \"theta_range_max\":profile_data.theta_range[1], \"numel\":profile_data.numel[i]})\n",
      "    return radial_profile\n",
      "#     profile_dict = {}\n",
      "#     for i, radius in enumerate(profile_data.r):\n",
      "#         profile_dict['GalaxyId'] = galaxy_id\n",
      "#         profile_dict[\"bin_r_{0}\".format(i)] = profile_data.r[i]\n",
      "#         profile_dict[\"bin_mean_{0}\".format(i)] = profile_data.mean[i]\n",
      "#         profile_dict[\"bin_median_{0}\".format(i)] = profile_data.std[i]\n",
      "#         profile_dict[\"bin_std_{0}\".format(i)] = profile_data.mean[i]\n",
      "#         profile_dict[\"bin_numel_{0}\".format(i)] = profile_data.numel[i]\n",
      "#         profile_dict[\"bin_max_{0}\".format(i)] = profile_data.max[i]\n",
      "#         profile_dict[\"bin_min_{0}\".format(i)] = profile_data.min[i]\n",
      "#    return profile_dict, {\"r\":profile_data.r, \"mean\":profile_data.mean, \"median\":profile_data.median, \"std\":profile_data.std, \"max\":profile_data.max, \"min\":profile_data.min, \"theta_range\":profile_data.theta_range, \"numel\":profile_data.numel)\n"
     ],
     "language": "python",
     "metadata": {},
     "outputs": [],
     "prompt_number": 27
    },
    {
     "cell_type": "code",
     "collapsed": false,
     "input": [
      "def theta_profile(image_id, theta_bins, number_radial_bins):\n",
      "    image = scipy.misc.imread('/Users/jostheim/workspace/kaggle/data/galaxy_zoo/images_training_rev1/{0}.jpg'.format(image_id), flatten=False)\n",
      "    #radial_profiles_dict = []\n",
      "    radial_profiles_data = []\n",
      "    for i, theta in enumerate(theta_bins):\n",
      "        if (i+1) == len(theta_bins):\n",
      "            continue\n",
      "        profile_data = radial_profile(image, number_radial_bins, [theta, theta_bins[i+1]], image_id)\n",
      "        radial_profiles_data = radial_profiles_data + profile_data\n",
      "    return radial_profiles_data\n",
      "#        profile_dict, profile_data = radial_profile(image, number_radial_bins, [theta, theta_bins[i+1]], image_id)\n",
      "#        radial_profiles_dict.append(profile_dict)\n",
      "#    return radial_profiles_dict, radial_profiles_data\n",
      "    "
     ],
     "language": "python",
     "metadata": {},
     "outputs": [],
     "prompt_number": 16
    },
    {
     "cell_type": "code",
     "collapsed": false,
     "input": [
      "def theta_profile_proxy(args):\n",
      "    image_id = args[0]\n",
      "    theta_bins = args[1]\n",
      "    number_radial_bins = args[2]\n",
      "    ret = theta_profile(image_id, theta_bins, number_radial_bins)\n",
      "    return ret"
     ],
     "language": "python",
     "metadata": {},
     "outputs": [],
     "prompt_number": 17
    },
    {
     "cell_type": "code",
     "collapsed": false,
     "input": [
      "galaxy_training = pd.read_csv('/Users/jostheim/workspace/kaggle/data/galaxy_zoo/training_solutions_rev1.csv', index_col=[0])"
     ],
     "language": "python",
     "metadata": {},
     "outputs": [],
     "prompt_number": 11
    },
    {
     "cell_type": "code",
     "collapsed": false,
     "input": [
      "number_samples = None # len(galaxy_training.index)#10000\n",
      "number_radial_bins = 50\n",
      "number_theta_bins = 72\n",
      "theta_bins = np.linspace(-np.pi, np.pi, num=number_theta_bins)\n",
      "if number_samples is not None:\n",
      "    random_sample_indices = random.sample(galaxy_training.index, number_samples)\n",
      "start = 0\n",
      "batch_size = 1000 #len(galaxy_training.index)\n",
      "batch_width = (len(galaxy_training.index)-start)/batch_size\n",
      "for j in xrange(0, batch_size):\n",
      "    pool = Pool(processes=8)\n",
      "    features = None\n",
      "    features_dicts = None\n",
      "    if j+1 < batch_size:\n",
      "        current_batch = [j*batch_width if start == 0 else start, (j+1)*batch_width] \n",
      "    else:\n",
      "        current_batch = [j*batch_width if start == 0 else start, len(galaxy_training.index)] \n",
      "    pool_queue = []\n",
      "    for i, (ix, row) in enumerate(galaxy_training[current_batch[0]:current_batch[1]].iterrows()):\n",
      "        pool_queue.append([ix, theta_bins, number_radial_bins])\n",
      "        #radial_profiles_dict, radial_profiles_data = theta_profile(ix, theta_bins, number_radial_bins)\n",
      "       \n",
      "    \n",
      "    results = pool.map_async(theta_profile_proxy, pool_queue, 1)\n",
      "    pool.close() # No more work\n",
      "    while (True):\n",
      "#         print results._value\n",
      "        if (results._number_left == 0): break\n",
      "        remaining = results._number_left\n",
      "        print \"\\r Waiting for\", remaining, \"tasks to complete...\"\n",
      "        time.sleep(30.0)\n",
      "    \n",
      "    \n",
      "    for radial_profiles_dict in results._value:\n",
      "        galaxy_id = radial_profiles_dict[0]['GalaxyId']\n",
      "        pd.DataFrame(radial_profiles_dict).to_csv(\"/Users/jostheim/workspace/kaggle/data/galaxy_zoo/pieces/radial_profile_{0}_data_{1}_theta_bins_{2}_linear_radial_bins.csv\".format(galaxy_id, number_theta_bins, number_radial_bins))\n",
      "     # go through all the radial_profiles\n",
      "    #     print results\n",
      "#         row = galaxy_training.ix[radial_profiles_dict[0]['GalaxyId']]\n",
      "#         for radial_profile_dict in radial_profiles_dict:\n",
      "#             for name, value in row.iteritems():\n",
      "#                 radial_profile_dict[name] = value \n",
      "#         if features is None:\n",
      "#             #features_dicts = radial_profiles_dict\n",
      "#             features = pd.DataFrame(radial_profiles_dict)\n",
      "#         else:\n",
      "#             #features_dicts = features_dicts + radial_profiles_dict\n",
      "#             features = pd.concat([features, pd.DataFrame(radial_profiles_dict)])\n",
      "# #             print features\n",
      "    \n",
      "    #features.to_csv(\"/Users/jostheim/workspace/kaggle/data/galaxy_zoo/pieces/features_{0}_{1}_data_{2}_theta_bins_{3}_linear_radial_bins.csv\".format(current_batch[0], current_batch[1], number_theta_bins, number_radial_bins))\n",
      "\n",
      "pool.terminate()\n"
     ],
     "language": "python",
     "metadata": {},
     "outputs": [
      {
       "output_type": "stream",
       "stream": "stdout",
       "text": [
        "\r",
        " Waiting for 61 tasks to complete...\n",
        "\r",
        " Waiting for"
       ]
      },
      {
       "output_type": "stream",
       "stream": "stdout",
       "text": [
        " 53 tasks to complete...\n",
        "\r",
        " Waiting for"
       ]
      }
     ],
     "prompt_number": "*"
    },
    {
     "cell_type": "code",
     "collapsed": false,
     "input": [
      "print ((300*6*360*80000)*64)/8/1024/1024/1024\n",
      "np.linspace(0, len(galaxy_training.index), 4)"
     ],
     "language": "python",
     "metadata": {},
     "outputs": [
      {
       "output_type": "stream",
       "stream": "stdout",
       "text": [
        "386\n"
       ]
      },
      {
       "metadata": {},
       "output_type": "pyout",
       "prompt_number": 67,
       "text": [
        "array([     0.,  20526.,  41052.,  61578.])"
       ]
      }
     ],
     "prompt_number": 67
    },
    {
     "cell_type": "code",
     "collapsed": false,
     "input": [],
     "language": "python",
     "metadata": {},
     "outputs": [],
     "prompt_number": 8
    },
    {
     "cell_type": "code",
     "collapsed": false,
     "input": [
      "features"
     ],
     "language": "python",
     "metadata": {},
     "outputs": [
      {
       "output_type": "stream",
       "stream": "stderr",
       "text": [
        "/Users/jostheim/VirtualEnv/data_science/lib/python2.7/site-packages/pandas/core/config.py:570: DeprecationWarning: height has been deprecated.\n",
        "\n",
        "  warnings.warn(d.msg, DeprecationWarning)\n"
       ]
      },
      {
       "html": [
        "<pre>\n",
        "&lt;class 'pandas.core.frame.DataFrame'&gt;\n",
        "Int64Index: 500000 entries, 0 to 499999\n",
        "Columns: 388 entries, Class1.1 to bin_std_9\n",
        "dtypes: float64(387), int64(1)\n",
        "</pre>"
       ],
       "metadata": {},
       "output_type": "pyout",
       "prompt_number": 11,
       "text": [
        "<class 'pandas.core.frame.DataFrame'>\n",
        "Int64Index: 500000 entries, 0 to 499999\n",
        "Columns: 388 entries, Class1.1 to bin_std_9\n",
        "dtypes: float64(387), int64(1)"
       ]
      }
     ],
     "prompt_number": 11
    },
    {
     "cell_type": "code",
     "collapsed": false,
     "input": [
      "# This is an example used to plot radial profiles\n",
      "number_radial_bins = 150\n",
      "number_theta_bins = 90\n",
      "theta_bins = np.linspace(-np.pi, np.pi, num=number_theta_bins)\n",
      "galaxy_id = '551699'\n",
      "image = scipy.misc.imread('/Users/jostheim/workspace/kaggle/data/galaxy_zoo/images_training_rev1/{0}.jpg'.format('551699'), flatten=False)\n",
      "plt.imshow(image)\n",
      "plt.show()\n",
      "profiles_data = theta_profile(galaxy_id, theta_bins, number_radial_bins)\n",
      "df = pd.DataFrame(profiles_data)\n",
      "# feature_tmp_df.set_index('GalaxyId', inplace=True)\n",
      "plt.plot(df['r'], df['mean'])\n",
      "\n"
     ],
     "language": "python",
     "metadata": {},
     "outputs": [
      {
       "metadata": {},
       "output_type": "display_data",
       "png": "[encoded data removed]",
       "text": [
        "<matplotlib.figure.Figure at 0x1145c9790>"
       ]
      },
      {
       "output_type": "stream",
       "stream": "stdout",
       "text": [
        "True\n",
        "[[  2   3   0]\n",
        " [  3   4   0]\n",
        " [  4   5   0]\n",
        " ..., \n",
        " [137 100  73]\n",
        " [145 104  76]\n",
        " [153 109  80]]\n",
        "True"
       ]
      },
      {
       "output_type": "stream",
       "stream": "stdout",
       "text": [
        "\n",
        "[[ 17  22  16]\n",
        " [ 14  19  13]\n",
        " [ 14  19  13]\n",
        " ..., \n",
        " [192 140 100]\n",
        " [199 148 105]\n",
        " [205 154 109]]\n",
        "True"
       ]
      },
      {
       "output_type": "stream",
       "stream": "stdout",
       "text": [
        "\n",
        "[[  4   5   0]\n",
        " [  5   6   1]\n",
        " [  6   7   2]\n",
        " ..., \n",
        " [208 160 112]\n",
        " [214 166 118]\n",
        " [217 169 120]]\n",
        "True"
       ]
      },
      {
       "output_type": "stream",
       "stream": "stdout",
       "text": [
        "\n",
        "[[ 24  29  25]\n",
        " [ 23  28  24]\n",
        " [ 17  19  16]\n",
        " ..., \n",
        " [202 153 110]\n",
        " [207 159 113]\n",
        " [221 178 127]]\n",
        "True"
       ]
      },
      {
       "output_type": "stream",
       "stream": "stdout",
       "text": [
        "\n",
        "[[ 11  13  12]\n",
        " [ 12  14  13]\n",
        " [ 12  14  13]\n",
        " ..., \n",
        " [196 147 107]\n",
        " [212 165 119]\n",
        " [224 181 128]]\n",
        "True"
       ]
      },
      {
       "output_type": "stream",
       "stream": "stdout",
       "text": [
        "\n",
        "[[ 20  21  16]\n",
        " [ 18  19  14]\n",
        " [ 18  19  14]\n",
        " ..., \n",
        " [200 153 111]\n",
        " [206 159 115]\n",
        " [216 169 123]]\n",
        "True"
       ]
      },
      {
       "output_type": "stream",
       "stream": "stdout",
       "text": [
        "\n",
        "[[ 12   9   2]\n",
        " [ 10   7   0]\n",
        " [ 10   7   2]\n",
        " ..., \n",
        " [212 165 121]\n",
        " [220 178 128]\n",
        " [227 184 131]]\n",
        "True"
       ]
      },
      {
       "output_type": "stream",
       "stream": "stdout",
       "text": [
        "\n",
        "[[ 45  53  55]\n",
        " [ 44  52  54]\n",
        " [ 40  48  50]\n",
        " ..., \n",
        " [194 152 114]\n",
        " [205 158 116]\n",
        " [216 169 123]]\n",
        "True"
       ]
      },
      {
       "output_type": "stream",
       "stream": "stdout",
       "text": [
        "\n",
        "[[ 25  36  28]\n",
        " [ 26  37  29]\n",
        " [ 27  37  29]\n",
        " ..., \n",
        " [197 157 121]\n",
        " [211 164 120]\n",
        " [222 180 130]]\n",
        "True"
       ]
      },
      {
       "output_type": "stream",
       "stream": "stdout",
       "text": [
        "\n",
        "[[ 19  19  17]\n",
        " [ 15  15  13]\n",
        " [ 15  15  13]\n",
        " ..., \n",
        " [202 162 126]\n",
        " [213 169 124]\n",
        " [219 177 129]]\n",
        "True"
       ]
      },
      {
       "output_type": "stream",
       "stream": "stdout",
       "text": [
        "\n",
        "[[ 22   8   8]\n",
        " [ 21   7   7]\n",
        " [ 22   8   8]\n",
        " ..., \n",
        " [188 146 108]\n",
        " [193 151 113]\n",
        " [197 157 121]]\n",
        "True"
       ]
      },
      {
       "output_type": "stream",
       "stream": "stdout",
       "text": [
        "\n",
        "[[ 23   7   8]\n",
        " [ 21   5   6]\n",
        " [ 18   4   4]\n",
        " ..., \n",
        " [221 179 131]\n",
        " [225 184 132]\n",
        " [231 188 133]]\n",
        "True"
       ]
      },
      {
       "output_type": "stream",
       "stream": "stdout",
       "text": [
        "\n",
        "[[ 15   5   3]\n",
        " [ 13   3   1]\n",
        " [ 11   1   0]\n",
        " ..., \n",
        " [201 161 125]\n",
        " [204 166 129]\n",
        " [214 173 127]]\n",
        "True"
       ]
      },
      {
       "output_type": "stream",
       "stream": "stdout",
       "text": [
        "\n",
        "[[ 12   8   7]\n",
        " [ 15  11  10]\n",
        " [ 16  12  11]\n",
        " ..., \n",
        " [212 171 125]\n",
        " [219 179 130]\n",
        " [223 183 132]]\n",
        "True"
       ]
      },
      {
       "output_type": "stream",
       "stream": "stdout",
       "text": [
        "\n",
        "[[  1   7   3]\n",
        " [  0   6   2]\n",
        " [  0   6   2]\n",
        " ..., \n",
        " [201 163 126]\n",
        " [209 168 124]\n",
        " [216 175 129]]\n",
        "True"
       ]
      },
      {
       "output_type": "stream",
       "stream": "stdout",
       "text": [
        "\n",
        "[[  1   6   2]\n",
        " [  1   6   2]\n",
        " [  1   6   2]\n",
        " ..., \n",
        " [214 173 127]\n",
        " [222 182 133]\n",
        " [228 187 135]]\n",
        "True"
       ]
      },
      {
       "output_type": "stream",
       "stream": "stdout",
       "text": [
        "\n",
        "[[ 10  12   9]\n",
        " [ 11  13  10]\n",
        " [ 12  14  11]\n",
        " ..., \n",
        " [201 162 119]\n",
        " [211 170 126]\n",
        " [219 178 132]]\n",
        "True"
       ]
      },
      {
       "output_type": "stream",
       "stream": "stdout",
       "text": [
        "\n",
        "[[ 11   1   0]\n",
        " [ 12   2   1]\n",
        " [ 13   3   2]\n",
        " ..., \n",
        " [208 167 123]\n",
        " [217 176 130]\n",
        " [226 186 135]]\n",
        "True"
       ]
      },
      {
       "output_type": "stream",
       "stream": "stdout",
       "text": [
        "\n",
        "[[ 10   6   3]\n",
        " [ 10   6   3]\n",
        " [  9   8   4]\n",
        " ..., \n",
        " [208 170 125]\n",
        " [213 172 128]\n",
        " [225 185 134]]\n",
        "True"
       ]
      },
      {
       "output_type": "stream",
       "stream": "stdout",
       "text": [
        "\n",
        "[[ 26  27  22]\n",
        " [ 26  27  22]\n",
        " [ 26  27  22]\n",
        " ..., \n",
        " [205 166 123]\n",
        " [217 179 134]\n",
        " [221 180 134]]\n",
        "True"
       ]
      },
      {
       "output_type": "stream",
       "stream": "stdout",
       "text": [
        "\n",
        "[[  8   6   7]\n",
        " [  7   5   6]\n",
        " [  6   4   5]\n",
        " ..., \n",
        " [206 169 125]\n",
        " [210 172 127]\n",
        " [213 175 130]]\n",
        "True"
       ]
      },
      {
       "output_type": "stream",
       "stream": "stdout",
       "text": [
        "\n",
        "[[ 25  25  23]\n",
        " [ 24  24  22]\n",
        " [ 19  19  17]\n",
        " ..., \n",
        " [179 145 110]\n",
        " [182 148 111]\n",
        " [190 155 117]]\n",
        "True"
       ]
      },
      {
       "output_type": "stream",
       "stream": "stdout",
       "text": [
        "\n",
        "[[  9   9   7]\n",
        " [  7   7   5]\n",
        " [  6   6   4]\n",
        " ..., \n",
        " [225 188 135]\n",
        " [229 190 135]\n",
        " [232 191 135]]\n",
        "True"
       ]
      },
      {
       "output_type": "stream",
       "stream": "stdout",
       "text": [
        "\n",
        "[[ 11   8   1]\n",
        " [ 13  10   3]\n",
        " [ 14  11   4]\n",
        " ..., \n",
        " [191 158 117]\n",
        " [198 163 121]\n",
        " [205 168 126]]\n",
        "True"
       ]
      },
      {
       "output_type": "stream",
       "stream": "stdout",
       "text": [
        "\n",
        "[[ 17  14   7]\n",
        " [ 14  10   9]\n",
        " [ 13   9   8]\n",
        " ..., \n",
        " [209 172 128]\n",
        " [212 175 130]\n",
        " [217 179 134]]\n",
        "True"
       ]
      },
      {
       "output_type": "stream",
       "stream": "stdout",
       "text": [
        "\n",
        "[[ 10   0   1]\n",
        " [ 11   1   2]\n",
        " [ 13   4   0]\n",
        " ..., \n",
        " [205 171 126]\n",
        " [220 182 137]\n",
        " [224 187 134]]\n",
        "True"
       ]
      },
      {
       "output_type": "stream",
       "stream": "stdout",
       "text": [
        "\n",
        "[[ 24  15   6]\n",
        " [ 25  16   7]\n",
        " [ 31  21  12]\n",
        " ..., \n",
        " [211 174 130]\n",
        " [215 178 133]\n",
        " [225 188 133]]\n",
        "True"
       ]
      },
      {
       "output_type": "stream",
       "stream": "stdout",
       "text": [
        "\n",
        "[[  6   7   1]\n",
        " [  4   5   0]\n",
        " [  7   3   0]\n",
        " ..., \n",
        " [204 169 127]\n",
        " [208 174 129]\n",
        " [217 180 135]]\n",
        "True"
       ]
      },
      {
       "output_type": "stream",
       "stream": "stdout",
       "text": [
        "\n",
        "[[  1   3   0]\n",
        " [  1   3   0]\n",
        " [  2   4   0]\n",
        " ..., \n",
        " [212 178 133]\n",
        " [222 187 131]\n",
        " [229 190 133]]\n",
        "True"
       ]
      },
      {
       "output_type": "stream",
       "stream": "stdout",
       "text": [
        "\n",
        "[[ 14  16  13]\n",
        " [ 15  17  14]\n",
        " [ 15  17  14]\n",
        " ..., \n",
        " [191 159 118]\n",
        " [205 171 126]\n",
        " [214 180 134]]\n",
        "True"
       ]
      },
      {
       "output_type": "stream",
       "stream": "stdout",
       "text": [
        "\n",
        "[[  4   4   2]\n",
        " [  4   4   2]\n",
        " [  3   3   1]\n",
        " ..., \n",
        " [197 164 121]\n",
        " [209 175 130]\n",
        " [223 188 132]]\n",
        "True"
       ]
      },
      {
       "output_type": "stream",
       "stream": "stdout",
       "text": [
        "\n",
        "[[  7   7   5]\n",
        " [  8   8   6]\n",
        " [  9   9   7]\n",
        " ..., \n",
        " [201 168 125]\n",
        " [212 178 133]\n",
        " [219 187 130]]\n",
        "True"
       ]
      },
      {
       "output_type": "stream",
       "stream": "stdout",
       "text": [
        "\n",
        "[[ 14  16  13]\n",
        " [ 14  16  13]\n",
        " [ 12  14  11]\n",
        " ..., \n",
        " [185 156 114]\n",
        " [195 164 120]\n",
        " [205 172 127]]\n",
        "True"
       ]
      },
      {
       "output_type": "stream",
       "stream": "stdout",
       "text": [
        "\n",
        "[[ 22  12  11]\n",
        " [ 23  13  12]\n",
        " [ 21  16  13]\n",
        " ..., \n",
        " [222 187 131]\n",
        " [227 191 133]\n",
        " [233 193 134]]\n",
        "True"
       ]
      },
      {
       "output_type": "stream",
       "stream": "stdout",
       "text": [
        "\n",
        "[[  8   4   3]\n",
        " [  4   3   1]\n",
        " [  3   2   0]\n",
        " ..., \n",
        " [195 164 120]\n",
        " [203 170 125]\n",
        " [213 182 125]]\n",
        "True"
       ]
      },
      {
       "output_type": "stream",
       "stream": "stdout",
       "text": [
        "\n",
        "[[  6  11   7]\n",
        " [  8  13   9]\n",
        " [  9  14  10]\n",
        " ..., \n",
        " [192 161 117]\n",
        " [198 167 123]\n",
        " [219 187 130]]\n",
        "True"
       ]
      },
      {
       "output_type": "stream",
       "stream": "stdout",
       "text": [
        "\n",
        "[[  3   8   4]\n",
        " [  4   9   5]\n",
        " [  3   8   4]\n",
        " ..., \n",
        " [207 176 121]\n",
        " [215 183 126]\n",
        " [225 190 132]]\n",
        "True"
       ]
      },
      {
       "output_type": "stream",
       "stream": "stdout",
       "text": [
        "\n",
        "[[  5   6   1]\n",
        " [  5   6   1]\n",
        " [  5   6   1]\n",
        " ..., \n",
        " [209 178 123]\n",
        " [224 189 131]\n",
        " [231 192 133]]\n",
        "True"
       ]
      },
      {
       "output_type": "stream",
       "stream": "stdout",
       "text": [
        "\n",
        "[[  6  11   7]\n",
        " [  5  11   7]\n",
        " [  4  10   6]\n",
        " ..., \n",
        " [171 143 103]\n",
        " [191 163 113]\n",
        " [203 173 119]]\n",
        "True"
       ]
      },
      {
       "output_type": "stream",
       "stream": "stdout",
       "text": [
        "\n",
        "[[  4   4   4]\n",
        " [  3   3   3]\n",
        " [  4   4   4]\n",
        " ..., \n",
        " [218 186 127]\n",
        " [213 181 124]\n",
        " [229 193 133]]\n",
        "True"
       ]
      },
      {
       "output_type": "stream",
       "stream": "stdout",
       "text": [
        "\n",
        "[[ 12   7   1]\n",
        " [ 12   7   1]\n",
        " [ 12  13   5]\n",
        " ..., \n",
        " [188 160 110]\n",
        " [184 156 106]\n",
        " [207 176 121]]\n",
        "True"
       ]
      },
      {
       "output_type": "stream",
       "stream": "stdout",
       "text": [
        "\n",
        "[[  8   8   6]\n",
        " [ 10  10   8]\n",
        " [ 10  10   8]\n",
        " ..., \n",
        " [188 158 108]\n",
        " [228 192 132]\n",
        " [223 189 128]]\n",
        "True"
       ]
      },
      {
       "output_type": "stream",
       "stream": "stdout",
       "text": [
        "\n",
        "[[  1   1   0]\n",
        " [  2   2   0]\n",
        " [  3   3   1]\n",
        " ..., \n",
        " [212 180 123]\n",
        " [207 174 120]\n",
        " [201 170 116]]\n",
        "True"
       ]
      },
      {
       "output_type": "stream",
       "stream": "stdout",
       "text": [
        "\n",
        "[[  9   9   7]\n",
        " [ 10  10   8]\n",
        " [ 10  10   8]\n",
        " ..., \n",
        " [102  82  73]\n",
        " [101  81  72]\n",
        " [ 90  75  70]]\n",
        "True"
       ]
      },
      {
       "output_type": "stream",
       "stream": "stdout",
       "text": [
        "\n",
        "[[12 12 10]\n",
        " [ 8  8  6]\n",
        " [ 4  4  2]\n",
        " ..., \n",
        " [15 14 12]\n",
        " [16 15 13]\n",
        " [16 15 13]]\n",
        "True"
       ]
      },
      {
       "output_type": "stream",
       "stream": "stdout",
       "text": [
        "\n",
        "[[201 166 112]\n",
        " [196 161 107]\n",
        " [186 152 114]\n",
        " ..., \n",
        " [ 11  11   9]\n",
        " [ 11  11   9]\n",
        " [ 11  11   9]]\n",
        "True"
       ]
      },
      {
       "output_type": "stream",
       "stream": "stdout",
       "text": [
        "\n",
        "[[227 189 127]\n",
        " [220 184 124]\n",
        " [215 179 121]\n",
        " ..., \n",
        " [ 17  17  15]\n",
        " [ 16  16  14]\n",
        " [ 16  16  14]]\n",
        "True"
       ]
      },
      {
       "output_type": "stream",
       "stream": "stdout",
       "text": [
        "\n",
        "[[235 196 131]\n",
        " [231 193 130]\n",
        " [218 179 120]\n",
        " ..., \n",
        " [  9   8   6]\n",
        " [  8   7   5]\n",
        " [  6   5   3]]\n",
        "True"
       ]
      },
      {
       "output_type": "stream",
       "stream": "stdout",
       "text": [
        "\n",
        "[[224 186 124]\n",
        " [204 165 110]\n",
        " [198 159 104]\n",
        " ..., \n",
        " [ 19  15  14]\n",
        " [ 18  14  13]\n",
        " [ 19  15  14]]\n",
        "True"
       ]
      },
      {
       "output_type": "stream",
       "stream": "stdout",
       "text": [
        "\n",
        "[[236 197 132]\n",
        " [233 194 129]\n",
        " [229 189 127]\n",
        " ..., \n",
        " [ 10   9   5]\n",
        " [  7   6   2]\n",
        " [  7   6   2]]\n",
        "True"
       ]
      },
      {
       "output_type": "stream",
       "stream": "stdout",
       "text": [
        "\n",
        "[[225 185 124]\n",
        " [213 174 117]\n",
        " [201 162 107]\n",
        " ..., \n",
        " [  4   3   1]\n",
        " [  3   2   0]\n",
        " [  4   3   1]]\n",
        "True"
       ]
      },
      {
       "output_type": "stream",
       "stream": "stdout",
       "text": [
        "\n",
        "[[237 196 132]\n",
        " [237 196 130]\n",
        " [229 190 125]\n",
        " ..., \n",
        " [ 11  10   8]\n",
        " [ 13  12  10]\n",
        " [ 18  17  15]]\n",
        "True"
       ]
      },
      {
       "output_type": "stream",
       "stream": "stdout",
       "text": [
        "\n",
        "[[237 196 130]\n",
        " [234 193 127]\n",
        " [230 189 125]\n",
        " ..., \n",
        " [ 14  10   9]\n",
        " [ 14  10   9]\n",
        " [ 17  13  12]]\n",
        "True"
       ]
      },
      {
       "output_type": "stream",
       "stream": "stdout",
       "text": [
        "\n",
        "[[237 197 128]\n",
        " [223 183 121]\n",
        " [215 176 117]\n",
        " ..., \n",
        " [  7   3   2]\n",
        " [  8   4   3]\n",
        " [  7   3   2]]\n",
        "True"
       ]
      },
      {
       "output_type": "stream",
       "stream": "stdout",
       "text": [
        "\n",
        "[[235 194 128]\n",
        " [228 189 124]\n",
        " [221 181 120]\n",
        " ..., \n",
        " [ 14   9   3]\n",
        " [ 13   8   2]\n",
        " [ 14   9   3]]\n",
        "True"
       ]
      },
      {
       "output_type": "stream",
       "stream": "stdout",
       "text": [
        "\n",
        "[[239 195 132]\n",
        " [240 196 131]\n",
        " [240 197 129]\n",
        " ..., \n",
        " [ 20  17  12]\n",
        " [ 17  14   9]\n",
        " [ 14  11   6]]\n",
        "True"
       ]
      },
      {
       "output_type": "stream",
       "stream": "stdout",
       "text": [
        "\n",
        "[[231 190 124]\n",
        " [224 184 122]\n",
        " [217 178 119]\n",
        " ..., \n",
        " [ 16  12   9]\n",
        " [ 18  14  11]\n",
        " [ 19  15  12]]\n",
        "True"
       ]
      },
      {
       "output_type": "stream",
       "stream": "stdout",
       "text": [
        "\n",
        "[[241 198 129]\n",
        " [239 196 127]\n",
        " [228 189 122]\n",
        " ..., \n",
        " [  5   4   2]\n",
        " [  9   5   4]\n",
        " [  8   4   3]]\n",
        "True"
       ]
      },
      {
       "output_type": "stream",
       "stream": "stdout",
       "text": [
        "\n",
        "[[241 196 128]\n",
        " [234 194 125]\n",
        " [226 187 122]\n",
        " ..., \n",
        " [  6   6   4]\n",
        " [  6   6   4]\n",
        " [  7   7   5]]\n",
        "True"
       ]
      },
      {
       "output_type": "stream",
       "stream": "stdout",
       "text": [
        "\n",
        "[[239 196 127]\n",
        " [232 192 123]\n",
        " [222 184 119]\n",
        " ..., \n",
        " [ 22  22  20]\n",
        " [ 26  26  24]\n",
        " [ 27  27  25]]\n",
        "True"
       ]
      },
      {
       "output_type": "stream",
       "stream": "stdout",
       "text": [
        "\n",
        "[[240 195 130]\n",
        " [240 195 127]\n",
        " [237 194 125]\n",
        " ..., \n",
        " [ 10  10   8]\n",
        " [ 12  12  10]\n",
        " [ 15  17  14]]\n",
        "True"
       ]
      },
      {
       "output_type": "stream",
       "stream": "stdout",
       "text": [
        "\n",
        "[[238 194 123]\n",
        " [233 193 123]\n",
        " [231 191 121]\n",
        " ..., \n",
        " [ 10  10   8]\n",
        " [  8   8   6]\n",
        " [  6   6   4]]\n",
        "True"
       ]
      },
      {
       "output_type": "stream",
       "stream": "stdout",
       "text": [
        "\n",
        "[[240 195 128]\n",
        " [236 192 121]\n",
        " [233 191 119]\n",
        " ..., \n",
        " [ 21  21  19]\n",
        " [ 22  22  20]\n",
        " [ 24  24  22]]\n",
        "True"
       ]
      },
      {
       "output_type": "stream",
       "stream": "stdout",
       "text": [
        "\n",
        "[[238 193 125]\n",
        " [236 192 121]\n",
        " [229 189 119]\n",
        " ..., \n",
        " [  2   2   0]\n",
        " [  3   3   1]\n",
        " [  4   4   2]]\n",
        "True"
       ]
      },
      {
       "output_type": "stream",
       "stream": "stdout",
       "text": [
        "\n",
        "[[234 190 119]\n",
        " [232 188 117]\n",
        " [229 187 115]\n",
        " ..., \n",
        " [  2   4   1]\n",
        " [  1   3   0]\n",
        " [  1   3   0]]\n",
        "True"
       ]
      },
      {
       "output_type": "stream",
       "stream": "stdout",
       "text": [
        "\n",
        "[[224 184 112]\n",
        " [220 180 110]\n",
        " [217 177 107]\n",
        " ..., \n",
        " [ 20  22  19]\n",
        " [ 20  22  19]\n",
        " [ 14  16  13]]\n",
        "True"
       ]
      },
      {
       "output_type": "stream",
       "stream": "stdout",
       "text": [
        "\n",
        "[[237 193 132]\n",
        " [238 193 128]\n",
        " [240 192 126]\n",
        " ..., \n",
        " [  6   7   9]\n",
        " [  4   5   7]\n",
        " [  3   4   6]]\n",
        "True"
       ]
      },
      {
       "output_type": "stream",
       "stream": "stdout",
       "text": [
        "\n",
        "[[206 166  96]\n",
        " [203 163  94]\n",
        " [198 159  90]\n",
        " ..., \n",
        " [ 10  13  18]\n",
        " [ 10  13  18]\n",
        " [ 13  14  16]]\n",
        "True"
       ]
      },
      {
       "output_type": "stream",
       "stream": "stdout",
       "text": [
        "\n",
        "[[231 184 114]\n",
        " [227 183 112]\n",
        " [223 181 109]\n",
        " ..., \n",
        " [ 19  18  14]\n",
        " [ 12   8   9]\n",
        " [  7   3   4]]\n",
        "True"
       ]
      },
      {
       "output_type": "stream",
       "stream": "stdout",
       "text": [
        "\n",
        "[[235 188 120]\n",
        " [233 186 116]\n",
        " [220 176 105]\n",
        " ..., \n",
        " [ 14  13   9]\n",
        " [ 16  15  11]\n",
        " [ 20  19  15]]\n",
        "True"
       ]
      },
      {
       "output_type": "stream",
       "stream": "stdout",
       "text": [
        "\n",
        "[[237 190 122]\n",
        " [227 180 110]\n",
        " [224 180 109]\n",
        " ..., \n",
        " [ 12  13   8]\n",
        " [ 10  11   6]\n",
        " [  7   8   3]]\n",
        "True"
       ]
      },
      {
       "output_type": "stream",
       "stream": "stdout",
       "text": [
        "\n",
        "[[237 189 123]\n",
        " [229 182 112]\n",
        " [221 174 106]\n",
        " ..., \n",
        " [  1   1   1]\n",
        " [  1   1   1]\n",
        " [  1   1   1]]\n",
        "True"
       ]
      },
      {
       "output_type": "stream",
       "stream": "stdout",
       "text": [
        "\n",
        "[[233 184 117]\n",
        " [223 176 108]\n",
        " [212 167  99]\n",
        " ..., \n",
        " [ 24  16  14]\n",
        " [ 20  15  12]\n",
        " [ 18  13  10]]\n",
        "True"
       ]
      },
      {
       "output_type": "stream",
       "stream": "stdout",
       "text": [
        "\n",
        "[[237 189 127]\n",
        " [235 186 120]\n",
        " [226 177 110]\n",
        " ..., \n",
        " [  6   7   2]\n",
        " [  5   6   1]\n",
        " [  7   3   0]]\n",
        "True"
       ]
      },
      {
       "output_type": "stream",
       "stream": "stdout",
       "text": [
        "\n",
        "[[228 179 112]\n",
        " [219 172 104]\n",
        " [210 164 102]\n",
        " ..., \n",
        " [  1   3   0]\n",
        " [  3   5   0]\n",
        " [  6   8   3]]\n",
        "True"
       ]
      },
      {
       "output_type": "stream",
       "stream": "stdout",
       "text": [
        "\n",
        "[[232 184 120]\n",
        " [230 181 115]\n",
        " [222 173 106]\n",
        " ..., \n",
        " [ 10   9   7]\n",
        " [ 13  12  10]\n",
        " [ 13  12   8]]\n",
        "True"
       ]
      },
      {
       "output_type": "stream",
       "stream": "stdout",
       "text": [
        "\n",
        "[[224 175 108]\n",
        " [217 167 104]\n",
        " [211 163 101]\n",
        " ..., \n",
        " [ 17  17  15]\n",
        " [ 19  19  17]\n",
        " [ 22  22  20]]\n",
        "True"
       ]
      },
      {
       "output_type": "stream",
       "stream": "stdout",
       "text": [
        "\n",
        "[[235 189 129]\n",
        " [232 184 122]\n",
        " [228 178 115]\n",
        " ..., \n",
        " [  3   8   2]\n",
        " [  0   5   0]\n",
        " [  1   6   0]]\n",
        "True"
       ]
      },
      {
       "output_type": "stream",
       "stream": "stdout",
       "text": [
        "\n",
        "[[209 159 100]\n",
        " [202 151  94]\n",
        " [193 143  90]\n",
        " ..., \n",
        " [  5   7   4]\n",
        " [  4   6   3]\n",
        " [  4   6   3]]\n",
        "True"
       ]
      },
      {
       "output_type": "stream",
       "stream": "stdout",
       "text": [
        "\n",
        "[[225 175 112]\n",
        " [222 170 110]\n",
        " [216 166 105]\n",
        " ..., \n",
        " [  0   5   1]\n",
        " [  0   5   1]\n",
        " [  0   6   2]]\n",
        "True"
       ]
      },
      {
       "output_type": "stream",
       "stream": "stdout",
       "text": [
        "\n",
        "[[228 179 120]\n",
        " [219 167 107]\n",
        " [212 160 102]\n",
        " ..., \n",
        " [ 11  11  11]\n",
        " [ 11  11  11]\n",
        " [  4  10   6]]\n",
        "True"
       ]
      },
      {
       "output_type": "stream",
       "stream": "stdout",
       "text": [
        "\n",
        "[[222 170 112]\n",
        " [214 162 104]\n",
        " [201 148  94]\n",
        " ..., \n",
        " [  7   7   7]\n",
        " [  6   6   6]\n",
        " [  6   8   7]]\n",
        "True"
       ]
      },
      {
       "output_type": "stream",
       "stream": "stdout",
       "text": [
        "\n",
        "[[231 185 126]\n",
        " [225 176 117]\n",
        " [220 168 110]\n",
        " ..., \n",
        " [  7   3   2]\n",
        " [  5   1   0]\n",
        " [ 13   9   8]]\n",
        "True"
       ]
      },
      {
       "output_type": "stream",
       "stream": "stdout",
       "text": [
        "\n",
        "[[221 170 113]\n",
        " [210 157 103]\n",
        " [215 163 106]\n",
        " ..., \n",
        " [  4   4   2]\n",
        " [  1   1   0]\n",
        " [  1   1   0]]\n",
        "True"
       ]
      },
      {
       "output_type": "stream",
       "stream": "stdout",
       "text": [
        "\n",
        "[[227 181 122]\n",
        " [218 167 110]\n",
        " [195 141  94]\n",
        " ..., \n",
        " [  7   9   6]\n",
        " [  6   8   5]\n",
        " [  5   7   4]]\n",
        "True"
       ]
      },
      {
       "output_type": "stream",
       "stream": "stdout",
       "text": [
        "\n",
        "[[224 178 119]\n",
        " [204 151 101]\n",
        " [210 157 105]\n",
        " ..., \n",
        " [ 10  12   9]\n",
        " [  3   8   4]\n",
        " [  1   6   2]]\n",
        "True"
       ]
      },
      {
       "output_type": "stream",
       "stream": "stdout",
       "text": [
        "\n",
        "[[213 162 109]\n",
        " [218 167 114]\n",
        " [221 170 115]\n",
        " ..., \n",
        " [  9  10   5]\n",
        " [ 10  11   6]\n",
        " [ 11  13   8]]\n",
        "True"
       ]
      },
      {
       "output_type": "stream",
       "stream": "stdout",
       "text": [
        "\n",
        "[[163 114  81]\n",
        " [171 119  82]\n",
        " [179 125  87]\n",
        " ..., \n",
        " [  0   5   1]\n",
        " [  0   5   1]\n",
        " [  2   7   3]]\n",
        "True"
       ]
      },
      {
       "output_type": "stream",
       "stream": "stdout",
       "text": [
        "\n",
        "[[ 6  7  2]\n",
        " [ 4  5  0]\n",
        " [ 3  2  0]\n",
        " ..., \n",
        " [17  3  2]\n",
        " [15  1  0]\n",
        " [11  0  0]]\n"
       ]
      },
      {
       "metadata": {},
       "output_type": "pyout",
       "prompt_number": 65,
       "text": [
        "[<matplotlib.lines.Line2D at 0x113ce4610>]"
       ]
      },
      {
       "metadata": {},
       "output_type": "display_data",
       "png": "[encoded data removed]",
       "text": [
        "<matplotlib.figure.Figure at 0x1144cf0d0>"
       ]
      }
     ],
     "prompt_number": 65
    },
    {
     "cell_type": "code",
     "collapsed": false,
     "input": [],
     "language": "python",
     "metadata": {},
     "outputs": []
    }
   ],
   "metadata": {}
  }
 ]
}