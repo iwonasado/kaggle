{
 "metadata": {
  "name": ""
 },
 "nbformat": 3,
 "nbformat_minor": 0,
 "worksheets": [
  {
   "cells": [
    {
     "cell_type": "code",
     "collapsed": false,
     "input": [
      "import pandas as pd\n",
      "import pylab as p\n",
      "import matplotlib.pyplot as plt\n",
      "import sklearn\n",
      "from sklearn.ensemble import RandomForestRegressor\n",
      "from sklearn.ensemble import RandomForestClassifier\n",
      "from sklearn.ensemble import ExtraTreesRegressor\n",
      "from sklearn import cross_validation\n",
      "import numpy as np\n",
      "from scipy import stats\n",
      "import scipy\n",
      "import scipy.spatial.distance as dist\n",
      "import os\n",
      "import random\n",
      "from scipy.interpolate import UnivariateSpline\n",
      "import operator\n",
      "import pickle\n",
      "import cPickle\n",
      "from multiprocessing import Pool\n",
      "import time\n"
     ],
     "language": "python",
     "metadata": {},
     "outputs": [],
     "prompt_number": 1
    },
    {
     "cell_type": "code",
     "collapsed": false,
     "input": [
      "sklearn.__version__"
     ],
     "language": "python",
     "metadata": {},
     "outputs": [
      {
       "metadata": {},
       "output_type": "pyout",
       "prompt_number": 2,
       "text": [
        "'0.15-git'"
       ]
      }
     ],
     "prompt_number": 2
    },
    {
     "cell_type": "code",
     "collapsed": false,
     "input": [
      "def get_metric(cfr, features, targets):\n",
      "    p = cfr.predict(features)\n",
      "    sum_diff = np.power((p - targets),2)\n",
      "    mean_diff = np.sqrt(np.sum(sum_diff)/float(len(targets)))\n",
      "    return mean_diff"
     ],
     "language": "python",
     "metadata": {},
     "outputs": [],
     "prompt_number": 3
    },
    {
     "cell_type": "code",
     "collapsed": false,
     "input": [
      "def rmse_score(features, targets):\n",
      "    print \"Splitting test/train\"\n",
      "    x_train, x_test, y_train, y_test = cross_validation.train_test_split(features, targets, test_size=0.4, random_state=0)\n",
      "    print \"Initializing CFR\"\n",
      "    cfr = RandomForestRegressor(\n",
      "        oob_score = True, verbose = 10000, max_features = None, n_estimators = 100, min_samples_leaf = 1,\n",
      "        n_jobs=8,\n",
      "        random_state=0,\n",
      "    )\n",
      "#     cfr = ExtraTreesRegressor(\n",
      "#         oob_score = True, bootstrap=True, verbose = 1, max_features = None, n_estimators = 100, min_samples_leaf = 1,\n",
      "#         n_jobs=8,\n",
      "#         random_state=0,\n",
      "#     )\n",
      "    print \"Fitting...\"\n",
      "    cfr.fit(x_train, y_train)\n",
      "    print \"Scoring...\"\n",
      "    score = get_metric(cfr, x_test, y_test)\n",
      "    return cfr, score, x_train, x_test, y_train, y_test"
     ],
     "language": "python",
     "metadata": {},
     "outputs": [],
     "prompt_number": 4
    },
    {
     "cell_type": "code",
     "collapsed": false,
     "input": [
      "thetas = np.linspace(0, 360, num=10)\n",
      "thetas = thetas[:len(thetas)-1]\n",
      "print thetas"
     ],
     "language": "python",
     "metadata": {},
     "outputs": [
      {
       "output_type": "stream",
       "stream": "stdout",
       "text": [
        "[   0.   40.   80.  120.  160.  200.  240.  280.  320.]\n"
       ]
      }
     ],
     "prompt_number": 5
    },
    {
     "cell_type": "code",
     "collapsed": false,
     "input": [
      "def read_image_proxy(args):\n",
      "    images = []\n",
      "    indices = []\n",
      "    image_id = args[0]\n",
      "    thetas = args[1]\n",
      "    image = scipy.misc.imread('/Users/jostheim/workspace/kaggle/data/galaxy_zoo/images_training_rev1/{0}.jpg'.format(image_id), flatten=True)\n",
      "    size_x, size_y = image.shape\n",
      "    cut_image = image[int((size_x/2.0)-50):int((size_x/2.0)+50), int((size_y/2.0)-50):int((size_y/2.0)+50)]\n",
      "    mirror_image = scipy.misc.imrotate(cut_image, 180)\n",
      "\n",
      "    images.append(np.hstack((cut_image.flatten(), (cut_image - mirror_image).flatten())))\n",
      "    indices.append(image_id)\n",
      "#     indices.append(image_id)\n",
      "#    npix, npiy = cut_image.shape\n",
      "#     for rotate_theta in thetas:\n",
      "#         x1 = np.arange(-npix/2.,npix/2.)\n",
      "#         y1 = np.arange(-npiy/2.,npiy/2.)\n",
      "#         x,y = np.meshgrid(y1,x1)\n",
      "#         rot_image = scipy.misc.imrotate(cut_image, rotate_theta)\n",
      "#         r = np.sqrt(x**2 + y**2)\n",
      "#         thisindex = ((r>=0) * (r<100)) \n",
      "#         rot_data = rot_image[thisindex]\n",
      "#         images.append(rot_data.flatten())\n",
      "#         indices.append(image_id)\n",
      "    #print cut_image, ix\n",
      "    return images, indices"
     ],
     "language": "python",
     "metadata": {},
     "outputs": [],
     "prompt_number": 15
    },
    {
     "cell_type": "code",
     "collapsed": false,
     "input": [
      "galaxy_training = pd.read_csv('/Users/jostheim/workspace/kaggle/data/galaxy_zoo/training_solutions_rev1.csv', index_col=[0], dtype={\"Class1.1\":np.float32,\"Class1.2\":np.float32,\"Class1.3\":np.float32,\"Class2.1\":np.float32,\"Class2.2\":np.float32,\"Class3.1\":np.float32,\"Class3.2\":np.float32,\"Class4.1\":np.float32,\"Class4.2\":np.float32,\"Class5.1\":np.float32,\"Class5.2\":np.float32,\"Class5.3\":np.float32,\"Class5.4\":np.float32,\"Class6.1\":np.float32,\"Class6.2\":np.float32,\"Class7.1\":np.float32,\"Class7.2\":np.float32,\"Class7.3\":np.float32,\"Class8.1\":np.float32,\"Class8.2\":np.float32,\"Class8.3\":np.float32,\"Class8.4\":np.float32,\"Class8.5\":np.float32,\"Class8.6\":np.float32,\"Class8.7\":np.float32,\"Class9.1\":np.float32,\"Class9.2\":np.float32,\"Class9.3\":np.float32,\"Class10.1\":np.float32,\"Class10.2\":np.float32,\"Class10.3\":np.float32,\"Class11.1\":np.float32,\"Class11.2\":np.float32,\"Class11.3\":np.float32,\"Class11.4\":np.float32,\"Class11.5\":np.float32,\"Class11.6\":np.float32})"
     ],
     "language": "python",
     "metadata": {},
     "outputs": [],
     "prompt_number": 16
    },
    {
     "cell_type": "code",
     "collapsed": false,
     "input": [
      "#if pool:\n",
      "#    pool.terminate()\n",
      "number_samples = 60000 # len(galaxy_training.index)#10000\n",
      "if number_samples is not None:\n",
      "    random_sample_indices = random.sample(galaxy_training.index, number_samples)\n",
      "# print random_sample_indices\n",
      "galaxy_training = galaxy_training.ix[random_sample_indices]\n",
      "start = 0\n",
      "batch_size = 1 #len(galaxy_training.index)\n",
      "batch_width = (len(galaxy_training.index)-start)/batch_size\n",
      "raw_flat_images = []\n",
      "indices = []\n",
      "for j in xrange(0, batch_size):\n",
      "    pool = Pool(processes=8)\n",
      "    features = None\n",
      "    features_dicts = None\n",
      "    if j+1 < batch_size:\n",
      "        current_batch = [j*batch_width if start == 0 else start, (j+1)*batch_width] \n",
      "    else:\n",
      "        current_batch = [j*batch_width if start == 0 else start, len(galaxy_training.index)] \n",
      "    pool_queue = []\n",
      "    for i, (ix, row) in enumerate(galaxy_training[current_batch[0]:current_batch[1]].iterrows()):\n",
      "        pool_queue.append([ix, thetas])\n",
      "        \n",
      "    \n",
      "    results = pool.map_async(read_image_proxy, pool_queue, 1)\n",
      "    pool.close() # No more work\n",
      "    while (True):\n",
      "        #print results._value\n",
      "        if (results._number_left == 0): break\n",
      "        remaining = results._number_left\n",
      "        print \"\\r Waiting for\", remaining, \"tasks to complete...\"\n",
      "        time.sleep(10.0)\n",
      "    \n",
      "    \n",
      "    for image_array, galaxy_id in results._value:\n",
      "        raw_flat_images = raw_flat_images + image_array\n",
      "        indices = indices + galaxy_id\n",
      "            \n",
      "    #features.to_csv(\"/Users/jostheim/workspace/kaggle/data/galaxy_zoo/pieces/features_{0}_{1}_data_{2}_theta_bins_{3}_linear_radial_bins.csv\".format(current_batch[0], current_batch[1], number_theta_bins, number_radial_bins))\n",
      "#print raw_flat_images\n",
      "pool.terminate()\n",
      "raw_pixels_df = pd.DataFrame(raw_flat_images, indices)\n",
      "raw_flat_images = None\n",
      "results = None\n",
      "indices = None"
     ],
     "language": "python",
     "metadata": {},
     "outputs": [
      {
       "output_type": "stream",
       "stream": "stdout",
       "text": [
        "\r",
        " Waiting for 60000 tasks to complete...\n",
        "\r",
        " Waiting for"
       ]
      },
      {
       "output_type": "stream",
       "stream": "stdout",
       "text": [
        " 58767 tasks to complete...\n",
        "\r",
        " Waiting for"
       ]
      },
      {
       "output_type": "stream",
       "stream": "stdout",
       "text": [
        " 57604 tasks to complete...\n",
        "\r",
        " Waiting for"
       ]
      },
      {
       "output_type": "stream",
       "stream": "stdout",
       "text": [
        " 56478 tasks to complete...\n",
        "\r",
        " Waiting for"
       ]
      },
      {
       "output_type": "stream",
       "stream": "stdout",
       "text": [
        " 55303 tasks to complete...\n",
        "\r",
        " Waiting for"
       ]
      },
      {
       "output_type": "stream",
       "stream": "stdout",
       "text": [
        " 54195 tasks to complete...\n",
        "\r",
        " Waiting for"
       ]
      },
      {
       "output_type": "stream",
       "stream": "stdout",
       "text": [
        " 53200 tasks to complete...\n",
        "\r",
        " Waiting for"
       ]
      },
      {
       "output_type": "stream",
       "stream": "stdout",
       "text": [
        " 52149 tasks to complete...\n",
        "\r",
        " Waiting for"
       ]
      },
      {
       "output_type": "stream",
       "stream": "stdout",
       "text": [
        " 51016 tasks to complete...\n",
        "\r",
        " Waiting for"
       ]
      },
      {
       "output_type": "stream",
       "stream": "stdout",
       "text": [
        " 49904 tasks to complete...\n",
        "\r",
        " Waiting for"
       ]
      },
      {
       "output_type": "stream",
       "stream": "stdout",
       "text": [
        " 48919 tasks to complete...\n",
        "\r",
        " Waiting for"
       ]
      },
      {
       "output_type": "stream",
       "stream": "stdout",
       "text": [
        " 47961 tasks to complete...\n",
        "\r",
        " Waiting for"
       ]
      },
      {
       "output_type": "stream",
       "stream": "stdout",
       "text": [
        " 47023 tasks to complete...\n",
        "\r",
        " Waiting for"
       ]
      },
      {
       "output_type": "stream",
       "stream": "stdout",
       "text": [
        " 46043 tasks to complete...\n",
        "\r",
        " Waiting for"
       ]
      },
      {
       "output_type": "stream",
       "stream": "stdout",
       "text": [
        " 45108 tasks to complete...\n",
        "\r",
        " Waiting for"
       ]
      },
      {
       "output_type": "stream",
       "stream": "stdout",
       "text": [
        " 44140 tasks to complete...\n",
        "\r",
        " Waiting for"
       ]
      },
      {
       "output_type": "stream",
       "stream": "stdout",
       "text": [
        " 43198 tasks to complete...\n",
        "\r",
        " Waiting for"
       ]
      },
      {
       "output_type": "stream",
       "stream": "stdout",
       "text": [
        " 42174 tasks to complete...\n",
        "\r",
        " Waiting for"
       ]
      },
      {
       "output_type": "stream",
       "stream": "stdout",
       "text": [
        " 41115 tasks to complete...\n",
        "\r",
        " Waiting for"
       ]
      },
      {
       "output_type": "stream",
       "stream": "stdout",
       "text": [
        " 40071 tasks to complete...\n",
        "\r",
        " Waiting for"
       ]
      },
      {
       "output_type": "stream",
       "stream": "stdout",
       "text": [
        " 39071 tasks to complete...\n",
        "\r",
        " Waiting for"
       ]
      },
      {
       "output_type": "stream",
       "stream": "stdout",
       "text": [
        " 38111 tasks to complete...\n",
        "\r",
        " Waiting for"
       ]
      },
      {
       "output_type": "stream",
       "stream": "stdout",
       "text": [
        " 37133 tasks to complete...\n",
        "\r",
        " Waiting for"
       ]
      },
      {
       "output_type": "stream",
       "stream": "stdout",
       "text": [
        " 36185 tasks to complete...\n",
        "\r",
        " Waiting for"
       ]
      },
      {
       "output_type": "stream",
       "stream": "stdout",
       "text": [
        " 35264 tasks to complete...\n",
        "\r",
        " Waiting for"
       ]
      },
      {
       "output_type": "stream",
       "stream": "stdout",
       "text": [
        " 34303 tasks to complete...\n",
        "\r",
        " Waiting for"
       ]
      },
      {
       "output_type": "stream",
       "stream": "stdout",
       "text": [
        " 33415 tasks to complete...\n",
        "\r",
        " Waiting for"
       ]
      },
      {
       "output_type": "stream",
       "stream": "stdout",
       "text": [
        " 32477 tasks to complete...\n",
        "\r",
        " Waiting for"
       ]
      },
      {
       "output_type": "stream",
       "stream": "stdout",
       "text": [
        " 31485 tasks to complete...\n",
        "\r",
        " Waiting for"
       ]
      },
      {
       "output_type": "stream",
       "stream": "stdout",
       "text": [
        " 30455 tasks to complete...\n",
        "\r",
        " Waiting for"
       ]
      },
      {
       "output_type": "stream",
       "stream": "stdout",
       "text": [
        " 29466 tasks to complete...\n",
        "\r",
        " Waiting for"
       ]
      },
      {
       "output_type": "stream",
       "stream": "stdout",
       "text": [
        " 28455 tasks to complete...\n",
        "\r",
        " Waiting for"
       ]
      },
      {
       "output_type": "stream",
       "stream": "stdout",
       "text": [
        " 27523 tasks to complete...\n",
        "\r",
        " Waiting for"
       ]
      },
      {
       "output_type": "stream",
       "stream": "stdout",
       "text": [
        " 26614 tasks to complete...\n",
        "\r",
        " Waiting for"
       ]
      },
      {
       "output_type": "stream",
       "stream": "stdout",
       "text": [
        " 25671 tasks to complete...\n",
        "\r",
        " Waiting for"
       ]
      },
      {
       "output_type": "stream",
       "stream": "stdout",
       "text": [
        " 24731 tasks to complete...\n",
        "\r",
        " Waiting for"
       ]
      },
      {
       "output_type": "stream",
       "stream": "stdout",
       "text": [
        " 23727 tasks to complete...\n",
        "\r",
        " Waiting for"
       ]
      },
      {
       "output_type": "stream",
       "stream": "stdout",
       "text": [
        " 22752 tasks to complete...\n",
        "\r",
        " Waiting for"
       ]
      },
      {
       "output_type": "stream",
       "stream": "stdout",
       "text": [
        " 21858 tasks to complete...\n",
        "\r",
        " Waiting for"
       ]
      },
      {
       "output_type": "stream",
       "stream": "stdout",
       "text": [
        " 21012 tasks to complete...\n",
        "\r",
        " Waiting for"
       ]
      },
      {
       "output_type": "stream",
       "stream": "stdout",
       "text": [
        " 20100 tasks to complete...\n",
        "\r",
        " Waiting for"
       ]
      },
      {
       "output_type": "stream",
       "stream": "stdout",
       "text": [
        " 19344 tasks to complete...\n",
        "\r",
        " Waiting for"
       ]
      },
      {
       "output_type": "stream",
       "stream": "stdout",
       "text": [
        " 18524 tasks to complete...\n",
        "\r",
        " Waiting for"
       ]
      },
      {
       "output_type": "stream",
       "stream": "stdout",
       "text": [
        " 17729 tasks to complete...\n",
        "\r",
        " Waiting for"
       ]
      },
      {
       "output_type": "stream",
       "stream": "stdout",
       "text": [
        " 16872 tasks to complete...\n",
        "\r",
        " Waiting for"
       ]
      },
      {
       "output_type": "stream",
       "stream": "stdout",
       "text": [
        " 15949 tasks to complete...\n",
        "\r",
        " Waiting for"
       ]
      },
      {
       "output_type": "stream",
       "stream": "stdout",
       "text": [
        " 15065 tasks to complete...\n",
        "\r",
        " Waiting for"
       ]
      },
      {
       "output_type": "stream",
       "stream": "stdout",
       "text": [
        " 14153 tasks to complete...\n",
        "\r",
        " Waiting for"
       ]
      },
      {
       "output_type": "stream",
       "stream": "stdout",
       "text": [
        " 13233 tasks to complete...\n",
        "\r",
        " Waiting for"
       ]
      },
      {
       "output_type": "stream",
       "stream": "stdout",
       "text": [
        " 12300 tasks to complete...\n",
        "\r",
        " Waiting for"
       ]
      },
      {
       "output_type": "stream",
       "stream": "stdout",
       "text": [
        " 11442 tasks to complete...\n",
        "\r",
        " Waiting for"
       ]
      },
      {
       "output_type": "stream",
       "stream": "stdout",
       "text": [
        " 10616 tasks to complete...\n",
        "\r",
        " Waiting for"
       ]
      },
      {
       "output_type": "stream",
       "stream": "stdout",
       "text": [
        " 9804 tasks to complete...\n",
        "\r",
        " Waiting for"
       ]
      },
      {
       "output_type": "stream",
       "stream": "stdout",
       "text": [
        " 9007 tasks to complete...\n",
        "\r",
        " Waiting for"
       ]
      },
      {
       "output_type": "stream",
       "stream": "stdout",
       "text": [
        " 8173 tasks to complete...\n",
        "\r",
        " Waiting for"
       ]
      },
      {
       "output_type": "stream",
       "stream": "stdout",
       "text": [
        " 7343 tasks to complete...\n",
        "\r",
        " Waiting for"
       ]
      },
      {
       "output_type": "stream",
       "stream": "stdout",
       "text": [
        " 6544 tasks to complete...\n",
        "\r",
        " Waiting for"
       ]
      },
      {
       "output_type": "stream",
       "stream": "stdout",
       "text": [
        " 5707 tasks to complete...\n",
        "\r",
        " Waiting for"
       ]
      },
      {
       "output_type": "stream",
       "stream": "stdout",
       "text": [
        " 4804 tasks to complete...\n",
        "\r",
        " Waiting for"
       ]
      },
      {
       "output_type": "stream",
       "stream": "stdout",
       "text": [
        " 3926 tasks to complete...\n",
        "\r",
        " Waiting for"
       ]
      },
      {
       "output_type": "stream",
       "stream": "stdout",
       "text": [
        " 3055 tasks to complete...\n",
        "\r",
        " Waiting for"
       ]
      },
      {
       "output_type": "stream",
       "stream": "stdout",
       "text": [
        " 2239 tasks to complete...\n",
        "\r",
        " Waiting for"
       ]
      },
      {
       "output_type": "stream",
       "stream": "stdout",
       "text": [
        " 1393 tasks to complete...\n",
        "\r",
        " Waiting for"
       ]
      },
      {
       "output_type": "stream",
       "stream": "stdout",
       "text": [
        " 569 tasks to complete...\n"
       ]
      }
     ],
     "prompt_number": 17
    },
    {
     "cell_type": "code",
     "collapsed": false,
     "input": [
      "print raw_pixels_df"
     ],
     "language": "python",
     "metadata": {},
     "outputs": [
      {
       "output_type": "stream",
       "stream": "stdout",
       "text": [
        "<class 'pandas.core.frame.DataFrame'>\n",
        "Int64Index: 60000 entries, 935802 to 878323\n",
        "Columns: 20000 entries, 0 to 19999\n",
        "dtypes: float32(20000)\n"
       ]
      }
     ],
     "prompt_number": 18
    },
    {
     "cell_type": "code",
     "collapsed": false,
     "input": [
      "cfrs = {}\n",
      "for col in galaxy_training.columns:\n",
      "    if \"Class\" in col:\n",
      "        class_to_fit = col\n",
      "        features = None\n",
      "        targets = None\n",
      "        print \"copying\"\n",
      "        features = raw_pixels_df.copy()\n",
      "        print \"dropping na\"\n",
      "        features = features.dropna(axis=1)\n",
      "        if 'GalaxyId' in features:\n",
      "            features.set_index('GalaxyId', inplace=True)\n",
      "        print \"joining\"\n",
      "        #features = features.join(galaxy_training[col])\n",
      "        targets_a = []\n",
      "        targets_probs = []\n",
      "        for i, index in enumerate(features.index):\n",
      "            if galaxy_training[col].ix[index] > 0.5:\n",
      "                targets_a.append(1)\n",
      "            else:\n",
      "                targets_a.append(-1)\n",
      "            targets_probs.append(galaxy_training[col].ix[index])\n",
      "#             targets_a.append(galaxy_training[col].ix[index])\n",
      "        targets = np.array(targets_a)       \n",
      "        targets_probs = np.array(targets_probs)\n",
      "#        print features.columns\n",
      "#        print targets.values\n",
      "        print \"Working on class: {0}\".format(class_to_fit)\n",
      "        cfr, score, x_train, x_test, y_train, y_test = rmse_score(features, targets_probs)\n",
      "#        cfr, score, x_train, x_test, y_train, y_test, train_indices, test_indices = classification_score(features, targets)\n",
      "        cfrs[col] = (cfr, score, x_train, x_test, y_train, y_test)\n",
      "        print \"For class: {0} Score: {1}\".format(class_to_fit, score)\n",
      "        break"
     ],
     "language": "python",
     "metadata": {},
     "outputs": [
      {
       "output_type": "stream",
       "stream": "stdout",
       "text": [
        "copying\n",
        "dropping na"
       ]
      },
      {
       "output_type": "stream",
       "stream": "stdout",
       "text": [
        "\n",
        "joining"
       ]
      },
      {
       "output_type": "stream",
       "stream": "stdout",
       "text": [
        "\n",
        "Working on class: Class1.1"
       ]
      },
      {
       "output_type": "stream",
       "stream": "stdout",
       "text": [
        "\n",
        "Splitting test/train\n",
        "Initializing CFR"
       ]
      },
      {
       "output_type": "stream",
       "stream": "stdout",
       "text": [
        "\n",
        "Fitting...\n",
        "building tree 1 of 13\n",
        "building tree 1 of 13\n",
        "building tree 1 of 13\n",
        "building tree 1 of 13\n",
        "building tree 1 of 12\n",
        "building tree 1 of 12\n",
        "building tree 1 of 12\n",
        "building tree 1 of 12\n",
        "building tree 2 of 12\n",
        "building tree 2 of 13\n",
        "building tree 2 of 13\n",
        "building tree 2 of 13\n",
        "building tree 2 of 12\n",
        "building tree 2 of 12\n",
        "building tree 2 of 12\n",
        "building tree 2 of 13\n",
        "building tree 3 of 12\n",
        "building tree 3 of 13\n",
        "building tree 3 of 12\n",
        "building tree 3 of 13\n",
        "building tree 3 of 13\n",
        "building tree 3 of 12\n",
        "building tree 3 of 13\n",
        "building tree 3 of 12\n",
        "building tree 4 of 13\n",
        "building tree 4 of 13\n",
        "building tree 4 of 12\n",
        "building tree 4 of 12\n",
        "building tree 4 of 13\n",
        "building tree 4 of 12\n",
        "building tree 4 of 13\n",
        "building tree 4 of 12\n",
        "building tree 5 of 13\n",
        "building tree 5 of 12\n",
        "building tree 5 of 13\n",
        "building tree 5 of 12\n",
        "building tree 5 of 13\n",
        "building tree 5 of 12\n",
        "building tree 5 of 13\n",
        "building tree 5 of 12\n",
        "building tree 6 of 13\n",
        "building tree 6 of 13\n",
        "building tree 6 of 12\n",
        "building tree 6 of 13\n",
        "building tree 6 of 12\n",
        "building tree 6 of 12\n",
        "building tree 6 of 13\n",
        "building tree 6 of 12\n",
        "building tree 7 of 13\n",
        "building tree 7 of 12\n",
        "building tree 7 of 13\n",
        "building tree 7 of 12\n",
        "building tree 7 of 12\n",
        "building tree 7 of 13\n",
        "building tree 7 of 13\n",
        "building tree 7 of 12\n",
        "building tree 8 of 13\n",
        "building tree 8 of 12\n",
        "building tree 8 of 13\n",
        "building tree 8 of 12\n",
        "building tree 8 of 12\n",
        "building tree 8 of 13\n",
        "building tree 8 of 13\n",
        "building tree 8 of 12\n",
        "building tree 9 of 13\n",
        "building tree 9 of 13\n",
        "building tree 9 of 12\n",
        "building tree 9 of 12\n",
        "building tree 9 of 13\n",
        "building tree 9 of 13\n",
        "building tree 9 of 12\n",
        "building tree 9 of 12\n",
        "building tree 10 of 13\n",
        "building tree 10 of 12\n",
        "building tree 10 of 13\n",
        "building tree 10 of 13\n",
        "building tree 10 of 12\n",
        "building tree 10 of 13\n",
        "building tree 10 of 12\n",
        "building tree 10 of 12\n",
        "building tree 11 of 13\n",
        "building tree 11 of 12\n",
        "building tree 11 of 13\n",
        "building tree 11 of 13\n",
        "building tree 11 of 13\n",
        "building tree 11 of 12\n",
        "building tree 11 of 12\n",
        "building tree 11 of 12\n",
        "building tree 12 of 13\n",
        "building tree 12 of 12\n",
        "building tree 12 of 13\n",
        "building tree 12 of 13\n",
        "building tree 12 of 12\n",
        "building tree 12 of 12\n",
        "building tree 12 of 13\n",
        "building tree 12 of 12\n",
        "building tree 13 of 13\n",
        "building tree 13 of 13\n",
        "building tree 13 of 13\n",
        "[Parallel(n_jobs=8)]: Done   7 out of   8 | elapsed: 306.7min remaining: 43.8min\n",
        "[Parallel(n_jobs=8)]: Done   5 out of   8 | elapsed: 308.1min remaining: 184.9min\n",
        "building tree 13 of 13\n",
        "[Parallel(n_jobs=8)]: Done   6 out of   8 | elapsed: 309.6min remaining: 103.2min\n",
        "[Parallel(n_jobs=8)]: Done   4 out of   8 | elapsed: 321.9min remaining: 321.9min\n",
        "[Parallel(n_jobs=8)]: Done   1 out of   8 | elapsed: 322.1min remaining: 2254.5min\n",
        "[Parallel(n_jobs=8)]: Done   2 out of   8 | elapsed: 322.3min remaining: 966.8min\n",
        "[Parallel(n_jobs=8)]: Done   3 out of   8 | elapsed: 324.2min remaining: 540.4min\n",
        "[Parallel(n_jobs=8)]: Done   8 out of   8 | elapsed: 324.2min finished\n"
       ]
      },
      {
       "output_type": "stream",
       "stream": "stdout",
       "text": [
        "Scoring...\n",
        "[Parallel(n_jobs=8)]: Done   7 out of   8 | elapsed:    0.4s remaining:    0.1s\n",
        "[Parallel(n_jobs=8)]: Done   5 out of   8 | elapsed:    0.5s remaining:    0.3s\n",
        "[Parallel(n_jobs=8)]: Done   3 out of   8 | elapsed:    0.5s remaining:    0.8s\n",
        "[Parallel(n_jobs=8)]: Done   6 out of   8 | elapsed:    0.5s remaining:    0.2s\n",
        "[Parallel(n_jobs=8)]: Done   1 out of   8 | elapsed:    0.5s remaining:    3.3s\n",
        "[Parallel(n_jobs=8)]: Done   2 out of   8 | elapsed:    0.5s remaining:    1.4s\n",
        "[Parallel(n_jobs=8)]: Done   4 out of   8 | elapsed:    0.5s remaining:    0.5s\n",
        "[Parallel(n_jobs=8)]: Done   8 out of   8 | elapsed:    0.5s finished\n"
       ]
      },
      {
       "output_type": "stream",
       "stream": "stdout",
       "text": [
        "For class: Class1.1 Score: 0.205458958346\n"
       ]
      }
     ],
     "prompt_number": 19
    },
    {
     "cell_type": "code",
     "collapsed": false,
     "input": [
      "# with sub and regular 100 pixels, 10000 images, Class1.1 Score: 0.215449227356 \n",
      "# with just sub 100 pixels, 10000 images, Class1.1 Score: 0.232292127518\n",
      "# with sub and regular 100 pixels, 60000 images, Class1.1 Score: 0.205458958346\n",
      "\n",
      "print cfrs['Class1.1'][1]"
     ],
     "language": "python",
     "metadata": {},
     "outputs": [
      {
       "output_type": "stream",
       "stream": "stdout",
       "text": [
        "0.204658662024\n"
       ]
      }
     ],
     "prompt_number": 11
    },
    {
     "cell_type": "code",
     "collapsed": false,
     "input": [
      "image = scipy.misc.imread('/Users/jostheim/workspace/kaggle/data/galaxy_zoo/images_training_rev1/{0}.jpg'.format('100008'), flatten=True)\n",
      "size_x, size_y = image.shape\n",
      "cut_image = image[(size_x/2.0)-50:(size_x/2.0)+50, (size_y/2.0)-50:(size_y/2.0)+50]\n",
      "plt.imshow(cut_image)\n",
      "print len(cut_image.flatten())\n",
      "pd.DataFrame([cut_image.flatten()], index=[100008])"
     ],
     "language": "python",
     "metadata": {},
     "outputs": [
      {
       "output_type": "stream",
       "stream": "stdout",
       "text": [
        "10000\n"
       ]
      },
      {
       "output_type": "stream",
       "stream": "stderr",
       "text": [
        "-c:3: DeprecationWarning: using a non-integer number instead of an integer will result in an error in the future\n",
        "-c:3: DeprecationWarning: using a non-integer number instead of an integer will result in an error in the future\n",
        "-c:3: DeprecationWarning: using a non-integer number instead of an integer will result in an error in the future\n",
        "-c:3: DeprecationWarning: using a non-integer number instead of an integer will result in an error in the future\n",
        "/Users/jostheim/VirtualEnv/data_science/lib/python2.7/site-packages/pandas/core/config.py:570: DeprecationWarning: height has been deprecated.\n",
        "\n",
        "  warnings.warn(d.msg, DeprecationWarning)\n",
        "/Users/jostheim/VirtualEnv/data_science/lib/python2.7/site-packages/pandas/core/config.py:570: DeprecationWarning: height has been deprecated.\n",
        "\n",
        "  warnings.warn(d.msg, DeprecationWarning)\n",
        "/Users/jostheim/VirtualEnv/data_science/lib/python2.7/site-packages/pandas/core/config.py:570: DeprecationWarning: height has been deprecated.\n",
        "\n",
        "  warnings.warn(d.msg, DeprecationWarning)\n"
       ]
      },
      {
       "html": [
        "<pre>\n",
        "&lt;class 'pandas.core.frame.DataFrame'&gt;\n",
        "Int64Index: 1 entries, 100008 to 100008\n",
        "Columns: 10000 entries, 0 to 9999\n",
        "dtypes: float32(10000)\n",
        "</pre>"
       ],
       "metadata": {},
       "output_type": "pyout",
       "prompt_number": 23,
       "text": [
        "<class 'pandas.core.frame.DataFrame'>\n",
        "Int64Index: 1 entries, 100008 to 100008\n",
        "Columns: 10000 entries, 0 to 9999\n",
        "dtypes: float32(10000)"
       ]
      },
      {
       "metadata": {},
       "output_type": "display_data",
       "png": "[encoded data removed]",
       "text": [
        "<matplotlib.figure.Figure at 0x15693f490>"
       ]
      }
     ],
     "prompt_number": 23
    },
    {
     "cell_type": "code",
     "collapsed": false,
     "input": [
      "npix, npiy = image.shape\n",
      "x1 = np.arange(-npix/2.,npix/2.)\n",
      "y1 = np.arange(-npiy/2.,npiy/2.)\n",
      "x,y = np.meshgrid(y1,x1)\n",
      "rot_image = scipy.misc.imrotate(image, 45.0)\n",
      "r = np.sqrt(x**2 + y**2)\n",
      "thisindex = ((r>=100) * (r<100)) \n",
      "rot_data = rot_image[thisindex]\n",
      "plt.imshow(rot_image)\n"
     ],
     "language": "python",
     "metadata": {},
     "outputs": [
      {
       "metadata": {},
       "output_type": "pyout",
       "prompt_number": 29,
       "text": [
        "<matplotlib.image.AxesImage at 0x1600c5690>"
       ]
      },
      {
       "metadata": {},
       "output_type": "display_data",
       "png": "[encoded data removed]",
       "text": [
        "<matplotlib.figure.Figure at 0x1545fc850>"
       ]
      }
     ],
     "prompt_number": 29
    },
    {
     "cell_type": "code",
     "collapsed": false,
     "input": [],
     "language": "python",
     "metadata": {},
     "outputs": []
    }
   ],
   "metadata": {}
  }
 ]
}