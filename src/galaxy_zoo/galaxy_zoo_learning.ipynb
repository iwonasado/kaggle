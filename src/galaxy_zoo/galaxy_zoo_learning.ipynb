{
 "metadata": {
  "name": ""
 },
 "nbformat": 3,
 "nbformat_minor": 0,
 "worksheets": [
  {
   "cells": [
    {
     "cell_type": "code",
     "collapsed": false,
     "input": [
      "import pandas as pd\n",
      "import pylab as p\n",
      "import matplotlib.pyplot as plt\n",
      "from sklearn.ensemble import RandomForestRegressor\n",
      "from sklearn import cross_validation\n",
      "import numpy as np\n",
      "from scipy import stats\n",
      "import os"
     ],
     "language": "python",
     "metadata": {},
     "outputs": [],
     "prompt_number": 2
    },
    {
     "cell_type": "code",
     "collapsed": false,
     "input": [
      "path = '/Users/jostheim/workspace/kaggle/data/galaxy_zoo/pieces/'\n",
      "test = pd.read_csv(path+\"radial_profile_100008_data_72_theta_bins_50_linear_radial_bins.csv\")\n",
      "plt.plot(test['r'], test['mean'])"
     ],
     "language": "python",
     "metadata": {},
     "outputs": [
      {
       "metadata": {},
       "output_type": "pyout",
       "prompt_number": 6,
       "text": [
        "[<matplotlib.lines.Line2D at 0x110fb9850>]"
       ]
      },
      {
       "metadata": {},
       "output_type": "display_data",
       "png": "[encoded data removed]",
       "text": [
        "<matplotlib.figure.Figure at 0x111694850>"
       ]
      }
     ],
     "prompt_number": 6
    },
    {
     "cell_type": "code",
     "collapsed": false,
     "input": [
      "def get_radial_profile(row):\n",
      "    radial_prof = []\n",
      "    for i, (col, val) in enumerate(row.iteritems()):\n",
      "        if \"Class\" not in col:\n",
      "            if \"bin_mean\" in col:\n",
      "                annuli  = col.split(\"_\")[2]\n",
      "                radial_prof.append((int(annuli), val))\n",
      "    radial_prof = sorted(radial_prof)\n",
      "    radial_prof = [m[1] for m in radial_prof]\n",
      "    radial_prof = np.array(radial_prof)\n",
      "    return radial_prof\n",
      "\n",
      "def mean_radial_profile(df):\n",
      "    mean_row = {}\n",
      "    mean_vector = []\n",
      "    for i, col in enumerate(df.columns):\n",
      "        if \"Class\" not in col:\n",
      "            mean = np.mean(df[col])\n",
      "            mean_row[col] = mean\n",
      "            if \"bin_mean\" in col:\n",
      "                print df[col].values\n",
      "                annuli  = col.split(\"_\")[2]\n",
      "                mean_vector.append((int(annuli), mean))\n",
      "    mean_vector = sorted(mean_vector)\n",
      "    mean_vector = [m[1] for m in mean_vector]\n",
      "    mean_vector = np.array(mean_vector)\n",
      "    return mean_row, mean_vector\n",
      "\n",
      "def compute_ks(row, mean_vector):\n",
      "    radial_profile = get_radial_profile(row)\n",
      "    plt.plot(radial_profile)\n",
      "    plt.plot(mean_vector)\n",
      "    return stats.ks_2samp(radial_profile, mean_vector)[1]\n",
      "\n",
      "def compare_profiles(df, mean_vector):\n",
      "    df['ks_test'] = df.apply(lambda x: compute_ks(x, mean_vector), axis=1)\n",
      "    return df"
     ],
     "language": "python",
     "metadata": {},
     "outputs": [],
     "prompt_number": 147
    },
    {
     "cell_type": "code",
     "collapsed": false,
     "input": [
      "path = '/Users/jostheim/workspace/kaggle/data/galaxy_zoo/pieces/'\n",
      "from os import listdir\n",
      "from os.path import isfile, join\n",
      "onlyfiles = [ f for f in listdir(path) if isfile(join(path,f)) ]\n",
      "all_features_df = None\n",
      "for file in onlyfiles:\n",
      "    print file\n",
      "    if all_features_df is None:\n",
      "        tmp_df = pd.read_csv(path+file)\n",
      "        #tmp_df.set_index(['GalaxyId'], inplace=True)\n",
      "        grouped = tmp_df.groupby('GalaxyId')\n",
      "        for i, (name, group) in enumerate(grouped):\n",
      "            plt.hist(group['bin_mean_1'], bins=20)\n",
      "            break\n",
      "            mean_profile, mean_vector = mean_radial_profile(group)\n",
      "            group = compare_profiles(group, mean_vector)\n",
      "            print group['ks_test'].values\n",
      "            plt.plot(mean_vector)\n",
      "            break\n",
      "        break\n",
      "#         for i, ind in enumerate(tmp_df.columns):\n",
      "#             if ind == \"GalaxyId\":\n",
      "#                 print i\n",
      "\n",
      "        #for i, col in enumerate(all_features_df.columns):\n",
      "#             if 'float64' in str(all_features_df.dtype[i]) \n",
      "#                 all_features_df[col] = all_features_df[col].astype('float32')\n",
      "#             elif 'int64' in str(all_featues_df.dtype[i]):\n",
      "#                 all_features_df[col] = all_features_df[col].astype('int32')\n",
      "        \n",
      "        all_features_df = tmp_df\n",
      "    else:\n",
      "        tmp_df = pd.read_csv(path+file, index_col=[0])\n",
      "#         for i, col in enumerate(tmp_df.columns):\n",
      "#             if 'float64' in str(tmp_df.dtype[i]) \n",
      "#                 tmp_df[col] = tmp_df[col].astype('float32')\n",
      "#             elif 'int64' in str(tmp_df.dtype[i]):\n",
      "#                 tmp_df[col] = tmp_df[col].astype('int32')\n",
      "        all_features_df = all_features_df.append(tmp_df)\n",
      "        print all_features_df"
     ],
     "language": "python",
     "metadata": {},
     "outputs": [
      {
       "output_type": "stream",
       "stream": "stdout",
       "text": [
        "features_0_76_data_180_theta_bins_150_linear_radial_bins.csv\n"
       ]
      },
      {
       "metadata": {},
       "output_type": "display_data",
       "png": "[encoded data removed]",
       "text": [
        "<matplotlib.figure.Figure at 0x10df16590>"
       ]
      }
     ],
     "prompt_number": 153
    },
    {
     "cell_type": "code",
     "collapsed": false,
     "input": [
      "galaxy_training = pd.read_csv('/Users/jostheim/workspace/kaggle/data/galaxy_zoo/solutions_training.csv', index_col=[0])"
     ],
     "language": "python",
     "metadata": {},
     "outputs": [],
     "prompt_number": 3
    },
    {
     "cell_type": "code",
     "collapsed": false,
     "input": [
      "all_features_df = features.copy(deep=True)\n",
      "del features['GalaxyId']"
     ],
     "language": "python",
     "metadata": {},
     "outputs": [],
     "prompt_number": 6
    },
    {
     "cell_type": "code",
     "collapsed": false,
     "input": [
      "def get_metric(cfr, features, targets):\n",
      "    p = cfr.predict(features)\n",
      "    sum_diff = np.power((p - targets),2)\n",
      "    mean_diff = np.sqrt(np.sum(sum_diff)/float(len(targets)))\n",
      "    return mean_diff"
     ],
     "language": "python",
     "metadata": {},
     "outputs": [],
     "prompt_number": 8
    },
    {
     "cell_type": "code",
     "collapsed": false,
     "input": [
      "def cross_validate(features, targets):\n",
      "    num_cv = 5\n",
      "    cv = cross_validation.KFold(len(features), n_folds=num_cv, indices=False)\n",
      "    score_sum = 0.0\n",
      "    cfr = None\n",
      "    for i, (traincv, testcv) in enumerate(cv):\n",
      "        cfr = RandomForestRegressor(\n",
      "                oob_score = True, verbose = 1, max_features = len(features.columns), n_estimators = 150, min_samples_leaf = 100,\n",
      "                n_jobs=1,\n",
      "                random_state=0,\n",
      "        )\n",
      "        print \"Fitting cross validation #{0}\".format(i)\n",
      "        cfr.fit(features[traincv], targets[traincv])\n",
      "        print \"Scoring cross validation #{0}\".format(i)\n",
      "        cfr.set_params(n_jobs=1)\n",
      "    #     predicted = cfr.predict(features[testcv])\n",
      "    #     p = cfr.predict_proba(features[testcv])\n",
      "    #     score = cfr.score(features[testcv],targets[testcv])\n",
      "        score = get_metric(cfr, features[testcv], targets[testcv])\n",
      "        print \"Score for run {0} is {1}\".format(i, score)\n",
      "        score_sum += score\n",
      "    return score_sum/float(num_cv)"
     ],
     "language": "python",
     "metadata": {},
     "outputs": [],
     "prompt_number": 11
    },
    {
     "cell_type": "code",
     "collapsed": false,
     "input": [
      "for col in all_features_df.columns:\n",
      "    if \"Class\" in col:\n",
      "        class_to_fit = col\n",
      "        features = None\n",
      "        features = all_features_df.copy()\n",
      "        targets = None\n",
      "        del features['GalaxyId']\n",
      "        for col in features.columns:\n",
      "            if \"Class\" in col and col != \"{0}\".format(class_to_fit):\n",
      "                del features[col]\n",
      "            elif \"{0}\".format(class_to_fit) == col:\n",
      "                targets = features[col]\n",
      "                del features[col]\n",
      "            elif len(features[col].dropna()) == 0:\n",
      "                del features[col]\n",
      "        #plt.hist(targets, bins=50)\n",
      "        #plt.show()\n",
      "        #plt.hist(features[features.columns[60]])\n",
      "        #plt.show()\n",
      "#         for col in features.columns:\n",
      "#             print col\n",
      "#         print targets\n",
      "        score = cross_validate(features, targets)\n",
      "        print \"For class: {0} MRSE: {1}\".format(class_to_fit, score)"
     ],
     "language": "python",
     "metadata": {},
     "outputs": [],
     "prompt_number": "*"
    },
    {
     "cell_type": "code",
     "collapsed": false,
     "input": [
      "print np.sqrt(len(features.columns))\n",
      "features = None"
     ],
     "language": "python",
     "metadata": {},
     "outputs": [
      {
       "ename": "AttributeError",
       "evalue": "'NoneType' object has no attribute 'columns'",
       "output_type": "pyerr",
       "traceback": [
        "\u001b[0;31m---------------------------------------------------------------------------\u001b[0m\n\u001b[0;31mAttributeError\u001b[0m                            Traceback (most recent call last)",
        "\u001b[0;32m<ipython-input-18-06837b4b4ee1>\u001b[0m in \u001b[0;36m<module>\u001b[0;34m()\u001b[0m\n\u001b[0;32m----> 1\u001b[0;31m \u001b[0;32mprint\u001b[0m \u001b[0mnp\u001b[0m\u001b[0;34m.\u001b[0m\u001b[0msqrt\u001b[0m\u001b[0;34m(\u001b[0m\u001b[0mlen\u001b[0m\u001b[0;34m(\u001b[0m\u001b[0mfeatures\u001b[0m\u001b[0;34m.\u001b[0m\u001b[0mcolumns\u001b[0m\u001b[0;34m)\u001b[0m\u001b[0;34m)\u001b[0m\u001b[0;34m\u001b[0m\u001b[0m\n\u001b[0m\u001b[1;32m      2\u001b[0m \u001b[0mfeatures\u001b[0m \u001b[0;34m=\u001b[0m \u001b[0mNone\u001b[0m\u001b[0;34m\u001b[0m\u001b[0m\n",
        "\u001b[0;31mAttributeError\u001b[0m: 'NoneType' object has no attribute 'columns'"
       ]
      }
     ],
     "prompt_number": 18
    },
    {
     "cell_type": "code",
     "collapsed": false,
     "input": [
      "# this is fixing up the bad target class columns\n",
      "features = all_features_df.copy(deep=True)\n",
      "for col in features.columns:\n",
      "    if \"Class\" in col: #col != \"Class{0}\".format(class_to_fit):\n",
      "        del features[col]\n"
     ],
     "language": "python",
     "metadata": {},
     "outputs": [],
     "prompt_number": 4
    },
    {
     "cell_type": "code",
     "collapsed": false,
     "input": [
      "# still fixing target class columns\n",
      "targets_dicts = []\n",
      "for ix, row in features.iterrows():\n",
      "    galaxyId = row['GalaxyId']\n",
      "    row = galaxy_training.ix[int(galaxyId)]\n",
      "    targets_dict = {}\n",
      "    for name, val in row.iteritems():\n",
      "        targets_dict[name] = val\n",
      "    targets_dicts.append(targets_dict)\n",
      "joiner = pd.DataFrame(targets_dicts)\n",
      "features = features.join(joiner)\n",
      "# all fixed"
     ],
     "language": "python",
     "metadata": {},
     "outputs": [],
     "prompt_number": 5
    }
   ],
   "metadata": {}
  }
 ]
}