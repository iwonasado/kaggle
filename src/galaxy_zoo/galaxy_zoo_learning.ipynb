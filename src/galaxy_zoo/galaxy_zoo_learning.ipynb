{
 "metadata": {
  "name": ""
 },
 "nbformat": 3,
 "nbformat_minor": 0,
 "worksheets": [
  {
   "cells": [
    {
     "cell_type": "code",
     "collapsed": false,
     "input": [
      "import pandas as pd\n",
      "import pylab as p\n",
      "import matplotlib.pyplot as plt\n",
      "from sklearn.ensemble import RandomForestRegressor\n",
      "from sklearn import cross_validation\n",
      "import numpy as np"
     ],
     "language": "python",
     "metadata": {},
     "outputs": [],
     "prompt_number": 143
    },
    {
     "cell_type": "code",
     "collapsed": false,
     "input": [
      "file = '/Users/jostheim/workspace/kaggle/data/galaxy_zoo/{0}'\n",
      "all_features_df = pd.read_csv(file.format(\"features_10000_samples_50_theta_bins_50_log_radial_bins.csv\"), index_col=[0])"
     ],
     "language": "python",
     "metadata": {},
     "outputs": [],
     "prompt_number": 203
    },
    {
     "cell_type": "code",
     "collapsed": false,
     "input": [
      "galaxy_training = pd.read_csv('/Users/jostheim/workspace/kaggle/data/galaxy_zoo/solutions_training.csv', index_col=[0])"
     ],
     "language": "python",
     "metadata": {},
     "outputs": [],
     "prompt_number": 204
    },
    {
     "cell_type": "code",
     "collapsed": false,
     "input": [
      "# this is fixing up the bad target class columns\n",
      "features = all_features_df.copy(deep=True)\n",
      "for col in features.columns:\n",
      "    if \"Class\" in col: #col != \"Class{0}\".format(class_to_fit):\n",
      "        del features[col]\n"
     ],
     "language": "python",
     "metadata": {},
     "outputs": [],
     "prompt_number": 205
    },
    {
     "cell_type": "code",
     "collapsed": false,
     "input": [
      "# still fixing target class columns\n",
      "targets_dicts = []\n",
      "for ix, row in features.iterrows():\n",
      "    galaxyId = row['GalaxyId']\n",
      "    row = galaxy_training.ix[int(galaxyId)]\n",
      "    targets_dict = {}\n",
      "    for name, val in row.iteritems():\n",
      "        targets_dict[name] = val\n",
      "    targets_dicts.append(targets_dict)\n",
      "joiner = pd.DataFrame(targets_dicts)\n",
      "features = features.join(joiner)\n",
      "# all fixed"
     ],
     "language": "python",
     "metadata": {},
     "outputs": [],
     "prompt_number": 206
    },
    {
     "cell_type": "code",
     "collapsed": false,
     "input": [
      "targets = None\n",
      "class_to_fit = \"1.1\"\n",
      "all_features_df = features.copy(deep=True)\n",
      "del features['GalaxyId']\n",
      "for col in features.columns:\n",
      "    if \"Class\" in col and col != \"Class{0}\".format(class_to_fit):\n",
      "        del features[col]\n",
      "    elif \"Class\" in col:\n",
      "        targets = features[col]\n",
      "        del features[col]\n",
      "    elif len(features[col].dropna()) == 0:\n",
      "        del features[col]\n"
     ],
     "language": "python",
     "metadata": {},
     "outputs": [],
     "prompt_number": 207
    },
    {
     "cell_type": "code",
     "collapsed": false,
     "input": [
      "plt.hist(targets, bins=50)\n",
      "plt.show()\n",
      "#del features['Unnamed: 0']\n",
      "plt.hist(features[features.columns[60]])\n",
      "plt.show()\n",
      "print np.sqrt(len(features.columns))"
     ],
     "language": "python",
     "metadata": {},
     "outputs": [
      {
       "metadata": {},
       "output_type": "display_data",
       "png": "[encoded data removed]",
       "text": [
        "<matplotlib.figure.Figure at 0x109f87bd0>"
       ]
      },
      {
       "metadata": {},
       "output_type": "display_data",
       "png": "[encoded data removed]",
       "text": [
        "<matplotlib.figure.Figure at 0x10de7acd0>"
       ]
      },
      {
       "output_type": "stream",
       "stream": "stdout",
       "text": [
        "17.88854382\n"
       ]
      }
     ],
     "prompt_number": 208
    },
    {
     "cell_type": "code",
     "collapsed": false,
     "input": [
      "def get_metric(cfr, features, targets):\n",
      "    p = cfr.predict(features)\n",
      "    sum_diff = np.power((p - targets),2)\n",
      "    mean_diff = np.sqrt(np.sum(sum_diff)/float(len(targets)))\n",
      "    return mean_diff"
     ],
     "language": "python",
     "metadata": {},
     "outputs": [],
     "prompt_number": 216
    },
    {
     "cell_type": "code",
     "collapsed": false,
     "input": [
      "num_cv = 5\n",
      "cv = cross_validation.KFold(len(features), n_folds=num_cv, indices=False)\n",
      "score_sum = 0.0\n",
      "cfr = None\n",
      "for i, (traincv, testcv) in enumerate(cv):\n",
      "    if i > 0:\n",
      "        continue\n",
      "    cfr = RandomForestRegressor(\n",
      "            oob_score = True, verbose = 1, max_features = int(np.sqrt(len(features.columns))), n_estimators = 150, min_samples_leaf = 100,\n",
      "            n_jobs=1,\n",
      "            random_state=0,\n",
      "    )\n",
      "    print \"Fitting cross validation #{0}\".format(i)\n",
      "    cfr.fit(features[traincv], targets[traincv])\n",
      "    print \"Scoring cross validation #{0}\".format(i)\n",
      "    cfr.set_params(n_jobs=1)\n",
      "#     predicted = cfr.predict(features[testcv])\n",
      "#     p = cfr.predict_proba(features[testcv])\n",
      "#     score = cfr.score(features[testcv],targets[testcv])\n",
      "    score = get_metric(cfr, features[testcv], all_features_df)\n",
      "    print \"Score for run {0} is {1}\".format(i, score)\n",
      "    score_sum += score\n",
      "cfr"
     ],
     "language": "python",
     "metadata": {},
     "outputs": [
      {
       "output_type": "stream",
       "stream": "stdout",
       "text": [
        "Fitting cross validation #0\n",
        "Scoring cross validation #0"
       ]
      },
      {
       "output_type": "stream",
       "stream": "stderr",
       "text": [
        "[Parallel(n_jobs=1)]: Done   1 jobs       | elapsed: 248.7min\n",
        "[Parallel(n_jobs=1)]: Done   1 out of   1 | elapsed: 248.7min finished\n",
        "[Parallel(n_jobs=1)]: Done   1 jobs       | elapsed:    1.3s\n"
       ]
      },
      {
       "ename": "ValueError",
       "evalue": "operands could not be broadcast together with shapes (100000) (500000,388) ",
       "output_type": "pyerr",
       "traceback": [
        "\u001b[0;31m---------------------------------------------------------------------------\u001b[0m\n\u001b[0;31mValueError\u001b[0m                                Traceback (most recent call last)",
        "\u001b[0;32m<ipython-input-218-922f0f2facf0>\u001b[0m in \u001b[0;36m<module>\u001b[0;34m()\u001b[0m\n\u001b[1;32m     18\u001b[0m \u001b[0;31m#     p = cfr.predict_proba(features[testcv])\u001b[0m\u001b[0;34m\u001b[0m\u001b[0;34m\u001b[0m\u001b[0m\n\u001b[1;32m     19\u001b[0m \u001b[0;31m#     score = cfr.score(features[testcv],targets[testcv])\u001b[0m\u001b[0;34m\u001b[0m\u001b[0;34m\u001b[0m\u001b[0m\n\u001b[0;32m---> 20\u001b[0;31m     \u001b[0mscore\u001b[0m \u001b[0;34m=\u001b[0m \u001b[0mget_metric\u001b[0m\u001b[0;34m(\u001b[0m\u001b[0mcfr\u001b[0m\u001b[0;34m,\u001b[0m \u001b[0mfeatures\u001b[0m\u001b[0;34m[\u001b[0m\u001b[0mtestcv\u001b[0m\u001b[0;34m]\u001b[0m\u001b[0;34m,\u001b[0m \u001b[0mall_features_df\u001b[0m\u001b[0;34m)\u001b[0m\u001b[0;34m\u001b[0m\u001b[0m\n\u001b[0m\u001b[1;32m     21\u001b[0m     \u001b[0;32mprint\u001b[0m \u001b[0;34m\"Score for run {0} is {1}\"\u001b[0m\u001b[0;34m.\u001b[0m\u001b[0mformat\u001b[0m\u001b[0;34m(\u001b[0m\u001b[0mi\u001b[0m\u001b[0;34m,\u001b[0m \u001b[0mscore\u001b[0m\u001b[0;34m)\u001b[0m\u001b[0;34m\u001b[0m\u001b[0m\n\u001b[1;32m     22\u001b[0m     \u001b[0mscore_sum\u001b[0m \u001b[0;34m+=\u001b[0m \u001b[0mscore\u001b[0m\u001b[0;34m\u001b[0m\u001b[0m\n",
        "\u001b[0;32m<ipython-input-216-5f1344b046a2>\u001b[0m in \u001b[0;36mget_metric\u001b[0;34m(cfr, features, targets)\u001b[0m\n\u001b[1;32m      1\u001b[0m \u001b[0;32mdef\u001b[0m \u001b[0mget_metric\u001b[0m\u001b[0;34m(\u001b[0m\u001b[0mcfr\u001b[0m\u001b[0;34m,\u001b[0m \u001b[0mfeatures\u001b[0m\u001b[0;34m,\u001b[0m \u001b[0mtargets\u001b[0m\u001b[0;34m)\u001b[0m\u001b[0;34m:\u001b[0m\u001b[0;34m\u001b[0m\u001b[0m\n\u001b[1;32m      2\u001b[0m     \u001b[0mp\u001b[0m \u001b[0;34m=\u001b[0m \u001b[0mcfr\u001b[0m\u001b[0;34m.\u001b[0m\u001b[0mpredict\u001b[0m\u001b[0;34m(\u001b[0m\u001b[0mfeatures\u001b[0m\u001b[0;34m)\u001b[0m\u001b[0;34m\u001b[0m\u001b[0m\n\u001b[0;32m----> 3\u001b[0;31m     \u001b[0msum_diff\u001b[0m \u001b[0;34m=\u001b[0m \u001b[0mnp\u001b[0m\u001b[0;34m.\u001b[0m\u001b[0mpower\u001b[0m\u001b[0;34m(\u001b[0m\u001b[0;34m(\u001b[0m\u001b[0mp\u001b[0m \u001b[0;34m-\u001b[0m \u001b[0mtargets\u001b[0m\u001b[0;34m)\u001b[0m\u001b[0;34m,\u001b[0m\u001b[0;36m2\u001b[0m\u001b[0;34m)\u001b[0m\u001b[0;34m\u001b[0m\u001b[0m\n\u001b[0m\u001b[1;32m      4\u001b[0m     \u001b[0mmean_diff\u001b[0m \u001b[0;34m=\u001b[0m \u001b[0mnp\u001b[0m\u001b[0;34m.\u001b[0m\u001b[0msqrt\u001b[0m\u001b[0;34m(\u001b[0m\u001b[0mnp\u001b[0m\u001b[0;34m.\u001b[0m\u001b[0msum\u001b[0m\u001b[0;34m(\u001b[0m\u001b[0msum_diff\u001b[0m\u001b[0;34m)\u001b[0m\u001b[0;34m/\u001b[0m\u001b[0mfloat\u001b[0m\u001b[0;34m(\u001b[0m\u001b[0mlen\u001b[0m\u001b[0;34m(\u001b[0m\u001b[0mtargets\u001b[0m\u001b[0;34m)\u001b[0m\u001b[0;34m)\u001b[0m\u001b[0;34m)\u001b[0m\u001b[0;34m\u001b[0m\u001b[0m\n\u001b[1;32m      5\u001b[0m     \u001b[0;32mreturn\u001b[0m \u001b[0mmean_diff\u001b[0m\u001b[0;34m\u001b[0m\u001b[0m\n",
        "\u001b[0;31mValueError\u001b[0m: operands could not be broadcast together with shapes (100000) (500000,388) "
       ]
      },
      {
       "output_type": "stream",
       "stream": "stdout",
       "text": [
        "\n"
       ]
      },
      {
       "output_type": "stream",
       "stream": "stderr",
       "text": [
        "[Parallel(n_jobs=1)]: Done   1 out of   1 | elapsed:    1.3s finished\n"
       ]
      }
     ],
     "prompt_number": 218
    },
    {
     "cell_type": "code",
     "collapsed": false,
     "input": [
      "print get_metric(cfr, features, targets)"
     ],
     "language": "python",
     "metadata": {},
     "outputs": [
      {
       "output_type": "stream",
       "stream": "stdout",
       "text": [
        "0.100264840438\n"
       ]
      },
      {
       "output_type": "stream",
       "stream": "stderr",
       "text": [
        "[Parallel(n_jobs=1)]: Done   1 jobs       | elapsed:    4.1s\n",
        "[Parallel(n_jobs=1)]: Done   1 out of   1 | elapsed:    4.1s finished\n"
       ]
      }
     ],
     "prompt_number": 217
    },
    {
     "cell_type": "code",
     "collapsed": false,
     "input": [],
     "language": "python",
     "metadata": {},
     "outputs": [],
     "prompt_number": 215
    },
    {
     "cell_type": "code",
     "collapsed": false,
     "input": [],
     "language": "python",
     "metadata": {},
     "outputs": []
    }
   ],
   "metadata": {}
  }
 ]
}