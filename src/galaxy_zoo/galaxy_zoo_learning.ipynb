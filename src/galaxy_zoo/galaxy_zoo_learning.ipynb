{
 "metadata": {
  "name": ""
 },
 "nbformat": 3,
 "nbformat_minor": 0,
 "worksheets": [
  {
   "cells": [
    {
     "cell_type": "code",
     "collapsed": false,
     "input": [
      "import pandas as pd\n",
      "import pylab as p\n",
      "import matplotlib.pyplot as plt\n",
      "from sklearn.ensemble import RandomForestRegressor\n",
      "from sklearn import cross_validation"
     ],
     "language": "python",
     "metadata": {},
     "outputs": [],
     "prompt_number": 2
    },
    {
     "cell_type": "code",
     "collapsed": false,
     "input": [
      "file = '/Users/jostheim/workspace/kaggle/data/galaxy_zoo/{0}'\n",
      "all_features_df = pd.read_csv(file.format(\"features_10000_samples_50_theta_bins_50_log_radial_bins.csv\"))"
     ],
     "language": "python",
     "metadata": {},
     "outputs": [],
     "prompt_number": 4
    },
    {
     "cell_type": "code",
     "collapsed": false,
     "input": [
      "print all_features_df.columns"
     ],
     "language": "python",
     "metadata": {},
     "outputs": [
      {
       "output_type": "stream",
       "stream": "stdout",
       "text": [
        "Index([u'Unnamed: 0', u'Class1.1', u'Class1.2', u'Class1.3', u'Class10.1', u'Class10.2', u'Class10.3', u'Class11.1', u'Class11.2', u'Class11.3', u'Class11.4', u'Class11.5', u'Class11.6', u'Class2.1', u'Class2.2', u'Class3.1', u'Class3.2', u'Class4.1', u'Class4.2', u'Class5.1', u'Class5.2', u'Class5.3', u'Class5.4', u'Class6.1', u'Class6.2', u'Class7.1', u'Class7.2', u'Class7.3', u'Class8.1', u'Class8.2', u'Class8.3', u'Class8.4', u'Class8.5', u'Class8.6', u'Class8.7', u'Class9.1', u'Class9.2', u'Class9.3', u'GalaxyId', u'bin_max_0', u'bin_max_1', u'bin_max_10', u'bin_max_11', u'bin_max_12', u'bin_max_13', u'bin_max_14', u'bin_max_15', u'bin_max_16', u'bin_max_17', u'bin_max_18', u'bin_max_19', u'bin_max_2', u'bin_max_20', u'bin_max_21', u'bin_max_22', u'bin_max_23', u'bin_max_24', u'bin_max_25', u'bin_max_26', u'bin_max_27', u'bin_max_28', u'bin_max_29', u'bin_max_3', u'bin_max_30', u'bin_max_31', u'bin_max_32', u'bin_max_33', u'bin_max_34', u'bin_max_35', u'bin_max_36', u'bin_max_37', u'bin_max_38', u'bin_max_39', u'bin_max_4', u'bin_max_40', u'bin_max_41', u'bin_max_42', u'bin_max_43', u'bin_max_44', u'bin_max_45', u'bin_max_46', u'bin_max_47', u'bin_max_48', u'bin_max_49', u'bin_max_5', u'bin_max_6', u'bin_max_7', u'bin_max_8', u'bin_max_9', u'bin_mean_0', u'bin_mean_1', u'bin_mean_10', u'bin_mean_11', u'bin_mean_12', u'bin_mean_13', u'bin_mean_14', u'bin_mean_15', u'bin_mean_16', u'bin_mean_17', u'bin_mean_18', u'bin_mean_19', u'bin_mean_2', u'bin_mean_20', u'bin_mean_21', u'bin_mean_22', u'bin_mean_23', u'bin_mean_24', u'bin_mean_25', u'bin_mean_26', u'bin_mean_27', u'bin_mean_28', u'bin_mean_29', u'bin_mean_3', u'bin_mean_30', u'bin_mean_31', u'bin_mean_32', u'bin_mean_33', u'bin_mean_34', u'bin_mean_35', u'bin_mean_36', u'bin_mean_37', u'bin_mean_38', u'bin_mean_39', u'bin_mean_4', u'bin_mean_40', u'bin_mean_41', u'bin_mean_42', u'bin_mean_43', u'bin_mean_44', u'bin_mean_45', u'bin_mean_46', u'bin_mean_47', u'bin_mean_48', u'bin_mean_49', u'bin_mean_5', u'bin_mean_6', u'bin_mean_7', u'bin_mean_8', u'bin_mean_9', u'bin_median_0', u'bin_median_1', u'bin_median_10', u'bin_median_11', u'bin_median_12', u'bin_median_13', u'bin_median_14', u'bin_median_15', u'bin_median_16', u'bin_median_17', u'bin_median_18', u'bin_median_19', u'bin_median_2', u'bin_median_20', u'bin_median_21', u'bin_median_22', u'bin_median_23', u'bin_median_24', u'bin_median_25', u'bin_median_26', u'bin_median_27', u'bin_median_28', u'bin_median_29', u'bin_median_3', u'bin_median_30', u'bin_median_31', u'bin_median_32', u'bin_median_33', u'bin_median_34', u'bin_median_35', u'bin_median_36', u'bin_median_37', u'bin_median_38', u'bin_median_39', u'bin_median_4', u'bin_median_40', u'bin_median_41', u'bin_median_42', u'bin_median_43', u'bin_median_44', u'bin_median_45', u'bin_median_46', u'bin_median_47', u'bin_median_48', u'bin_median_49', u'bin_median_5', u'bin_median_6', u'bin_median_7', u'bin_median_8', u'bin_median_9', u'bin_min_0', u'bin_min_1', u'bin_min_10', u'bin_min_11', u'bin_min_12', u'bin_min_13', u'bin_min_14', u'bin_min_15', u'bin_min_16', u'bin_min_17', u'bin_min_18', u'bin_min_19', u'bin_min_2', u'bin_min_20', u'bin_min_21', u'bin_min_22', u'bin_min_23', u'bin_min_24', u'bin_min_25', u'bin_min_26', u'bin_min_27', u'bin_min_28', u'bin_min_29', u'bin_min_3', u'bin_min_30', u'bin_min_31', u'bin_min_32', u'bin_min_33', u'bin_min_34', u'bin_min_35', u'bin_min_36', u'bin_min_37', u'bin_min_38', u'bin_min_39', u'bin_min_4', u'bin_min_40', u'bin_min_41', u'bin_min_42', u'bin_min_43', u'bin_min_44', u'bin_min_45', u'bin_min_46', u'bin_min_47', u'bin_min_48', u'bin_min_49', u'bin_min_5', u'bin_min_6', u'bin_min_7', u'bin_min_8', u'bin_min_9', u'bin_numel_0', u'bin_numel_1', u'bin_numel_10', u'bin_numel_11', u'bin_numel_12', u'bin_numel_13', u'bin_numel_14', u'bin_numel_15', u'bin_numel_16', u'bin_numel_17', u'bin_numel_18', u'bin_numel_19', u'bin_numel_2', u'bin_numel_20', u'bin_numel_21', u'bin_numel_22', u'bin_numel_23', u'bin_numel_24', u'bin_numel_25', u'bin_numel_26', u'bin_numel_27', u'bin_numel_28', u'bin_numel_29', u'bin_numel_3', u'bin_numel_30', u'bin_numel_31', u'bin_numel_32', u'bin_numel_33', u'bin_numel_34', u'bin_numel_35', u'bin_numel_36', u'bin_numel_37', u'bin_numel_38', u'bin_numel_39', u'bin_numel_4', u'bin_numel_40', u'bin_numel_41', u'bin_numel_42', u'bin_numel_43', u'bin_numel_44', u'bin_numel_45', u'bin_numel_46', u'bin_numel_47', u'bin_numel_48', u'bin_numel_49', u'bin_numel_5', u'bin_numel_6', u'bin_numel_7', u'bin_numel_8', u'bin_numel_9', u'bin_r_0', u'bin_r_1', u'bin_r_10', u'bin_r_11', u'bin_r_12', u'bin_r_13', u'bin_r_14', u'bin_r_15', u'bin_r_16', u'bin_r_17', u'bin_r_18', u'bin_r_19', u'bin_r_2', u'bin_r_20', u'bin_r_21', u'bin_r_22', u'bin_r_23', u'bin_r_24', u'bin_r_25', u'bin_r_26', u'bin_r_27', u'bin_r_28', u'bin_r_29', u'bin_r_3', u'bin_r_30', u'bin_r_31', u'bin_r_32', u'bin_r_33', u'bin_r_34', u'bin_r_35', u'bin_r_36', u'bin_r_37', u'bin_r_38', u'bin_r_39', u'bin_r_4', u'bin_r_40', u'bin_r_41', u'bin_r_42', u'bin_r_43', u'bin_r_44', u'bin_r_45', u'bin_r_46', u'bin_r_47', u'bin_r_48', u'bin_r_49', u'bin_r_5', u'bin_r_6', u'bin_r_7', u'bin_r_8', u'bin_r_9', u'bin_std_0', u'bin_std_1', u'bin_std_10', u'bin_std_11', u'bin_std_12', u'bin_std_13', u'bin_std_14', u'bin_std_15', u'bin_std_16', u'bin_std_17', u'bin_std_18', u'bin_std_19', u'bin_std_2', u'bin_std_20', u'bin_std_21', u'bin_std_22', u'bin_std_23', u'bin_std_24', u'bin_std_25', u'bin_std_26', u'bin_std_27', u'bin_std_28', u'bin_std_29', u'bin_std_3', u'bin_std_30', u'bin_std_31', u'bin_std_32', u'bin_std_33', u'bin_std_34', u'bin_std_35', u'bin_std_36', u'bin_std_37', u'bin_std_38', u'bin_std_39', u'bin_std_4', u'bin_std_40', u'bin_std_41', u'bin_std_42', u'bin_std_43', u'bin_std_44', u'bin_std_45', u'bin_std_46', u'bin_std_47', u'bin_std_48', u'bin_std_49', u'bin_std_5', u'bin_std_6', u'bin_std_7', u'bin_std_8', u'bin_std_9'], dtype=object)\n"
       ]
      }
     ],
     "prompt_number": 7
    },
    {
     "cell_type": "code",
     "collapsed": false,
     "input": [
      "features = all_features_df.copy(deep=True)\n",
      "targets = None\n",
      "class_to_fit = \"1.1\"\n",
      "for col in features.columns:\n",
      "    if col != \"Class{0}\".format(class_to_fit):\n",
      "        del features[col]\n",
      "    else:\n",
      "        targets = features[col]"
     ],
     "language": "python",
     "metadata": {},
     "outputs": [],
     "prompt_number": 14
    },
    {
     "cell_type": "code",
     "collapsed": false,
     "input": [
      "print targets\n",
      "plt.hist(targets, bins=50)\n",
      "plt.show()"
     ],
     "language": "python",
     "metadata": {},
     "outputs": [
      {
       "output_type": "stream",
       "stream": "stdout",
       "text": [
        "0     0.561091\n",
        "1     0.561091\n",
        "2     0.561091\n",
        "3     0.561091\n",
        "4     0.561091\n",
        "5     0.561091\n",
        "6     0.561091\n",
        "7     0.561091\n",
        "8     0.561091\n",
        "9     0.561091\n",
        "10    0.561091\n",
        "11    0.561091\n",
        "12    0.561091\n",
        "13    0.561091\n",
        "14    0.561091\n",
        "...\n",
        "499985    0.561091\n",
        "499986    0.561091\n",
        "499987    0.561091\n",
        "499988    0.561091\n",
        "499989    0.561091\n",
        "499990    0.561091\n",
        "499991    0.561091\n",
        "499992    0.561091\n",
        "499993    0.561091\n",
        "499994    0.561091\n",
        "499995    0.561091\n",
        "499996    0.561091\n",
        "499997    0.561091\n",
        "499998    0.561091\n",
        "499999    0.561091\n",
        "Name: Class1.1, Length: 500000, dtype: float64\n"
       ]
      },
      {
       "metadata": {},
       "output_type": "display_data",
       "png": "[encoded data removed]",
       "text": [
        "<matplotlib.figure.Figure at 0x10a466ad0>"
       ]
      }
     ],
     "prompt_number": 16
    },
    {
     "cell_type": "code",
     "collapsed": false,
     "input": [
      "num_cv = 5\n",
      "cv = cross_validation.KFold(len(features), n_folds=num_cv, indices=False)\n",
      "score_sum = 0.0\n",
      "for i, (traincv, testcv) in enumerate(cv):\n",
      "    cfr = RandomForestRegressor(\n",
      "            oob_score = True, verbose = 1,  criterion = 'entropy', max_features = np.sqrt(len(features.cols)), n_estimators = 150, min_samples_leaf = 100,\n",
      "            n_jobs=4,\n",
      "            random_state=0,\n",
      "    )\n",
      "    print \"Fitting cross validation #{0}\".format(i)\n",
      "    cfr.fit(features[traincv], targets[traincv])\n",
      "    print \"Scoring cross validation #{0}\".format(i)\n",
      "    cfr.set_params(n_jobs=1)\n",
      "    predicted = cfr.predict(features[testcv])\n",
      "    p = cfr.predict_proba(features[testcv])\n",
      "    score = cfr.score(features[testcv],targets[testcv])\n",
      "    print \"Score for run {0} is {1}\".format(i, score)\n",
      "    score_sum += score"
     ],
     "language": "python",
     "metadata": {},
     "outputs": []
    }
   ],
   "metadata": {}
  }
 ]
}