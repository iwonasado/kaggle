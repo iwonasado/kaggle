{
 "metadata": {
  "name": "",
  "signature": "sha256:9c7e8ec075ffbaffc006e9f6a84818f032ab630101659d904ef9b6a2ba76761f"
 },
 "nbformat": 3,
 "nbformat_minor": 0,
 "worksheets": [
  {
   "cells": [
    {
     "cell_type": "code",
     "collapsed": false,
     "input": [
      "import pandas as pd\n",
      "import numpy as np\n",
      "import types\n",
      "import dateutil\n",
      "import datetime\n",
      "from dateutil import tz\n",
      "from multiprocessing import Pool\n",
      "import os, sys\n",
      "import random\n",
      "import pickle\n",
      "import pytz\n",
      "from pytz import timezone\n",
      "from sklearn.ensemble import RandomForestClassifier\n",
      "from sklearn.ensemble import ExtraTreesClassifier\n",
      "from sklearn.cross_validation import ShuffleSplit\n",
      "from sklearn import cross_validation\n",
      "import traceback\n",
      "from sklearn.metrics.pairwise import check_pairwise_arrays\n",
      "from sklearn.metrics.pairwise import linear_kernel\n",
      "from sklearn.preprocessing import normalize\n",
      "from sklearn.utils.extmath import safe_sparse_dot\n",
      "import matplotlib.pyplot as plt\n",
      "import csv\n",
      "from bayesdb.client import Client"
     ],
     "language": "python",
     "metadata": {},
     "outputs": [],
     "prompt_number": 6
    },
    {
     "cell_type": "code",
     "collapsed": false,
     "input": [
      "allstate_data = pd.read_csv(\"/Users/jostheim/workspace/kaggle/data/allstate/train.csv\", na_values=[\"NA\"])"
     ],
     "language": "python",
     "metadata": {},
     "outputs": [],
     "prompt_number": 7
    },
    {
     "cell_type": "code",
     "collapsed": false,
     "input": [
      "print allstate_data"
     ],
     "language": "python",
     "metadata": {},
     "outputs": [
      {
       "output_type": "stream",
       "stream": "stdout",
       "text": [
        "<class 'pandas.core.frame.DataFrame'>\n",
        "Int64Index: 665249 entries, 0 to 665248\n",
        "Data columns (total 25 columns):\n",
        "customer_ID          665249  non-null values\n",
        "shopping_pt          665249  non-null values\n",
        "record_type          665249  non-null values\n",
        "day                  665249  non-null values\n",
        "time                 665249  non-null values\n",
        "state                665249  non-null values\n",
        "location             665249  non-null values\n",
        "group_size           665249  non-null values\n",
        "homeowner            665249  non-null values\n",
        "car_age              665249  non-null values\n",
        "car_value            663718  non-null values\n",
        "risk_factor          424831  non-null values\n",
        "age_oldest           665249  non-null values\n",
        "age_youngest         665249  non-null values\n",
        "married_couple       665249  non-null values\n",
        "C_previous           646538  non-null values\n",
        "duration_previous    646538  non-null values\n",
        "A                    665249  non-null values\n",
        "B                    665249  non-null values\n",
        "C                    665249  non-null values\n",
        "D                    665249  non-null values\n",
        "E                    665249  non-null values\n",
        "F                    665249  non-null values\n",
        "G                    665249  non-null values\n",
        "cost                 665249  non-null values\n",
        "dtypes: float64(3), int64(19), object(3)\n"
       ]
      }
     ],
     "prompt_number": 8
    },
    {
     "cell_type": "code",
     "collapsed": false,
     "input": [
      "flattened = []\n",
      "final_only_columns = ['A', 'B', 'C', 'D', 'E', 'F', 'G']\n",
      "grouped = allstate_data.groupby('customer_ID')\n",
      "for name, group in grouped:\n",
      "    d = {'customer_ID':name}\n",
      "    for i, (ix, row) in enumerate(group.iterrows()):\n",
      "        shopping_point = row['shopping_pt']\n",
      "        shopping_point_orig = row['shopping_pt']\n",
      "        d['shopping_point'] = shopping_point\n",
      "        if (i+1) == len(group):\n",
      "            shopping_point = \"final\"\n",
      "        for key, val in row.iteritems():\n",
      "            d[\"{0}_{1}\".format(shopping_point_orig, key)] = val\n",
      "    flattened.append(d)\n",
      "\n",
      "allstate_flattened = pd.DataFrame(flattened)"
     ],
     "language": "python",
     "metadata": {},
     "outputs": [],
     "prompt_number": 9
    },
    {
     "cell_type": "code",
     "collapsed": false,
     "input": [
      "print allstate_flattened"
     ],
     "language": "python",
     "metadata": {},
     "outputs": [
      {
       "output_type": "stream",
       "stream": "stdout",
       "text": [
        "<class 'pandas.core.frame.DataFrame'>\n",
        "Int64Index: 97009 entries, 0 to 97008\n",
        "Columns: 327 entries, 10_A to shopping_point\n",
        "dtypes: float64(229), int64(59), object(39)\n"
       ]
      }
     ],
     "prompt_number": 10
    },
    {
     "cell_type": "code",
     "collapsed": false,
     "input": [
      "n_samples = 10000\n",
      "samples = random.sample(allstate_flattened.index, n_samples)\n",
      "allstate_flattened.to_csv(\"/Users/jostheim/workspace/kaggle/src/allstate/training_flattened.csv\",  na_rep='NAN', index=False)"
     ],
     "language": "python",
     "metadata": {},
     "outputs": [],
     "prompt_number": 11
    },
    {
     "cell_type": "code",
     "collapsed": false,
     "input": [
      "client = Client()\n",
      "# client('DROP BTABLE allstate_table')\n",
      "client('CREATE BTABLE allstate_table FROM /Users/jostheim/workspace/kaggle/src/allstate/training_flattened.csv;')"
     ],
     "language": "python",
     "metadata": {},
     "outputs": [
      {
       "output_type": "stream",
       "stream": "stdout",
       "text": [
        "Btable with name allstate_table already exists.\n"
       ]
      }
     ],
     "prompt_number": 12
    },
    {
     "cell_type": "code",
     "collapsed": false,
     "input": [
      "client('DROP MODELS FOR allstate_table;')"
     ],
     "language": "python",
     "metadata": {},
     "outputs": [
      {
       "output_type": "stream",
       "stream": "stdout",
       "text": [
        "Are you sure you want to permanently delete model(s), without any way to get them back? Enter 'y' if yes.\n"
       ]
      },
      {
       "name": "stdout",
       "output_type": "stream",
       "stream": "stdout",
       "text": [
        "y\n"
       ]
      },
      {
       "output_type": "stream",
       "stream": "stdout",
       "text": [
        "No models for btable allstate_table. Create some with the INITIALIZE MODELS command.\n",
        "No models for btable allstate_table. Create some with the INITIALIZE MODELS command.\n"
       ]
      }
     ]
    },
    {
     "cell_type": "code",
     "collapsed": false,
     "input": [
      "client('INITIALIZE 50 MODELS FOR allstate_table;')"
     ],
     "language": "python",
     "metadata": {},
     "outputs": []
    },
    {
     "cell_type": "code",
     "collapsed": false,
     "input": [
      "client('ANALYZE allstate_table FOR 100 ITERATIONS;')"
     ],
     "language": "python",
     "metadata": {},
     "outputs": []
    }
   ],
   "metadata": {}
  }
 ]
}