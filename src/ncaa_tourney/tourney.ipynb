{
 "metadata": {
  "name": ""
 },
 "nbformat": 3,
 "nbformat_minor": 0,
 "worksheets": [
  {
   "cells": [
    {
     "cell_type": "code",
     "collapsed": false,
     "input": [
      "import pandas as pd\n",
      "import numpy as np\n",
      "import types\n",
      "import dateutil\n",
      "import datetime\n",
      "from dateutil import tz\n",
      "from multiprocessing import Pool\n",
      "import os, sys\n",
      "import random\n",
      "import pickle\n",
      "import pytz\n",
      "from pytz import timezone\n",
      "from sklearn.ensemble import RandomForestClassifier\n",
      "from sklearn.ensemble import ExtraTreesClassifier\n",
      "from sklearn import cross_validation\n",
      "import traceback\n",
      "from sklearn.metrics.pairwise import check_pairwise_arrays\n",
      "from sklearn.metrics.pairwise import linear_kernel\n",
      "from sklearn.preprocessing import normalize\n",
      "from sklearn.utils.extmath import safe_sparse_dot\n",
      "import matplotlib.pyplot as plt\n",
      "import csv"
     ],
     "language": "python",
     "metadata": {},
     "outputs": [],
     "prompt_number": 1
    },
    {
     "cell_type": "heading",
     "level": 1,
     "metadata": {},
     "source": [
      "Data Wrangling"
     ]
    },
    {
     "cell_type": "code",
     "collapsed": false,
     "input": [
      "season_map = {'M':2008,\n",
      "              'N':2009,\n",
      "              'O':2010,\n",
      "              'P':2011,\n",
      "              'Q':2012,\n",
      "              'R':2013,\n",
      "              'S':2014\n",
      "              }\n"
     ],
     "language": "python",
     "metadata": {},
     "outputs": [],
     "prompt_number": 2
    },
    {
     "cell_type": "code",
     "collapsed": false,
     "input": [
      "name_map = {\n",
      "            \"Colorado State\":\"Colorado St.\",\n",
      "            \"Oklahoma State\":\"Oklahoma St.\",\n",
      "            \"New Mexico State\":\"New Mexico St.\",\n",
      "            \"Middle Tennessee St.\":\"Middle Tennessee\",\n",
      "            \"St. Mary's (Cal.)\":\"St. Mary's\",\n",
      "            \"Michigan State\":\"Michigan St.\",\n",
      "            \"Albany (N.Y.)\":\"Albany\",\n",
      "            \"UNLV\":\"Nevada Las Vegas\",\n",
      "            \"Miami (Fla.)\":\"Miami FL\",\n",
      "            \"Loyola (Md.)\":\"Loyola MD\",\n",
      "            \"Texas-San Antonio\":\"Texas San Antonio\",\n",
      "            \"UNC Asheville\":\"NC Asheville\",\n",
      "            \"Arkansas-Little Rock\":\"Arkansas Little Rock\",\n",
      "            \"Alabama-Birmingham\":\"UAB\",\n",
      "            \"Arkansas-Pine Bluff\":\"Arkansas Pine Bluff\",\n",
      "            \"UTEP\":\"Texas El Paso\",\n",
      "            \"LSU\":\"Louisiana St.\",\n",
      "            \"Texas-Arlington\":\"Texas Arlington\",\n",
      "            \"Maryland-Baltimore County\":\"MD Baltimore County\",\n",
      "            \"Miami (Ohio)\":\"Miami OH\",\n",
      "            \"Texas A&M-Corpus Christi\":\"Texas A&M Corpus Chris\",\n",
      "            \"Penn\":\"Pennsylvania\",\n",
      "            \"Central Connecticut St.\":\"Central Connecticut\",\n",
      "            \"Wisconsin-Milwaukee\":\"Wisconsin Milwaukee\",\n",
      "            \"UNC Wilmington\":\"NC Wilmington\",\n",
      "            \"Louisiana-Lafayette\":\"Louisiana Lafayette\",\n",
      "            \"Illinois-Chicago\":\"Illinois Chicago\",\n",
      "            \"Southeastern Louisiana\":\"SE Louisiana\",\n",
      "            \"St. Joseph's\":\"Saint Joseph's\"\n",
      "            }"
     ],
     "language": "python",
     "metadata": {},
     "outputs": [],
     "prompt_number": 3
    },
    {
     "cell_type": "code",
     "collapsed": false,
     "input": [
      "kaggle_name_mapping = {\n",
      "                        \"St Joseph's PA\":\"Saint Joseph's\",\n",
      "                        \"St Louis\":\"St. Louis\",\n",
      "                        \"St Bonaventure\":\"St. Bonaventure\",\n",
      "                        \"St John's\":\"St. John's\",\n",
      "                        \"St Francis NY\":\"St. Francis NY\",\n",
      "                        \"St Francis PA\":\"St. Francis PA\",\n",
      "                        \"St Peter's\":\"St. Peter's\",\n",
      "                        \"NC St.ate\":\"North Carolina St.\",\n",
      "                        \"S Illinois\":\"Southern Illinois\",\n",
      "                        \"W Michigan\":\"Western Michigan\",\n",
      "                        \"BYU\": \"Brigham Young\",\n",
      "                        \"VA Commonwealth\": \"Virginia Commonwealth\",\n",
      "                        \"IL Chicago\": \"Illinois Chicago\",\n",
      "                        \"ETSU\":\"East Tennessee St.\", \n",
      "                        \"E Washington\":\"Eastern Washington\",\n",
      "                        \"UTEP\":\"Texas El Paso\",\n",
      "                        \"UCF\":\"Central Florida\",\n",
      "                        \"ULL\":\"Louisiana Lafayette\",\n",
      "                        \"Monmouth NJ\":\"Monmouth\",\n",
      "                        \"UT San Antonio\":\"Texas San Antonio\",\n",
      "                        \"G Washington\":\"George Washington\",\n",
      "                        \"Boston Univ\":\"Boston University\",\n",
      "                        \"Kent\": \"Kent St.\",\n",
      "                        \"UNLV\":\"Nevada Las Vegas\",\n",
      "                        \"LSU\":\"Louisiana St.\",\n",
      "                        \"UMBC\":\"MD Baltimore County\",\n",
      "                        \"Albany NY\":\"Albany\",\n",
      "                        \"FL Atlantic\":\"Florida Atlantic\",\n",
      "                        \"CS Sacramento\":\"Sacramento St.\", #?\n",
      "                        \"Birmingham So\":\"Birmingham Southern\",\n",
      "                        \"Coastal Car\":\"Coastal Carolina\",\n",
      "                        \"UNC Asheville\":\"NC Asheville\",\n",
      "                        \"Charleston So\":\"Charleston Southern\",\n",
      "                        \"VMI\":\"Virginia Military Inst\",\n",
      "                        \"CS Northridge\":\"Cal St. Northridge\",\n",
      "                        \"CS Fullerton\":\"Cal St. Fullerton\",\n",
      "                        \"Cal Poly SLO\":\"Cal Poly\",\n",
      "                        \"UNC Wilmington\":\"NC Wilmington\",\n",
      "                        \"TCU\":\"Texas Christian\",\n",
      "                        \"Southern Miss\":\"Southern Mississippi\",\n",
      "                        \"WI Milwaukee\":\"Wisconsin Milwaukee\",\n",
      "                        \"WI Green Bay\":\"Wisconsin Green Bay\",\n",
      "                        \"Loyola-Chicago\":\"Loyola Chicago\",\n",
      "                        \"TAM C. Christi\":\"Texas A&M Corpus Chris\",\n",
      "                        \"TX Pan American\":\"Texas Pan American\",\n",
      "                        \"Penn\":\"Pennsylvania\",\n",
      "                        \"N Illinois\":\"Northern Illinois\",\n",
      "                        \"E Michigan\":\"Eastern Michigan\",\n",
      "                        \"C Michigan\":\"Central Michigan\",\n",
      "                        \"Missouri KC\":\"Missouri Kansas City\",\n",
      "                        \"W Illinois\":\"Western Illinois\",\n",
      "                        \"S Carolina St.\":\"South Carolina St.\",\n",
      "                        \"Bethune-Cookman\":\"Bethune Cookman\",\n",
      "                        \"MD E Shore\":\"Maryland Eastern Shore\",\n",
      "                        \"NC A&T\":\"North Carolina A&T\",\n",
      "                        \"F Dickinson\":\"Fairleigh Dickinson\",\n",
      "                        \"Central Conn\":\"Central Connecticut\",\n",
      "                        \"Mt St. Mary's\":\"Mount St. Mary's\",\n",
      "                        \"SE Missouri St.\":\"Southeast Missouri St.\",\n",
      "                        \"TN Martin\":\"Tennessee Martin\",\n",
      "                        \"E Illinois\":\"Eastern Illinois\",\n",
      "                        \"USC\":\"Southern California\",\n",
      "                        \"American Univ\":\"American\",\n",
      "                        \"W Kentucky\":\"Western Kentucky\",\n",
      "                        \"E Kentucky\":\"Eastern Kentucky\",\n",
      "                        \"Middle Tenn St.\":\"Middle Tennessee\",\n",
      "                        \"Ark Little Rock\":\"Arkansas Little Rock\",\n",
      "                        \"Florida Intl\":\"Florida International\",\n",
      "                        \"Col Charleston\":\"College of Charleston\",\n",
      "                        \"Ga Southern\":\"Georgia Southern\",\n",
      "                        \"UNC Greensboro\":\"NC Greensboro\",\n",
      "                        \"W Carolina\":\"Western Carolina\",\n",
      "                        \"Citadel\":\"The Citadel\",\n",
      "                        \"SF Austin\":\"Stephen F. Austin\",\n",
      "                        \"UT Arlington\":\"Texas Arlington\",\n",
      "                        \"Northwestern LA\":\"Northwestern St.\", \n",
      "                        \"ULM\":\"Louisiana Monroe\", \n",
      "                        \"MS Valley St.\":\"Mississippi Valley St.\",\n",
      "                        \"Southern Univ\":\"Southern\", #not in kaggle file\n",
      "                        \"TX Southern\":\"Texas Southern\",\n",
      "                        \"Prairie View\":\"Prairie View A&M\",\n",
      "                        \"Ark Pine Bluff\":\"Arkansas Pine Bluff\",\n",
      "                        \"SMU\":\"Southern Methodist\",\n",
      "                        \"St Mary's CA\":\"St. Mary's\",\n",
      "                        \"Loy Marymount\":\"Loyola Marymount\",\n",
      "                        \"Kennesaw\":\"Kennesaw St.\",\n",
      "                        \"North Florida\":\"N Florida\",\n",
      "                        \"Santa Barbara\":\"UC Santa Barbara\",\n",
      "                        \"S Dakota St.\":\"South Dakota St.\",\n",
      "                        \"W Salem St.\":\"Winston Salem St.\",\n",
      "                        \"NJIT\":\"NJ Inst of Technology\",\n",
      "                        \"Cent Arkansas\":\"Central Arkansas\",\n",
      "                        \"SC Upstate\":\"South Carolina Upstate\",\n",
      "                        \"FL Gulf Coast\":\"Florida Gulf Coast\",\n",
      "                        \"CS Bakersfield\":\"Cal St. Bakersfield\",\n",
      "                        \"NC Central\":\"North Carolina Central\",\n",
      "                        \"Houston Bap\":\"Houston Baptist\",\n",
      "                        \"North Dakota\":\"North Dakota\",\n",
      "                        \"N Dakota St.\":\"North Dakota St.\",\n",
      "                        \"North Florida\":\"North Florida\",\n",
      "                        \"N Colorado\":\"Northern Colorado\",\n",
      "                        \"Edwardsville\":\"SIU Edwardsville\",\n",
      "                        \"Southern Utah\":\"Southern Utah\",\n",
      "                        \"N Kentucky\":\"Northern Kentucky\",\n",
      "                        \"NE Omaha\": \"Nebraska Omaha\"\n",
      "                       }"
     ],
     "language": "python",
     "metadata": {},
     "outputs": [],
     "prompt_number": 4
    },
    {
     "cell_type": "code",
     "collapsed": false,
     "input": [
      "data_prefix = '/Users/jostheim/workspace/kaggle/data/ncaa_tourney/'"
     ],
     "language": "python",
     "metadata": {},
     "outputs": [],
     "prompt_number": 5
    },
    {
     "cell_type": "code",
     "collapsed": false,
     "input": [
      "def smart_split_teams(x):\n",
      "    splits = x.split(\" \")\n",
      "    if splits[len(splits)-1].isdigit():\n",
      "        t = \" \".join(x.split(\" \")[0:len(x.split(\" \"))-1]).strip()\n",
      "        return t\n",
      "    return x"
     ],
     "language": "python",
     "metadata": {},
     "outputs": [],
     "prompt_number": 6
    },
    {
     "cell_type": "code",
     "collapsed": false,
     "input": [
      "def check_names(all_results, all_kpom):\n",
      "    names = []\n",
      "    for ix, row in all_results.iterrows():\n",
      "        tmp = len(all_kpom[all_kpom['team'] == row['TEAM1']])\n",
      "        if tmp == 0:\n",
      "            if row['TEAM1'] not in name_map.keys():\n",
      "                if row['TEAM1'] not in names:\n",
      "                    names.append(row['TEAM1'])\n",
      "                    print \"Team1: {0} name not in original\".format(row['TEAM1'])\n",
      "        tmp = len(all_kpom[all_kpom['team'] == row['TEAM2']])\n",
      "        if tmp == 0:\n",
      "            if row['TEAM2'] not in name_map.keys():\n",
      "                if row['TEAM2'] not in names:\n",
      "                    names.append(row['TEAM2'])\n",
      "                    print \"Team2: {0} name not in original\".format(row['TEAM2'])"
     ],
     "language": "python",
     "metadata": {},
     "outputs": [],
     "prompt_number": 7
    },
    {
     "cell_type": "code",
     "collapsed": false,
     "input": [
      "def generate_final_data(data_prefix, all_kpom, all_results):\n",
      "    # don't have conf_rate for current year\n",
      "    if 'conf_rate' in all_kpom.columns:\n",
      "        del all_kpom['conf_rate']\n",
      "    # we can get bid if we need to\n",
      "    if 'bid' in all_kpom.columns:\n",
      "        del all_kpom['bid']\n",
      "    join_data = []\n",
      "    for ix, row in all_results.iterrows():\n",
      "        final_row = {\"index\":ix, \"ROUND\":row[\"ROUND\"], \"SEED1\":row[\"SEED1\"], \"SEED2\":row[\"SEED2\"], \"SCORE1\":row[\"SCORE1\"], \"SCORE2\":row[\"SCORE2\"], \"TEAM1\":row[\"TEAM1\"], \"TEAM2\":row[\"TEAM2\"]}\n",
      "#        if row[\"SCORE1\"] != \"TBD\":\n",
      "#            final_row[\"WINNER\"] = float(row[\"SCORE1\"] - row[\"SCORE2\"])\n",
      "#        else:\n",
      "#            final_row[\"WINNER\"] = \"-1000\"\n",
      "        if row[\"SCORE1\"] > row[\"SCORE2\"]:\n",
      "            final_row[\"WINNER\"] = 1\n",
      "        else:\n",
      "            final_row[\"WINNER\"] = -1\n",
      "        tmp = all_kpom[all_kpom['team'] == row['TEAM1']]\n",
      "        tmp = tmp[tmp['year'] == row['YEAR']]\n",
      "        if len(tmp) == 0:\n",
      "            print row['TEAM1']\n",
      "            continue\n",
      "        for col, val in tmp.iteritems():\n",
      "            final_row[\"{0}_{1}\".format(\"TEAM1\", col)] = val.values[0]\n",
      "        tmp = all_kpom[all_kpom['team'] == row['TEAM2']]\n",
      "        tmp = tmp[tmp['year'] == row['YEAR']]\n",
      "        if len(tmp) == 0:\n",
      "            print row['TEAM2']\n",
      "            continue\n",
      "        for col, val in tmp.iteritems():\n",
      "            final_row[\"{0}_{1}\".format(\"TEAM2\", col)] = val.values[0]\n",
      "        join_data.append(final_row)\n",
      "    final_df = pd.DataFrame(join_data)\n",
      "    final_df.set_index(\"index\", inplace=True, verify_integrity=True)\n",
      "    final_df.convert_objects()\n",
      "    final_df.to_csv(\"joined.csv\")\n",
      "    return final_df"
     ],
     "language": "python",
     "metadata": {},
     "outputs": [],
     "prompt_number": 8
    },
    {
     "cell_type": "code",
     "collapsed": false,
     "input": [
      "def convert_categorical_to_features(train, test, columns, train_fea, test_fea):\n",
      "    for col in columns:\n",
      "        if train[col].dtype == np.dtype('object'):\n",
      "            s = np.unique(train[col].values)\n",
      "            mapping = pd.Series([x[0] for x in enumerate(s)], index = s)\n",
      "#            print mapping\n",
      "            train_fea = train_fea.join(train[col].map(mapping))\n",
      "            test_fea = test_fea.join(test[col].map(mapping))\n",
      "        else:\n",
      "            train_fea = train_fea.join(train[col])\n",
      "            if col in test.columns:\n",
      "                test_fea = test_fea.join(test[col])\n",
      "    return train_fea, test_fea"
     ],
     "language": "python",
     "metadata": {},
     "outputs": [],
     "prompt_number": 9
    },
    {
     "cell_type": "code",
     "collapsed": false,
     "input": [
      "def check_names_kaggle(kpom, kaggle_names):\n",
      "    no_match = []\n",
      "    for ix, row in kpom.iterrows():\n",
      "        if row['team'] not in kaggle_names['name'].values:\n",
      "            if row['team'] not in no_match:\n",
      "                no_match.append(row['team'])\n",
      "                print '\"\":\"'+row['team']+'\",'\n"
     ],
     "language": "python",
     "metadata": {},
     "outputs": [],
     "prompt_number": 10
    },
    {
     "cell_type": "code",
     "collapsed": false,
     "input": [
      "def kaggle_metric(y, yhat):\n",
      "    print len(y)\n",
      "    score = -np.sum(y*np.log(yhat) + (1-y)*np.log(1-yhat))/len(y)\n",
      "    return score"
     ],
     "language": "python",
     "metadata": {},
     "outputs": [],
     "prompt_number": 11
    },
    {
     "cell_type": "code",
     "collapsed": false,
     "input": [
      "def fix_kpom_names(kpom_all):\n",
      "    kpom_all['team'] = kpom_all['team'].apply(lambda x:smart_split_teams(x))\n",
      "\n",
      "    \n",
      "def fix_kaggle_names(kaggle_names):\n",
      "    kaggle_names['name'] = kaggle_names['name'].apply(lambda x:x if \" St\" not in x else x.replace(\" St\", \" St.\"))\n",
      "    kaggle_names['name'] = kaggle_names['name'].apply(lambda x: x if x not in kaggle_name_mapping else kaggle_name_mapping[x])\n",
      "\n",
      "def fix_all_results_names(all_results):\n",
      "    all_results['TEAM1'] = all_results['TEAM1'].apply(lambda x:x if \"State\" not in x else x.replace(\"State\", \"St.\"))\n",
      "    all_results['TEAM2'] = all_results['TEAM2'].apply(lambda x:x if \"State\" not in x else x.replace(\"State\", \"St.\"))\n",
      "    all_results['TEAM1'] = all_results['TEAM1'].apply(lambda x:x if x not in name_map.keys() else name_map[x])\n",
      "    all_results['TEAM2'] = all_results['TEAM2'].apply(lambda x:x if x not in name_map.keys() else name_map[x])\n"
     ],
     "language": "python",
     "metadata": {},
     "outputs": [],
     "prompt_number": 12
    },
    {
     "cell_type": "code",
     "collapsed": false,
     "input": [
      "def get_ordinal_ranks():\n",
      "    ordinal_ranks_df = pd.read_csv(\"{0}{1}\".format(data_prefix, \"ordinal_ranks_core_33.csv\"))\n",
      "    grouped = ordinal_ranks_df.groupby('sys_name')\n",
      "    systems = {}\n",
      "    for name, group in grouped:\n",
      "        if name == \"SEED\":\n",
      "            continue\n",
      "        s = []\n",
      "        day_num_max = np.max(group['rating_day_num'])\n",
      "        for ix, row in group.iterrows():\n",
      "            # taking the last rating before the tournament\n",
      "            if row['season'] in season_map.keys() and row['rating_day_num'] == 133:\n",
      "                d = {}\n",
      "                d['team'] = row['team']\n",
      "                d['orank'] = row['orank']\n",
      "                d['year'] = season_map[row['season']]\n",
      "                s.append(d)\n",
      "        systems[name] = pd.DataFrame(s)\n",
      "    return systems"
     ],
     "language": "python",
     "metadata": {},
     "outputs": [],
     "prompt_number": 13
    },
    {
     "cell_type": "code",
     "collapsed": false,
     "input": [
      "def get_kpom_data():\n",
      "    kpom_2012 = pd.read_csv(\"{0}{1}\".format(data_prefix, \"2012_ncaa_kpom.csv\"), index_col=1)\n",
      "    rpi_2012 = pd.read_csv(\"{0}{1}\".format(data_prefix, \"2012_rpi.csv\"), index_col=1)\n",
      "    for ix in kpom_2012.index:\n",
      "        if ix not in rpi_2012.index:\n",
      "            print ix\n",
      "    kpom_2012 = kpom_2012.join(rpi_2012)\n",
      "    kpom_2012['w_per'] = kpom_2012['w'] / (kpom_2012['w'] + kpom_2012['l'] + 0.0)\n",
      "    kpom_2012['year'] = 2012\n",
      "    kpom_2012['tour'] = 'ncaa'\n",
      "    kpom_2012 = kpom_2012.reset_index()\n",
      "    \n",
      "    kpom_2013 = pd.read_csv(\"{0}{1}\".format(data_prefix, \"raw_2013_kenpom.csv\"), index_col=1)\n",
      "    #print kpom_2013['seed']\n",
      "    rpi_2013 = pd.read_csv(\"{0}{1}\".format(data_prefix, \"rpi_2013.csv\"), index_col=1)\n",
      "    for ix in kpom_2013.index:\n",
      "        if ix not in rpi_2013.index:\n",
      "            print 'missing', ix\n",
      "    kpom_2013 = kpom_2013.join(rpi_2013)\n",
      "    kpom_2013 = kpom_2013.reset_index()\n",
      "    kpom_2013['w'] = kpom_2013['WL'].apply(lambda x: np.float(x.split(\"-\")[0]))\n",
      "    kpom_2013['l'] = kpom_2013['WL'].apply(lambda x: np.float(x.split(\"-\")[1]))\n",
      "    del kpom_2013['WL']\n",
      "    kpom_2013['w_per'] = kpom_2013['w'] / (kpom_2013['w'] + kpom_2013['l'] + 0.0)\n",
      "    kpom_2013['year'] = 2013\n",
      "    kpom_2013['tour'] = 'ncaa'\n",
      "    kpom_2013['team'] = kpom_2013['team'].apply(lambda x:x if \"VCU\" not in x else x.replace(\"VCU\", \"Virginia Commonwealth\"))\n",
      "    kpom_2013['team'] = kpom_2013['team'].apply(lambda x:x if \"BYU\" != x else x.replace(\"BYU\", \"Brigham Young\"))\n",
      "    kpom_2013['team'] = kpom_2013['team'].apply(lambda x:x if \"Southern Miss\" != x else x.replace(\"Southern Miss\", \"Southern Mississippi\"))\n",
      "    kpom_2013['team'] = kpom_2013['team'].apply(lambda x:x if \"LSU\" != x else x.replace(\"LSU\", \"Louisiana St.\"))\n",
      "    kpom_2013['team'] = kpom_2013['team'].apply(lambda x:x if \"USC\" != x else x.replace(\"USC\", \"Southern California\"))\n",
      "    kpom_2013['team'] = kpom_2013['team'].apply(lambda x:x if \"UTEP\" != x else x.replace(\"UTEP\", \"Texas El Paso\"))\n",
      "    kpom_2013['team'] = kpom_2013['team'].apply(lambda x:x if \"Green Bay\" != x else x.replace(\"Green Bay\", \"Wisconsin Green Bay\"))\n",
      "    kpom_2013['team'] = kpom_2013['team'].apply(lambda x:x if \"UCF\" != x else x.replace(\"UCF\", \"Central Florida\"))\n",
      "    kpom_2013['team'] = kpom_2013['team'].apply(lambda x:x if \"UT Arlington\" != x else x.replace(\"UT Arlington\", \"Texas Arlington\"))\n",
      "    kpom_2013['team'] = kpom_2013['team'].apply(lambda x:x if \"SMU\" != x else x.replace(\"SMU\", \"Southern Methodist\"))\n",
      "    kpom_2013['team'] = kpom_2013['team'].apply(lambda x:x if \"FIU\" != x else x.replace(\"FIU\", \"Florida International\"))\n",
      "    kpom_2013['team'] = kpom_2013['team'].apply(lambda x:x if \"LIU Brooklyn\" not in x else x.replace(\"LIU Brooklyn\", \"Long Island\"))\n",
      "    kpom_2013['team'] = kpom_2013['team'].apply(lambda x:x if \"USC Upstate\" != x else x.replace(\"USC Upstate\", \"South Carolina Upstate\"))\n",
      "    kpom_2013['team'] = kpom_2013['team'].apply(lambda x:x if \"UNC Asheville\" != x else x.replace(\"UNC Asheville\", \"NC Asheville\"))\n",
      "    kpom_2013['team'] = kpom_2013['team'].apply(lambda x:x if \"Penn\" != x else x.replace(\"Penn\", \"Pennsylvania\"))\n",
      "    kpom_2013['team'] = kpom_2013['team'].apply(lambda x:x if \"UTSA\" != x else x.replace(\"UTSA\", \"Texas San Antonio\"))\n",
      "    kpom_2013['team'] = kpom_2013['team'].apply(lambda x:x if \"NJIT\" != x else x.replace(\"NJIT\", \"NJ Inst of Technology\"))\n",
      "    kpom_2013['team'] = kpom_2013['team'].apply(lambda x:x if \"TCU\" != x else x.replace(\"TCU\", \"Texas Christian\"))\n",
      "    kpom_2013['team'] = kpom_2013['team'].apply(lambda x:x if \"VMI\" != x else x.replace(\"VMI\", \"Virginia Military Inst\"))\n",
      "    kpom_2013['team'] = kpom_2013['team'].apply(lambda x:x if \"UNC Wilmington\" != x else x.replace(\"UNC Wilmington\", \"NC Wilmington\"))\n",
      "    kpom_2013['team'] = kpom_2013['team'].apply(lambda x:x if \"UNC Greensboro\" != x else x.replace(\"UNC Greensboro\", \"NC Greensboro\"))\n",
      "    kpom_2013['team'] = kpom_2013['team'].apply(lambda x:x if \"Milwaukee\" != x else x.replace(\"Milwaukee\", \"Wisconsin Milwaukee\"))\n",
      "    kpom_2013['team'] = kpom_2013['team'].apply(lambda x:x if \"UMBC\" != x else x.replace(\"UMBC\", \"MD Baltimore County\"))\n",
      "    kpom_2013['team'] = kpom_2013['team'].apply(lambda x:x if \"UMKC\" != x else x.replace(\"UMKC\", \"Missouri Kansas City\"))\n",
      "    kpom_2013['team'] = kpom_2013['team'].apply(lambda x:x if \"Grambling St.\" != x else x.replace(\"Grambling St.\", \"Grambling\"))\n",
      "\n",
      "    #print kpom_2012.columns\n",
      "    #print kpom_2013.columns\n",
      "    \n",
      "    kpom_all = pd.read_csv(\"{0}{1}\".format(data_prefix, \"ncaa_all_kenpom.csv\"))\n",
      "    kpom_all = kpom_all.append(kpom_2012)\n",
      "    kpom_all = kpom_all.append(kpom_2013)\n",
      "    kpom_all['team'] = kpom_all['team'].apply(lambda x:x if \"Cal Irvine\" != x else x.replace(\"Cal Irvine\", \"UC Irvine\"))\n",
      "    kpom_all['team'] = kpom_all['team'].apply(lambda x:x if \"Cal Davis\" != x else x.replace(\"Cal Davis\", \"UC Davis\"))\n",
      "    kpom_all['team'] = kpom_all['team'].apply(lambda x:x if \"Cal Riverside\" != x else x.replace(\"Cal Riverside\", \"UC Riverside\"))\n",
      "    kpom_all['team'] = kpom_all['team'].apply(lambda x:x if \"Cal Santa Barbara\" != x else x.replace(\"Cal Santa Barbara\", \"UC Santa Barbara\"))\n",
      "    kpom_all['team'] = kpom_all['team'].apply(lambda x:x if \"IUPU Fort Wayne\" != x else x.replace(\"IUPU Fort Wayne\", \"IUPUI\"))\n",
      "    kpom_all['team'] = kpom_all['team'].apply(lambda x:x if \"Southeastern Louisiana\" not in x else x.replace(\"Southeastern Louisiana\", \"SE Louisiana\"))\n",
      "    kpom_all['team'] = kpom_all['team'].apply(lambda x:x if \"Alabama Birmingham\" not in x else x.replace(\"Alabama Birmingham\", \"UAB\"))\n",
      "    kpom_all['team'] = kpom_all['team'].apply(lambda x:x if \"Troy St.\" != x else x.replace(\"Troy St.\", \"Troy\"))                    \n",
      "    kpom_all['team'] = kpom_all['team'].apply(lambda x:x if \"Southwest Missouri St.\" not in x else x.replace(\"Southwest Missouri St\", \"Missouri St\"))                    \n",
      "    kpom_all['team'] = kpom_all['team'].apply(lambda x:x if \"Utah Valley St.\" not in x else x.replace(\"Utah Valley St.\", \"Utah Valley\"))                    \n",
      "    kpom_all['team'] = kpom_all['team'].apply(lambda x:x if \"UNLV\" not in x else x.replace(\"UNLV\", \"Nevada Las Vegas\"))\n",
      "    kpom_all['team'] = kpom_all['team'].apply(lambda x:x if \"Saint Louis\" not in x else x.replace(\"Saint Louis\", \"St. Louis\"))\n",
      "    kpom_all['team'] = kpom_all['team'].apply(lambda x:x if \"Saint Mary's\" not in x else x.replace(\"Saint Mary's\", \"St. Mary's\"))\n",
      "    kpom_all['team'] = kpom_all['team'].apply(lambda x:x if \"Saint Peter's\" not in x else x.replace(\"Saint Peter's\", \"St. Peter's\"))\n",
      "    \n",
      "    kaggle_ids = get_kaggle_ids(kpom_all)\n",
      "    \n",
      "    kpom_all['kaggle_id'] = kaggle_ids\n",
      "    fix_kpom_names(kpom_all)\n",
      "    systems = get_ordinal_ranks()\n",
      "#     for name, system in systems.iteritems():\n",
      "#         t = []\n",
      "#         for ix, row in kpom_all.iterrows():\n",
      "#             kaggle_id = row['kaggle_id']\n",
      "#             year = row['year']\n",
      "#             system_t = system[(system['team'] == kaggle_id) & (system['year'] == year)]\n",
      "#             if len(system_t) > 0:\n",
      "#                 t.append(system_t['orank'])\n",
      "#             else:\n",
      "#                 t.append(np.nan)\n",
      "#         system_series = pd.Series(np.array(t), index=kpom_all.index)\n",
      "#         kpom_all[name] = system_series\n",
      "    \n",
      "    return kpom_all"
     ],
     "language": "python",
     "metadata": {},
     "outputs": [],
     "prompt_number": 14
    },
    {
     "cell_type": "code",
     "collapsed": false,
     "input": [
      "def get_all_results(kpom_all):\n",
      "    all_results = pd.read_csv(\"{0}{1}\".format(data_prefix, \"ncaa_all_results.csv\"))\n",
      "    fix_all_results_names(all_results)\n",
      "    check_names(all_results, kpom_all)\n",
      "    \n",
      "    \n",
      "    kaggle_id_1_arr = []\n",
      "    kaggle_id_2_arr = []\n",
      "    for ix, row in all_results.iterrows():\n",
      "        kaggle_id_1_arr.append(kpom_all[kpom_all['team'] == row['TEAM1']]['kaggle_id'].values[0])\n",
      "        kaggle_id_2_arr.append(kpom_all[kpom_all['team'] == row['TEAM2']]['kaggle_id'].values[0])\n",
      "    kaggle_id_1 = pd.Series(np.array(kaggle_id_1_arr), index=all_results.index)\n",
      "    kaggle_id_2 = pd.Series(np.array(kaggle_id_2_arr), index=all_results.index)\n",
      "    all_results['kaggle_id_team1'] = kaggle_id_1\n",
      "    all_results['kaggle_id_team2'] = kaggle_id_2\n",
      "    all_results.to_csv(\"{0}{1}\".format(data_prefix, \"all_results_with_kaggle_ids.csv\"))\n",
      "    print \"all_results >= 2008\", len(all_results[all_results['YEAR'] >= 2008])\n",
      "    \n",
      "    kaggle_tourney_results = pd.read_csv(\"{0}{1}\".format(data_prefix, \"tourney_results.csv\"))\n",
      "    seasons = ['N', 'O', 'P', 'Q', 'R', 'S']\n",
      "    kaggle_tourney_results = kaggle_tourney_results[(kaggle_tourney_results['season'] == 'N') | (kaggle_tourney_results['season'] == 'O') | (kaggle_tourney_results['season'] == 'P') | (kaggle_tourney_results['season'] == 'Q') | (kaggle_tourney_results['season'] == 'R') | (kaggle_tourney_results['season'] == 'S')]\n",
      "    print \"kaggle tourney\",len(kaggle_tourney_results)\n",
      "    for ix, row in kaggle_tourney_results.iterrows():\n",
      "        team1 = row['wteam']\n",
      "        team2 = row['lteam']\n",
      "        match = False\n",
      "        for ix1, row1 in all_results[all_results['YEAR'] >= 2008].iterrows():\n",
      "            #print team1, team2, row1['kaggle_id_team1'], row1['kaggle_id_team2']\n",
      "            if (team1 == row1['kaggle_id_team1'] and team2 == row1['kaggle_id_team2']) or (team2 == row1['kaggle_id_team1'] and team1 == row1['kaggle_id_team2']):\n",
      "                match = True\n",
      "                break\n",
      "        if not match:\n",
      "            print row['season'],team1, team2\n",
      "    return all_results"
     ],
     "language": "python",
     "metadata": {},
     "outputs": [],
     "prompt_number": 24
    },
    {
     "cell_type": "code",
     "collapsed": false,
     "input": [
      "def get_kaggle_ids(kpom_all):\n",
      "    kpom_copy = kpom_all.copy(deep=True)\n",
      "    fix_kpom_names(kpom_copy)\n",
      "    kaggle_names = pd.read_csv(data_prefix+\"teams.csv\")\n",
      "    fix_kaggle_names(kaggle_names)\n",
      "#     print kaggle_names\n",
      "    check_names_kaggle(kpom_copy, kaggle_names)\n",
      "    kaggle_ids_arr = []\n",
      "    for ix, row in kpom_copy.iterrows():\n",
      "#         if \"Morehead\" in row['team']:\n",
      "#             print row['team'], kaggle_names[kaggle_names['name'] == row['team']]['id'].values[0]\n",
      "        kaggle_ids_arr.append(int(kaggle_names[kaggle_names['name'] == row['team']]['id'].values[0]))\n",
      "    kaggle_ids = pd.Series(np.array(kaggle_ids_arr), index=kpom_copy.index)\n",
      "    return kaggle_ids"
     ],
     "language": "python",
     "metadata": {},
     "outputs": [],
     "prompt_number": 25
    },
    {
     "cell_type": "heading",
     "level": 1,
     "metadata": {},
     "source": [
      "Random Forest"
     ]
    },
    {
     "cell_type": "code",
     "collapsed": false,
     "input": [
      "def do_random_forest(data_prefix):\n",
      "    cfrs = {}\n",
      "\n",
      "    kpom_all = get_kpom_data()\n",
      "\n",
      "    all_results = get_all_results(kpom_all)\n",
      "    \n",
      "    final_df = generate_final_data(data_prefix, kpom_all, all_results)\n",
      "    #print final_df\n",
      "    final_df = final_df.fillna(-1.0)\n",
      "    final_df.to_csv(\"final_raw.csv\")\n",
      "    train_fea = pd.DataFrame(index=final_df.index)\n",
      "    test_fea = pd.DataFrame(index=final_df.index)\n",
      "    columns = set(final_df.columns)\n",
      "    test_features = final_df\n",
      "    train_features, test_features = convert_categorical_to_features(final_df, final_df, columns, train_fea, test_fea)\n",
      "    for year in xrange(2008, 2014):\n",
      "        train_fea = train_features.copy(deep=True)\n",
      "        train_fea = train_fea[(train_fea['TEAM1_year'] < year) & (train_fea['TEAM2_year'] < year)]    \n",
      "        print len(train_fea)\n",
      "        train_fea.to_csv(\"final_features.csv\")\n",
      "        del train_fea[\"SCORE1\"]\n",
      "        del train_fea[\"SCORE2\"]\n",
      "        del train_fea[\"TEAM1_team\"]\n",
      "        del train_fea[\"TEAM2_team\"]\n",
      "        train_targets = train_fea['WINNER']\n",
      "        del train_fea['WINNER']\n",
      "    #    x_train, x_test, y_train, y_test = cross_validation.train_test_split(train_fea, train_targets, test_size=0.4, random_state=0)\n",
      "        cfr = ExtraTreesClassifier(\n",
      "            oob_score = True, bootstrap=True, verbose = 1, max_features = None, n_estimators = 1000, min_samples_leaf = 1,\n",
      "            n_jobs=7,\n",
      "            random_state=0,\n",
      "        )\n",
      "        cfr.fit(train_fea, train_targets)\n",
      "        cfrs[year] = cfr\n",
      "    \n",
      "        test_fea = test_features.copy(deep=True)\n",
      "        test_fea = test_fea[(test_fea['TEAM1_year'] >= year) & (test_fea['TEAM2_year'] >= year)]    \n",
      "        print len(test_fea)\n",
      "        if len(test_fea) > 0:\n",
      "            del test_fea[\"SCORE1\"]\n",
      "            del test_fea[\"SCORE2\"]\n",
      "            del test_fea[\"TEAM1_team\"]\n",
      "            del test_fea[\"TEAM2_team\"]\n",
      "            test_targets = test_fea['WINNER']\n",
      "            del test_fea['WINNER']\n",
      "            score = cfr.score(test_fea, test_targets)\n",
      "            print \"Score is {0}\".format(score)\n",
      "            p = cfr.predict_proba(test_fea)\n",
      "        #     print p[:, 0]\n",
      "        #    print cfr.classes_\n",
      "            print \"Kaggle score is {0}\".format(kaggle_metric(test_targets, p[:, 1]))\n",
      "        feature_importance = []\n",
      "        for i, importance in enumerate(cfr.feature_importances_):\n",
      "            feature_importance.append((float(importance), train_fea.columns[i]))\n",
      "        #print sorted(feature_importance, reverse=True)\n",
      "    print len(test_features)\n",
      "    return cfrs, test_features"
     ],
     "language": "python",
     "metadata": {},
     "outputs": [],
     "prompt_number": 28
    },
    {
     "cell_type": "code",
     "collapsed": false,
     "input": [
      "cfrs, test_features = do_random_forest(data_prefix)"
     ],
     "language": "python",
     "metadata": {},
     "outputs": [
      {
       "output_type": "stream",
       "stream": "stdout",
       "text": [
        "all_results >= 2008 393\n",
        "kaggle tourney 329\n",
        "256"
       ]
      },
      {
       "output_type": "stream",
       "stream": "stdout",
       "text": [
        "\n",
        "393"
       ]
      },
      {
       "output_type": "stream",
       "stream": "stderr",
       "text": [
        "[Parallel(n_jobs=7)]: Done   1 out of   7 | elapsed:    0.3s remaining:    1.8s\n",
        "[Parallel(n_jobs=7)]: Done   7 out of   7 | elapsed:    0.3s finished\n",
        "[Parallel(n_jobs=7)]: Done   1 out of   7 | elapsed:    0.1s remaining:    0.5s\n",
        "[Parallel(n_jobs=7)]: Done   7 out of   7 | elapsed:    0.1s finished\n"
       ]
      },
      {
       "output_type": "stream",
       "stream": "stdout",
       "text": [
        "\n",
        "Score is 0.753180661578"
       ]
      },
      {
       "output_type": "stream",
       "stream": "stdout",
       "text": [
        "\n",
        "393"
       ]
      },
      {
       "output_type": "stream",
       "stream": "stderr",
       "text": [
        "[Parallel(n_jobs=7)]: Done   1 out of   7 | elapsed:    0.1s remaining:    0.5s\n",
        "[Parallel(n_jobs=7)]: Done   7 out of   7 | elapsed:    0.1s finished\n",
        "[Parallel(n_jobs=7)]: Done   1 out of   7 | elapsed:    0.3s remaining:    2.0s\n",
        "[Parallel(n_jobs=7)]: Done   7 out of   7 | elapsed:    0.3s finished\n"
       ]
      },
      {
       "output_type": "stream",
       "stream": "stdout",
       "text": [
        "\n",
        "Kaggle score is 0.465970302684\n",
        "320\n",
        "329"
       ]
      },
      {
       "output_type": "stream",
       "stream": "stdout",
       "text": [
        "\n",
        "Score is 0.747720364742"
       ]
      },
      {
       "output_type": "stream",
       "stream": "stderr",
       "text": [
        "[Parallel(n_jobs=7)]: Done   1 out of   7 | elapsed:    0.1s remaining:    0.4s\n",
        "[Parallel(n_jobs=7)]: Done   7 out of   7 | elapsed:    0.1s finished\n",
        "[Parallel(n_jobs=7)]: Done   1 out of   7 | elapsed:    0.1s remaining:    0.5s\n",
        "[Parallel(n_jobs=7)]: Done   7 out of   7 | elapsed:    0.1s finished\n"
       ]
      },
      {
       "output_type": "stream",
       "stream": "stdout",
       "text": [
        "\n",
        "329"
       ]
      },
      {
       "output_type": "stream",
       "stream": "stdout",
       "text": [
        "\n",
        "Kaggle score is 0.468950138997\n",
        "384\n",
        "265"
       ]
      },
      {
       "output_type": "stream",
       "stream": "stderr",
       "text": [
        "[Parallel(n_jobs=7)]: Done   1 out of   7 | elapsed:    0.4s remaining:    2.3s\n",
        "[Parallel(n_jobs=7)]: Done   7 out of   7 | elapsed:    0.4s finished\n",
        "[Parallel(n_jobs=7)]: Done   1 out of   7 | elapsed:    0.1s remaining:    0.4s\n",
        "[Parallel(n_jobs=7)]: Done   7 out of   7 | elapsed:    0.1s finished\n"
       ]
      },
      {
       "output_type": "stream",
       "stream": "stdout",
       "text": [
        "\n",
        "Score is 0.743396226415"
       ]
      },
      {
       "output_type": "stream",
       "stream": "stdout",
       "text": [
        "\n",
        "265"
       ]
      },
      {
       "output_type": "stream",
       "stream": "stderr",
       "text": [
        "[Parallel(n_jobs=7)]: Done   1 out of   7 | elapsed:    0.1s remaining:    0.5s\n",
        "[Parallel(n_jobs=7)]: Done   7 out of   7 | elapsed:    0.1s finished\n",
        "[Parallel(n_jobs=7)]: Done   1 out of   7 | elapsed:    0.4s remaining:    2.4s\n",
        "[Parallel(n_jobs=7)]: Done   7 out of   7 | elapsed:    0.4s finished\n"
       ]
      },
      {
       "output_type": "stream",
       "stream": "stdout",
       "text": [
        "\n",
        "Kaggle score is 0.442129696586\n",
        "448\n",
        "201"
       ]
      },
      {
       "output_type": "stream",
       "stream": "stdout",
       "text": [
        "\n",
        "Score is 0.726368159204"
       ]
      },
      {
       "output_type": "stream",
       "stream": "stderr",
       "text": [
        "[Parallel(n_jobs=7)]: Done   1 out of   7 | elapsed:    0.1s remaining:    0.4s\n",
        "[Parallel(n_jobs=7)]: Done   7 out of   7 | elapsed:    0.1s finished\n",
        "[Parallel(n_jobs=7)]: Done   1 out of   7 | elapsed:    0.1s remaining:    0.4s\n",
        "[Parallel(n_jobs=7)]: Done   7 out of   7 | elapsed:    0.1s finished\n"
       ]
      },
      {
       "output_type": "stream",
       "stream": "stdout",
       "text": [
        "\n",
        "201"
       ]
      },
      {
       "output_type": "stream",
       "stream": "stdout",
       "text": [
        "\n",
        "Kaggle score is 0.500567733615\n",
        "515\n",
        "134"
       ]
      },
      {
       "output_type": "stream",
       "stream": "stderr",
       "text": [
        "[Parallel(n_jobs=7)]: Done   1 out of   7 | elapsed:    0.4s remaining:    2.6s\n",
        "[Parallel(n_jobs=7)]: Done   7 out of   7 | elapsed:    0.4s finished\n",
        "[Parallel(n_jobs=7)]: Done   1 out of   7 | elapsed:    0.1s remaining:    0.4s\n",
        "[Parallel(n_jobs=7)]: Done   7 out of   7 | elapsed:    0.1s finished\n"
       ]
      },
      {
       "output_type": "stream",
       "stream": "stdout",
       "text": [
        "\n",
        "Score is 0.768656716418"
       ]
      },
      {
       "output_type": "stream",
       "stream": "stdout",
       "text": [
        "\n",
        "134"
       ]
      },
      {
       "output_type": "stream",
       "stream": "stderr",
       "text": [
        "[Parallel(n_jobs=7)]: Done   1 out of   7 | elapsed:    0.1s remaining:    0.4s\n",
        "[Parallel(n_jobs=7)]: Done   7 out of   7 | elapsed:    0.1s finished\n",
        "[Parallel(n_jobs=7)]: Done   1 out of   7 | elapsed:    0.5s remaining:    3.0s\n",
        "[Parallel(n_jobs=7)]: Done   7 out of   7 | elapsed:    0.5s finished\n"
       ]
      },
      {
       "output_type": "stream",
       "stream": "stdout",
       "text": [
        "\n",
        "Kaggle score is 0.492962202134\n",
        "582\n",
        "67"
       ]
      },
      {
       "output_type": "stream",
       "stream": "stdout",
       "text": [
        "\n",
        "Score is 0.791044776119"
       ]
      },
      {
       "output_type": "stream",
       "stream": "stderr",
       "text": [
        "[Parallel(n_jobs=7)]: Done   1 out of   7 | elapsed:    0.1s remaining:    0.4s\n",
        "[Parallel(n_jobs=7)]: Done   7 out of   7 | elapsed:    0.1s finished\n",
        "[Parallel(n_jobs=7)]: Done   1 out of   7 | elapsed:    0.1s remaining:    0.4s\n",
        "[Parallel(n_jobs=7)]: Done   7 out of   7 | elapsed:    0.1s finished\n"
       ]
      },
      {
       "output_type": "stream",
       "stream": "stdout",
       "text": [
        "\n",
        "67"
       ]
      },
      {
       "output_type": "stream",
       "stream": "stdout",
       "text": [
        "\n",
        "Kaggle score is 0.414541540937\n",
        "649\n"
       ]
      }
     ],
     "prompt_number": 29
    },
    {
     "cell_type": "code",
     "collapsed": false,
     "input": [
      "def generate_sample_submission():\n",
      "    sample_submission_df = pd.read_csv(\"{0}{1}\".format(data_prefix, \"sample_submission.csv\"), index_col=[0])\n",
      "    kaggle_tourney_results = pd.read_csv(\"{0}{1}\".format(data_prefix, \"tourney_results.csv\"))\n",
      "    seasons = ['N', 'O', 'P', 'Q', 'R', 'S']\n",
      "    kaggle_tourney_results = kaggle_tourney_results[(kaggle_tourney_results['season'] == 'N') | (kaggle_tourney_results['season'] == 'O') | (kaggle_tourney_results['season'] == 'P') | (kaggle_tourney_results['season'] == 'Q') | (kaggle_tourney_results['season'] == 'R') | (kaggle_tourney_results['season'] == 'S')]\n",
      "    kaggle_tourney_results = kaggle_tourney_results[kaggle_tourney_results['daynum'] >= 136]\n",
      "    print \"kaggle tourney\",len(kaggle_tourney_results)\n",
      "    winner_arr = []\n",
      "    for ix, row in sample_submission_df.iterrows():\n",
      "        season, team1, team2 = ix.split(\"_\")\n",
      "        team1 = int(team1)\n",
      "        team2 = int(team2)\n",
      "        row = kaggle_tourney_results[(kaggle_tourney_results['season'] == season) & (kaggle_tourney_results['wteam'] == team1) & (kaggle_tourney_results['lteam'] == team2)] \n",
      "        if len(row) == 0:\n",
      "            row = kaggle_tourney_results[(kaggle_tourney_results['season'] == season) & (kaggle_tourney_results['wteam'] == team2) & (kaggle_tourney_results['lteam'] == team1)] \n",
      "            if len(row) == 0:\n",
      "                winner_arr.append(np.nan)\n",
      "                continue\n",
      "                #print \"warning\", team1, \"vs\", team2\n",
      "            winner_arr.append(0.0)\n",
      "        else:\n",
      "    #         print team1, \"vs\", team2\n",
      "            winner_arr.append(1.0)\n",
      "    sample_submission_df['winner'] = pd.Series(np.array(winner_arr), index=sample_submission_df.index)\n",
      "    return sample_submission_df"
     ],
     "language": "python",
     "metadata": {},
     "outputs": [],
     "prompt_number": 30
    },
    {
     "cell_type": "code",
     "collapsed": false,
     "input": [
      "def predict_sample_submission(test_features):\n",
      "    sample_submission_df = generate_sample_submission()\n",
      "    test_features = test_features[(test_features['TEAM1_year'] >= 2009) & (test_features['TEAM2_year'] >= 2009)]    \n",
      "    \n",
      "    num_predicted = 0\n",
      "    predictions = []\n",
      "    for ix, row in sample_submission_df.iterrows():\n",
      "        season_key, team1, team2 = ix.split(\"_\")\n",
      "        season = season_map[season_key]\n",
      "        team1 = int(team1)\n",
      "        team2 = int(team2)\n",
      "        test_feature = test_features[((test_features['TEAM1_year'] == season) & (test_features['TEAM2_year'] == season)) & ((test_features['TEAM1_kaggle_id'] == team1) & (test_features['TEAM2_kaggle_id'] == team2)) ]\n",
      "        if len(test_feature) > 0:\n",
      "            del test_feature[\"SCORE1\"]\n",
      "            del test_feature[\"SCORE2\"]\n",
      "            del test_feature[\"TEAM1_team\"]\n",
      "            del test_feature[\"TEAM2_team\"]\n",
      "            win = test_feature['WINNER']\n",
      "            del test_feature['WINNER']\n",
      "            cfr = cfrs[season]\n",
      "            ps = cfr.predict_proba(test_feature)\n",
      "            p = ps[0, 1]\n",
      "            print \"pred\", p, row['winner']\n",
      "            predictions.append(p)\n",
      "            num_predicted += 1\n",
      "            continue\n",
      "        test_feature = test_features[((test_features['TEAM1_year'] == season) & (test_features['TEAM2_year'] == season)) & (test_features['TEAM2_kaggle_id'] == team1) & (test_features['TEAM1_kaggle_id'] == team2)]\n",
      "        if len(test_feature) > 0:\n",
      "            del test_feature[\"SCORE1\"]\n",
      "            del test_feature[\"SCORE2\"]\n",
      "            win = test_feature['WINNER']\n",
      "            del test_feature['WINNER']\n",
      "            del test_feature[\"TEAM1_team\"]\n",
      "            del test_feature[\"TEAM2_team\"]\n",
      "            cfr = cfrs[season]\n",
      "            ps = cfr.predict_proba(test_feature)\n",
      "            p = ps[0, 1]\n",
      "            print \"pred\",(1.0 - p), row['winner']\n",
      "            predictions.append((1.0 - p))\n",
      "            num_predicted += 1\n",
      "            continue\n",
      "        predictions.append(0.5)\n",
      "    predict_series = pd.Series(np.array(predictions), index=sample_submission_df.index)\n",
      "    sample_submission_df['pred'] = predict_series\n",
      "    sample_submission_df.to_csv(\"kaggle_submission.csv\", cols=['pred'])\n",
      "    print \"predicted {0}/{1}\".format(num_predicted, len(sample_submission_df))\n",
      "    return sample_submission_df\n",
      "\n"
     ],
     "language": "python",
     "metadata": {},
     "outputs": [],
     "prompt_number": 35
    },
    {
     "cell_type": "code",
     "collapsed": false,
     "input": [
      "sample_submission_df = predict_sample_submission(test_features)\n",
      "print sample_submission_df.columns\n",
      "sample_submission_df.to_csv(\"kaggle_submission.csv\", cols=['pred'])"
     ],
     "language": "python",
     "metadata": {},
     "outputs": [
      {
       "output_type": "stream",
       "stream": "stdout",
       "text": [
        "kaggle tourney 315\n",
        "pred"
       ]
      },
      {
       "output_type": "stream",
       "stream": "stderr",
       "text": [
        "[Parallel(n_jobs=7)]: Done   1 out of   7 | elapsed:    0.0s remaining:    0.3s\n",
        "[Parallel(n_jobs=7)]: Done   7 out of   7 | elapsed:    0.0s finished\n",
        "[Parallel(n_jobs=7)]: Done   1 out of   7 | elapsed:    0.0s remaining:    0.3s\n",
        "[Parallel(n_jobs=7)]: Done   7 out of   7 | elapsed:    0.0s finished\n"
       ]
      },
      {
       "output_type": "stream",
       "stream": "stdout",
       "text": [
        " 0.138 0.0\n",
        "pred"
       ]
      },
      {
       "output_type": "stream",
       "stream": "stdout",
       "text": [
        " 0.105 nan\n",
        "pred"
       ]
      },
      {
       "output_type": "stream",
       "stream": "stderr",
       "text": [
        "[Parallel(n_jobs=7)]: Done   1 out of   7 | elapsed:    0.0s remaining:    0.3s\n",
        "[Parallel(n_jobs=7)]: Done   7 out of   7 | elapsed:    0.0s finished\n",
        "[Parallel(n_jobs=7)]: Done   1 out of   7 | elapsed:    0.0s remaining:    0.2s\n",
        "[Parallel(n_jobs=7)]: Done   7 out of   7 | elapsed:    0.0s finished\n"
       ]
      },
      {
       "output_type": "stream",
       "stream": "stdout",
       "text": [
        " 0.026 0.0\n",
        "pred"
       ]
      },
      {
       "output_type": "stream",
       "stream": "stdout",
       "text": [
        " 0.502 1.0\n",
        "pred"
       ]
      },
      {
       "output_type": "stream",
       "stream": "stderr",
       "text": [
        "[Parallel(n_jobs=7)]: Done   1 out of   7 | elapsed:    0.1s remaining:    0.3s\n",
        "[Parallel(n_jobs=7)]: Done   7 out of   7 | elapsed:    0.1s finished\n",
        "[Parallel(n_jobs=7)]: Done   1 out of   7 | elapsed:    0.0s remaining:    0.3s\n",
        "[Parallel(n_jobs=7)]: Done   7 out of   7 | elapsed:    0.0s finished\n"
       ]
      },
      {
       "output_type": "stream",
       "stream": "stdout",
       "text": [
        " 0.146 0.0\n",
        "pred"
       ]
      },
      {
       "output_type": "stream",
       "stream": "stdout",
       "text": [
        " 0.295 1.0\n",
        "pred"
       ]
      },
      {
       "output_type": "stream",
       "stream": "stderr",
       "text": [
        "[Parallel(n_jobs=7)]: Done   1 out of   7 | elapsed:    0.0s remaining:    0.2s\n",
        "[Parallel(n_jobs=7)]: Done   7 out of   7 | elapsed:    0.0s finished\n",
        "[Parallel(n_jobs=7)]: Done   1 out of   7 | elapsed:    0.0s remaining:    0.3s\n",
        "[Parallel(n_jobs=7)]: Done   7 out of   7 | elapsed:    0.0s finished\n"
       ]
      },
      {
       "output_type": "stream",
       "stream": "stdout",
       "text": [
        " 0.473 0.0\n",
        "pred"
       ]
      },
      {
       "output_type": "stream",
       "stream": "stdout",
       "text": [
        " 0.657 1.0\n",
        "pred"
       ]
      },
      {
       "output_type": "stream",
       "stream": "stderr",
       "text": [
        "[Parallel(n_jobs=7)]: Done   1 out of   7 | elapsed:    0.0s remaining:    0.3s\n",
        "[Parallel(n_jobs=7)]: Done   7 out of   7 | elapsed:    0.0s finished\n",
        "[Parallel(n_jobs=7)]: Done   1 out of   7 | elapsed:    0.0s remaining:    0.3s\n",
        "[Parallel(n_jobs=7)]: Done   7 out of   7 | elapsed:    0.0s finished\n"
       ]
      },
      {
       "output_type": "stream",
       "stream": "stdout",
       "text": [
        " 0.015 0.0\n",
        "pred"
       ]
      },
      {
       "output_type": "stream",
       "stream": "stdout",
       "text": [
        " 0.281 0.0\n",
        "pred"
       ]
      },
      {
       "output_type": "stream",
       "stream": "stderr",
       "text": [
        "[Parallel(n_jobs=7)]: Done   1 out of   7 | elapsed:    0.0s remaining:    0.3s\n",
        "[Parallel(n_jobs=7)]: Done   7 out of   7 | elapsed:    0.0s finished\n",
        "[Parallel(n_jobs=7)]: Done   1 out of   7 | elapsed:    0.0s remaining:    0.2s\n",
        "[Parallel(n_jobs=7)]: Done   7 out of   7 | elapsed:    0.0s finished\n"
       ]
      },
      {
       "output_type": "stream",
       "stream": "stdout",
       "text": [
        " 0.574 0.0\n",
        "pred"
       ]
      },
      {
       "output_type": "stream",
       "stream": "stdout",
       "text": [
        " 0.642 0.0\n",
        "pred"
       ]
      },
      {
       "output_type": "stream",
       "stream": "stderr",
       "text": [
        "[Parallel(n_jobs=7)]: Done   1 out of   7 | elapsed:    0.0s remaining:    0.3s\n",
        "[Parallel(n_jobs=7)]: Done   7 out of   7 | elapsed:    0.0s finished\n",
        "[Parallel(n_jobs=7)]: Done   1 out of   7 | elapsed:    0.0s remaining:    0.3s\n",
        "[Parallel(n_jobs=7)]: Done   7 out of   7 | elapsed:    0.0s finished\n"
       ]
      },
      {
       "output_type": "stream",
       "stream": "stdout",
       "text": [
        " 0.503 0.0\n",
        "pred"
       ]
      },
      {
       "output_type": "stream",
       "stream": "stdout",
       "text": [
        " 0.035 0.0\n",
        "pred"
       ]
      },
      {
       "output_type": "stream",
       "stream": "stderr",
       "text": [
        "[Parallel(n_jobs=7)]: Done   1 out of   7 | elapsed:    0.0s remaining:    0.3s\n",
        "[Parallel(n_jobs=7)]: Done   7 out of   7 | elapsed:    0.0s finished\n",
        "[Parallel(n_jobs=7)]: Done   1 out of   7 | elapsed:    0.0s remaining:    0.3s\n",
        "[Parallel(n_jobs=7)]: Done   7 out of   7 | elapsed:    0.0s finished\n"
       ]
      },
      {
       "output_type": "stream",
       "stream": "stdout",
       "text": [
        " 0.486 0.0\n",
        "pred"
       ]
      },
      {
       "output_type": "stream",
       "stream": "stdout",
       "text": [
        " 0.423 1.0\n",
        "pred"
       ]
      },
      {
       "output_type": "stream",
       "stream": "stderr",
       "text": [
        "[Parallel(n_jobs=7)]: Done   1 out of   7 | elapsed:    0.0s remaining:    0.0s\n",
        "[Parallel(n_jobs=7)]: Done   7 out of   7 | elapsed:    0.0s finished\n",
        "[Parallel(n_jobs=7)]: Done   1 out of   7 | elapsed:    0.0s remaining:    0.2s\n",
        "[Parallel(n_jobs=7)]: Done   7 out of   7 | elapsed:    0.0s finished\n"
       ]
      },
      {
       "output_type": "stream",
       "stream": "stdout",
       "text": [
        " 0.704 0.0\n",
        "pred"
       ]
      },
      {
       "output_type": "stream",
       "stream": "stdout",
       "text": [
        " 0.524 1.0\n",
        "pred"
       ]
      },
      {
       "output_type": "stream",
       "stream": "stderr",
       "text": [
        "[Parallel(n_jobs=7)]: Done   1 out of   7 | elapsed:    0.0s remaining:    0.3s\n",
        "[Parallel(n_jobs=7)]: Done   7 out of   7 | elapsed:    0.0s finished\n",
        "[Parallel(n_jobs=7)]: Done   1 out of   7 | elapsed:    0.0s remaining:    0.2s\n",
        "[Parallel(n_jobs=7)]: Done   7 out of   7 | elapsed:    0.0s finished\n"
       ]
      },
      {
       "output_type": "stream",
       "stream": "stdout",
       "text": [
        " 0.743 1.0\n",
        "pred"
       ]
      },
      {
       "output_type": "stream",
       "stream": "stdout",
       "text": [
        " 0.912 1.0\n",
        "pred"
       ]
      },
      {
       "output_type": "stream",
       "stream": "stderr",
       "text": [
        "[Parallel(n_jobs=7)]: Done   1 out of   7 | elapsed:    0.0s remaining:    0.3s\n",
        "[Parallel(n_jobs=7)]: Done   7 out of   7 | elapsed:    0.0s finished\n",
        "[Parallel(n_jobs=7)]: Done   1 out of   7 | elapsed:    0.1s remaining:    0.3s\n",
        "[Parallel(n_jobs=7)]: Done   7 out of   7 | elapsed:    0.1s finished\n"
       ]
      },
      {
       "output_type": "stream",
       "stream": "stdout",
       "text": [
        " 0.012 0.0\n",
        "pred"
       ]
      },
      {
       "output_type": "stream",
       "stream": "stdout",
       "text": [
        " 0.063 0.0\n",
        "pred"
       ]
      },
      {
       "output_type": "stream",
       "stream": "stderr",
       "text": [
        "[Parallel(n_jobs=7)]: Done   1 out of   7 | elapsed:    0.0s remaining:    0.2s\n",
        "[Parallel(n_jobs=7)]: Done   7 out of   7 | elapsed:    0.0s finished\n",
        "[Parallel(n_jobs=7)]: Done   1 out of   7 | elapsed:    0.1s remaining:    0.3s\n",
        "[Parallel(n_jobs=7)]: Done   7 out of   7 | elapsed:    0.1s finished\n"
       ]
      },
      {
       "output_type": "stream",
       "stream": "stdout",
       "text": [
        " 0.252 0.0\n",
        "pred"
       ]
      },
      {
       "output_type": "stream",
       "stream": "stdout",
       "text": [
        " 0.242 1.0\n",
        "pred"
       ]
      },
      {
       "output_type": "stream",
       "stream": "stderr",
       "text": [
        "[Parallel(n_jobs=7)]: Done   1 out of   7 | elapsed:    0.0s remaining:    0.3s\n",
        "[Parallel(n_jobs=7)]: Done   7 out of   7 | elapsed:    0.0s finished\n",
        "[Parallel(n_jobs=7)]: Done   1 out of   7 | elapsed:    0.0s remaining:    0.2s\n",
        "[Parallel(n_jobs=7)]: Done   7 out of   7 | elapsed:    0.0s finished\n"
       ]
      },
      {
       "output_type": "stream",
       "stream": "stdout",
       "text": [
        " 0.745 1.0\n",
        "pred"
       ]
      },
      {
       "output_type": "stream",
       "stream": "stdout",
       "text": [
        " 0.59 0.0\n",
        "pred"
       ]
      },
      {
       "output_type": "stream",
       "stream": "stderr",
       "text": [
        "[Parallel(n_jobs=7)]: Done   1 out of   7 | elapsed:    0.0s remaining:    0.2s\n",
        "[Parallel(n_jobs=7)]: Done   7 out of   7 | elapsed:    0.0s finished\n",
        "[Parallel(n_jobs=7)]: Done   1 out of   7 | elapsed:    0.0s remaining:    0.2s\n",
        "[Parallel(n_jobs=7)]: Done   7 out of   7 | elapsed:    0.0s finished\n"
       ]
      },
      {
       "output_type": "stream",
       "stream": "stdout",
       "text": [
        " 0.009 0.0\n",
        "pred"
       ]
      },
      {
       "output_type": "stream",
       "stream": "stdout",
       "text": [
        " 0.542 0.0\n",
        "pred"
       ]
      },
      {
       "output_type": "stream",
       "stream": "stderr",
       "text": [
        "[Parallel(n_jobs=7)]: Done   1 out of   7 | elapsed:    0.0s remaining:    0.3s\n",
        "[Parallel(n_jobs=7)]: Done   7 out of   7 | elapsed:    0.1s finished\n",
        "[Parallel(n_jobs=7)]: Done   1 out of   7 | elapsed:    0.0s remaining:    0.3s\n",
        "[Parallel(n_jobs=7)]: Done   7 out of   7 | elapsed:    0.0s finished\n"
       ]
      },
      {
       "output_type": "stream",
       "stream": "stdout",
       "text": [
        " 0.234 0.0\n",
        "pred"
       ]
      },
      {
       "output_type": "stream",
       "stream": "stdout",
       "text": [
        " 0.721 1.0\n",
        "pred"
       ]
      },
      {
       "output_type": "stream",
       "stream": "stderr",
       "text": [
        "[Parallel(n_jobs=7)]: Done   1 out of   7 | elapsed:    0.0s remaining:    0.2s\n",
        "[Parallel(n_jobs=7)]: Done   7 out of   7 | elapsed:    0.0s finished\n",
        "[Parallel(n_jobs=7)]: Done   1 out of   7 | elapsed:    0.0s remaining:    0.3s\n",
        "[Parallel(n_jobs=7)]: Done   7 out of   7 | elapsed:    0.0s finished\n"
       ]
      },
      {
       "output_type": "stream",
       "stream": "stdout",
       "text": [
        " 0.561 0.0\n",
        "pred"
       ]
      },
      {
       "output_type": "stream",
       "stream": "stdout",
       "text": [
        " 0.37 0.0\n",
        "pred"
       ]
      },
      {
       "output_type": "stream",
       "stream": "stderr",
       "text": [
        "[Parallel(n_jobs=7)]: Done   1 out of   7 | elapsed:    0.0s remaining:    0.2s\n",
        "[Parallel(n_jobs=7)]: Done   7 out of   7 | elapsed:    0.0s finished\n",
        "[Parallel(n_jobs=7)]: Done   1 out of   7 | elapsed:    0.0s remaining:    0.2s\n",
        "[Parallel(n_jobs=7)]: Done   7 out of   7 | elapsed:    0.0s finished\n"
       ]
      },
      {
       "output_type": "stream",
       "stream": "stdout",
       "text": [
        " 0.904 1.0\n",
        "pred"
       ]
      },
      {
       "output_type": "stream",
       "stream": "stdout",
       "text": [
        " 0.486 0.0\n",
        "pred"
       ]
      },
      {
       "output_type": "stream",
       "stream": "stderr",
       "text": [
        "[Parallel(n_jobs=7)]: Done   1 out of   7 | elapsed:    0.0s remaining:    0.3s\n",
        "[Parallel(n_jobs=7)]: Done   7 out of   7 | elapsed:    0.1s finished\n",
        "[Parallel(n_jobs=7)]: Done   1 out of   7 | elapsed:    0.0s remaining:    0.2s\n",
        "[Parallel(n_jobs=7)]: Done   7 out of   7 | elapsed:    0.0s finished\n"
       ]
      },
      {
       "output_type": "stream",
       "stream": "stdout",
       "text": [
        " 0.973 1.0\n",
        "pred"
       ]
      },
      {
       "output_type": "stream",
       "stream": "stdout",
       "text": [
        " 0.823 1.0\n",
        "pred"
       ]
      },
      {
       "output_type": "stream",
       "stream": "stderr",
       "text": [
        "[Parallel(n_jobs=7)]: Done   1 out of   7 | elapsed:    0.0s remaining:    0.3s\n",
        "[Parallel(n_jobs=7)]: Done   7 out of   7 | elapsed:    0.1s finished\n",
        "[Parallel(n_jobs=7)]: Done   1 out of   7 | elapsed:    0.0s remaining:    0.2s\n",
        "[Parallel(n_jobs=7)]: Done   7 out of   7 | elapsed:    0.0s finished\n"
       ]
      },
      {
       "output_type": "stream",
       "stream": "stdout",
       "text": [
        " 0.03 0.0\n",
        "pred"
       ]
      },
      {
       "output_type": "stream",
       "stream": "stdout",
       "text": [
        " 0.278 0.0\n",
        "pred"
       ]
      },
      {
       "output_type": "stream",
       "stream": "stderr",
       "text": [
        "[Parallel(n_jobs=7)]: Done   1 out of   7 | elapsed:    0.0s remaining:    0.3s\n",
        "[Parallel(n_jobs=7)]: Done   7 out of   7 | elapsed:    0.0s finished\n",
        "[Parallel(n_jobs=7)]: Done   1 out of   7 | elapsed:    0.0s remaining:    0.1s\n",
        "[Parallel(n_jobs=7)]: Done   7 out of   7 | elapsed:    0.0s finished\n"
       ]
      },
      {
       "output_type": "stream",
       "stream": "stdout",
       "text": [
        " 0.594 1.0\n",
        "pred"
       ]
      },
      {
       "output_type": "stream",
       "stream": "stdout",
       "text": [
        " 0.115 0.0\n",
        "pred"
       ]
      },
      {
       "output_type": "stream",
       "stream": "stderr",
       "text": [
        "[Parallel(n_jobs=7)]: Done   1 out of   7 | elapsed:    0.0s remaining:    0.3s\n",
        "[Parallel(n_jobs=7)]: Done   7 out of   7 | elapsed:    0.0s finished\n",
        "[Parallel(n_jobs=7)]: Done   1 out of   7 | elapsed:    0.0s remaining:    0.3s\n",
        "[Parallel(n_jobs=7)]: Done   7 out of   7 | elapsed:    0.0s finished\n"
       ]
      },
      {
       "output_type": "stream",
       "stream": "stdout",
       "text": [
        " 0.775 0.0\n",
        "pred"
       ]
      },
      {
       "output_type": "stream",
       "stream": "stdout",
       "text": [
        " 0.177 0.0\n",
        "pred"
       ]
      },
      {
       "output_type": "stream",
       "stream": "stderr",
       "text": [
        "[Parallel(n_jobs=7)]: Done   1 out of   7 | elapsed:    0.0s remaining:    0.2s\n",
        "[Parallel(n_jobs=7)]: Done   7 out of   7 | elapsed:    0.0s finished\n",
        "[Parallel(n_jobs=7)]: Done   1 out of   7 | elapsed:    0.0s remaining:    0.3s\n",
        "[Parallel(n_jobs=7)]: Done   7 out of   7 | elapsed:    0.0s finished\n"
       ]
      },
      {
       "output_type": "stream",
       "stream": "stdout",
       "text": [
        " 0.363 0.0\n",
        "pred"
       ]
      },
      {
       "output_type": "stream",
       "stream": "stdout",
       "text": [
        " 0.96 1.0\n",
        "pred"
       ]
      },
      {
       "output_type": "stream",
       "stream": "stderr",
       "text": [
        "[Parallel(n_jobs=7)]: Done   1 out of   7 | elapsed:    0.0s remaining:    0.3s\n",
        "[Parallel(n_jobs=7)]: Done   7 out of   7 | elapsed:    0.0s finished\n",
        "[Parallel(n_jobs=7)]: Done   1 out of   7 | elapsed:    0.0s remaining:    0.3s\n",
        "[Parallel(n_jobs=7)]: Done   7 out of   7 | elapsed:    0.0s finished\n"
       ]
      },
      {
       "output_type": "stream",
       "stream": "stdout",
       "text": [
        " 0.777 1.0\n",
        "pred"
       ]
      },
      {
       "output_type": "stream",
       "stream": "stdout",
       "text": [
        " 0.286 0.0\n",
        "pred"
       ]
      },
      {
       "output_type": "stream",
       "stream": "stderr",
       "text": [
        "[Parallel(n_jobs=7)]: Done   1 out of   7 | elapsed:    0.0s remaining:    0.2s\n",
        "[Parallel(n_jobs=7)]: Done   7 out of   7 | elapsed:    0.0s finished\n",
        "[Parallel(n_jobs=7)]: Done   1 out of   7 | elapsed:    0.0s remaining:    0.2s\n",
        "[Parallel(n_jobs=7)]: Done   7 out of   7 | elapsed:    0.1s finished\n"
       ]
      },
      {
       "output_type": "stream",
       "stream": "stdout",
       "text": [
        " 0.11 0.0\n",
        "pred"
       ]
      },
      {
       "output_type": "stream",
       "stream": "stdout",
       "text": [
        " 0.005 0.0\n",
        "pred"
       ]
      },
      {
       "output_type": "stream",
       "stream": "stderr",
       "text": [
        "[Parallel(n_jobs=7)]: Done   1 out of   7 | elapsed:    0.0s remaining:    0.3s\n",
        "[Parallel(n_jobs=7)]: Done   7 out of   7 | elapsed:    0.0s finished\n",
        "[Parallel(n_jobs=7)]: Done   1 out of   7 | elapsed:    0.1s remaining:    0.3s\n",
        "[Parallel(n_jobs=7)]: Done   7 out of   7 | elapsed:    0.1s finished\n"
       ]
      },
      {
       "output_type": "stream",
       "stream": "stdout",
       "text": [
        " 0.738 1.0\n",
        "pred"
       ]
      },
      {
       "output_type": "stream",
       "stream": "stdout",
       "text": [
        " 0.991 1.0\n",
        "pred"
       ]
      },
      {
       "output_type": "stream",
       "stream": "stderr",
       "text": [
        "[Parallel(n_jobs=7)]: Done   1 out of   7 | elapsed:    0.0s remaining:    0.2s\n",
        "[Parallel(n_jobs=7)]: Done   7 out of   7 | elapsed:    0.0s finished\n",
        "[Parallel(n_jobs=7)]: Done   1 out of   7 | elapsed:    0.0s remaining:    0.2s\n",
        "[Parallel(n_jobs=7)]: Done   7 out of   7 | elapsed:    0.0s finished\n"
       ]
      },
      {
       "output_type": "stream",
       "stream": "stdout",
       "text": [
        " 0.65 1.0\n",
        "pred"
       ]
      },
      {
       "output_type": "stream",
       "stream": "stdout",
       "text": [
        " 0.125 0.0\n",
        "pred"
       ]
      },
      {
       "output_type": "stream",
       "stream": "stderr",
       "text": [
        "[Parallel(n_jobs=7)]: Done   1 out of   7 | elapsed:    0.0s remaining:    0.2s\n",
        "[Parallel(n_jobs=7)]: Done   7 out of   7 | elapsed:    0.0s finished\n",
        "[Parallel(n_jobs=7)]: Done   1 out of   7 | elapsed:    0.0s remaining:    0.2s\n",
        "[Parallel(n_jobs=7)]: Done   7 out of   7 | elapsed:    0.0s finished\n"
       ]
      },
      {
       "output_type": "stream",
       "stream": "stdout",
       "text": [
        " 0.496 0.0\n",
        "pred"
       ]
      },
      {
       "output_type": "stream",
       "stream": "stdout",
       "text": [
        " 0.442 1.0\n",
        "pred"
       ]
      },
      {
       "output_type": "stream",
       "stream": "stderr",
       "text": [
        "[Parallel(n_jobs=7)]: Done   1 out of   7 | elapsed:    0.0s remaining:    0.3s\n",
        "[Parallel(n_jobs=7)]: Done   7 out of   7 | elapsed:    0.0s finished\n",
        "[Parallel(n_jobs=7)]: Done   1 out of   7 | elapsed:    0.0s remaining:    0.3s\n",
        "[Parallel(n_jobs=7)]: Done   7 out of   7 | elapsed:    0.0s finished\n"
       ]
      },
      {
       "output_type": "stream",
       "stream": "stdout",
       "text": [
        " 0.051 0.0\n",
        "pred"
       ]
      },
      {
       "output_type": "stream",
       "stream": "stdout",
       "text": [
        " 0.622 1.0\n",
        "pred"
       ]
      },
      {
       "output_type": "stream",
       "stream": "stderr",
       "text": [
        "[Parallel(n_jobs=7)]: Done   1 out of   7 | elapsed:    0.0s remaining:    0.3s\n",
        "[Parallel(n_jobs=7)]: Done   7 out of   7 | elapsed:    0.0s finished\n",
        "[Parallel(n_jobs=7)]: Done   1 out of   7 | elapsed:    0.0s remaining:    0.2s\n",
        "[Parallel(n_jobs=7)]: Done   7 out of   7 | elapsed:    0.1s finished\n"
       ]
      },
      {
       "output_type": "stream",
       "stream": "stdout",
       "text": [
        " 0.632 0.0\n",
        "pred"
       ]
      },
      {
       "output_type": "stream",
       "stream": "stdout",
       "text": [
        " 0.711 1.0\n",
        "pred"
       ]
      },
      {
       "output_type": "stream",
       "stream": "stderr",
       "text": [
        "[Parallel(n_jobs=7)]: Done   1 out of   7 | elapsed:    0.0s remaining:    0.3s\n",
        "[Parallel(n_jobs=7)]: Done   7 out of   7 | elapsed:    0.0s finished\n",
        "[Parallel(n_jobs=7)]: Done   1 out of   7 | elapsed:    0.0s remaining:    0.3s\n",
        "[Parallel(n_jobs=7)]: Done   7 out of   7 | elapsed:    0.0s finished\n"
       ]
      },
      {
       "output_type": "stream",
       "stream": "stdout",
       "text": [
        " 0.068 0.0\n",
        "pred"
       ]
      },
      {
       "output_type": "stream",
       "stream": "stdout",
       "text": [
        " 0.502 1.0\n",
        "pred"
       ]
      },
      {
       "output_type": "stream",
       "stream": "stderr",
       "text": [
        "[Parallel(n_jobs=7)]: Done   1 out of   7 | elapsed:    0.0s remaining:    0.2s\n",
        "[Parallel(n_jobs=7)]: Done   7 out of   7 | elapsed:    0.0s finished\n",
        "[Parallel(n_jobs=7)]: Done   1 out of   7 | elapsed:    0.0s remaining:    0.3s\n",
        "[Parallel(n_jobs=7)]: Done   7 out of   7 | elapsed:    0.0s finished\n"
       ]
      },
      {
       "output_type": "stream",
       "stream": "stdout",
       "text": [
        " 0.167 0.0\n",
        "pred"
       ]
      },
      {
       "output_type": "stream",
       "stream": "stdout",
       "text": [
        " 0.756 1.0\n",
        "pred"
       ]
      },
      {
       "output_type": "stream",
       "stream": "stderr",
       "text": [
        "[Parallel(n_jobs=7)]: Done   1 out of   7 | elapsed:    0.0s remaining:    0.2s\n",
        "[Parallel(n_jobs=7)]: Done   7 out of   7 | elapsed:    0.0s finished\n",
        "[Parallel(n_jobs=7)]: Done   1 out of   7 | elapsed:    0.0s remaining:    0.2s\n",
        "[Parallel(n_jobs=7)]: Done   7 out of   7 | elapsed:    0.0s finished\n"
       ]
      },
      {
       "output_type": "stream",
       "stream": "stdout",
       "text": [
        " 0.438 0.0\n",
        "pred"
       ]
      },
      {
       "output_type": "stream",
       "stream": "stdout",
       "text": [
        " 0.317 0.0\n",
        "pred"
       ]
      },
      {
       "output_type": "stream",
       "stream": "stderr",
       "text": [
        "[Parallel(n_jobs=7)]: Done   1 out of   7 | elapsed:    0.0s remaining:    0.2s\n",
        "[Parallel(n_jobs=7)]: Done   7 out of   7 | elapsed:    0.0s finished\n",
        "[Parallel(n_jobs=7)]: Done   1 out of   7 | elapsed:    0.0s remaining:    0.2s\n",
        "[Parallel(n_jobs=7)]: Done   7 out of   7 | elapsed:    0.0s finished\n"
       ]
      },
      {
       "output_type": "stream",
       "stream": "stdout",
       "text": [
        " 0.036 0.0\n",
        "pred"
       ]
      },
      {
       "output_type": "stream",
       "stream": "stdout",
       "text": [
        " 0.801 nan\n",
        "pred"
       ]
      },
      {
       "output_type": "stream",
       "stream": "stderr",
       "text": [
        "[Parallel(n_jobs=7)]: Done   1 out of   7 | elapsed:    0.0s remaining:    0.3s\n",
        "[Parallel(n_jobs=7)]: Done   7 out of   7 | elapsed:    0.0s finished\n",
        "[Parallel(n_jobs=7)]: Done   1 out of   7 | elapsed:    0.0s remaining:    0.2s\n",
        "[Parallel(n_jobs=7)]: Done   7 out of   7 | elapsed:    0.0s finished\n"
       ]
      },
      {
       "output_type": "stream",
       "stream": "stdout",
       "text": [
        " 0.213 0.0\n",
        "pred"
       ]
      },
      {
       "output_type": "stream",
       "stream": "stdout",
       "text": [
        " 0.769 1.0\n",
        "pred"
       ]
      },
      {
       "output_type": "stream",
       "stream": "stderr",
       "text": [
        "[Parallel(n_jobs=7)]: Done   1 out of   7 | elapsed:    0.0s remaining:    0.1s\n",
        "[Parallel(n_jobs=7)]: Done   7 out of   7 | elapsed:    0.0s finished\n",
        "[Parallel(n_jobs=7)]: Done   1 out of   7 | elapsed:    0.0s remaining:    0.2s\n",
        "[Parallel(n_jobs=7)]: Done   7 out of   7 | elapsed:    0.0s finished\n"
       ]
      },
      {
       "output_type": "stream",
       "stream": "stdout",
       "text": [
        " 0.934 1.0\n",
        "pred"
       ]
      },
      {
       "output_type": "stream",
       "stream": "stdout",
       "text": [
        " 0.799 1.0\n",
        "pred"
       ]
      },
      {
       "output_type": "stream",
       "stream": "stderr",
       "text": [
        "[Parallel(n_jobs=7)]: Done   1 out of   7 | elapsed:    0.0s remaining:    0.2s\n",
        "[Parallel(n_jobs=7)]: Done   7 out of   7 | elapsed:    0.0s finished\n",
        "[Parallel(n_jobs=7)]: Done   1 out of   7 | elapsed:    0.0s remaining:    0.2s\n",
        "[Parallel(n_jobs=7)]: Done   7 out of   7 | elapsed:    0.0s finished\n"
       ]
      },
      {
       "output_type": "stream",
       "stream": "stdout",
       "text": [
        " 0.275 0.0\n",
        "pred"
       ]
      },
      {
       "output_type": "stream",
       "stream": "stdout",
       "text": [
        " 0.349 1.0\n",
        "pred"
       ]
      },
      {
       "output_type": "stream",
       "stream": "stderr",
       "text": [
        "[Parallel(n_jobs=7)]: Done   1 out of   7 | elapsed:    0.0s remaining:    0.3s\n",
        "[Parallel(n_jobs=7)]: Done   7 out of   7 | elapsed:    0.0s finished\n",
        "[Parallel(n_jobs=7)]: Done   1 out of   7 | elapsed:    0.0s remaining:    0.3s\n",
        "[Parallel(n_jobs=7)]: Done   7 out of   7 | elapsed:    0.0s finished\n"
       ]
      },
      {
       "output_type": "stream",
       "stream": "stdout",
       "text": [
        " 0.663 1.0\n",
        "pred"
       ]
      },
      {
       "output_type": "stream",
       "stream": "stdout",
       "text": [
        " 0.764 1.0\n",
        "pred"
       ]
      },
      {
       "output_type": "stream",
       "stream": "stderr",
       "text": [
        "[Parallel(n_jobs=7)]: Done   1 out of   7 | elapsed:    0.0s remaining:    0.3s\n",
        "[Parallel(n_jobs=7)]: Done   7 out of   7 | elapsed:    0.0s finished\n",
        "[Parallel(n_jobs=7)]: Done   1 out of   7 | elapsed:    0.0s remaining:    0.2s\n",
        "[Parallel(n_jobs=7)]: Done   7 out of   7 | elapsed:    0.0s finished\n"
       ]
      },
      {
       "output_type": "stream",
       "stream": "stdout",
       "text": [
        " 0.441 1.0\n",
        "pred"
       ]
      },
      {
       "output_type": "stream",
       "stream": "stdout",
       "text": [
        " 0.814 1.0\n",
        "pred"
       ]
      },
      {
       "output_type": "stream",
       "stream": "stderr",
       "text": [
        "[Parallel(n_jobs=7)]: Done   1 out of   7 | elapsed:    0.0s remaining:    0.2s\n",
        "[Parallel(n_jobs=7)]: Done   7 out of   7 | elapsed:    0.0s finished\n",
        "[Parallel(n_jobs=7)]: Done   1 out of   7 | elapsed:    0.0s remaining:    0.3s\n",
        "[Parallel(n_jobs=7)]: Done   7 out of   7 | elapsed:    0.0s finished\n"
       ]
      },
      {
       "output_type": "stream",
       "stream": "stdout",
       "text": [
        " 0.726 1.0\n",
        "pred"
       ]
      },
      {
       "output_type": "stream",
       "stream": "stdout",
       "text": [
        " 0.344 0.0\n",
        "pred"
       ]
      },
      {
       "output_type": "stream",
       "stream": "stderr",
       "text": [
        "[Parallel(n_jobs=7)]: Done   1 out of   7 | elapsed:    0.0s remaining:    0.3s\n",
        "[Parallel(n_jobs=7)]: Done   7 out of   7 | elapsed:    0.0s finished\n",
        "[Parallel(n_jobs=7)]: Done   1 out of   7 | elapsed:    0.0s remaining:    0.2s\n",
        "[Parallel(n_jobs=7)]: Done   7 out of   7 | elapsed:    0.0s finished\n"
       ]
      },
      {
       "output_type": "stream",
       "stream": "stdout",
       "text": [
        " 0.055 0.0\n",
        "pred"
       ]
      },
      {
       "output_type": "stream",
       "stream": "stdout",
       "text": [
        " 0.646 1.0\n",
        "pred"
       ]
      },
      {
       "output_type": "stream",
       "stream": "stderr",
       "text": [
        "[Parallel(n_jobs=7)]: Done   1 out of   7 | elapsed:    0.0s remaining:    0.2s\n",
        "[Parallel(n_jobs=7)]: Done   7 out of   7 | elapsed:    0.1s finished\n",
        "[Parallel(n_jobs=7)]: Done   1 out of   7 | elapsed:    0.0s remaining:    0.2s\n",
        "[Parallel(n_jobs=7)]: Done   7 out of   7 | elapsed:    0.0s finished\n"
       ]
      },
      {
       "output_type": "stream",
       "stream": "stdout",
       "text": [
        " 0.417 0.0\n",
        "pred"
       ]
      },
      {
       "output_type": "stream",
       "stream": "stdout",
       "text": [
        " 0.109 0.0\n",
        "pred"
       ]
      },
      {
       "output_type": "stream",
       "stream": "stderr",
       "text": [
        "[Parallel(n_jobs=7)]: Done   1 out of   7 | elapsed:    0.0s remaining:    0.3s\n",
        "[Parallel(n_jobs=7)]: Done   7 out of   7 | elapsed:    0.0s finished\n",
        "[Parallel(n_jobs=7)]: Done   1 out of   7 | elapsed:    0.0s remaining:    0.2s\n",
        "[Parallel(n_jobs=7)]: Done   7 out of   7 | elapsed:    0.0s finished\n"
       ]
      },
      {
       "output_type": "stream",
       "stream": "stdout",
       "text": [
        " 0.425 1.0\n",
        "pred"
       ]
      },
      {
       "output_type": "stream",
       "stream": "stdout",
       "text": [
        " 0.516 1.0\n",
        "pred"
       ]
      },
      {
       "output_type": "stream",
       "stream": "stderr",
       "text": [
        "[Parallel(n_jobs=7)]: Done   1 out of   7 | elapsed:    0.0s remaining:    0.3s\n",
        "[Parallel(n_jobs=7)]: Done   7 out of   7 | elapsed:    0.0s finished\n",
        "[Parallel(n_jobs=7)]: Done   1 out of   7 | elapsed:    0.0s remaining:    0.3s\n",
        "[Parallel(n_jobs=7)]: Done   7 out of   7 | elapsed:    0.0s finished\n"
       ]
      },
      {
       "output_type": "stream",
       "stream": "stdout",
       "text": [
        " 0.833 1.0\n",
        "pred"
       ]
      },
      {
       "output_type": "stream",
       "stream": "stdout",
       "text": [
        " 0.767 1.0\n",
        "pred"
       ]
      },
      {
       "output_type": "stream",
       "stream": "stderr",
       "text": [
        "[Parallel(n_jobs=7)]: Done   1 out of   7 | elapsed:    0.0s remaining:    0.3s\n",
        "[Parallel(n_jobs=7)]: Done   7 out of   7 | elapsed:    0.0s finished\n",
        "[Parallel(n_jobs=7)]: Done   1 out of   7 | elapsed:    0.0s remaining:    0.3s\n",
        "[Parallel(n_jobs=7)]: Done   7 out of   7 | elapsed:    0.0s finished\n"
       ]
      },
      {
       "output_type": "stream",
       "stream": "stdout",
       "text": [
        " 0.038 0.0\n",
        "pred"
       ]
      },
      {
       "output_type": "stream",
       "stream": "stdout",
       "text": [
        " 0.462 0.0\n",
        "pred"
       ]
      },
      {
       "output_type": "stream",
       "stream": "stderr",
       "text": [
        "[Parallel(n_jobs=7)]: Done   1 out of   7 | elapsed:    0.0s remaining:    0.2s\n",
        "[Parallel(n_jobs=7)]: Done   7 out of   7 | elapsed:    0.0s finished\n",
        "[Parallel(n_jobs=7)]: Done   1 out of   7 | elapsed:    0.0s remaining:    0.2s\n",
        "[Parallel(n_jobs=7)]: Done   7 out of   7 | elapsed:    0.0s finished\n"
       ]
      },
      {
       "output_type": "stream",
       "stream": "stdout",
       "text": [
        " 0.856 0.0\n",
        "pred"
       ]
      },
      {
       "output_type": "stream",
       "stream": "stdout",
       "text": [
        " 0.24 0.0\n",
        "pred"
       ]
      },
      {
       "output_type": "stream",
       "stream": "stderr",
       "text": [
        "[Parallel(n_jobs=7)]: Done   1 out of   7 | elapsed:    0.0s remaining:    0.2s\n",
        "[Parallel(n_jobs=7)]: Done   7 out of   7 | elapsed:    0.0s finished\n",
        "[Parallel(n_jobs=7)]: Done   1 out of   7 | elapsed:    0.0s remaining:    0.2s\n",
        "[Parallel(n_jobs=7)]: Done   7 out of   7 | elapsed:    0.0s finished\n"
       ]
      },
      {
       "output_type": "stream",
       "stream": "stdout",
       "text": [
        " 0.699 1.0\n",
        "pred"
       ]
      },
      {
       "output_type": "stream",
       "stream": "stdout",
       "text": [
        " 0.165 0.0\n",
        "pred"
       ]
      },
      {
       "output_type": "stream",
       "stream": "stderr",
       "text": [
        "[Parallel(n_jobs=7)]: Done   1 out of   7 | elapsed:    0.0s remaining:    0.2s\n",
        "[Parallel(n_jobs=7)]: Done   7 out of   7 | elapsed:    0.0s finished\n",
        "[Parallel(n_jobs=7)]: Done   1 out of   7 | elapsed:    0.0s remaining:    0.2s\n",
        "[Parallel(n_jobs=7)]: Done   7 out of   7 | elapsed:    0.0s finished\n"
       ]
      },
      {
       "output_type": "stream",
       "stream": "stdout",
       "text": [
        " 0.226 0.0\n",
        "pred"
       ]
      },
      {
       "output_type": "stream",
       "stream": "stdout",
       "text": [
        " 0.998 1.0\n",
        "pred"
       ]
      },
      {
       "output_type": "stream",
       "stream": "stderr",
       "text": [
        "[Parallel(n_jobs=7)]: Done   1 out of   7 | elapsed:    0.0s remaining:    0.3s\n",
        "[Parallel(n_jobs=7)]: Done   7 out of   7 | elapsed:    0.0s finished\n",
        "[Parallel(n_jobs=7)]: Done   1 out of   7 | elapsed:    0.0s remaining:    0.2s\n",
        "[Parallel(n_jobs=7)]: Done   7 out of   7 | elapsed:    0.0s finished\n"
       ]
      },
      {
       "output_type": "stream",
       "stream": "stdout",
       "text": [
        " 0.876 0.0\n",
        "pred"
       ]
      },
      {
       "output_type": "stream",
       "stream": "stdout",
       "text": [
        " 0.935 1.0\n",
        "pred"
       ]
      },
      {
       "output_type": "stream",
       "stream": "stderr",
       "text": [
        "[Parallel(n_jobs=7)]: Done   1 out of   7 | elapsed:    0.0s remaining:    0.3s\n",
        "[Parallel(n_jobs=7)]: Done   7 out of   7 | elapsed:    0.0s finished\n",
        "[Parallel(n_jobs=7)]: Done   1 out of   7 | elapsed:    0.0s remaining:    0.2s\n",
        "[Parallel(n_jobs=7)]: Done   7 out of   7 | elapsed:    0.0s finished\n"
       ]
      },
      {
       "output_type": "stream",
       "stream": "stdout",
       "text": [
        " 0.713 1.0\n",
        "pred"
       ]
      },
      {
       "output_type": "stream",
       "stream": "stdout",
       "text": [
        " 0.855 1.0\n",
        "pred"
       ]
      },
      {
       "output_type": "stream",
       "stream": "stderr",
       "text": [
        "[Parallel(n_jobs=7)]: Done   1 out of   7 | elapsed:    0.0s remaining:    0.2s\n",
        "[Parallel(n_jobs=7)]: Done   7 out of   7 | elapsed:    0.0s finished\n",
        "[Parallel(n_jobs=7)]: Done   1 out of   7 | elapsed:    0.0s remaining:    0.2s\n",
        "[Parallel(n_jobs=7)]: Done   7 out of   7 | elapsed:    0.0s finished\n"
       ]
      },
      {
       "output_type": "stream",
       "stream": "stdout",
       "text": [
        " 0.571 0.0\n",
        "pred"
       ]
      },
      {
       "output_type": "stream",
       "stream": "stdout",
       "text": [
        " 0.349 0.0\n",
        "pred"
       ]
      },
      {
       "output_type": "stream",
       "stream": "stderr",
       "text": [
        "[Parallel(n_jobs=7)]: Done   1 out of   7 | elapsed:    0.0s remaining:    0.3s\n",
        "[Parallel(n_jobs=7)]: Done   7 out of   7 | elapsed:    0.0s finished\n",
        "[Parallel(n_jobs=7)]: Done   1 out of   7 | elapsed:    0.0s remaining:    0.2s\n",
        "[Parallel(n_jobs=7)]: Done   7 out of   7 | elapsed:    0.0s finished\n"
       ]
      },
      {
       "output_type": "stream",
       "stream": "stdout",
       "text": [
        " 0.199 0.0\n",
        "pred"
       ]
      },
      {
       "output_type": "stream",
       "stream": "stdout",
       "text": [
        " 0.811 1.0\n",
        "pred"
       ]
      },
      {
       "output_type": "stream",
       "stream": "stderr",
       "text": [
        "[Parallel(n_jobs=7)]: Done   1 out of   7 | elapsed:    0.0s remaining:    0.3s\n",
        "[Parallel(n_jobs=7)]: Done   7 out of   7 | elapsed:    0.1s finished\n",
        "[Parallel(n_jobs=7)]: Done   1 out of   7 | elapsed:    0.0s remaining:    0.3s\n",
        "[Parallel(n_jobs=7)]: Done   7 out of   7 | elapsed:    0.0s finished\n"
       ]
      },
      {
       "output_type": "stream",
       "stream": "stdout",
       "text": [
        " 0.558 1.0\n",
        "pred"
       ]
      },
      {
       "output_type": "stream",
       "stream": "stdout",
       "text": [
        " 0.503 1.0\n",
        "pred"
       ]
      },
      {
       "output_type": "stream",
       "stream": "stderr",
       "text": [
        "[Parallel(n_jobs=7)]: Done   1 out of   7 | elapsed:    0.0s remaining:    0.2s\n",
        "[Parallel(n_jobs=7)]: Done   7 out of   7 | elapsed:    0.0s finished\n",
        "[Parallel(n_jobs=7)]: Done   1 out of   7 | elapsed:    0.0s remaining:    0.3s\n",
        "[Parallel(n_jobs=7)]: Done   7 out of   7 | elapsed:    0.0s finished\n"
       ]
      },
      {
       "output_type": "stream",
       "stream": "stdout",
       "text": [
        " 0.166 0.0\n",
        "pred"
       ]
      },
      {
       "output_type": "stream",
       "stream": "stdout",
       "text": [
        " 0.083 0.0\n",
        "pred"
       ]
      },
      {
       "output_type": "stream",
       "stream": "stderr",
       "text": [
        "[Parallel(n_jobs=7)]: Done   1 out of   7 | elapsed:    0.0s remaining:    0.2s\n",
        "[Parallel(n_jobs=7)]: Done   7 out of   7 | elapsed:    0.0s finished\n",
        "[Parallel(n_jobs=7)]: Done   1 out of   7 | elapsed:    0.0s remaining:    0.3s\n",
        "[Parallel(n_jobs=7)]: Done   7 out of   7 | elapsed:    0.0s finished\n"
       ]
      },
      {
       "output_type": "stream",
       "stream": "stdout",
       "text": [
        " 0.145 0.0\n",
        "pred"
       ]
      },
      {
       "output_type": "stream",
       "stream": "stdout",
       "text": [
        " 0.044 0.0\n",
        "pred"
       ]
      },
      {
       "output_type": "stream",
       "stream": "stderr",
       "text": [
        "[Parallel(n_jobs=7)]: Done   1 out of   7 | elapsed:    0.0s remaining:    0.1s\n",
        "[Parallel(n_jobs=7)]: Done   7 out of   7 | elapsed:    0.0s finished\n",
        "[Parallel(n_jobs=7)]: Done   1 out of   7 | elapsed:    0.0s remaining:    0.1s\n",
        "[Parallel(n_jobs=7)]: Done   7 out of   7 | elapsed:    0.0s finished\n"
       ]
      },
      {
       "output_type": "stream",
       "stream": "stdout",
       "text": [
        " 0.263 1.0\n",
        "pred"
       ]
      },
      {
       "output_type": "stream",
       "stream": "stdout",
       "text": [
        " 0.459 0.0\n",
        "pred"
       ]
      },
      {
       "output_type": "stream",
       "stream": "stderr",
       "text": [
        "[Parallel(n_jobs=7)]: Done   1 out of   7 | elapsed:    0.0s remaining:    0.3s\n",
        "[Parallel(n_jobs=7)]: Done   7 out of   7 | elapsed:    0.0s finished\n",
        "[Parallel(n_jobs=7)]: Done   1 out of   7 | elapsed:    0.0s remaining:    0.2s\n",
        "[Parallel(n_jobs=7)]: Done   7 out of   7 | elapsed:    0.0s finished\n"
       ]
      },
      {
       "output_type": "stream",
       "stream": "stdout",
       "text": [
        " 0.669 1.0\n",
        "pred"
       ]
      },
      {
       "output_type": "stream",
       "stream": "stdout",
       "text": [
        " 0.234 0.0\n",
        "pred"
       ]
      },
      {
       "output_type": "stream",
       "stream": "stderr",
       "text": [
        "[Parallel(n_jobs=7)]: Done   1 out of   7 | elapsed:    0.0s remaining:    0.2s\n",
        "[Parallel(n_jobs=7)]: Done   7 out of   7 | elapsed:    0.0s finished\n",
        "[Parallel(n_jobs=7)]: Done   1 out of   7 | elapsed:    0.0s remaining:    0.2s\n",
        "[Parallel(n_jobs=7)]: Done   7 out of   7 | elapsed:    0.0s finished\n"
       ]
      },
      {
       "output_type": "stream",
       "stream": "stdout",
       "text": [
        " 0.328 0.0\n",
        "pred"
       ]
      },
      {
       "output_type": "stream",
       "stream": "stdout",
       "text": [
        " 0.163 0.0\n",
        "pred"
       ]
      },
      {
       "output_type": "stream",
       "stream": "stderr",
       "text": [
        "[Parallel(n_jobs=7)]: Done   1 out of   7 | elapsed:    0.0s remaining:    0.3s\n",
        "[Parallel(n_jobs=7)]: Done   7 out of   7 | elapsed:    0.1s finished\n",
        "[Parallel(n_jobs=7)]: Done   1 out of   7 | elapsed:    0.0s remaining:    0.3s\n",
        "[Parallel(n_jobs=7)]: Done   7 out of   7 | elapsed:    0.0s finished\n"
       ]
      },
      {
       "output_type": "stream",
       "stream": "stdout",
       "text": [
        " 0.957 1.0\n",
        "pred"
       ]
      },
      {
       "output_type": "stream",
       "stream": "stdout",
       "text": [
        " 0.562 0.0\n",
        "pred"
       ]
      },
      {
       "output_type": "stream",
       "stream": "stderr",
       "text": [
        "[Parallel(n_jobs=7)]: Done   1 out of   7 | elapsed:    0.0s remaining:    0.2s\n",
        "[Parallel(n_jobs=7)]: Done   7 out of   7 | elapsed:    0.0s finished\n",
        "[Parallel(n_jobs=7)]: Done   1 out of   7 | elapsed:    0.0s remaining:    0.2s\n",
        "[Parallel(n_jobs=7)]: Done   7 out of   7 | elapsed:    0.0s finished\n"
       ]
      },
      {
       "output_type": "stream",
       "stream": "stdout",
       "text": [
        " 0.244 0.0\n",
        "pred"
       ]
      },
      {
       "output_type": "stream",
       "stream": "stdout",
       "text": [
        " 0.798 1.0\n",
        "pred"
       ]
      },
      {
       "output_type": "stream",
       "stream": "stderr",
       "text": [
        "[Parallel(n_jobs=7)]: Done   1 out of   7 | elapsed:    0.0s remaining:    0.3s\n",
        "[Parallel(n_jobs=7)]: Done   7 out of   7 | elapsed:    0.0s finished\n",
        "[Parallel(n_jobs=7)]: Done   1 out of   7 | elapsed:    0.0s remaining:    0.3s\n",
        "[Parallel(n_jobs=7)]: Done   7 out of   7 | elapsed:    0.0s finished\n"
       ]
      },
      {
       "output_type": "stream",
       "stream": "stdout",
       "text": [
        " 0.663 1.0\n",
        "pred"
       ]
      },
      {
       "output_type": "stream",
       "stream": "stdout",
       "text": [
        " 0.514 0.0\n",
        "pred"
       ]
      },
      {
       "output_type": "stream",
       "stream": "stderr",
       "text": [
        "[Parallel(n_jobs=7)]: Done   1 out of   7 | elapsed:    0.0s remaining:    0.3s\n",
        "[Parallel(n_jobs=7)]: Done   7 out of   7 | elapsed:    0.0s finished\n",
        "[Parallel(n_jobs=7)]: Done   1 out of   7 | elapsed:    0.0s remaining:    0.3s\n",
        "[Parallel(n_jobs=7)]: Done   7 out of   7 | elapsed:    0.0s finished\n"
       ]
      },
      {
       "output_type": "stream",
       "stream": "stdout",
       "text": [
        " 0.054 0.0\n",
        "pred"
       ]
      },
      {
       "output_type": "stream",
       "stream": "stdout",
       "text": [
        " 0.317 0.0\n",
        "pred"
       ]
      },
      {
       "output_type": "stream",
       "stream": "stderr",
       "text": [
        "[Parallel(n_jobs=7)]: Done   1 out of   7 | elapsed:    0.0s remaining:    0.2s\n",
        "[Parallel(n_jobs=7)]: Done   7 out of   7 | elapsed:    0.0s finished\n",
        "[Parallel(n_jobs=7)]: Done   1 out of   7 | elapsed:    0.0s remaining:    0.2s\n",
        "[Parallel(n_jobs=7)]: Done   7 out of   7 | elapsed:    0.0s finished\n"
       ]
      },
      {
       "output_type": "stream",
       "stream": "stdout",
       "text": [
        " 0.57 1.0\n",
        "pred"
       ]
      },
      {
       "output_type": "stream",
       "stream": "stdout",
       "text": [
        " 0.979 1.0\n",
        "pred"
       ]
      },
      {
       "output_type": "stream",
       "stream": "stderr",
       "text": [
        "[Parallel(n_jobs=7)]: Done   1 out of   7 | elapsed:    0.0s remaining:    0.2s\n",
        "[Parallel(n_jobs=7)]: Done   7 out of   7 | elapsed:    0.0s finished\n",
        "[Parallel(n_jobs=7)]: Done   1 out of   7 | elapsed:    0.0s remaining:    0.3s\n",
        "[Parallel(n_jobs=7)]: Done   7 out of   7 | elapsed:    0.0s finished\n"
       ]
      },
      {
       "output_type": "stream",
       "stream": "stdout",
       "text": [
        " 0.554 0.0\n",
        "pred"
       ]
      },
      {
       "output_type": "stream",
       "stream": "stdout",
       "text": [
        " 0.711 1.0\n",
        "pred"
       ]
      },
      {
       "output_type": "stream",
       "stream": "stderr",
       "text": [
        "[Parallel(n_jobs=7)]: Done   1 out of   7 | elapsed:    0.0s remaining:    0.2s\n",
        "[Parallel(n_jobs=7)]: Done   7 out of   7 | elapsed:    0.0s finished\n",
        "[Parallel(n_jobs=7)]: Done   1 out of   7 | elapsed:    0.0s remaining:    0.2s\n",
        "[Parallel(n_jobs=7)]: Done   7 out of   7 | elapsed:    0.0s finished\n"
       ]
      },
      {
       "output_type": "stream",
       "stream": "stdout",
       "text": [
        " 0.149 0.0\n",
        "pred"
       ]
      },
      {
       "output_type": "stream",
       "stream": "stdout",
       "text": [
        " 0.796 1.0\n",
        "pred"
       ]
      },
      {
       "output_type": "stream",
       "stream": "stderr",
       "text": [
        "[Parallel(n_jobs=7)]: Done   1 out of   7 | elapsed:    0.0s remaining:    0.3s\n",
        "[Parallel(n_jobs=7)]: Done   7 out of   7 | elapsed:    0.0s finished\n",
        "[Parallel(n_jobs=7)]: Done   1 out of   7 | elapsed:    0.0s remaining:    0.3s\n",
        "[Parallel(n_jobs=7)]: Done   7 out of   7 | elapsed:    0.0s finished\n"
       ]
      },
      {
       "output_type": "stream",
       "stream": "stdout",
       "text": [
        " 0.064 0.0\n",
        "pred"
       ]
      },
      {
       "output_type": "stream",
       "stream": "stdout",
       "text": [
        " 0.13 nan\n",
        "pred"
       ]
      },
      {
       "output_type": "stream",
       "stream": "stderr",
       "text": [
        "[Parallel(n_jobs=7)]: Done   1 out of   7 | elapsed:    0.0s remaining:    0.2s\n",
        "[Parallel(n_jobs=7)]: Done   7 out of   7 | elapsed:    0.0s finished\n",
        "[Parallel(n_jobs=7)]: Done   1 out of   7 | elapsed:    0.0s remaining:    0.3s\n",
        "[Parallel(n_jobs=7)]: Done   7 out of   7 | elapsed:    0.0s finished\n"
       ]
      },
      {
       "output_type": "stream",
       "stream": "stdout",
       "text": [
        " 0.605 0.0\n",
        "pred"
       ]
      },
      {
       "output_type": "stream",
       "stream": "stdout",
       "text": [
        " 0.122 1.0\n",
        "pred"
       ]
      },
      {
       "output_type": "stream",
       "stream": "stderr",
       "text": [
        "[Parallel(n_jobs=7)]: Done   1 out of   7 | elapsed:    0.0s remaining:    0.3s\n",
        "[Parallel(n_jobs=7)]: Done   7 out of   7 | elapsed:    0.0s finished\n",
        "[Parallel(n_jobs=7)]: Done   1 out of   7 | elapsed:    0.0s remaining:    0.2s\n",
        "[Parallel(n_jobs=7)]: Done   7 out of   7 | elapsed:    0.0s finished\n"
       ]
      },
      {
       "output_type": "stream",
       "stream": "stdout",
       "text": [
        " 0.802 1.0\n",
        "pred"
       ]
      },
      {
       "output_type": "stream",
       "stream": "stdout",
       "text": [
        " 0.477 1.0\n",
        "pred"
       ]
      },
      {
       "output_type": "stream",
       "stream": "stderr",
       "text": [
        "[Parallel(n_jobs=7)]: Done   1 out of   7 | elapsed:    0.0s remaining:    0.3s\n",
        "[Parallel(n_jobs=7)]: Done   7 out of   7 | elapsed:    0.0s finished\n",
        "[Parallel(n_jobs=7)]: Done   1 out of   7 | elapsed:    0.0s remaining:    0.3s\n",
        "[Parallel(n_jobs=7)]: Done   7 out of   7 | elapsed:    0.0s finished\n"
       ]
      },
      {
       "output_type": "stream",
       "stream": "stdout",
       "text": [
        " 0.062 nan\n",
        "pred"
       ]
      },
      {
       "output_type": "stream",
       "stream": "stdout",
       "text": [
        " 0.449 0.0\n",
        "pred"
       ]
      },
      {
       "output_type": "stream",
       "stream": "stderr",
       "text": [
        "[Parallel(n_jobs=7)]: Done   1 out of   7 | elapsed:    0.0s remaining:    0.2s\n",
        "[Parallel(n_jobs=7)]: Done   7 out of   7 | elapsed:    0.0s finished\n",
        "[Parallel(n_jobs=7)]: Done   1 out of   7 | elapsed:    0.0s remaining:    0.2s\n",
        "[Parallel(n_jobs=7)]: Done   7 out of   7 | elapsed:    0.0s finished\n"
       ]
      },
      {
       "output_type": "stream",
       "stream": "stdout",
       "text": [
        " 0.022 0.0\n",
        "pred"
       ]
      },
      {
       "output_type": "stream",
       "stream": "stdout",
       "text": [
        " 0.071 0.0\n",
        "pred"
       ]
      },
      {
       "output_type": "stream",
       "stream": "stderr",
       "text": [
        "[Parallel(n_jobs=7)]: Done   1 out of   7 | elapsed:    0.0s remaining:    0.2s\n",
        "[Parallel(n_jobs=7)]: Done   7 out of   7 | elapsed:    0.0s finished\n",
        "[Parallel(n_jobs=7)]: Done   1 out of   7 | elapsed:    0.0s remaining:    0.3s\n",
        "[Parallel(n_jobs=7)]: Done   7 out of   7 | elapsed:    0.1s finished\n"
       ]
      },
      {
       "output_type": "stream",
       "stream": "stdout",
       "text": [
        " 0.246 0.0\n",
        "pred"
       ]
      },
      {
       "output_type": "stream",
       "stream": "stdout",
       "text": [
        " 0.412 1.0\n",
        "pred"
       ]
      },
      {
       "output_type": "stream",
       "stream": "stderr",
       "text": [
        "[Parallel(n_jobs=7)]: Done   1 out of   7 | elapsed:    0.0s remaining:    0.3s\n",
        "[Parallel(n_jobs=7)]: Done   7 out of   7 | elapsed:    0.0s finished\n",
        "[Parallel(n_jobs=7)]: Done   1 out of   7 | elapsed:    0.0s remaining:    0.3s\n",
        "[Parallel(n_jobs=7)]: Done   7 out of   7 | elapsed:    0.0s finished\n"
       ]
      },
      {
       "output_type": "stream",
       "stream": "stdout",
       "text": [
        " 0.559 1.0\n",
        "pred"
       ]
      },
      {
       "output_type": "stream",
       "stream": "stdout",
       "text": [
        " 0.216 1.0\n",
        "pred"
       ]
      },
      {
       "output_type": "stream",
       "stream": "stderr",
       "text": [
        "[Parallel(n_jobs=7)]: Done   1 out of   7 | elapsed:    0.0s remaining:    0.2s\n",
        "[Parallel(n_jobs=7)]: Done   7 out of   7 | elapsed:    0.0s finished\n",
        "[Parallel(n_jobs=7)]: Done   1 out of   7 | elapsed:    0.0s remaining:    0.2s\n",
        "[Parallel(n_jobs=7)]: Done   7 out of   7 | elapsed:    0.0s finished\n"
       ]
      },
      {
       "output_type": "stream",
       "stream": "stdout",
       "text": [
        " 0.527 1.0\n",
        "pred"
       ]
      },
      {
       "output_type": "stream",
       "stream": "stdout",
       "text": [
        " 0.547 1.0\n",
        "pred"
       ]
      },
      {
       "output_type": "stream",
       "stream": "stderr",
       "text": [
        "[Parallel(n_jobs=7)]: Done   1 out of   7 | elapsed:    0.0s remaining:    0.2s\n",
        "[Parallel(n_jobs=7)]: Done   7 out of   7 | elapsed:    0.0s finished\n",
        "[Parallel(n_jobs=7)]: Done   1 out of   7 | elapsed:    0.0s remaining:    0.2s\n",
        "[Parallel(n_jobs=7)]: Done   7 out of   7 | elapsed:    0.0s finished\n"
       ]
      },
      {
       "output_type": "stream",
       "stream": "stdout",
       "text": [
        " 0.752 0.0\n",
        "pred"
       ]
      },
      {
       "output_type": "stream",
       "stream": "stdout",
       "text": [
        " 0.689 1.0\n",
        "pred"
       ]
      },
      {
       "output_type": "stream",
       "stream": "stderr",
       "text": [
        "[Parallel(n_jobs=7)]: Done   1 out of   7 | elapsed:    0.0s remaining:    0.2s\n",
        "[Parallel(n_jobs=7)]: Done   7 out of   7 | elapsed:    0.0s finished\n",
        "[Parallel(n_jobs=7)]: Done   1 out of   7 | elapsed:    0.0s remaining:    0.2s\n",
        "[Parallel(n_jobs=7)]: Done   7 out of   7 | elapsed:    0.0s finished\n"
       ]
      },
      {
       "output_type": "stream",
       "stream": "stdout",
       "text": [
        " 0.909 1.0\n",
        "pred"
       ]
      },
      {
       "output_type": "stream",
       "stream": "stdout",
       "text": [
        " 0.341 0.0\n",
        "pred"
       ]
      },
      {
       "output_type": "stream",
       "stream": "stderr",
       "text": [
        "[Parallel(n_jobs=7)]: Done   1 out of   7 | elapsed:    0.0s remaining:    0.3s\n",
        "[Parallel(n_jobs=7)]: Done   7 out of   7 | elapsed:    0.0s finished\n",
        "[Parallel(n_jobs=7)]: Done   1 out of   7 | elapsed:    0.0s remaining:    0.3s\n",
        "[Parallel(n_jobs=7)]: Done   7 out of   7 | elapsed:    0.0s finished\n"
       ]
      },
      {
       "output_type": "stream",
       "stream": "stdout",
       "text": [
        " 0.565 1.0\n",
        "pred"
       ]
      },
      {
       "output_type": "stream",
       "stream": "stdout",
       "text": [
        " 0.634 nan\n",
        "pred"
       ]
      },
      {
       "output_type": "stream",
       "stream": "stderr",
       "text": [
        "[Parallel(n_jobs=7)]: Done   1 out of   7 | elapsed:    0.0s remaining:    0.2s\n",
        "[Parallel(n_jobs=7)]: Done   7 out of   7 | elapsed:    0.1s finished\n",
        "[Parallel(n_jobs=7)]: Done   1 out of   7 | elapsed:    0.0s remaining:    0.3s\n",
        "[Parallel(n_jobs=7)]: Done   7 out of   7 | elapsed:    0.0s finished\n"
       ]
      },
      {
       "output_type": "stream",
       "stream": "stdout",
       "text": [
        " 0.332 0.0\n",
        "pred"
       ]
      },
      {
       "output_type": "stream",
       "stream": "stdout",
       "text": [
        " 0.298 1.0\n",
        "pred"
       ]
      },
      {
       "output_type": "stream",
       "stream": "stderr",
       "text": [
        "[Parallel(n_jobs=7)]: Done   1 out of   7 | elapsed:    0.0s remaining:    0.3s\n",
        "[Parallel(n_jobs=7)]: Done   7 out of   7 | elapsed:    0.0s finished\n",
        "[Parallel(n_jobs=7)]: Done   1 out of   7 | elapsed:    0.0s remaining:    0.3s\n",
        "[Parallel(n_jobs=7)]: Done   7 out of   7 | elapsed:    0.0s finished\n"
       ]
      },
      {
       "output_type": "stream",
       "stream": "stdout",
       "text": [
        " 0.312 1.0\n",
        "pred"
       ]
      },
      {
       "output_type": "stream",
       "stream": "stdout",
       "text": [
        " 1.0 1.0\n",
        "pred"
       ]
      },
      {
       "output_type": "stream",
       "stream": "stderr",
       "text": [
        "[Parallel(n_jobs=7)]: Done   1 out of   7 | elapsed:    0.0s remaining:    0.2s\n",
        "[Parallel(n_jobs=7)]: Done   7 out of   7 | elapsed:    0.0s finished\n",
        "[Parallel(n_jobs=7)]: Done   1 out of   7 | elapsed:    0.0s remaining:    0.2s\n",
        "[Parallel(n_jobs=7)]: Done   7 out of   7 | elapsed:    0.0s finished\n"
       ]
      },
      {
       "output_type": "stream",
       "stream": "stdout",
       "text": [
        " 0.926 1.0\n",
        "pred"
       ]
      },
      {
       "output_type": "stream",
       "stream": "stdout",
       "text": [
        " 0.907 1.0\n",
        "pred"
       ]
      },
      {
       "output_type": "stream",
       "stream": "stderr",
       "text": [
        "[Parallel(n_jobs=7)]: Done   1 out of   7 | elapsed:    0.0s remaining:    0.2s\n",
        "[Parallel(n_jobs=7)]: Done   7 out of   7 | elapsed:    0.0s finished\n",
        "[Parallel(n_jobs=7)]: Done   1 out of   7 | elapsed:    0.0s remaining:    0.3s\n",
        "[Parallel(n_jobs=7)]: Done   7 out of   7 | elapsed:    0.0s finished\n"
       ]
      },
      {
       "output_type": "stream",
       "stream": "stdout",
       "text": [
        " 0.672 1.0\n",
        "pred"
       ]
      },
      {
       "output_type": "stream",
       "stream": "stdout",
       "text": [
        " 0.34 1.0\n",
        "pred"
       ]
      },
      {
       "output_type": "stream",
       "stream": "stderr",
       "text": [
        "[Parallel(n_jobs=7)]: Done   1 out of   7 | elapsed:    0.0s remaining:    0.2s\n",
        "[Parallel(n_jobs=7)]: Done   7 out of   7 | elapsed:    0.0s finished\n",
        "[Parallel(n_jobs=7)]: Done   1 out of   7 | elapsed:    0.0s remaining:    0.2s\n",
        "[Parallel(n_jobs=7)]: Done   7 out of   7 | elapsed:    0.0s finished\n"
       ]
      },
      {
       "output_type": "stream",
       "stream": "stdout",
       "text": [
        " 0.651 1.0\n",
        "pred"
       ]
      },
      {
       "output_type": "stream",
       "stream": "stdout",
       "text": [
        " 0.387 0.0\n",
        "pred"
       ]
      },
      {
       "output_type": "stream",
       "stream": "stderr",
       "text": [
        "[Parallel(n_jobs=7)]: Done   1 out of   7 | elapsed:    0.0s remaining:    0.2s\n",
        "[Parallel(n_jobs=7)]: Done   7 out of   7 | elapsed:    0.0s finished\n",
        "[Parallel(n_jobs=7)]: Done   1 out of   7 | elapsed:    0.0s remaining:    0.2s\n",
        "[Parallel(n_jobs=7)]: Done   7 out of   7 | elapsed:    0.0s finished\n"
       ]
      },
      {
       "output_type": "stream",
       "stream": "stdout",
       "text": [
        " 0.173 0.0\n",
        "pred"
       ]
      },
      {
       "output_type": "stream",
       "stream": "stdout",
       "text": [
        " 0.752 1.0\n",
        "pred"
       ]
      },
      {
       "output_type": "stream",
       "stream": "stderr",
       "text": [
        "[Parallel(n_jobs=7)]: Done   1 out of   7 | elapsed:    0.0s remaining:    0.1s\n",
        "[Parallel(n_jobs=7)]: Done   7 out of   7 | elapsed:    0.0s finished\n",
        "[Parallel(n_jobs=7)]: Done   1 out of   7 | elapsed:    0.0s remaining:    0.3s\n",
        "[Parallel(n_jobs=7)]: Done   7 out of   7 | elapsed:    0.0s finished\n"
       ]
      },
      {
       "output_type": "stream",
       "stream": "stdout",
       "text": [
        " 0.486 0.0\n",
        "pred"
       ]
      },
      {
       "output_type": "stream",
       "stream": "stdout",
       "text": [
        " 0.207 0.0\n",
        "pred"
       ]
      },
      {
       "output_type": "stream",
       "stream": "stderr",
       "text": [
        "[Parallel(n_jobs=7)]: Done   1 out of   7 | elapsed:    0.0s remaining:    0.3s\n",
        "[Parallel(n_jobs=7)]: Done   7 out of   7 | elapsed:    0.0s finished\n",
        "[Parallel(n_jobs=7)]: Done   1 out of   7 | elapsed:    0.0s remaining:    0.3s\n",
        "[Parallel(n_jobs=7)]: Done   7 out of   7 | elapsed:    0.0s finished\n"
       ]
      },
      {
       "output_type": "stream",
       "stream": "stdout",
       "text": [
        " 0.52 1.0\n",
        "pred"
       ]
      },
      {
       "output_type": "stream",
       "stream": "stdout",
       "text": [
        " 0.19 0.0\n",
        "pred"
       ]
      },
      {
       "output_type": "stream",
       "stream": "stderr",
       "text": [
        "[Parallel(n_jobs=7)]: Done   1 out of   7 | elapsed:    0.0s remaining:    0.2s\n",
        "[Parallel(n_jobs=7)]: Done   7 out of   7 | elapsed:    0.0s finished\n",
        "[Parallel(n_jobs=7)]: Done   1 out of   7 | elapsed:    0.0s remaining:    0.2s\n",
        "[Parallel(n_jobs=7)]: Done   7 out of   7 | elapsed:    0.0s finished\n"
       ]
      },
      {
       "output_type": "stream",
       "stream": "stdout",
       "text": [
        " 0.59 1.0\n",
        "pred"
       ]
      },
      {
       "output_type": "stream",
       "stream": "stdout",
       "text": [
        " 0.119 0.0\n",
        "pred"
       ]
      },
      {
       "output_type": "stream",
       "stream": "stderr",
       "text": [
        "[Parallel(n_jobs=7)]: Done   1 out of   7 | elapsed:    0.0s remaining:    0.2s\n",
        "[Parallel(n_jobs=7)]: Done   7 out of   7 | elapsed:    0.0s finished\n",
        "[Parallel(n_jobs=7)]: Done   1 out of   7 | elapsed:    0.0s remaining:    0.3s\n",
        "[Parallel(n_jobs=7)]: Done   7 out of   7 | elapsed:    0.0s finished\n"
       ]
      },
      {
       "output_type": "stream",
       "stream": "stdout",
       "text": [
        " 0.808 1.0\n",
        "pred"
       ]
      },
      {
       "output_type": "stream",
       "stream": "stdout",
       "text": [
        " 0.828 0.0\n",
        "pred"
       ]
      },
      {
       "output_type": "stream",
       "stream": "stderr",
       "text": [
        "[Parallel(n_jobs=7)]: Done   1 out of   7 | elapsed:    0.0s remaining:    0.2s\n",
        "[Parallel(n_jobs=7)]: Done   7 out of   7 | elapsed:    0.0s finished\n",
        "[Parallel(n_jobs=7)]: Done   1 out of   7 | elapsed:    0.0s remaining:    0.3s\n",
        "[Parallel(n_jobs=7)]: Done   7 out of   7 | elapsed:    0.0s finished\n"
       ]
      },
      {
       "output_type": "stream",
       "stream": "stdout",
       "text": [
        " 0.431 1.0\n",
        "pred"
       ]
      },
      {
       "output_type": "stream",
       "stream": "stdout",
       "text": [
        " 0.502 0.0\n",
        "pred"
       ]
      },
      {
       "output_type": "stream",
       "stream": "stderr",
       "text": [
        "[Parallel(n_jobs=7)]: Done   1 out of   7 | elapsed:    0.0s remaining:    0.2s\n",
        "[Parallel(n_jobs=7)]: Done   7 out of   7 | elapsed:    0.0s finished\n",
        "[Parallel(n_jobs=7)]: Done   1 out of   7 | elapsed:    0.0s remaining:    0.2s\n",
        "[Parallel(n_jobs=7)]: Done   7 out of   7 | elapsed:    0.0s finished\n"
       ]
      },
      {
       "output_type": "stream",
       "stream": "stdout",
       "text": [
        " 0.54 1.0\n",
        "pred"
       ]
      },
      {
       "output_type": "stream",
       "stream": "stdout",
       "text": [
        " 0.224 1.0\n",
        "pred"
       ]
      },
      {
       "output_type": "stream",
       "stream": "stderr",
       "text": [
        "[Parallel(n_jobs=7)]: Done   1 out of   7 | elapsed:    0.0s remaining:    0.3s\n",
        "[Parallel(n_jobs=7)]: Done   7 out of   7 | elapsed:    0.0s finished\n",
        "[Parallel(n_jobs=7)]: Done   1 out of   7 | elapsed:    0.0s remaining:    0.3s\n",
        "[Parallel(n_jobs=7)]: Done   7 out of   7 | elapsed:    0.0s finished\n"
       ]
      },
      {
       "output_type": "stream",
       "stream": "stdout",
       "text": [
        " 0.892 1.0\n",
        "pred"
       ]
      },
      {
       "output_type": "stream",
       "stream": "stdout",
       "text": [
        " 0.617 1.0\n",
        "pred"
       ]
      },
      {
       "output_type": "stream",
       "stream": "stderr",
       "text": [
        "[Parallel(n_jobs=7)]: Done   1 out of   7 | elapsed:    0.0s remaining:    0.3s\n",
        "[Parallel(n_jobs=7)]: Done   7 out of   7 | elapsed:    0.0s finished\n",
        "[Parallel(n_jobs=7)]: Done   1 out of   7 | elapsed:    0.0s remaining:    0.2s\n",
        "[Parallel(n_jobs=7)]: Done   7 out of   7 | elapsed:    0.0s finished\n"
       ]
      },
      {
       "output_type": "stream",
       "stream": "stdout",
       "text": [
        " 0.039 0.0\n",
        "pred"
       ]
      },
      {
       "output_type": "stream",
       "stream": "stdout",
       "text": [
        " 0.714 0.0\n",
        "pred"
       ]
      },
      {
       "output_type": "stream",
       "stream": "stderr",
       "text": [
        "[Parallel(n_jobs=7)]: Done   1 out of   7 | elapsed:    0.0s remaining:    0.3s\n",
        "[Parallel(n_jobs=7)]: Done   7 out of   7 | elapsed:    0.0s finished\n",
        "[Parallel(n_jobs=7)]: Done   1 out of   7 | elapsed:    0.0s remaining:    0.2s\n",
        "[Parallel(n_jobs=7)]: Done   7 out of   7 | elapsed:    0.0s finished\n"
       ]
      },
      {
       "output_type": "stream",
       "stream": "stdout",
       "text": [
        " 0.22 0.0\n",
        "pred"
       ]
      },
      {
       "output_type": "stream",
       "stream": "stdout",
       "text": [
        " 0.277 1.0\n",
        "pred"
       ]
      },
      {
       "output_type": "stream",
       "stream": "stderr",
       "text": [
        "[Parallel(n_jobs=7)]: Done   1 out of   7 | elapsed:    0.0s remaining:    0.2s\n",
        "[Parallel(n_jobs=7)]: Done   7 out of   7 | elapsed:    0.0s finished\n",
        "[Parallel(n_jobs=7)]: Done   1 out of   7 | elapsed:    0.0s remaining:    0.3s\n",
        "[Parallel(n_jobs=7)]: Done   7 out of   7 | elapsed:    0.0s finished\n"
       ]
      },
      {
       "output_type": "stream",
       "stream": "stdout",
       "text": [
        " 0.329 1.0\n",
        "pred"
       ]
      },
      {
       "output_type": "stream",
       "stream": "stdout",
       "text": [
        " 0.571 1.0\n",
        "pred"
       ]
      },
      {
       "output_type": "stream",
       "stream": "stderr",
       "text": [
        "[Parallel(n_jobs=7)]: Done   1 out of   7 | elapsed:    0.0s remaining:    0.2s\n",
        "[Parallel(n_jobs=7)]: Done   7 out of   7 | elapsed:    0.0s finished\n",
        "[Parallel(n_jobs=7)]: Done   1 out of   7 | elapsed:    0.0s remaining:    0.2s\n",
        "[Parallel(n_jobs=7)]: Done   7 out of   7 | elapsed:    0.0s finished\n"
       ]
      },
      {
       "output_type": "stream",
       "stream": "stdout",
       "text": [
        " 0.735 0.0\n",
        "pred"
       ]
      },
      {
       "output_type": "stream",
       "stream": "stdout",
       "text": [
        " 0.193 0.0\n",
        "pred"
       ]
      },
      {
       "output_type": "stream",
       "stream": "stderr",
       "text": [
        "[Parallel(n_jobs=7)]: Done   1 out of   7 | elapsed:    0.0s remaining:    0.3s\n",
        "[Parallel(n_jobs=7)]: Done   7 out of   7 | elapsed:    0.0s finished\n",
        "[Parallel(n_jobs=7)]: Done   1 out of   7 | elapsed:    0.0s remaining:    0.3s\n",
        "[Parallel(n_jobs=7)]: Done   7 out of   7 | elapsed:    0.1s finished\n"
       ]
      },
      {
       "output_type": "stream",
       "stream": "stdout",
       "text": [
        " 0.009 0.0\n",
        "pred"
       ]
      },
      {
       "output_type": "stream",
       "stream": "stdout",
       "text": [
        " 0.681 1.0\n",
        "pred"
       ]
      },
      {
       "output_type": "stream",
       "stream": "stderr",
       "text": [
        "[Parallel(n_jobs=7)]: Done   1 out of   7 | elapsed:    0.0s remaining:    0.2s\n",
        "[Parallel(n_jobs=7)]: Done   7 out of   7 | elapsed:    0.0s finished\n",
        "[Parallel(n_jobs=7)]: Done   1 out of   7 | elapsed:    0.0s remaining:    0.2s\n",
        "[Parallel(n_jobs=7)]: Done   7 out of   7 | elapsed:    0.0s finished\n"
       ]
      },
      {
       "output_type": "stream",
       "stream": "stdout",
       "text": [
        " 0.155 0.0\n",
        "pred"
       ]
      },
      {
       "output_type": "stream",
       "stream": "stdout",
       "text": [
        " 0.97 1.0\n",
        "pred"
       ]
      },
      {
       "output_type": "stream",
       "stream": "stderr",
       "text": [
        "[Parallel(n_jobs=7)]: Done   1 out of   7 | elapsed:    0.0s remaining:    0.2s\n",
        "[Parallel(n_jobs=7)]: Done   7 out of   7 | elapsed:    0.0s finished\n",
        "[Parallel(n_jobs=7)]: Done   1 out of   7 | elapsed:    0.0s remaining:    0.1s\n",
        "[Parallel(n_jobs=7)]: Done   7 out of   7 | elapsed:    0.0s finished\n"
       ]
      },
      {
       "output_type": "stream",
       "stream": "stdout",
       "text": [
        " 0.359 0.0\n",
        "pred"
       ]
      },
      {
       "output_type": "stream",
       "stream": "stdout",
       "text": [
        " 0.961 1.0\n",
        "pred"
       ]
      },
      {
       "output_type": "stream",
       "stream": "stderr",
       "text": [
        "[Parallel(n_jobs=7)]: Done   1 out of   7 | elapsed:    0.0s remaining:    0.2s\n",
        "[Parallel(n_jobs=7)]: Done   7 out of   7 | elapsed:    0.0s finished\n",
        "[Parallel(n_jobs=7)]: Done   1 out of   7 | elapsed:    0.0s remaining:    0.3s\n",
        "[Parallel(n_jobs=7)]: Done   7 out of   7 | elapsed:    0.0s finished\n"
       ]
      },
      {
       "output_type": "stream",
       "stream": "stdout",
       "text": [
        " 0.848 1.0\n",
        "pred"
       ]
      },
      {
       "output_type": "stream",
       "stream": "stdout",
       "text": [
        " 0.517 0.0\n",
        "pred"
       ]
      },
      {
       "output_type": "stream",
       "stream": "stderr",
       "text": [
        "[Parallel(n_jobs=7)]: Done   1 out of   7 | elapsed:    0.1s remaining:    0.5s\n",
        "[Parallel(n_jobs=7)]: Done   7 out of   7 | elapsed:    0.1s finished\n",
        "[Parallel(n_jobs=7)]: Done   1 out of   7 | elapsed:    0.0s remaining:    0.2s\n",
        "[Parallel(n_jobs=7)]: Done   7 out of   7 | elapsed:    0.0s finished\n"
       ]
      },
      {
       "output_type": "stream",
       "stream": "stdout",
       "text": [
        " 0.506 1.0\n",
        "pred"
       ]
      },
      {
       "output_type": "stream",
       "stream": "stdout",
       "text": [
        " 0.831 1.0\n",
        "pred"
       ]
      },
      {
       "output_type": "stream",
       "stream": "stderr",
       "text": [
        "[Parallel(n_jobs=7)]: Done   1 out of   7 | elapsed:    0.0s remaining:    0.2s\n",
        "[Parallel(n_jobs=7)]: Done   7 out of   7 | elapsed:    0.0s finished\n",
        "[Parallel(n_jobs=7)]: Done   1 out of   7 | elapsed:    0.0s remaining:    0.3s\n",
        "[Parallel(n_jobs=7)]: Done   7 out of   7 | elapsed:    0.0s finished\n"
       ]
      },
      {
       "output_type": "stream",
       "stream": "stdout",
       "text": [
        " 0.421 nan\n",
        "pred"
       ]
      },
      {
       "output_type": "stream",
       "stream": "stdout",
       "text": [
        " 0.306 0.0\n",
        "pred"
       ]
      },
      {
       "output_type": "stream",
       "stream": "stderr",
       "text": [
        "[Parallel(n_jobs=7)]: Done   1 out of   7 | elapsed:    0.0s remaining:    0.2s\n",
        "[Parallel(n_jobs=7)]: Done   7 out of   7 | elapsed:    0.0s finished\n",
        "[Parallel(n_jobs=7)]: Done   1 out of   7 | elapsed:    0.0s remaining:    0.2s\n",
        "[Parallel(n_jobs=7)]: Done   7 out of   7 | elapsed:    0.0s finished\n"
       ]
      },
      {
       "output_type": "stream",
       "stream": "stdout",
       "text": [
        " 0.698 1.0\n",
        "pred"
       ]
      },
      {
       "output_type": "stream",
       "stream": "stdout",
       "text": [
        " 0.38 0.0\n",
        "pred"
       ]
      },
      {
       "output_type": "stream",
       "stream": "stderr",
       "text": [
        "[Parallel(n_jobs=7)]: Done   1 out of   7 | elapsed:    0.0s remaining:    0.2s\n",
        "[Parallel(n_jobs=7)]: Done   7 out of   7 | elapsed:    0.0s finished\n",
        "[Parallel(n_jobs=7)]: Done   1 out of   7 | elapsed:    0.0s remaining:    0.2s\n",
        "[Parallel(n_jobs=7)]: Done   7 out of   7 | elapsed:    0.0s finished\n"
       ]
      },
      {
       "output_type": "stream",
       "stream": "stdout",
       "text": [
        " 0.867 1.0\n",
        "pred"
       ]
      },
      {
       "output_type": "stream",
       "stream": "stdout",
       "text": [
        " 0.701 1.0\n",
        "pred"
       ]
      },
      {
       "output_type": "stream",
       "stream": "stderr",
       "text": [
        "[Parallel(n_jobs=7)]: Done   1 out of   7 | elapsed:    0.0s remaining:    0.3s\n",
        "[Parallel(n_jobs=7)]: Done   7 out of   7 | elapsed:    0.0s finished\n",
        "[Parallel(n_jobs=7)]: Done   1 out of   7 | elapsed:    0.0s remaining:    0.3s\n",
        "[Parallel(n_jobs=7)]: Done   7 out of   7 | elapsed:    0.0s finished\n"
       ]
      },
      {
       "output_type": "stream",
       "stream": "stdout",
       "text": [
        " 0.34 0.0\n",
        "pred"
       ]
      },
      {
       "output_type": "stream",
       "stream": "stdout",
       "text": [
        " 0.503 nan\n",
        "pred"
       ]
      },
      {
       "output_type": "stream",
       "stream": "stderr",
       "text": [
        "[Parallel(n_jobs=7)]: Done   1 out of   7 | elapsed:    0.0s remaining:    0.3s\n",
        "[Parallel(n_jobs=7)]: Done   7 out of   7 | elapsed:    0.0s finished\n",
        "[Parallel(n_jobs=7)]: Done   1 out of   7 | elapsed:    0.0s remaining:    0.2s\n",
        "[Parallel(n_jobs=7)]: Done   7 out of   7 | elapsed:    0.0s finished\n"
       ]
      },
      {
       "output_type": "stream",
       "stream": "stdout",
       "text": [
        " 0.197 0.0\n",
        "pred"
       ]
      },
      {
       "output_type": "stream",
       "stream": "stdout",
       "text": [
        " 0.376 nan\n",
        "pred"
       ]
      },
      {
       "output_type": "stream",
       "stream": "stderr",
       "text": [
        "[Parallel(n_jobs=7)]: Done   1 out of   7 | elapsed:    0.0s remaining:    0.3s\n",
        "[Parallel(n_jobs=7)]: Done   7 out of   7 | elapsed:    0.0s finished\n",
        "[Parallel(n_jobs=7)]: Done   1 out of   7 | elapsed:    0.0s remaining:    0.2s\n",
        "[Parallel(n_jobs=7)]: Done   7 out of   7 | elapsed:    0.0s finished\n"
       ]
      },
      {
       "output_type": "stream",
       "stream": "stdout",
       "text": [
        " 0.417 1.0\n",
        "pred"
       ]
      },
      {
       "output_type": "stream",
       "stream": "stdout",
       "text": [
        " 0.231 0.0\n",
        "pred"
       ]
      },
      {
       "output_type": "stream",
       "stream": "stderr",
       "text": [
        "[Parallel(n_jobs=7)]: Done   1 out of   7 | elapsed:    0.0s remaining:    0.1s\n",
        "[Parallel(n_jobs=7)]: Done   7 out of   7 | elapsed:    0.0s finished\n",
        "[Parallel(n_jobs=7)]: Done   1 out of   7 | elapsed:    0.0s remaining:    0.3s\n",
        "[Parallel(n_jobs=7)]: Done   7 out of   7 | elapsed:    0.0s finished\n"
       ]
      },
      {
       "output_type": "stream",
       "stream": "stdout",
       "text": [
        " 0.576 1.0\n",
        "pred"
       ]
      },
      {
       "output_type": "stream",
       "stream": "stdout",
       "text": [
        " 0.449 1.0\n",
        "pred"
       ]
      },
      {
       "output_type": "stream",
       "stream": "stderr",
       "text": [
        "[Parallel(n_jobs=7)]: Done   1 out of   7 | elapsed:    0.0s remaining:    0.3s\n",
        "[Parallel(n_jobs=7)]: Done   7 out of   7 | elapsed:    0.0s finished\n",
        "[Parallel(n_jobs=7)]: Done   1 out of   7 | elapsed:    0.0s remaining:    0.2s\n",
        "[Parallel(n_jobs=7)]: Done   7 out of   7 | elapsed:    0.0s finished\n"
       ]
      },
      {
       "output_type": "stream",
       "stream": "stdout",
       "text": [
        " 0.396 0.0\n",
        "pred"
       ]
      },
      {
       "output_type": "stream",
       "stream": "stdout",
       "text": [
        " 0.517 0.0\n",
        "pred"
       ]
      },
      {
       "output_type": "stream",
       "stream": "stderr",
       "text": [
        "[Parallel(n_jobs=7)]: Done   1 out of   7 | elapsed:    0.1s remaining:    0.3s\n",
        "[Parallel(n_jobs=7)]: Done   7 out of   7 | elapsed:    0.1s finished\n",
        "[Parallel(n_jobs=7)]: Done   1 out of   7 | elapsed:    0.0s remaining:    0.2s\n",
        "[Parallel(n_jobs=7)]: Done   7 out of   7 | elapsed:    0.1s finished\n"
       ]
      },
      {
       "output_type": "stream",
       "stream": "stdout",
       "text": [
        " 0.344 0.0\n",
        "pred"
       ]
      },
      {
       "output_type": "stream",
       "stream": "stdout",
       "text": [
        " 0.34 0.0\n",
        "pred"
       ]
      },
      {
       "output_type": "stream",
       "stream": "stderr",
       "text": [
        "[Parallel(n_jobs=7)]: Done   1 out of   7 | elapsed:    0.1s remaining:    0.3s\n",
        "[Parallel(n_jobs=7)]: Done   7 out of   7 | elapsed:    0.1s finished\n",
        "[Parallel(n_jobs=7)]: Done   1 out of   7 | elapsed:    0.0s remaining:    0.2s\n",
        "[Parallel(n_jobs=7)]: Done   7 out of   7 | elapsed:    0.0s finished\n"
       ]
      },
      {
       "output_type": "stream",
       "stream": "stdout",
       "text": [
        " 0.044 0.0\n",
        "pred"
       ]
      },
      {
       "output_type": "stream",
       "stream": "stdout",
       "text": [
        " 0.932 0.0\n",
        "pred"
       ]
      },
      {
       "output_type": "stream",
       "stream": "stderr",
       "text": [
        "[Parallel(n_jobs=7)]: Done   1 out of   7 | elapsed:    0.0s remaining:    0.3s\n",
        "[Parallel(n_jobs=7)]: Done   7 out of   7 | elapsed:    0.0s finished\n",
        "[Parallel(n_jobs=7)]: Done   1 out of   7 | elapsed:    0.0s remaining:    0.2s\n",
        "[Parallel(n_jobs=7)]: Done   7 out of   7 | elapsed:    0.0s finished\n"
       ]
      },
      {
       "output_type": "stream",
       "stream": "stdout",
       "text": [
        " 0.378 0.0\n",
        "pred"
       ]
      },
      {
       "output_type": "stream",
       "stream": "stdout",
       "text": [
        " 0.345 1.0\n",
        "pred"
       ]
      },
      {
       "output_type": "stream",
       "stream": "stderr",
       "text": [
        "[Parallel(n_jobs=7)]: Done   1 out of   7 | elapsed:    0.0s remaining:    0.2s\n",
        "[Parallel(n_jobs=7)]: Done   7 out of   7 | elapsed:    0.0s finished\n",
        "[Parallel(n_jobs=7)]: Done   1 out of   7 | elapsed:    0.0s remaining:    0.2s\n",
        "[Parallel(n_jobs=7)]: Done   7 out of   7 | elapsed:    0.0s finished\n"
       ]
      },
      {
       "output_type": "stream",
       "stream": "stdout",
       "text": [
        " 0.887 1.0\n",
        "pred"
       ]
      },
      {
       "output_type": "stream",
       "stream": "stdout",
       "text": [
        " 0.721 1.0\n",
        "pred"
       ]
      },
      {
       "output_type": "stream",
       "stream": "stderr",
       "text": [
        "[Parallel(n_jobs=7)]: Done   1 out of   7 | elapsed:    0.0s remaining:    0.3s\n",
        "[Parallel(n_jobs=7)]: Done   7 out of   7 | elapsed:    0.0s finished\n",
        "[Parallel(n_jobs=7)]: Done   1 out of   7 | elapsed:    0.0s remaining:    0.3s\n",
        "[Parallel(n_jobs=7)]: Done   7 out of   7 | elapsed:    0.0s finished\n"
       ]
      },
      {
       "output_type": "stream",
       "stream": "stdout",
       "text": [
        " 0.661 1.0\n",
        "pred"
       ]
      },
      {
       "output_type": "stream",
       "stream": "stdout",
       "text": [
        " 0.533 0.0\n",
        "pred"
       ]
      },
      {
       "output_type": "stream",
       "stream": "stderr",
       "text": [
        "[Parallel(n_jobs=7)]: Done   1 out of   7 | elapsed:    0.0s remaining:    0.2s\n",
        "[Parallel(n_jobs=7)]: Done   7 out of   7 | elapsed:    0.0s finished\n",
        "[Parallel(n_jobs=7)]: Done   1 out of   7 | elapsed:    0.0s remaining:    0.2s\n",
        "[Parallel(n_jobs=7)]: Done   7 out of   7 | elapsed:    0.1s finished\n"
       ]
      },
      {
       "output_type": "stream",
       "stream": "stdout",
       "text": [
        " 0.256 0.0\n",
        "pred"
       ]
      },
      {
       "output_type": "stream",
       "stream": "stdout",
       "text": [
        " 0.747 1.0\n",
        "pred"
       ]
      },
      {
       "output_type": "stream",
       "stream": "stderr",
       "text": [
        "[Parallel(n_jobs=7)]: Done   1 out of   7 | elapsed:    0.0s remaining:    0.2s\n",
        "[Parallel(n_jobs=7)]: Done   7 out of   7 | elapsed:    0.0s finished\n",
        "[Parallel(n_jobs=7)]: Done   1 out of   7 | elapsed:    0.0s remaining:    0.2s\n",
        "[Parallel(n_jobs=7)]: Done   7 out of   7 | elapsed:    0.0s finished\n"
       ]
      },
      {
       "output_type": "stream",
       "stream": "stdout",
       "text": [
        " 0.234 0.0\n",
        "pred"
       ]
      },
      {
       "output_type": "stream",
       "stream": "stdout",
       "text": [
        " 0.271 0.0\n",
        "pred"
       ]
      },
      {
       "output_type": "stream",
       "stream": "stderr",
       "text": [
        "[Parallel(n_jobs=7)]: Done   1 out of   7 | elapsed:    0.0s remaining:    0.2s\n",
        "[Parallel(n_jobs=7)]: Done   7 out of   7 | elapsed:    0.0s finished\n",
        "[Parallel(n_jobs=7)]: Done   1 out of   7 | elapsed:    0.0s remaining:    0.2s\n",
        "[Parallel(n_jobs=7)]: Done   7 out of   7 | elapsed:    0.0s finished\n"
       ]
      },
      {
       "output_type": "stream",
       "stream": "stdout",
       "text": [
        " 0.898 1.0\n",
        "pred"
       ]
      },
      {
       "output_type": "stream",
       "stream": "stdout",
       "text": [
        " 0.527 1.0\n",
        "pred"
       ]
      },
      {
       "output_type": "stream",
       "stream": "stderr",
       "text": [
        "[Parallel(n_jobs=7)]: Done   1 out of   7 | elapsed:    0.0s remaining:    0.3s\n",
        "[Parallel(n_jobs=7)]: Done   7 out of   7 | elapsed:    0.0s finished\n",
        "[Parallel(n_jobs=7)]: Done   1 out of   7 | elapsed:    0.0s remaining:    0.2s\n",
        "[Parallel(n_jobs=7)]: Done   7 out of   7 | elapsed:    0.0s finished\n"
       ]
      },
      {
       "output_type": "stream",
       "stream": "stdout",
       "text": [
        " 0.101 0.0\n",
        "pred"
       ]
      },
      {
       "output_type": "stream",
       "stream": "stdout",
       "text": [
        " 0.496 0.0\n",
        "pred"
       ]
      },
      {
       "output_type": "stream",
       "stream": "stderr",
       "text": [
        "[Parallel(n_jobs=7)]: Done   1 out of   7 | elapsed:    0.0s remaining:    0.3s\n",
        "[Parallel(n_jobs=7)]: Done   7 out of   7 | elapsed:    0.0s finished\n",
        "[Parallel(n_jobs=7)]: Done   1 out of   7 | elapsed:    0.0s remaining:    0.2s\n",
        "[Parallel(n_jobs=7)]: Done   7 out of   7 | elapsed:    0.0s finished\n"
       ]
      },
      {
       "output_type": "stream",
       "stream": "stdout",
       "text": [
        " 0.957 1.0\n",
        "pred"
       ]
      },
      {
       "output_type": "stream",
       "stream": "stdout",
       "text": [
        " 0.763 1.0\n",
        "pred"
       ]
      },
      {
       "output_type": "stream",
       "stream": "stderr",
       "text": [
        "[Parallel(n_jobs=7)]: Done   1 out of   7 | elapsed:    0.0s remaining:    0.2s\n",
        "[Parallel(n_jobs=7)]: Done   7 out of   7 | elapsed:    0.0s finished\n",
        "[Parallel(n_jobs=7)]: Done   1 out of   7 | elapsed:    0.0s remaining:    0.2s\n",
        "[Parallel(n_jobs=7)]: Done   7 out of   7 | elapsed:    0.0s finished\n"
       ]
      },
      {
       "output_type": "stream",
       "stream": "stdout",
       "text": [
        " 0.77 1.0\n",
        "pred"
       ]
      },
      {
       "output_type": "stream",
       "stream": "stdout",
       "text": [
        " 0.936 1.0\n",
        "pred"
       ]
      },
      {
       "output_type": "stream",
       "stream": "stderr",
       "text": [
        "[Parallel(n_jobs=7)]: Done   1 out of   7 | elapsed:    0.0s remaining:    0.2s\n",
        "[Parallel(n_jobs=7)]: Done   7 out of   7 | elapsed:    0.0s finished\n",
        "[Parallel(n_jobs=7)]: Done   1 out of   7 | elapsed:    0.0s remaining:    0.2s\n",
        "[Parallel(n_jobs=7)]: Done   7 out of   7 | elapsed:    0.0s finished\n"
       ]
      },
      {
       "output_type": "stream",
       "stream": "stdout",
       "text": [
        " 0.516 1.0\n",
        "pred"
       ]
      },
      {
       "output_type": "stream",
       "stream": "stdout",
       "text": [
        " 0.102 0.0\n",
        "pred"
       ]
      },
      {
       "output_type": "stream",
       "stream": "stderr",
       "text": [
        "[Parallel(n_jobs=7)]: Done   1 out of   7 | elapsed:    0.0s remaining:    0.2s\n",
        "[Parallel(n_jobs=7)]: Done   7 out of   7 | elapsed:    0.0s finished\n",
        "[Parallel(n_jobs=7)]: Done   1 out of   7 | elapsed:    0.0s remaining:    0.2s\n",
        "[Parallel(n_jobs=7)]: Done   7 out of   7 | elapsed:    0.0s finished\n"
       ]
      },
      {
       "output_type": "stream",
       "stream": "stdout",
       "text": [
        " 0.632 1.0\n",
        "pred"
       ]
      },
      {
       "output_type": "stream",
       "stream": "stdout",
       "text": [
        " 0.966 1.0\n",
        "pred"
       ]
      },
      {
       "output_type": "stream",
       "stream": "stderr",
       "text": [
        "[Parallel(n_jobs=7)]: Done   1 out of   7 | elapsed:    0.0s remaining:    0.1s\n",
        "[Parallel(n_jobs=7)]: Done   7 out of   7 | elapsed:    0.0s finished\n",
        "[Parallel(n_jobs=7)]: Done   1 out of   7 | elapsed:    0.0s remaining:    0.3s\n",
        "[Parallel(n_jobs=7)]: Done   7 out of   7 | elapsed:    0.0s finished\n"
       ]
      },
      {
       "output_type": "stream",
       "stream": "stdout",
       "text": [
        " 0.859 nan\n",
        "pred"
       ]
      },
      {
       "output_type": "stream",
       "stream": "stdout",
       "text": [
        " 0.204 0.0\n",
        "pred"
       ]
      },
      {
       "output_type": "stream",
       "stream": "stderr",
       "text": [
        "[Parallel(n_jobs=7)]: Done   1 out of   7 | elapsed:    0.0s remaining:    0.2s\n",
        "[Parallel(n_jobs=7)]: Done   7 out of   7 | elapsed:    0.1s finished\n",
        "[Parallel(n_jobs=7)]: Done   1 out of   7 | elapsed:    0.0s remaining:    0.3s\n",
        "[Parallel(n_jobs=7)]: Done   7 out of   7 | elapsed:    0.0s finished\n"
       ]
      },
      {
       "output_type": "stream",
       "stream": "stdout",
       "text": [
        " 0.458 0.0\n",
        "pred"
       ]
      },
      {
       "output_type": "stream",
       "stream": "stdout",
       "text": [
        " 0.012 0.0\n",
        "pred"
       ]
      },
      {
       "output_type": "stream",
       "stream": "stderr",
       "text": [
        "[Parallel(n_jobs=7)]: Done   1 out of   7 | elapsed:    0.0s remaining:    0.3s\n",
        "[Parallel(n_jobs=7)]: Done   7 out of   7 | elapsed:    0.0s finished\n",
        "[Parallel(n_jobs=7)]: Done   1 out of   7 | elapsed:    0.0s remaining:    0.1s\n",
        "[Parallel(n_jobs=7)]: Done   7 out of   7 | elapsed:    0.0s finished\n"
       ]
      },
      {
       "output_type": "stream",
       "stream": "stdout",
       "text": [
        " 0.522 1.0\n",
        "pred"
       ]
      },
      {
       "output_type": "stream",
       "stream": "stdout",
       "text": [
        " 0.696 1.0\n",
        "pred"
       ]
      },
      {
       "output_type": "stream",
       "stream": "stderr",
       "text": [
        "[Parallel(n_jobs=7)]: Done   1 out of   7 | elapsed:    0.0s remaining:    0.3s\n",
        "[Parallel(n_jobs=7)]: Done   7 out of   7 | elapsed:    0.0s finished\n",
        "[Parallel(n_jobs=7)]: Done   1 out of   7 | elapsed:    0.0s remaining:    0.3s\n",
        "[Parallel(n_jobs=7)]: Done   7 out of   7 | elapsed:    0.0s finished\n"
       ]
      },
      {
       "output_type": "stream",
       "stream": "stdout",
       "text": [
        " 0.033 0.0\n",
        "pred"
       ]
      },
      {
       "output_type": "stream",
       "stream": "stdout",
       "text": [
        " 0.547 1.0\n",
        "pred"
       ]
      },
      {
       "output_type": "stream",
       "stream": "stderr",
       "text": [
        "[Parallel(n_jobs=7)]: Done   1 out of   7 | elapsed:    0.0s remaining:    0.3s\n",
        "[Parallel(n_jobs=7)]: Done   7 out of   7 | elapsed:    0.0s finished\n",
        "[Parallel(n_jobs=7)]: Done   1 out of   7 | elapsed:    0.0s remaining:    0.3s\n",
        "[Parallel(n_jobs=7)]: Done   7 out of   7 | elapsed:    0.0s finished\n"
       ]
      },
      {
       "output_type": "stream",
       "stream": "stdout",
       "text": [
        " 0.663 0.0\n",
        "pred"
       ]
      },
      {
       "output_type": "stream",
       "stream": "stdout",
       "text": [
        " 0.653 0.0\n",
        "pred"
       ]
      },
      {
       "output_type": "stream",
       "stream": "stderr",
       "text": [
        "[Parallel(n_jobs=7)]: Done   1 out of   7 | elapsed:    0.0s remaining:    0.3s\n",
        "[Parallel(n_jobs=7)]: Done   7 out of   7 | elapsed:    0.0s finished\n",
        "[Parallel(n_jobs=7)]: Done   1 out of   7 | elapsed:    0.0s remaining:    0.3s\n",
        "[Parallel(n_jobs=7)]: Done   7 out of   7 | elapsed:    0.0s finished\n"
       ]
      },
      {
       "output_type": "stream",
       "stream": "stdout",
       "text": [
        " 0.773 1.0\n",
        "pred"
       ]
      },
      {
       "output_type": "stream",
       "stream": "stdout",
       "text": [
        " 0.843 0.0\n",
        "pred"
       ]
      },
      {
       "output_type": "stream",
       "stream": "stderr",
       "text": [
        "[Parallel(n_jobs=7)]: Done   1 out of   7 | elapsed:    0.0s remaining:    0.2s\n",
        "[Parallel(n_jobs=7)]: Done   7 out of   7 | elapsed:    0.0s finished\n",
        "[Parallel(n_jobs=7)]: Done   1 out of   7 | elapsed:    0.0s remaining:    0.2s\n",
        "[Parallel(n_jobs=7)]: Done   7 out of   7 | elapsed:    0.0s finished\n"
       ]
      },
      {
       "output_type": "stream",
       "stream": "stdout",
       "text": [
        " 0.097 0.0\n",
        "pred"
       ]
      },
      {
       "output_type": "stream",
       "stream": "stdout",
       "text": [
        " 0.769 nan\n",
        "pred"
       ]
      },
      {
       "output_type": "stream",
       "stream": "stderr",
       "text": [
        "[Parallel(n_jobs=7)]: Done   1 out of   7 | elapsed:    0.0s remaining:    0.0s\n",
        "[Parallel(n_jobs=7)]: Done   7 out of   7 | elapsed:    0.0s finished\n",
        "[Parallel(n_jobs=7)]: Done   1 out of   7 | elapsed:    0.0s remaining:    0.2s\n",
        "[Parallel(n_jobs=7)]: Done   7 out of   7 | elapsed:    0.1s finished\n"
       ]
      },
      {
       "output_type": "stream",
       "stream": "stdout",
       "text": [
        " 0.622 1.0\n",
        "pred"
       ]
      },
      {
       "output_type": "stream",
       "stream": "stdout",
       "text": [
        " 0.854 1.0\n",
        "pred"
       ]
      },
      {
       "output_type": "stream",
       "stream": "stderr",
       "text": [
        "[Parallel(n_jobs=7)]: Done   1 out of   7 | elapsed:    0.0s remaining:    0.2s\n",
        "[Parallel(n_jobs=7)]: Done   7 out of   7 | elapsed:    0.0s finished\n",
        "[Parallel(n_jobs=7)]: Done   1 out of   7 | elapsed:    0.0s remaining:    0.3s\n",
        "[Parallel(n_jobs=7)]: Done   7 out of   7 | elapsed:    0.0s finished\n"
       ]
      },
      {
       "output_type": "stream",
       "stream": "stdout",
       "text": [
        " 0.992 1.0\n",
        "pred"
       ]
      },
      {
       "output_type": "stream",
       "stream": "stdout",
       "text": [
        " 0.259 0.0\n",
        "pred"
       ]
      },
      {
       "output_type": "stream",
       "stream": "stderr",
       "text": [
        "[Parallel(n_jobs=7)]: Done   1 out of   7 | elapsed:    0.1s remaining:    0.3s\n",
        "[Parallel(n_jobs=7)]: Done   7 out of   7 | elapsed:    0.1s finished\n",
        "[Parallel(n_jobs=7)]: Done   1 out of   7 | elapsed:    0.0s remaining:    0.3s\n",
        "[Parallel(n_jobs=7)]: Done   7 out of   7 | elapsed:    0.0s finished\n"
       ]
      },
      {
       "output_type": "stream",
       "stream": "stdout",
       "text": [
        " 0.444 1.0\n",
        "pred"
       ]
      },
      {
       "output_type": "stream",
       "stream": "stdout",
       "text": [
        " 0.562 1.0\n",
        "pred"
       ]
      },
      {
       "output_type": "stream",
       "stream": "stderr",
       "text": [
        "[Parallel(n_jobs=7)]: Done   1 out of   7 | elapsed:    0.0s remaining:    0.2s\n",
        "[Parallel(n_jobs=7)]: Done   7 out of   7 | elapsed:    0.0s finished\n",
        "[Parallel(n_jobs=7)]: Done   1 out of   7 | elapsed:    0.0s remaining:    0.3s\n",
        "[Parallel(n_jobs=7)]: Done   7 out of   7 | elapsed:    0.0s finished\n"
       ]
      },
      {
       "output_type": "stream",
       "stream": "stdout",
       "text": [
        " 0.422 1.0\n",
        "pred"
       ]
      },
      {
       "output_type": "stream",
       "stream": "stdout",
       "text": [
        " 0.502 1.0\n",
        "pred"
       ]
      },
      {
       "output_type": "stream",
       "stream": "stderr",
       "text": [
        "[Parallel(n_jobs=7)]: Done   1 out of   7 | elapsed:    0.0s remaining:    0.2s\n",
        "[Parallel(n_jobs=7)]: Done   7 out of   7 | elapsed:    0.0s finished\n",
        "[Parallel(n_jobs=7)]: Done   1 out of   7 | elapsed:    0.0s remaining:    0.2s\n",
        "[Parallel(n_jobs=7)]: Done   7 out of   7 | elapsed:    0.0s finished\n"
       ]
      },
      {
       "output_type": "stream",
       "stream": "stdout",
       "text": [
        " 0.99 1.0\n",
        "pred"
       ]
      },
      {
       "output_type": "stream",
       "stream": "stdout",
       "text": [
        " 0.748 1.0\n",
        "pred"
       ]
      },
      {
       "output_type": "stream",
       "stream": "stderr",
       "text": [
        "[Parallel(n_jobs=7)]: Done   1 out of   7 | elapsed:    0.0s remaining:    0.2s\n",
        "[Parallel(n_jobs=7)]: Done   7 out of   7 | elapsed:    0.0s finished\n",
        "[Parallel(n_jobs=7)]: Done   1 out of   7 | elapsed:    0.0s remaining:    0.3s\n",
        "[Parallel(n_jobs=7)]: Done   7 out of   7 | elapsed:    0.0s finished\n"
       ]
      },
      {
       "output_type": "stream",
       "stream": "stdout",
       "text": [
        " 0.429 1.0\n",
        "pred"
       ]
      },
      {
       "output_type": "stream",
       "stream": "stdout",
       "text": [
        " 0.622 0.0\n",
        "pred"
       ]
      },
      {
       "output_type": "stream",
       "stream": "stderr",
       "text": [
        "[Parallel(n_jobs=7)]: Done   1 out of   7 | elapsed:    0.0s remaining:    0.2s\n",
        "[Parallel(n_jobs=7)]: Done   7 out of   7 | elapsed:    0.0s finished\n",
        "[Parallel(n_jobs=7)]: Done   1 out of   7 | elapsed:    0.0s remaining:    0.2s\n",
        "[Parallel(n_jobs=7)]: Done   7 out of   7 | elapsed:    0.0s finished\n"
       ]
      },
      {
       "output_type": "stream",
       "stream": "stdout",
       "text": [
        " 0.27 0.0\n",
        "pred"
       ]
      },
      {
       "output_type": "stream",
       "stream": "stdout",
       "text": [
        " 0.062 0.0\n",
        "pred"
       ]
      },
      {
       "output_type": "stream",
       "stream": "stderr",
       "text": [
        "[Parallel(n_jobs=7)]: Done   1 out of   7 | elapsed:    0.0s remaining:    0.0s\n",
        "[Parallel(n_jobs=7)]: Done   7 out of   7 | elapsed:    0.0s finished\n",
        "[Parallel(n_jobs=7)]: Done   1 out of   7 | elapsed:    0.0s remaining:    0.3s\n",
        "[Parallel(n_jobs=7)]: Done   7 out of   7 | elapsed:    0.0s finished\n"
       ]
      },
      {
       "output_type": "stream",
       "stream": "stdout",
       "text": [
        " 0.723 1.0\n",
        "pred"
       ]
      },
      {
       "output_type": "stream",
       "stream": "stdout",
       "text": [
        " 0.847 1.0\n",
        "pred"
       ]
      },
      {
       "output_type": "stream",
       "stream": "stderr",
       "text": [
        "[Parallel(n_jobs=7)]: Done   1 out of   7 | elapsed:    0.1s remaining:    0.3s\n",
        "[Parallel(n_jobs=7)]: Done   7 out of   7 | elapsed:    0.1s finished\n",
        "[Parallel(n_jobs=7)]: Done   1 out of   7 | elapsed:    0.0s remaining:    0.3s\n",
        "[Parallel(n_jobs=7)]: Done   7 out of   7 | elapsed:    0.0s finished\n"
       ]
      },
      {
       "output_type": "stream",
       "stream": "stdout",
       "text": [
        " 0.389 0.0\n",
        "pred"
       ]
      },
      {
       "output_type": "stream",
       "stream": "stdout",
       "text": [
        " 0.463 nan\n",
        "pred"
       ]
      },
      {
       "output_type": "stream",
       "stream": "stderr",
       "text": [
        "[Parallel(n_jobs=7)]: Done   1 out of   7 | elapsed:    0.0s remaining:    0.2s\n",
        "[Parallel(n_jobs=7)]: Done   7 out of   7 | elapsed:    0.0s finished\n",
        "[Parallel(n_jobs=7)]: Done   1 out of   7 | elapsed:    0.0s remaining:    0.2s\n",
        "[Parallel(n_jobs=7)]: Done   7 out of   7 | elapsed:    0.0s finished\n"
       ]
      },
      {
       "output_type": "stream",
       "stream": "stdout",
       "text": [
        " 0.344 0.0\n",
        "pred"
       ]
      },
      {
       "output_type": "stream",
       "stream": "stdout",
       "text": [
        " 0.579 0.0\n",
        "pred"
       ]
      },
      {
       "output_type": "stream",
       "stream": "stderr",
       "text": [
        "[Parallel(n_jobs=7)]: Done   1 out of   7 | elapsed:    0.0s remaining:    0.3s\n",
        "[Parallel(n_jobs=7)]: Done   7 out of   7 | elapsed:    0.0s finished\n",
        "[Parallel(n_jobs=7)]: Done   1 out of   7 | elapsed:    0.0s remaining:    0.2s\n",
        "[Parallel(n_jobs=7)]: Done   7 out of   7 | elapsed:    0.0s finished\n"
       ]
      },
      {
       "output_type": "stream",
       "stream": "stdout",
       "text": [
        " 0.25 0.0\n",
        "pred"
       ]
      },
      {
       "output_type": "stream",
       "stream": "stdout",
       "text": [
        " 0.596 1.0\n",
        "pred"
       ]
      },
      {
       "output_type": "stream",
       "stream": "stderr",
       "text": [
        "[Parallel(n_jobs=7)]: Done   1 out of   7 | elapsed:    0.0s remaining:    0.2s\n",
        "[Parallel(n_jobs=7)]: Done   7 out of   7 | elapsed:    0.0s finished\n",
        "[Parallel(n_jobs=7)]: Done   1 out of   7 | elapsed:    0.0s remaining:    0.2s\n",
        "[Parallel(n_jobs=7)]: Done   7 out of   7 | elapsed:    0.0s finished\n"
       ]
      },
      {
       "output_type": "stream",
       "stream": "stdout",
       "text": [
        " 0.246 0.0\n",
        "pred"
       ]
      },
      {
       "output_type": "stream",
       "stream": "stdout",
       "text": [
        " 0.585 0.0\n",
        "pred"
       ]
      },
      {
       "output_type": "stream",
       "stream": "stderr",
       "text": [
        "[Parallel(n_jobs=7)]: Done   1 out of   7 | elapsed:    0.0s remaining:    0.1s\n",
        "[Parallel(n_jobs=7)]: Done   7 out of   7 | elapsed:    0.0s finished\n",
        "[Parallel(n_jobs=7)]: Done   1 out of   7 | elapsed:    0.0s remaining:    0.3s\n",
        "[Parallel(n_jobs=7)]: Done   7 out of   7 | elapsed:    0.0s finished\n"
       ]
      },
      {
       "output_type": "stream",
       "stream": "stdout",
       "text": [
        " 0.195 0.0\n",
        "pred"
       ]
      },
      {
       "output_type": "stream",
       "stream": "stdout",
       "text": [
        " 0.703 1.0\n",
        "pred"
       ]
      },
      {
       "output_type": "stream",
       "stream": "stderr",
       "text": [
        "[Parallel(n_jobs=7)]: Done   1 out of   7 | elapsed:    0.0s remaining:    0.2s\n",
        "[Parallel(n_jobs=7)]: Done   7 out of   7 | elapsed:    0.0s finished\n",
        "[Parallel(n_jobs=7)]: Done   1 out of   7 | elapsed:    0.0s remaining:    0.2s\n",
        "[Parallel(n_jobs=7)]: Done   7 out of   7 | elapsed:    0.0s finished\n"
       ]
      },
      {
       "output_type": "stream",
       "stream": "stdout",
       "text": [
        " 0.241 0.0\n",
        "pred"
       ]
      },
      {
       "output_type": "stream",
       "stream": "stdout",
       "text": [
        " 0.304 0.0\n",
        "pred"
       ]
      },
      {
       "output_type": "stream",
       "stream": "stderr",
       "text": [
        "[Parallel(n_jobs=7)]: Done   1 out of   7 | elapsed:    0.0s remaining:    0.1s\n",
        "[Parallel(n_jobs=7)]: Done   7 out of   7 | elapsed:    0.0s finished\n",
        "[Parallel(n_jobs=7)]: Done   1 out of   7 | elapsed:    0.0s remaining:    0.3s\n",
        "[Parallel(n_jobs=7)]: Done   7 out of   7 | elapsed:    0.0s finished\n"
       ]
      },
      {
       "output_type": "stream",
       "stream": "stdout",
       "text": [
        " 0.414 0.0\n",
        "pred"
       ]
      },
      {
       "output_type": "stream",
       "stream": "stdout",
       "text": [
        " 0.674 1.0\n",
        "pred"
       ]
      },
      {
       "output_type": "stream",
       "stream": "stderr",
       "text": [
        "[Parallel(n_jobs=7)]: Done   1 out of   7 | elapsed:    0.0s remaining:    0.2s\n",
        "[Parallel(n_jobs=7)]: Done   7 out of   7 | elapsed:    0.1s finished\n",
        "[Parallel(n_jobs=7)]: Done   1 out of   7 | elapsed:    0.0s remaining:    0.2s\n",
        "[Parallel(n_jobs=7)]: Done   7 out of   7 | elapsed:    0.0s finished\n"
       ]
      },
      {
       "output_type": "stream",
       "stream": "stdout",
       "text": [
        " 0.15 0.0\n",
        "pred"
       ]
      },
      {
       "output_type": "stream",
       "stream": "stdout",
       "text": [
        " 0.514 1.0\n",
        "pred"
       ]
      },
      {
       "output_type": "stream",
       "stream": "stderr",
       "text": [
        "[Parallel(n_jobs=7)]: Done   1 out of   7 | elapsed:    0.0s remaining:    0.3s\n",
        "[Parallel(n_jobs=7)]: Done   7 out of   7 | elapsed:    0.0s finished\n",
        "[Parallel(n_jobs=7)]: Done   1 out of   7 | elapsed:    0.0s remaining:    0.3s\n",
        "[Parallel(n_jobs=7)]: Done   7 out of   7 | elapsed:    0.0s finished\n"
       ]
      },
      {
       "output_type": "stream",
       "stream": "stdout",
       "text": [
        " 0.334 1.0\n",
        "pred"
       ]
      },
      {
       "output_type": "stream",
       "stream": "stdout",
       "text": [
        " 0.526 0.0\n",
        "pred"
       ]
      },
      {
       "output_type": "stream",
       "stream": "stderr",
       "text": [
        "[Parallel(n_jobs=7)]: Done   1 out of   7 | elapsed:    0.0s remaining:    0.2s\n",
        "[Parallel(n_jobs=7)]: Done   7 out of   7 | elapsed:    0.0s finished\n",
        "[Parallel(n_jobs=7)]: Done   1 out of   7 | elapsed:    0.0s remaining:    0.2s\n",
        "[Parallel(n_jobs=7)]: Done   7 out of   7 | elapsed:    0.0s finished\n"
       ]
      },
      {
       "output_type": "stream",
       "stream": "stdout",
       "text": [
        " 0.73 1.0\n",
        "pred"
       ]
      },
      {
       "output_type": "stream",
       "stream": "stdout",
       "text": [
        " 0.89 1.0\n",
        "pred"
       ]
      },
      {
       "output_type": "stream",
       "stream": "stderr",
       "text": [
        "[Parallel(n_jobs=7)]: Done   1 out of   7 | elapsed:    0.0s remaining:    0.2s\n",
        "[Parallel(n_jobs=7)]: Done   7 out of   7 | elapsed:    0.0s finished\n",
        "[Parallel(n_jobs=7)]: Done   1 out of   7 | elapsed:    0.0s remaining:    0.3s\n",
        "[Parallel(n_jobs=7)]: Done   7 out of   7 | elapsed:    0.0s finished\n"
       ]
      },
      {
       "output_type": "stream",
       "stream": "stdout",
       "text": [
        " 0.901 1.0\n",
        "pred"
       ]
      },
      {
       "output_type": "stream",
       "stream": "stdout",
       "text": [
        " 0.574 0.0\n",
        "pred"
       ]
      },
      {
       "output_type": "stream",
       "stream": "stderr",
       "text": [
        "[Parallel(n_jobs=7)]: Done   1 out of   7 | elapsed:    0.0s remaining:    0.2s\n",
        "[Parallel(n_jobs=7)]: Done   7 out of   7 | elapsed:    0.0s finished\n",
        "[Parallel(n_jobs=7)]: Done   1 out of   7 | elapsed:    0.0s remaining:    0.3s\n",
        "[Parallel(n_jobs=7)]: Done   7 out of   7 | elapsed:    0.0s finished\n"
       ]
      },
      {
       "output_type": "stream",
       "stream": "stdout",
       "text": [
        " 0.147 1.0\n",
        "pred"
       ]
      },
      {
       "output_type": "stream",
       "stream": "stdout",
       "text": [
        " 0.196 0.0\n",
        "pred"
       ]
      },
      {
       "output_type": "stream",
       "stream": "stderr",
       "text": [
        "[Parallel(n_jobs=7)]: Done   1 out of   7 | elapsed:    0.0s remaining:    0.2s\n",
        "[Parallel(n_jobs=7)]: Done   7 out of   7 | elapsed:    0.0s finished\n",
        "[Parallel(n_jobs=7)]: Done   1 out of   7 | elapsed:    0.0s remaining:    0.2s\n",
        "[Parallel(n_jobs=7)]: Done   7 out of   7 | elapsed:    0.0s finished\n"
       ]
      },
      {
       "output_type": "stream",
       "stream": "stdout",
       "text": [
        " 0.71 1.0\n",
        "pred"
       ]
      },
      {
       "output_type": "stream",
       "stream": "stdout",
       "text": [
        " 0.402 0.0\n",
        "pred"
       ]
      },
      {
       "output_type": "stream",
       "stream": "stderr",
       "text": [
        "[Parallel(n_jobs=7)]: Done   1 out of   7 | elapsed:    0.0s remaining:    0.2s\n",
        "[Parallel(n_jobs=7)]: Done   7 out of   7 | elapsed:    0.0s finished\n",
        "[Parallel(n_jobs=7)]: Done   1 out of   7 | elapsed:    0.0s remaining:    0.3s\n",
        "[Parallel(n_jobs=7)]: Done   7 out of   7 | elapsed:    0.0s finished\n"
       ]
      },
      {
       "output_type": "stream",
       "stream": "stdout",
       "text": [
        " 0.639 1.0\n",
        "pred"
       ]
      },
      {
       "output_type": "stream",
       "stream": "stdout",
       "text": [
        " 0.254 0.0\n",
        "pred"
       ]
      },
      {
       "output_type": "stream",
       "stream": "stderr",
       "text": [
        "[Parallel(n_jobs=7)]: Done   1 out of   7 | elapsed:    0.0s remaining:    0.2s\n",
        "[Parallel(n_jobs=7)]: Done   7 out of   7 | elapsed:    0.0s finished\n",
        "[Parallel(n_jobs=7)]: Done   1 out of   7 | elapsed:    0.0s remaining:    0.2s\n",
        "[Parallel(n_jobs=7)]: Done   7 out of   7 | elapsed:    0.0s finished\n"
       ]
      },
      {
       "output_type": "stream",
       "stream": "stdout",
       "text": [
        " 0.505 1.0\n",
        "pred"
       ]
      },
      {
       "output_type": "stream",
       "stream": "stdout",
       "text": [
        " 0.313 0.0\n",
        "pred"
       ]
      },
      {
       "output_type": "stream",
       "stream": "stderr",
       "text": [
        "[Parallel(n_jobs=7)]: Done   1 out of   7 | elapsed:    0.0s remaining:    0.3s\n",
        "[Parallel(n_jobs=7)]: Done   7 out of   7 | elapsed:    0.0s finished\n",
        "[Parallel(n_jobs=7)]: Done   1 out of   7 | elapsed:    0.0s remaining:    0.3s\n",
        "[Parallel(n_jobs=7)]: Done   7 out of   7 | elapsed:    0.0s finished\n"
       ]
      },
      {
       "output_type": "stream",
       "stream": "stdout",
       "text": [
        " 0.371 nan\n",
        "pred"
       ]
      },
      {
       "output_type": "stream",
       "stream": "stdout",
       "text": [
        " 0.452 0.0\n",
        "pred"
       ]
      },
      {
       "output_type": "stream",
       "stream": "stderr",
       "text": [
        "[Parallel(n_jobs=7)]: Done   1 out of   7 | elapsed:    0.0s remaining:    0.3s\n",
        "[Parallel(n_jobs=7)]: Done   7 out of   7 | elapsed:    0.0s finished\n",
        "[Parallel(n_jobs=7)]: Done   1 out of   7 | elapsed:    0.0s remaining:    0.1s\n",
        "[Parallel(n_jobs=7)]: Done   7 out of   7 | elapsed:    0.0s finished\n"
       ]
      },
      {
       "output_type": "stream",
       "stream": "stdout",
       "text": [
        " 0.757 1.0\n",
        "pred"
       ]
      },
      {
       "output_type": "stream",
       "stream": "stdout",
       "text": [
        " 0.907 1.0\n",
        "pred"
       ]
      },
      {
       "output_type": "stream",
       "stream": "stderr",
       "text": [
        "[Parallel(n_jobs=7)]: Done   1 out of   7 | elapsed:    0.0s remaining:    0.3s\n",
        "[Parallel(n_jobs=7)]: Done   7 out of   7 | elapsed:    0.0s finished\n",
        "[Parallel(n_jobs=7)]: Done   1 out of   7 | elapsed:    0.0s remaining:    0.2s\n",
        "[Parallel(n_jobs=7)]: Done   7 out of   7 | elapsed:    0.0s finished\n"
       ]
      },
      {
       "output_type": "stream",
       "stream": "stdout",
       "text": [
        " 0.627 0.0\n",
        "pred"
       ]
      },
      {
       "output_type": "stream",
       "stream": "stdout",
       "text": [
        " 0.508 1.0\n",
        "pred"
       ]
      },
      {
       "output_type": "stream",
       "stream": "stderr",
       "text": [
        "[Parallel(n_jobs=7)]: Done   1 out of   7 | elapsed:    0.0s remaining:    0.2s\n",
        "[Parallel(n_jobs=7)]: Done   7 out of   7 | elapsed:    0.0s finished\n",
        "[Parallel(n_jobs=7)]: Done   1 out of   7 | elapsed:    0.0s remaining:    0.2s\n",
        "[Parallel(n_jobs=7)]: Done   7 out of   7 | elapsed:    0.0s finished\n"
       ]
      },
      {
       "output_type": "stream",
       "stream": "stdout",
       "text": [
        " 0.288 0.0\n",
        "pred"
       ]
      },
      {
       "output_type": "stream",
       "stream": "stdout",
       "text": [
        " 0.239 nan\n",
        "pred"
       ]
      },
      {
       "output_type": "stream",
       "stream": "stderr",
       "text": [
        "[Parallel(n_jobs=7)]: Done   1 out of   7 | elapsed:    0.0s remaining:    0.2s\n",
        "[Parallel(n_jobs=7)]: Done   7 out of   7 | elapsed:    0.0s finished\n",
        "[Parallel(n_jobs=7)]: Done   1 out of   7 | elapsed:    0.0s remaining:    0.3s\n",
        "[Parallel(n_jobs=7)]: Done   7 out of   7 | elapsed:    0.0s finished\n"
       ]
      },
      {
       "output_type": "stream",
       "stream": "stdout",
       "text": [
        " 0.62 1.0\n",
        "pred"
       ]
      },
      {
       "output_type": "stream",
       "stream": "stdout",
       "text": [
        " 0.96 1.0\n",
        "pred"
       ]
      },
      {
       "output_type": "stream",
       "stream": "stderr",
       "text": [
        "[Parallel(n_jobs=7)]: Done   1 out of   7 | elapsed:    0.0s remaining:    0.3s\n",
        "[Parallel(n_jobs=7)]: Done   7 out of   7 | elapsed:    0.0s finished\n",
        "[Parallel(n_jobs=7)]: Done   1 out of   7 | elapsed:    0.0s remaining:    0.1s\n",
        "[Parallel(n_jobs=7)]: Done   7 out of   7 | elapsed:    0.0s finished\n"
       ]
      },
      {
       "output_type": "stream",
       "stream": "stdout",
       "text": [
        " 0.771 1.0\n",
        "pred"
       ]
      },
      {
       "output_type": "stream",
       "stream": "stdout",
       "text": [
        " 0.654 1.0\n",
        "pred"
       ]
      },
      {
       "output_type": "stream",
       "stream": "stderr",
       "text": [
        "[Parallel(n_jobs=7)]: Done   1 out of   7 | elapsed:    0.0s remaining:    0.1s\n",
        "[Parallel(n_jobs=7)]: Done   7 out of   7 | elapsed:    0.0s finished\n",
        "[Parallel(n_jobs=7)]: Done   1 out of   7 | elapsed:    0.0s remaining:    0.2s\n",
        "[Parallel(n_jobs=7)]: Done   7 out of   7 | elapsed:    0.0s finished\n"
       ]
      },
      {
       "output_type": "stream",
       "stream": "stdout",
       "text": [
        " 0.386 1.0\n",
        "pred"
       ]
      },
      {
       "output_type": "stream",
       "stream": "stdout",
       "text": [
        " 0.396 0.0\n",
        "pred"
       ]
      },
      {
       "output_type": "stream",
       "stream": "stderr",
       "text": [
        "[Parallel(n_jobs=7)]: Done   1 out of   7 | elapsed:    0.0s remaining:    0.3s\n",
        "[Parallel(n_jobs=7)]: Done   7 out of   7 | elapsed:    0.0s finished\n",
        "[Parallel(n_jobs=7)]: Done   1 out of   7 | elapsed:    0.1s remaining:    0.3s\n",
        "[Parallel(n_jobs=7)]: Done   7 out of   7 | elapsed:    0.1s finished\n"
       ]
      },
      {
       "output_type": "stream",
       "stream": "stdout",
       "text": [
        " 0.356 0.0\n",
        "pred"
       ]
      },
      {
       "output_type": "stream",
       "stream": "stdout",
       "text": [
        " 0.518 1.0\n",
        "pred"
       ]
      },
      {
       "output_type": "stream",
       "stream": "stderr",
       "text": [
        "[Parallel(n_jobs=7)]: Done   1 out of   7 | elapsed:    0.0s remaining:    0.2s\n",
        "[Parallel(n_jobs=7)]: Done   7 out of   7 | elapsed:    0.0s finished\n",
        "[Parallel(n_jobs=7)]: Done   1 out of   7 | elapsed:    0.0s remaining:    0.3s\n",
        "[Parallel(n_jobs=7)]: Done   7 out of   7 | elapsed:    0.0s finished\n"
       ]
      },
      {
       "output_type": "stream",
       "stream": "stdout",
       "text": [
        " 0.897 1.0\n",
        "pred"
       ]
      },
      {
       "output_type": "stream",
       "stream": "stdout",
       "text": [
        " 0.669 1.0\n",
        "pred"
       ]
      },
      {
       "output_type": "stream",
       "stream": "stderr",
       "text": [
        "[Parallel(n_jobs=7)]: Done   1 out of   7 | elapsed:    0.0s remaining:    0.2s\n",
        "[Parallel(n_jobs=7)]: Done   7 out of   7 | elapsed:    0.0s finished\n",
        "[Parallel(n_jobs=7)]: Done   1 out of   7 | elapsed:    0.0s remaining:    0.1s\n",
        "[Parallel(n_jobs=7)]: Done   7 out of   7 | elapsed:    0.0s finished\n"
       ]
      },
      {
       "output_type": "stream",
       "stream": "stdout",
       "text": [
        " 0.425 1.0\n",
        "pred"
       ]
      },
      {
       "output_type": "stream",
       "stream": "stdout",
       "text": [
        " 0.673 1.0\n",
        "pred"
       ]
      },
      {
       "output_type": "stream",
       "stream": "stderr",
       "text": [
        "[Parallel(n_jobs=7)]: Done   1 out of   7 | elapsed:    0.0s remaining:    0.2s\n",
        "[Parallel(n_jobs=7)]: Done   7 out of   7 | elapsed:    0.0s finished\n",
        "[Parallel(n_jobs=7)]: Done   1 out of   7 | elapsed:    0.0s remaining:    0.2s\n",
        "[Parallel(n_jobs=7)]: Done   7 out of   7 | elapsed:    0.0s finished\n"
       ]
      },
      {
       "output_type": "stream",
       "stream": "stdout",
       "text": [
        " 0.859 1.0\n",
        "pred"
       ]
      },
      {
       "output_type": "stream",
       "stream": "stdout",
       "text": [
        " 0.444 nan\n",
        "pred"
       ]
      },
      {
       "output_type": "stream",
       "stream": "stderr",
       "text": [
        "[Parallel(n_jobs=7)]: Done   1 out of   7 | elapsed:    0.0s remaining:    0.2s\n",
        "[Parallel(n_jobs=7)]: Done   7 out of   7 | elapsed:    0.0s finished\n",
        "[Parallel(n_jobs=7)]: Done   1 out of   7 | elapsed:    0.0s remaining:    0.2s\n",
        "[Parallel(n_jobs=7)]: Done   7 out of   7 | elapsed:    0.0s finished\n"
       ]
      },
      {
       "output_type": "stream",
       "stream": "stdout",
       "text": [
        " 0.535 1.0\n",
        "pred"
       ]
      },
      {
       "output_type": "stream",
       "stream": "stdout",
       "text": [
        " 0.401 1.0\n",
        "pred"
       ]
      },
      {
       "output_type": "stream",
       "stream": "stderr",
       "text": [
        "[Parallel(n_jobs=7)]: Done   1 out of   7 | elapsed:    0.0s remaining:    0.3s\n",
        "[Parallel(n_jobs=7)]: Done   7 out of   7 | elapsed:    0.0s finished\n",
        "[Parallel(n_jobs=7)]: Done   1 out of   7 | elapsed:    0.0s remaining:    0.2s\n",
        "[Parallel(n_jobs=7)]: Done   7 out of   7 | elapsed:    0.0s finished\n"
       ]
      },
      {
       "output_type": "stream",
       "stream": "stdout",
       "text": [
        " 0.393 0.0\n",
        "pred"
       ]
      },
      {
       "output_type": "stream",
       "stream": "stdout",
       "text": [
        " 0.524 0.0\n",
        "pred"
       ]
      },
      {
       "output_type": "stream",
       "stream": "stderr",
       "text": [
        "[Parallel(n_jobs=7)]: Done   1 out of   7 | elapsed:    0.0s remaining:    0.2s\n",
        "[Parallel(n_jobs=7)]: Done   7 out of   7 | elapsed:    0.0s finished\n",
        "[Parallel(n_jobs=7)]: Done   1 out of   7 | elapsed:    0.0s remaining:    0.3s\n",
        "[Parallel(n_jobs=7)]: Done   7 out of   7 | elapsed:    0.0s finished\n"
       ]
      },
      {
       "output_type": "stream",
       "stream": "stdout",
       "text": [
        " 0.431 0.0\n",
        "pred"
       ]
      },
      {
       "output_type": "stream",
       "stream": "stdout",
       "text": [
        " 0.541 1.0\n",
        "pred"
       ]
      },
      {
       "output_type": "stream",
       "stream": "stderr",
       "text": [
        "[Parallel(n_jobs=7)]: Done   1 out of   7 | elapsed:    0.0s remaining:    0.0s\n",
        "[Parallel(n_jobs=7)]: Done   7 out of   7 | elapsed:    0.0s finished\n",
        "[Parallel(n_jobs=7)]: Done   1 out of   7 | elapsed:    0.0s remaining:    0.2s\n",
        "[Parallel(n_jobs=7)]: Done   7 out of   7 | elapsed:    0.0s finished\n"
       ]
      },
      {
       "output_type": "stream",
       "stream": "stdout",
       "text": [
        " 0.594 0.0\n",
        "pred"
       ]
      },
      {
       "output_type": "stream",
       "stream": "stdout",
       "text": [
        " 0.448 0.0\n",
        "pred"
       ]
      },
      {
       "output_type": "stream",
       "stream": "stderr",
       "text": [
        "[Parallel(n_jobs=7)]: Done   1 out of   7 | elapsed:    0.0s remaining:    0.2s\n",
        "[Parallel(n_jobs=7)]: Done   7 out of   7 | elapsed:    0.1s finished\n",
        "[Parallel(n_jobs=7)]: Done   1 out of   7 | elapsed:    0.0s remaining:    0.2s\n",
        "[Parallel(n_jobs=7)]: Done   7 out of   7 | elapsed:    0.0s finished\n"
       ]
      },
      {
       "output_type": "stream",
       "stream": "stdout",
       "text": [
        " 0.406 0.0\n",
        "pred"
       ]
      },
      {
       "output_type": "stream",
       "stream": "stdout",
       "text": [
        " 0.415 1.0\n",
        "pred"
       ]
      },
      {
       "output_type": "stream",
       "stream": "stdout",
       "text": [
        " 0.297 0.0\n",
        "predicted 329/10994"
       ]
      },
      {
       "output_type": "stream",
       "stream": "stdout",
       "text": [
        "\n",
        "Index([u'pred', u'winner'], dtype=object)\n"
       ]
      },
      {
       "output_type": "stream",
       "stream": "stderr",
       "text": [
        "[Parallel(n_jobs=7)]: Done   1 out of   7 | elapsed:    0.0s remaining:    0.3s\n",
        "[Parallel(n_jobs=7)]: Done   7 out of   7 | elapsed:    0.0s finished\n"
       ]
      }
     ],
     "prompt_number": 36
    },
    {
     "cell_type": "code",
     "collapsed": false,
     "input": [
      "print \"Kaggle score is {0}\".format(kaggle_metric(sample_submission_df.dropna()['winner'], sample_submission_df.dropna()['pred']))    "
     ],
     "language": "python",
     "metadata": {},
     "outputs": [
      {
       "output_type": "stream",
       "stream": "stdout",
       "text": [
        "315\n",
        "Kaggle score is 0.476086318498\n"
       ]
      }
     ],
     "prompt_number": 37
    },
    {
     "cell_type": "heading",
     "level": 1,
     "metadata": {},
     "source": [
      "Upset Model"
     ]
    },
    {
     "cell_type": "code",
     "collapsed": false,
     "input": [
      "kpom_all = get_kpom_data()\n",
      "\n",
      "all_results = get_all_results(kpom_all)\n",
      "\n",
      "final_df = generate_final_data(data_prefix, kpom_all, all_results)\n",
      "#print final_df\n",
      "final_df = final_df.fillna(-1.0)\n",
      "final_df.to_csv(\"final_raw.csv\")\n",
      "train_fea = pd.DataFrame(index=final_df.index)\n",
      "test_fea = pd.DataFrame(index=final_df.index)\n",
      "columns = set(final_df.columns)\n",
      "test_features = final_df\n",
      "train_features, test_features = convert_categorical_to_features(final_df, final_df, columns, train_fea, test_fea)\n"
     ],
     "language": "python",
     "metadata": {},
     "outputs": [
      {
       "output_type": "stream",
       "stream": "stdout",
       "text": [
        "all_results >= 2008 393\n",
        "kaggle tourney 329\n"
       ]
      }
     ],
     "prompt_number": 39
    },
    {
     "cell_type": "code",
     "collapsed": false,
     "input": [
      "final_df = train_features\n",
      "upsets_df = final_df[((final_df['SEED1'] > final_df['SEED2']) & (final_df['WINNER'] == 1.0)) | ((final_df['SEED2'] > final_df['SEED1']) & (final_df['WINNER'] == -1.0))]\n",
      "# print upsets_df"
     ],
     "language": "python",
     "metadata": {},
     "outputs": [],
     "prompt_number": 41
    },
    {
     "cell_type": "code",
     "collapsed": false,
     "input": [
      "training_negative = None\n",
      "def isUpset(row):\n",
      "    if (row['SEED1'] > row['SEED2']) and row['WINNER'] == 1.0:\n",
      "        return 1.0\n",
      "    elif (row['SEED2'] > row['SEED1']) and row['WINNER'] == -1.0:\n",
      "        return 1.0\n",
      "    else:\n",
      "        return -1.0\n",
      "\n",
      "def higherSeed(row):\n",
      "    if (row['SEED1'] > row['SEED2']):\n",
      "        return row['SEED1']\n",
      "    else:\n",
      "        return row['SEED2']\n",
      "\n",
      "def lowerSeed(row):\n",
      "    if (row['SEED1'] < row['SEED2']):\n",
      "        return row['SEED1']\n",
      "    else:\n",
      "        return row['SEED2']\n",
      "    \n",
      "#final_df['higher_seed'] = final_df.apply(lambda x: higherSeed(row))\n",
      "final_df['upset'] = final_df.apply(lambda x: isUpset(x) , axis = 1)\n",
      "for ix, row in upsets_df.iterrows():\n",
      "    higher_seed = max([row['SEED1'], row['SEED2']])\n",
      "    lower_seed = min([row['SEED1'], row['SEED2']])\n",
      "    same_games = final_df[((final_df['SEED1'] == higher_seed) & (final_df['SEED2'] == lower_seed) & (final_df['upset'] == -1.0)) | ((final_df['SEED2'] == higher_seed) & (final_df['SEED1'] == lower_seed) & (final_df['upset'] == -1.0))]\n",
      "    if len(same_games) > 0:\n",
      "        g = same_games.ix[random.sample(same_games.index, 1)]\n",
      "        if training_negative is None:\n",
      "            training_negative = g\n",
      "        else:\n",
      "            training_negative = training_negative.append(g)\n",
      "training_negative_df = pd.DataFrame(training_negative)"
     ],
     "language": "python",
     "metadata": {},
     "outputs": [],
     "prompt_number": 42
    },
    {
     "cell_type": "code",
     "collapsed": false,
     "input": [
      "print len(final_df[final_df['upset'] == 1.0])"
     ],
     "language": "python",
     "metadata": {},
     "outputs": [
      {
       "output_type": "stream",
       "stream": "stdout",
       "text": [
        "174\n"
       ]
      }
     ],
     "prompt_number": 43
    },
    {
     "cell_type": "code",
     "collapsed": false,
     "input": [
      "train_fea = upsets_df.append(training_negative_df)\n",
      "del train_fea[\"SCORE1\"]\n",
      "del train_fea[\"SCORE2\"]\n",
      "del train_fea[\"TEAM1_team\"]\n",
      "del train_fea[\"TEAM2_team\"]\n",
      "del train_fea[\"upset\"]\n",
      "train_targets = train_fea['WINNER']\n",
      "del train_fea['WINNER']\n",
      "x_train, x_test, y_train, y_test = cross_validation.train_test_split(train_fea, train_targets, test_size=0.4, random_state=0)\n",
      "cfr = ExtraTreesClassifier(\n",
      "    oob_score = True, bootstrap=True, verbose = 1, max_features = None, n_estimators = 1000, min_samples_leaf = 1,\n",
      "    n_jobs=7,\n",
      "    random_state=0,\n",
      ")\n",
      "cfr.fit(x_train, y_train)\n",
      "score = cfr.score(x_test, y_test)\n",
      "print \"Score is {0}\".format(score)\n",
      "ps = cfr.predict_proba(x_test)\n"
     ],
     "language": "python",
     "metadata": {},
     "outputs": [
      {
       "output_type": "stream",
       "stream": "stderr",
       "text": [
        "[Parallel(n_jobs=7)]: Done   1 out of   7 | elapsed:    0.2s remaining:    1.4s\n",
        "[Parallel(n_jobs=7)]: Done   7 out of   7 | elapsed:    0.2s finished\n",
        "[Parallel(n_jobs=7)]: Done   1 out of   7 | elapsed:    0.1s remaining:    0.4s\n",
        "[Parallel(n_jobs=7)]: Done   7 out of   7 | elapsed:    0.1s finished\n"
       ]
      },
      {
       "output_type": "stream",
       "stream": "stdout",
       "text": [
        "Score is 0.720588235294\n"
       ]
      },
      {
       "output_type": "stream",
       "stream": "stderr",
       "text": [
        "[Parallel(n_jobs=7)]: Done   1 out of   7 | elapsed:    0.1s remaining:    0.4s\n",
        "[Parallel(n_jobs=7)]: Done   7 out of   7 | elapsed:    0.1s finished\n"
       ]
      }
     ],
     "prompt_number": 45
    },
    {
     "cell_type": "code",
     "collapsed": false,
     "input": [
      "plt.hist(np.abs(upsets_df['SEED1']-upsets_df['SEED2']))\n",
      "plt.show()\n",
      "plt.scatter(np.abs(upsets_df['SEED1']-upsets_df['SEED2']), np.abs(upsets_df['SCORE1']-upsets_df['SCORE2']))\n",
      "plt.show()"
     ],
     "language": "python",
     "metadata": {},
     "outputs": [
      {
       "metadata": {},
       "output_type": "display_data",
       "png": "[encoded data removed]",
       "text": [
        "<matplotlib.figure.Figure at 0x11613c3d0>"
       ]
      },
      {
       "metadata": {},
       "output_type": "display_data",
       "png": "[encoded data removed]",
       "text": [
        "<matplotlib.figure.Figure at 0x119abe310>"
       ]
      }
     ],
     "prompt_number": 81
    },
    {
     "cell_type": "heading",
     "level": 1,
     "metadata": {},
     "source": [
      "Bayes DB"
     ]
    },
    {
     "cell_type": "code",
     "collapsed": false,
     "input": [
      "from bayesdb.client import Client"
     ],
     "language": "python",
     "metadata": {},
     "outputs": [],
     "prompt_number": 46
    },
    {
     "cell_type": "code",
     "collapsed": false,
     "input": [
      "kpom_all = get_kpom_data()\n",
      "\n",
      "all_results = get_all_results(kpom_all)\n",
      "\n",
      "final_df = generate_final_data(data_prefix, kpom_all, all_results)\n",
      "#print final_df\n",
      "train_fea = pd.DataFrame(index=final_df.index)\n",
      "test_fea = pd.DataFrame(index=final_df.index)\n",
      "columns = set(final_df.columns)\n",
      "test_features = final_df\n",
      "train_features, test_features = convert_categorical_to_features(final_df, final_df, columns, train_fea, test_fea)\n",
      "if \"TEAM1_team\" in train_fea.columns:\n",
      "    del train_features[\"TEAM1_team\"]\n",
      "if \"TEAM2_team\" in train_fea.columns:\n",
      "    del train_features[\"TEAM2_team\"]\n",
      "# print train_features.columns\n",
      "# set winner, score1, score2 to nan if > 2009, creating a test set (we'll check on the predictions of winner for > 2009, versus\n",
      "# truth to do an accuracy)\n",
      "train_features['WINNER'] = train_features.apply(lambda x: np.nan if x['TEAM1_year'] > 2009 else x['WINNER'], axis=1)\n",
      "train_features['SCORE1'] = train_features.apply(lambda x: np.nan if x['TEAM1_year'] > 2009 else x['SCORE1'], axis=1)\n",
      "train_features['SCORE2'] = train_features.apply(lambda x: np.nan if x['TEAM1_year'] > 2009 else x['SCORE2'], axis=1)\n",
      "ignore_cols = ['TEAM1_kaggle_id', 'TEAM2_kaggle_id', 'TEAM1', 'TEAM2', 'SEED1', 'SEED2']\n",
      "cols = []\n",
      "for col in train_features.columns:\n",
      "    if col not in ignore_cols:\n",
      "        cols.append(col)\n",
      "train_features.to_csv(\"final_features.csv\", na_rep='NAN', index=False, cols=cols)\n",
      "\n",
      "\n",
      "client = Client()"
     ],
     "language": "python",
     "metadata": {},
     "outputs": [
      {
       "output_type": "stream",
       "stream": "stdout",
       "text": [
        "all_results >= 2008 393\n",
        "kaggle tourney 329\n"
       ]
      }
     ],
     "prompt_number": 52
    },
    {
     "cell_type": "code",
     "collapsed": false,
     "input": [
      "client('DROP BTABLE tourney_table')\n",
      "client('CREATE BTABLE tourney_table FROM /Users/jostheim/workspace/kaggle/src/ncaa_tourney/final_features.csv;')"
     ],
     "language": "python",
     "metadata": {},
     "outputs": [
      {
       "output_type": "stream",
       "stream": "stdout",
       "text": [
        "Are you sure you want to permanently delete this btable, and all associated models, without any way to get them back? Enter 'y' if yes.\n"
       ]
      },
      {
       "name": "stdout",
       "output_type": "stream",
       "stream": "stdout",
       "text": [
        "y\n"
       ]
      },
      {
       "output_type": "stream",
       "stream": "stdout",
       "text": [
        "\n",
        "Created btable tourney_table. Inferred schema:"
       ]
      },
      {
       "output_type": "stream",
       "stream": "stdout",
       "text": [
        "\n",
        "+------------+----------------+--------------------+------------+----------------+------------+----------------+-------------+------------+------------+--------------+----------------+----------------+----------------+-------------+-------------+----------------+--------------------+----------------------+------------+------------------+-------------+------------+------------+------------+------------+------------+------------------+------------+----------------------+------------+------------+------------+----------------+-------------+------------+------------+------------+------------+------------+------------+------------+------------+----------------+----------------+-------------+------------+------------+----------------+------------+-------------+----------------+--------------+-------------+-------------+-------------+----------------+----------------+\n",
        "| TEAM2_pyth | TEAM1_oppd_rnk | TEAM1_opp_pyth_rnk |  TEAM1_w   | TEAM2_adjt_rnk | TEAM2_conf | TEAM2_adjd_rnk | TEAM2_w_per | TEAM2_seed |  TEAM2_w   | TEAM2_kenpom | TEAM1_adjo_rnk | TEAM2_oppd_rnk | TEAM2_adjo_rnk |    ROUND    |   TEAM1_l   | TEAM1_oppo_rnk | TEAM2_opp_pyth_rnk | TEAM1_ncopp_pyth_rnk | TEAM2_adjo | TEAM2_ncopp_pyth |    WINNER   | TEAM1_seed | TEAM1_oppd |   SCORE1   |   SCORE2   | TEAM2_rpi  | TEAM1_ncopp_pyth | TEAM1_oppo | TEAM2_ncopp_pyth_rnk | TEAM1_team | TEAM2_adjt | TEAM1_adjo | TEAM2_oppo_rnk | TEAM1_w_per | TEAM1_adjd | TEAM1_rpi  | TEAM2_adjd | TEAM2_oppo | TEAM2_luck | TEAM1_conf | TEAM1_adjt | TEAM2_oppd | TEAM1_opp_pyth | TEAM2_opp_pyth |  TEAM1_year | TEAM1_pyth | TEAM2_team | TEAM2_luck_rnk | TEAM1_luck |  TEAM1_tour | TEAM1_luck_rnk | TEAM1_kenpom |   TEAM2_l   |  TEAM2_tour |  TEAM2_year | TEAM1_adjt_rnk | TEAM1_adjd_rnk |\n",
        "+------------+----------------+--------------------+------------+----------------+------------+----------------+-------------+------------+------------+--------------+----------------+----------------+----------------+-------------+-------------+----------------+--------------------+----------------------+------------+------------------+-------------+------------+------------+------------+------------+------------+------------------+------------+----------------------+------------+------------+------------+----------------+-------------+------------+------------+------------+------------+------------+------------+------------+------------+----------------+----------------+-------------+------------+------------+----------------+------------+-------------+----------------+--------------+-------------+-------------+-------------+----------------+----------------+\n",
        "| continuous |   continuous   |     continuous     | continuous |   continuous   | continuous |   continuous   |  continuous | continuous | continuous |  continuous  |   continuous   |   continuous   |   continuous   | multinomial | multinomial |   continuous   |     continuous     |      continuous      | continuous |    continuous    | multinomial | continuous | continuous | continuous | continuous | continuous |    continuous    | continuous |      continuous      | continuous | continuous | continuous |   continuous   |  continuous | continuous | continuous | continuous | continuous | continuous | continuous | continuous | continuous |   continuous   |   continuous   | multinomial | continuous | continuous |   continuous   | continuous | multinomial |   continuous   |  continuous  | multinomial | multinomial | multinomial |   continuous   |   continuous   |\n",
        "+------------+----------------+--------------------+------------+----------------+------------+----------------+-------------+------------+------------+--------------+----------------+----------------+----------------+-------------+-------------+----------------+--------------------+----------------------+------------+------------------+-------------+------------+------------+------------+------------+------------+------------------+------------+----------------------+------------+------------+------------+----------------+-------------+------------+------------+------------+------------+------------+------------+------------+------------+----------------+----------------+-------------+------------+------------+----------------+------------+-------------+----------------+--------------+-------------+-------------+-------------+----------------+----------------+\n"
       ]
      }
     ],
     "prompt_number": 53
    },
    {
     "cell_type": "code",
     "collapsed": false,
     "input": [
      "client('UPDATE SCHEMA FOR tourney_table SET winner=categorical;', pretty=False)\n",
      "#client('UPDATE SCHEMA FOR tourney_table SET team2_wol=numerical;', pretty=False)\n",
      "#client('UPDATE SCHEMA FOR tourney_table SET round=numerical;', pretty=False)\n",
      "#client('UPDATE SCHEMA FOR tourney_table SET seed1=numerical;', pretty=False)\n",
      "#client('UPDATE SCHEMA FOR tourney_table SET seed2=numerical;', pretty=False)\n",
      "#client('UPDATE SCHEMA FOR tourney_table SET team2_tour=numerical;', pretty=False)\n",
      "client('UPDATE SCHEMA FOR tourney_table SET team1_year=numerical;', pretty=False)\n",
      "client('UPDATE SCHEMA FOR tourney_table SET team2_year=numerical;', pretty=False)\n",
      "client('UPDATE SCHEMA FOR tourney_table SET team2_l=numerical;', pretty=False)\n",
      "client('UPDATE SCHEMA FOR tourney_table SET team1_l=numerical;', pretty=False)\n",
      "\n",
      "client('UPDATE SCHEMA FOR tourney_table SET score1=ignore;', pretty=False)\n",
      "client('UPDATE SCHEMA FOR tourney_table SET score2=ignore;', pretty=False)"
     ],
     "language": "python",
     "metadata": {},
     "outputs": [
      {
       "output_type": "stream",
       "stream": "stdout",
       "text": [
        "Updated schema.\n",
        "Updated schema."
       ]
      },
      {
       "output_type": "stream",
       "stream": "stdout",
       "text": [
        "\n",
        "Updated schema."
       ]
      },
      {
       "output_type": "stream",
       "stream": "stdout",
       "text": [
        "\n",
        "Updated schema."
       ]
      },
      {
       "output_type": "stream",
       "stream": "stdout",
       "text": [
        "\n",
        "Updated schema."
       ]
      },
      {
       "output_type": "stream",
       "stream": "stdout",
       "text": [
        "\n",
        "Updated schema."
       ]
      },
      {
       "output_type": "stream",
       "stream": "stdout",
       "text": [
        "\n",
        "Updated schema."
       ]
      },
      {
       "output_type": "stream",
       "stream": "stdout",
       "text": [
        "\n"
       ]
      },
      {
       "metadata": {},
       "output_type": "pyout",
       "prompt_number": 54,
       "text": [
        "[{'columns': ['team2_pyth',\n",
        "   'team1_oppd_rnk',\n",
        "   'team1_opp_pyth_rnk',\n",
        "   'team1_w',\n",
        "   'team2_adjt_rnk',\n",
        "   'team2_conf',\n",
        "   'team2_adjd_rnk',\n",
        "   'team2_w_per',\n",
        "   'team2_seed',\n",
        "   'team2_w',\n",
        "   'team2_kenpom',\n",
        "   'team1_adjo_rnk',\n",
        "   'team2_oppd_rnk',\n",
        "   'team2_adjo_rnk',\n",
        "   'round',\n",
        "   'team1_l',\n",
        "   'team1_oppo_rnk',\n",
        "   'team2_opp_pyth_rnk',\n",
        "   'team1_ncopp_pyth_rnk',\n",
        "   'team2_adjo',\n",
        "   'team2_ncopp_pyth',\n",
        "   'winner',\n",
        "   'team1_seed',\n",
        "   'team1_oppd',\n",
        "   'score1',\n",
        "   'score2',\n",
        "   'team2_rpi',\n",
        "   'team1_ncopp_pyth',\n",
        "   'team1_oppo',\n",
        "   'team2_ncopp_pyth_rnk',\n",
        "   'team1_team',\n",
        "   'team2_adjt',\n",
        "   'team1_adjo',\n",
        "   'team2_oppo_rnk',\n",
        "   'team1_w_per',\n",
        "   'team1_adjd',\n",
        "   'team1_rpi',\n",
        "   'team2_adjd',\n",
        "   'team2_oppo',\n",
        "   'team2_luck',\n",
        "   'team1_conf',\n",
        "   'team1_adjt',\n",
        "   'team2_oppd',\n",
        "   'team1_opp_pyth',\n",
        "   'team2_opp_pyth',\n",
        "   'team1_year',\n",
        "   'team1_pyth',\n",
        "   'team2_team',\n",
        "   'team2_luck_rnk',\n",
        "   'team1_luck',\n",
        "   'team1_tour',\n",
        "   'team1_luck_rnk',\n",
        "   'team1_kenpom',\n",
        "   'team2_l',\n",
        "   'team2_tour',\n",
        "   'team2_year'],\n",
        "  'data': [['continuous',\n",
        "    'continuous',\n",
        "    'continuous',\n",
        "    'continuous',\n",
        "    'continuous',\n",
        "    'continuous',\n",
        "    'continuous',\n",
        "    'continuous',\n",
        "    'continuous',\n",
        "    'continuous',\n",
        "    'continuous',\n",
        "    'continuous',\n",
        "    'continuous',\n",
        "    'continuous',\n",
        "    'multinomial',\n",
        "    'continuous',\n",
        "    'continuous',\n",
        "    'continuous',\n",
        "    'continuous',\n",
        "    'continuous',\n",
        "    'continuous',\n",
        "    'multinomial',\n",
        "    'continuous',\n",
        "    'continuous',\n",
        "    'ignore',\n",
        "    'ignore',\n",
        "    'continuous',\n",
        "    'continuous',\n",
        "    'continuous',\n",
        "    'continuous',\n",
        "    'continuous',\n",
        "    'continuous',\n",
        "    'continuous',\n",
        "    'continuous',\n",
        "    'continuous',\n",
        "    'continuous',\n",
        "    'continuous',\n",
        "    'continuous',\n",
        "    'continuous',\n",
        "    'continuous',\n",
        "    'continuous',\n",
        "    'continuous',\n",
        "    'continuous',\n",
        "    'continuous',\n",
        "    'continuous',\n",
        "    'continuous',\n",
        "    'continuous',\n",
        "    'continuous',\n",
        "    'continuous',\n",
        "    'continuous',\n",
        "    'multinomial',\n",
        "    'continuous',\n",
        "    'continuous',\n",
        "    'continuous',\n",
        "    'multinomial',\n",
        "    'continuous',\n",
        "    'continuous',\n",
        "    'continuous']],\n",
        "  'message': 'Updated schema.'}]"
       ]
      }
     ],
     "prompt_number": 54
    },
    {
     "cell_type": "code",
     "collapsed": false,
     "input": [
      "schema = client('show schema for tourney_table;', pretty=False)\n",
      "for i, col in enumerate(schema[0]['columns']):\n",
      "    if schema[0]['data'][0][i] != 'continuous':\n",
      "        print col, schema[0]['data'][0][i]"
     ],
     "language": "python",
     "metadata": {},
     "outputs": [
      {
       "output_type": "stream",
       "stream": "stdout",
       "text": [
        "round multinomial\n",
        "winner multinomial\n",
        "score1 ignore\n",
        "score2 ignore\n",
        "team1_tour multinomial\n",
        "team2_tour multinomial\n"
       ]
      }
     ],
     "prompt_number": 55
    },
    {
     "cell_type": "code",
     "collapsed": false,
     "input": [
      "client('DROP MODELS FOR tourney_table;')"
     ],
     "language": "python",
     "metadata": {},
     "outputs": [
      {
       "output_type": "stream",
       "stream": "stdout",
       "text": [
        "DROP MODEL[S] [<id>-<id>] FROM <btable>: drop the models specified by the given ids.\n",
        "Could not parse command. Try typing 'help' for a list of all commands.\n"
       ]
      }
     ],
     "prompt_number": 56
    },
    {
     "cell_type": "code",
     "collapsed": false,
     "input": [
      "client('INITIALIZE 300 MODELS FOR tourney_table;')"
     ],
     "language": "python",
     "metadata": {},
     "outputs": [
      {
       "output_type": "stream",
       "stream": "stdout",
       "text": [
        "Model 0: 0 iterations, Model 1: 0 iterations, Model 2: 0 iterations, Model 3: 0 iterations, Model 4: 0 iterations, Model 5: 0 iterations, Model 6: 0 iterations, Model 7: 0 iterations, Model 8: 0 iterations, Model 9: 0 iterations, Model 10: 0 iterations, Model 11: 0 iterations, Model 12: 0 iterations, Model 13: 0 iterations, Model 14: 0 iterations, Model 15: 0 iterations, Model 16: 0 iterations, Model 17: 0 iterations, Model 18: 0 iterations, Model 19: 0 iterations, Model 20: 0 iterations, Model 21: 0 iterations, Model 22: 0 iterations, Model 23: 0 iterations, Model 24: 0 iterations, Model 25: 0 iterations, Model 26: 0 iterations, Model 27: 0 iterations, Model 28: 0 iterations, Model 29: 0 iterations, Model 30: 0 iterations, Model 31: 0 iterations, Model 32: 0 iterations, Model 33: 0 iterations, Model 34: 0 iterations, Model 35: 0 iterations, Model 36: 0 iterations, Model 37: 0 iterations, Model 38: 0 iterations, Model 39: 0 iterations, Model 40: 0 iterations, Model 41: 0 iterations, Model 42: 0 iterations, Model 43: 0 iterations, Model 44: 0 iterations, Model 45: 0 iterations, Model 46: 0 iterations, Model 47: 0 iterations, Model 48: 0 iterations, Model 49: 0 iterations, Model 50: 0 iterations, Model 51: 0 iterations, Model 52: 0 iterations, Model 53: 0 iterations, Model 54: 0 iterations, Model 55: 0 iterations, Model 56: 0 iterations, Model 57: 0 iterations, Model 58: 0 iterations, Model 59: 0 iterations, Model 60: 0 iterations, Model 61: 0 iterations, Model 62: 0 iterations, Model 63: 0 iterations, Model 64: 0 iterations, Model 65: 0 iterations, Model 66: 0 iterations, Model 67: 0 iterations, Model 68: 0 iterations, Model 69: 0 iterations, Model 70: 0 iterations, Model 71: 0 iterations, Model 72: 0 iterations, Model 73: 0 iterations, Model 74: 0 iterations, Model 75: 0 iterations, Model 76: 0 iterations, Model 77: 0 iterations, Model 78: 0 iterations, Model 79: 0 iterations, Model 80: 0 iterations, Model 81: 0 iterations, Model 82: 0 iterations, Model 83: 0 iterations, Model 84: 0 iterations, Model 85: 0 iterations, Model 86: 0 iterations, Model 87: 0 iterations, Model 88: 0 iterations, Model 89: 0 iterations, Model 90: 0 iterations, Model 91: 0 iterations, Model 92: 0 iterations, Model 93: 0 iterations, Model 94: 0 iterations, Model 95: 0 iterations, Model 96: 0 iterations, Model 97: 0 iterations, Model 98: 0 iterations, Model 99: 0 iterations, Model 100: 0 iterations, Model 101: 0 iterations, Model 102: 0 iterations, Model 103: 0 iterations, Model 104: 0 iterations, Model 105: 0 iterations, Model 106: 0 iterations, Model 107: 0 iterations, Model 108: 0 iterations, Model 109: 0 iterations, Model 110: 0 iterations, Model 111: 0 iterations, Model 112: 0 iterations, Model 113: 0 iterations, Model 114: 0 iterations, Model 115: 0 iterations, Model 116: 0 iterations, Model 117: 0 iterations, Model 118: 0 iterations, Model 119: 0 iterations, Model 120: 0 iterations, Model 121: 0 iterations, Model 122: 0 iterations, Model 123: 0 iterations, Model 124: 0 iterations, Model 125: 0 iterations, Model 126: 0 iterations, Model 127: 0 iterations, Model 128: 0 iterations, Model 129: 0 iterations, Model 130: 0 iterations, Model 131: 0 iterations, Model 132: 0 iterations, Model 133: 0 iterations, Model 134: 0 iterations, Model 135: 0 iterations, Model 136: 0 iterations, Model 137: 0 iterations, Model 138: 0 iterations, Model 139: 0 iterations, Model 140: 0 iterations, Model 141: 0 iterations, Model 142: 0 iterations, Model 143: 0 iterations, Model 144: 0 iterations, Model 145: 0 iterations, Model 146: 0 iterations, Model 147: 0 iterations, Model 148: 0 iterations, Model 149: 0 iterations, Model 150: 0 iterations, Model 151: 0 iterations, Model 152: 0 iterations, Model 153: 0 iterations, Model 154: 0 iterations, Model 155: 0 iterations, Model 156: 0 iterations, Model 157: 0 iterations, Model 158: 0 iterations, Model 159: 0 iterations, Model 160: 0 iterations, Model 161: 0 iterations, Model 162: 0 iterations, Model 163: 0 iterations, Model 164: 0 iterations, Model 165: 0 iterations, Model 166: 0 iterations, Model 167: 0 iterations, Model 168: 0 iterations, Model 169: 0 iterations, Model 170: 0 iterations, Model 171: 0 iterations, Model 172: 0 iterations, Model 173: 0 iterations, Model 174: 0 iterations, Model 175: 0 iterations, Model 176: 0 iterations, Model 177: 0 iterations, Model 178: 0 iterations, Model 179: 0 iterations, Model 180: 0 iterations, Model 181: 0 iterations, Model 182: 0 iterations, Model 183: 0 iterations, Model 184: 0 iterations, Model 185: 0 iterations, Model 186: 0 iterations, Model 187: 0 iterations, Model 188: 0 iterations, Model 189: 0 iterations, Model 190: 0 iterations, Model 191: 0 iterations, Model 192: 0 iterations, Model 193: 0 iterations, Model 194: 0 iterations, Model 195: 0 iterations, Model 196: 0 iterations, Model 197: 0 iterations, Model 198: 0 iterations, Model 199: 0 iterations, Model 200: 0 iterations, Model 201: 0 iterations, Model 202: 0 iterations, Model 203: 0 iterations, Model 204: 0 iterations, Model 205: 0 iterations, Model 206: 0 iterations, Model 207: 0 iterations, Model 208: 0 iterations, Model 209: 0 iterations, Model 210: 0 iterations, Model 211: 0 iterations, Model 212: 0 iterations, Model 213: 0 iterations, Model 214: 0 iterations, Model 215: 0 iterations, Model 216: 0 iterations, Model 217: 0 iterations, Model 218: 0 iterations, Model 219: 0 iterations, Model 220: 0 iterations, Model 221: 0 iterations, Model 222: 0 iterations, Model 223: 0 iterations, Model 224: 0 iterations, Model 225: 0 iterations, Model 226: 0 iterations, Model 227: 0 iterations, Model 228: 0 iterations, Model 229: 0 iterations, Model 230: 0 iterations, Model 231: 0 iterations, Model 232: 0 iterations, Model 233: 0 iterations, Model 234: 0 iterations, Model 235: 0 iterations, Model 236: 0 iterations, Model 237: 0 iterations, Model 238: 0 iterations, Model 239: 0 iterations, Model 240: 0 iterations, Model 241: 0 iterations, Model 242: 0 iterations, Model 243: 0 iterations, Model 244: 0 iterations, Model 245: 0 iterations, Model 246: 0 iterations, Model 247: 0 iterations, Model 248: 0 iterations, Model 249: 0 iterations, Model 250: 0 iterations, Model 251: 0 iterations, Model 252: 0 iterations, Model 253: 0 iterations, Model 254: 0 iterations, Model 255: 0 iterations, Model 256: 0 iterations, Model 257: 0 iterations, Model 258: 0 iterations, Model 259: 0 iterations, Model 260: 0 iterations, Model 261: 0 iterations, Model 262: 0 iterations, Model 263: 0 iterations, Model 264: 0 iterations, Model 265: 0 iterations, Model 266: 0 iterations, Model 267: 0 iterations, Model 268: 0 iterations, Model 269: 0 iterations, Model 270: 0 iterations, Model 271: 0 iterations, Model 272: 0 iterations, Model 273: 0 iterations, Model 274: 0 iterations, Model 275: 0 iterations, Model 276: 0 iterations, Model 277: 0 iterations, Model 278: 0 iterations, Model 279: 0 iterations, Model 280: 0 iterations, Model 281: 0 iterations, Model 282: 0 iterations, Model 283: 0 iterations, Model 284: 0 iterations, Model 285: 0 iterations, Model 286: 0 iterations, Model 287: 0 iterations, Model 288: 0 iterations, Model 289: 0 iterations, Model 290: 0 iterations, Model 291: 0 iterations, Model 292: 0 iterations, Model 293: 0 iterations, Model 294: 0 iterations, Model 295: 0 iterations, Model 296: 0 iterations, Model 297: 0 iterations, Model 298: 0 iterations, Model 299: 0 iterations\n"
       ]
      }
     ],
     "prompt_number": 57
    },
    {
     "cell_type": "code",
     "collapsed": false,
     "input": [
      "client('ANALYZE tourney_table FOR 600 ITERATIONS;')"
     ],
     "language": "python",
     "metadata": {},
     "outputs": [
      {
       "output_type": "stream",
       "stream": "stdout",
       "text": [
        "Analyze complete.\n",
        "Model 0: 600 iterations, Model 1: 600 iterations, Model 2: 600 iterations, Model 3: 600 iterations, Model 4: 600 iterations, Model 5: 600 iterations, Model 6: 600 iterations, Model 7: 600 iterations, Model 8: 600 iterations, Model 9: 600 iterations, Model 10: 600 iterations, Model 11: 600 iterations, Model 12: 600 iterations, Model 13: 600 iterations, Model 14: 600 iterations, Model 15: 600 iterations, Model 16: 600 iterations, Model 17: 600 iterations, Model 18: 600 iterations, Model 19: 600 iterations, Model 20: 600 iterations, Model 21: 600 iterations, Model 22: 600 iterations, Model 23: 600 iterations, Model 24: 600 iterations, Model 25: 600 iterations, Model 26: 600 iterations, Model 27: 600 iterations, Model 28: 600 iterations, Model 29: 600 iterations, Model 30: 600 iterations, Model 31: 600 iterations, Model 32: 600 iterations, Model 33: 600 iterations, Model 34: 600 iterations, Model 35: 600 iterations, Model 36: 600 iterations, Model 37: 600 iterations, Model 38: 600 iterations, Model 39: 600 iterations, Model 40: 600 iterations, Model 41: 600 iterations, Model 42: 600 iterations, Model 43: 600 iterations, Model 44: 600 iterations, Model 45: 600 iterations, Model 46: 600 iterations, Model 47: 600 iterations, Model 48: 600 iterations, Model 49: 600 iterations, Model 50: 600 iterations, Model 51: 600 iterations, Model 52: 600 iterations, Model 53: 600 iterations, Model 54: 600 iterations, Model 55: 600 iterations, Model 56: 600 iterations, Model 57: 600 iterations, Model 58: 600 iterations, Model 59: 600 iterations, Model 60: 600 iterations, Model 61: 600 iterations, Model 62: 600 iterations, Model 63: 600 iterations, Model 64: 600 iterations, Model 65: 600 iterations, Model 66: 600 iterations, Model 67: 600 iterations, Model 68: 600 iterations, Model 69: 600 iterations, Model 70: 600 iterations, Model 71: 600 iterations, Model 72: 600 iterations, Model 73: 600 iterations, Model 74: 600 iterations, Model 75: 600 iterations, Model 76: 600 iterations, Model 77: 600 iterations, Model 78: 600 iterations, Model 79: 600 iterations, Model 80: 600 iterations, Model 81: 600 iterations, Model 82: 600 iterations, Model 83: 600 iterations, Model 84: 600 iterations, Model 85: 600 iterations, Model 86: 600 iterations, Model 87: 600 iterations, Model 88: 600 iterations, Model 89: 600 iterations, Model 90: 600 iterations, Model 91: 600 iterations, Model 92: 600 iterations, Model 93: 600 iterations, Model 94: 600 iterations, Model 95: 600 iterations, Model 96: 600 iterations, Model 97: 600 iterations, Model 98: 600 iterations, Model 99: 600 iterations, Model 100: 600 iterations, Model 101: 600 iterations, Model 102: 600 iterations, Model 103: 600 iterations, Model 104: 600 iterations, Model 105: 600 iterations, Model 106: 600 iterations, Model 107: 600 iterations, Model 108: 600 iterations, Model 109: 600 iterations, Model 110: 600 iterations, Model 111: 600 iterations, Model 112: 600 iterations, Model 113: 600 iterations, Model 114: 600 iterations, Model 115: 600 iterations, Model 116: 600 iterations, Model 117: 600 iterations, Model 118: 600 iterations, Model 119: 600 iterations, Model 120: 600 iterations, Model 121: 600 iterations, Model 122: 600 iterations, Model 123: 600 iterations, Model 124: 600 iterations, Model 125: 600 iterations, Model 126: 600 iterations, Model 127: 600 iterations, Model 128: 600 iterations, Model 129: 600 iterations, Model 130: 600 iterations, Model 131: 600 iterations, Model 132: 600 iterations, Model 133: 600 iterations, Model 134: 600 iterations, Model 135: 600 iterations, Model 136: 600 iterations, Model 137: 600 iterations, Model 138: 600 iterations, Model 139: 600 iterations, Model 140: 600 iterations, Model 141: 600 iterations, Model 142: 600 iterations, Model 143: 600 iterations, Model 144: 600 iterations, Model 145: 600 iterations, Model 146: 600 iterations, Model 147: 600 iterations, Model 148: 600 iterations, Model 149: 600 iterations, Model 150: 600 iterations, Model 151: 600 iterations, Model 152: 600 iterations, Model 153: 600 iterations, Model 154: 600 iterations, Model 155: 600 iterations, Model 156: 600 iterations, Model 157: 600 iterations, Model 158: 600 iterations, Model 159: 600 iterations, Model 160: 600 iterations, Model 161: 600 iterations, Model 162: 600 iterations, Model 163: 600 iterations, Model 164: 600 iterations, Model 165: 600 iterations, Model 166: 600 iterations, Model 167: 600 iterations, Model 168: 600 iterations, Model 169: 600 iterations, Model 170: 600 iterations, Model 171: 600 iterations, Model 172: 600 iterations, Model 173: 600 iterations, Model 174: 600 iterations, Model 175: 600 iterations, Model 176: 600 iterations, Model 177: 600 iterations, Model 178: 600 iterations, Model 179: 600 iterations, Model 180: 600 iterations, Model 181: 600 iterations, Model 182: 600 iterations, Model 183: 600 iterations, Model 184: 600 iterations, Model 185: 600 iterations, Model 186: 600 iterations, Model 187: 600 iterations, Model 188: 600 iterations, Model 189: 600 iterations, Model 190: 600 iterations, Model 191: 600 iterations, Model 192: 600 iterations, Model 193: 600 iterations, Model 194: 600 iterations, Model 195: 600 iterations, Model 196: 600 iterations, Model 197: 600 iterations, Model 198: 600 iterations, Model 199: 600 iterations, Model 200: 600 iterations, Model 201: 600 iterations, Model 202: 600 iterations, Model 203: 600 iterations, Model 204: 600 iterations, Model 205: 600 iterations, Model 206: 600 iterations, Model 207: 600 iterations, Model 208: 600 iterations, Model 209: 600 iterations, Model 210: 600 iterations, Model 211: 600 iterations, Model 212: 600 iterations, Model 213: 600 iterations, Model 214: 600 iterations, Model 215: 600 iterations, Model 216: 600 iterations, Model 217: 600 iterations, Model 218: 600 iterations, Model 219: 600 iterations, Model 220: 600 iterations, Model 221: 600 iterations, Model 222: 600 iterations, Model 223: 600 iterations, Model 224: 600 iterations, Model 225: 600 iterations, Model 226: 600 iterations, Model 227: 600 iterations, Model 228: 600 iterations, Model 229: 600 iterations, Model 230: 600 iterations, Model 231: 600 iterations, Model 232: 600 iterations, Model 233: 600 iterations, Model 234: 600 iterations, Model 235: 600 iterations, Model 236: 600 iterations, Model 237: 600 iterations, Model 238: 600 iterations, Model 239: 600 iterations, Model 240: 600 iterations, Model 241: 600 iterations, Model 242: 600 iterations, Model 243: 600 iterations, Model 244: 600 iterations, Model 245: 600 iterations, Model 246: 600 iterations, Model 247: 600 iterations, Model 248: 600 iterations, Model 249: 600 iterations, Model 250: 600 iterations, Model 251: 600 iterations, Model 252: 600 iterations, Model 253: 600 iterations, Model 254: 600 iterations, Model 255: 600 iterations, Model 256: 600 iterations, Model 257: 600 iterations, Model 258: 600 iterations, Model 259: 600 iterations, Model 260: 600 iterations, Model 261: 600 iterations, Model 262: 600 iterations, Model 263: 600 iterations, Model 264: 600 iterations, Model 265: 600 iterations, Model 266: 600 iterations, Model 267: 600 iterations, Model 268: 600 iterations, Model 269: 600 iterations, Model 270: 600 iterations, Model 271: 600 iterations, Model 272: 600 iterations, Model 273: 600 iterations, Model 274: 600 iterations, Model 275: 600 iterations, Model 276: 600 iterations, Model 277: 600 iterations, Model 278: 600 iterations, Model 279: 600 iterations, Model 280: 600 iterations, Model 281: 600 iterations, Model 282: 600 iterations, Model 283: 600 iterations, Model 284: 600 iterations, Model 285: 600 iterations, Model 286: 600 iterations, Model 287: 600 iterations, Model 288: 600 iterations, Model 289: 600 iterations, Model 290: 600 iterations, Model 291: 600 iterations, Model 292: 600 iterations, Model 293: 600 iterations, Model 294: 600 iterations, Model 295: 600 iterations, Model 296: 600 iterations, Model 297: 600 iterations, Model 298: 600 iterations, Model 299: 600 iterations\n"
       ]
      }
     ],
     "prompt_number": 58
    },
    {
     "cell_type": "code",
     "collapsed": false,
     "input": [
      "tmp = client(\"INFER winner FROM tourney_table WITH CONFIDENCE 0.0 ;\", pretty=False)"
     ],
     "language": "python",
     "metadata": {},
     "outputs": [],
     "prompt_number": 63
    },
    {
     "cell_type": "code",
     "collapsed": false,
     "input": [
      "nan_count = 0\n",
      "correct_count = 0\n",
      "total_count = 0\n",
      "for (index, val) in tmp[0]['data']:\n",
      "    if str(val) == \"nan\":\n",
      "        nan_count += 1\n",
      "    if str(train_features.ix[index][\"WINNER\"]) == \"nan\" and float(val) == test_features.ix[index][\"WINNER\"]:\n",
      "        correct_count += 1\n",
      "    if str(train_features.ix[index][\"WINNER\"]) == \"nan\":\n",
      "        total_count += 1\n",
      "    print val, test_features.ix[index][\"WINNER\"], float(val) == float(test_features.ix[index][\"WINNER\"]), train_features.ix[index][\"WINNER\"]\n",
      "print correct_count, total_count, float(correct_count)/float(total_count)"
     ],
     "language": "python",
     "metadata": {},
     "outputs": [
      {
       "output_type": "stream",
       "stream": "stdout",
       "text": [
        "1.0 1.0 True nan\n",
        "1.0 1.0 True nan\n",
        "1.0 1.0 True nan\n",
        "-1.0 -1.0 True nan\n",
        "1.0 1.0 True nan\n",
        "1.0 -1.0 False nan\n",
        "1.0 1.0 True nan\n",
        "1.0 1.0 True nan\n",
        "1.0 1.0 True nan\n",
        "1.0 1.0 True nan\n",
        "1.0 1.0 True nan\n",
        "1.0 1.0 True nan\n",
        "1.0 1.0 True nan\n",
        "1.0 1.0 True nan\n",
        "-1.0 -1.0 True nan\n",
        "1.0 1.0 True nan\n",
        "1.0 1.0 True nan\n",
        "1.0 -1.0 False nan\n",
        "1.0 -1.0 False nan\n",
        "1.0 1.0 True nan\n",
        "1.0 1.0 True nan\n",
        "1.0 -1.0 False nan\n",
        "-1.0 -1.0 True nan\n",
        "1.0 -1.0 False nan\n",
        "1.0 -1.0 False nan\n",
        "-1.0 -1.0 True nan\n",
        "1.0 1.0 True nan\n",
        "1.0 1.0 True nan\n",
        "1.0 -1.0 False nan\n",
        "1.0 1.0 True nan\n",
        "1.0 1.0 True nan\n",
        "1.0 1.0 True nan\n",
        "1.0 1.0 True nan\n",
        "1.0 -1.0 False nan\n",
        "1.0 -1.0 False nan\n",
        "1.0 1.0 True nan\n",
        "1.0 -1.0 False nan\n",
        "1.0 -1.0 False nan\n",
        "-1.0 -1.0 True nan\n",
        "-1.0 1.0 False nan\n",
        "1.0 1.0 True nan\n",
        "-1.0 -1.0 True nan\n",
        "1.0 1.0 True nan\n",
        "1.0 -1.0 False nan\n",
        "1.0 -1.0 False nan\n",
        "1.0 -1.0 False nan\n",
        "1.0 1.0 True nan\n",
        "-1.0 -1.0 True nan\n",
        "1.0 -1.0 False nan\n",
        "-1.0 -1.0 True nan\n",
        "-1.0 1.0 False nan\n",
        "-1.0 -1.0 True nan\n",
        "1.0 -1.0 False nan\n",
        "-1.0 -1.0 True nan\n",
        "-1.0 1.0 "
       ]
      },
      {
       "output_type": "stream",
       "stream": "stdout",
       "text": [
        "False nan\n",
        "-1.0 -1.0 True nan\n",
        "-1.0 1.0 False nan\n",
        "1.0 1.0 True nan\n",
        "1.0 -1.0 False nan\n",
        "1.0 1.0 True nan\n",
        "1.0 1.0 True nan\n",
        "-1.0 1.0 False nan\n",
        "-1.0 1.0 False nan\n",
        "1.0 1.0 True nan\n",
        "-1.0 1.0 False nan\n",
        "-1.0 1.0 False nan\n",
        "1.0 1.0 True nan\n",
        "1.0 1.0 True nan\n",
        "-1.0 1.0 False nan\n",
        "-1.0 -1.0 True nan\n",
        "1.0 1.0 True nan\n",
        "-1.0 -1.0 True nan\n",
        "1.0 1.0 True nan\n",
        "-1.0 -1.0 True nan\n",
        "1.0 1.0 True nan\n",
        "1.0 1.0 True nan\n",
        "1.0 1.0 True nan\n",
        "-1.0 -1.0 True nan\n",
        "1.0 1.0 True nan\n",
        "-1.0 -1.0 True nan\n",
        "-1.0 -1.0 True nan\n",
        "1.0 -1.0 False nan\n",
        "1.0 1.0 True nan\n",
        "1.0 1.0 True nan\n",
        "1.0 1.0 True nan\n",
        "1.0 1.0 True nan\n",
        "1.0 -1.0 False nan\n",
        "-1.0 -1.0 True nan\n",
        "-1.0 1.0 False nan\n",
        "1.0 1.0 True nan\n",
        "1.0 1.0 True nan\n",
        "-1.0 -1.0 True nan\n",
        "1.0 -1.0 False nan\n",
        "-1.0 -1.0 True nan\n",
        "-1.0 -1.0 True nan\n",
        "1.0 1.0 True nan\n",
        "1.0 -1.0 False nan\n",
        "-1.0 -1.0 True nan\n",
        "1.0 1.0 True nan\n",
        "1.0 1.0 True nan\n",
        "1.0 -1.0 False nan\n",
        "1.0 1.0 True nan\n",
        "1.0 1.0 True nan\n",
        "1.0 1.0 True nan\n",
        "1.0 1.0 True nan\n",
        "1.0 -1.0 False nan\n",
        "1.0 -1.0 False nan\n",
        "1.0 -1.0 False nan\n",
        "1.0 -1.0 False nan\n",
        "1.0 "
       ]
      },
      {
       "output_type": "stream",
       "stream": "stdout",
       "text": [
        "1.0 True nan\n",
        "1.0 -1.0 False nan\n",
        "1.0 1.0 True nan\n",
        "1.0 -1.0 False nan\n",
        "1.0 -1.0 False nan\n",
        "1.0 1.0 True nan\n",
        "1.0 1.0 True nan\n",
        "1.0 1.0 True nan\n",
        "1.0 1.0 True nan\n",
        "1.0 1.0 True nan\n",
        "1.0 1.0 True nan\n",
        "1.0 1.0 True nan\n",
        "1.0 1.0 True nan\n",
        "1.0 1.0 True nan\n",
        "1.0 -1.0 False nan\n",
        "1.0 1.0 True nan\n",
        "1.0 1.0 True nan\n",
        "1.0 1.0 True nan\n",
        "1.0 1.0 True nan\n",
        "1.0 -1.0 False nan\n",
        "1.0 1.0 True nan\n",
        "1.0 -1.0 False nan\n",
        "1.0 -1.0 False nan\n",
        "1.0 -1.0 False nan\n",
        "1.0 1.0 True nan\n",
        "1.0 1.0 True nan\n",
        "1.0 -1.0 False nan\n",
        "-1.0 -1.0 True nan\n",
        "-1.0 1.0 False nan\n",
        "1.0 -1.0 False nan\n",
        "1.0 1.0 True nan\n",
        "-1.0 -1.0 True nan\n",
        "1.0 1.0 True nan\n",
        "-1.0 -1.0 True nan\n",
        "1.0 -1.0 False nan\n",
        "1.0 1.0 True nan\n",
        "1.0 -1.0 False nan\n",
        "-1.0 1.0 False nan\n",
        "1.0 -1.0 False nan\n",
        "1.0 1.0 True nan\n",
        "1.0 1.0 True nan\n",
        "-1.0 -1.0 True nan\n",
        "1.0 1.0 True nan\n",
        "1.0 1.0 True nan\n",
        "1.0 1.0 True nan\n",
        "-1.0 1.0 False nan\n",
        "-1.0 1.0 False nan\n",
        "-1.0 1.0 False nan\n",
        "-1.0 -1.0 True nan\n",
        "-1.0 -1.0 True nan\n",
        "1.0 1.0 True nan\n",
        "-1.0 -1.0 True nan\n",
        "-1.0 -1.0 True nan\n",
        "-1.0 -1.0 True nan\n",
        "1.0 -1.0 False nan\n",
        "1.0 -1.0 False nan\n",
        "1.0 1.0 True nan\n",
        "1.0 1.0 True nan\n",
        "1.0 1.0 True nan\n",
        "1.0 1.0 True nan\n",
        "1.0 -1.0 False nan\n",
        "1.0 1.0 True nan\n",
        "1.0 1.0 True nan\n",
        "1.0 1.0 True nan\n",
        "1.0 1.0 True nan\n",
        "1.0 -1.0 False nan\n",
        "1.0 1.0 True nan\n",
        "-1.0 -1.0 True nan\n",
        "1.0 1.0 True nan\n",
        "1.0"
       ]
      },
      {
       "output_type": "stream",
       "stream": "stdout",
       "text": [
        " 1.0 True nan\n",
        "1.0 1.0 True nan\n",
        "1.0 -1.0 False nan\n",
        "1.0 1.0 True nan\n",
        "1.0 -1.0 False nan\n",
        "1.0 1.0 True nan\n",
        "1.0 1.0 True nan\n",
        "1.0 -1.0 False nan\n",
        "1.0 1.0 True nan\n",
        "1.0 -1.0 False nan\n",
        "1.0 1.0 True nan\n",
        "1.0 1.0 True nan\n",
        "1.0 1.0 True nan\n",
        "1.0 1.0 True nan\n",
        "-1.0 1.0 False nan\n",
        "1.0 1.0 True nan\n",
        "1.0 1.0 True nan\n",
        "1.0 1.0 True nan\n",
        "1.0 1.0 True nan\n",
        "1.0 1.0 True nan\n",
        "1.0 -1.0 False nan\n",
        "1.0 1.0 True nan\n",
        "-1.0 -1.0 True nan\n",
        "1.0 -1.0 False nan\n",
        "-1.0 -1.0 True nan\n",
        "-1.0 -1.0 True nan\n",
        "-1.0 1.0 False nan\n",
        "-1.0 1.0 False nan\n",
        "1.0 -1.0 False nan\n",
        "-1.0 1.0 False nan\n",
        "1.0 -1.0 False nan\n",
        "1.0 1.0 True nan\n",
        "1.0 1.0 True nan\n",
        "-1.0 1.0 False nan\n",
        "-1.0 -1.0 True nan\n",
        "-1.0 -1.0 True nan\n",
        "1.0 1.0 True nan\n",
        "-1.0 -1.0 True nan\n",
        "-1.0 -1.0 True nan\n",
        "1.0 1.0 True nan\n",
        "-1.0 1.0 False nan\n",
        "1.0 1.0 True nan\n",
        "-1.0 -1.0 True nan\n",
        "1.0 1.0 True nan\n",
        "-1.0 -1.0 True nan\n",
        "1.0 1.0 True nan\n",
        "-1.0 1.0 False nan\n",
        "-1.0 -1.0 True nan\n",
        "1.0 1.0 True nan\n",
        "1.0 -1.0 False nan\n",
        "1.0 1.0 True nan\n",
        "1.0 1.0 True nan\n",
        "-1.0 -1.0 True nan\n",
        "1.0 1.0 True nan\n",
        "1.0 1.0 True nan\n",
        "1.0 1.0 True nan\n",
        "1.0 1.0 True nan\n",
        "1.0 1.0 True nan\n",
        "1.0 -1.0 False nan\n",
        "1.0 1.0 True nan\n",
        "1.0 -1.0 False nan\n",
        "1.0 1.0 True nan\n",
        "1.0 1.0 True nan\n",
        "1.0 1.0 True nan\n",
        "1.0 -1.0 False nan\n",
        "1.0 1.0 True nan\n",
        "1.0 1.0 True nan\n",
        "1.0 1.0 True nan\n",
        "1.0 1.0 True "
       ]
      },
      {
       "output_type": "stream",
       "stream": "stdout",
       "text": [
        "nan\n",
        "1.0 1.0 True nan\n",
        "1.0 1.0 True nan\n",
        "1.0 -1.0 False nan\n",
        "1.0 1.0 True nan\n",
        "1.0 1.0 True nan\n",
        "1.0 1.0 True nan\n",
        "1.0 1.0 True nan\n",
        "1.0 -1.0 False nan\n",
        "-1.0 -1.0 True nan\n",
        "1.0 1.0 True nan\n",
        "1.0 -1.0 False nan\n",
        "1.0 1.0 True nan\n",
        "1.0 -1.0 False nan\n",
        "1.0 1.0 True nan\n",
        "1.0 -1.0 False nan\n",
        "1.0 -1.0 False nan\n",
        "1.0 1.0 True nan\n",
        "1.0 1.0 True nan\n",
        "-1.0 -1.0 True -1.0\n",
        "1.0 1.0 True 1.0\n",
        "-1.0 -1.0 True -1.0\n",
        "1.0 1.0 True 1.0\n",
        "-1.0 -1.0 True -1.0\n",
        "1.0 1.0 True 1.0\n",
        "-1.0 -1.0 True -1.0\n",
        "1.0 1.0 True 1.0\n",
        "-1.0 -1.0 True -1.0\n",
        "1.0 1.0 True 1.0\n",
        "-1.0 -1.0 True -1.0\n",
        "1.0 1.0 True 1.0\n",
        "1.0 1.0 True 1.0\n",
        "1.0 1.0 True 1.0\n",
        "1.0 1.0 True 1.0\n",
        "1.0 1.0 True 1.0\n",
        "-1.0 -1.0 True -1.0\n",
        "1.0 1.0 True 1.0\n",
        "-1.0 -1.0 True -1.0\n",
        "-1.0 -1.0 True -1.0\n",
        "-1.0 -1.0 True -1.0\n",
        "1.0 1.0 True 1.0\n",
        "-1.0 -1.0 True -1.0\n",
        "-1.0 -1.0 True -1.0\n",
        "1.0 1.0 True 1.0\n",
        "1.0 1.0 True 1.0\n",
        "1.0 1.0 True 1.0\n",
        "-1.0 -1.0 True -1.0\n",
        "-1.0 -1.0 True -1.0\n",
        "-1.0 -1.0 True -1.0\n",
        "-1.0 -1.0 True -1.0\n",
        "-1.0 -1.0 True -1.0\n",
        "-1.0 -1.0 True -1.0\n",
        "-1.0 -1.0 True -1.0\n",
        "-1.0 -1.0 True -1.0\n",
        "1.0 1.0 True 1.0\n",
        "1.0 1.0 True 1.0\n",
        "1.0 1.0 True 1.0\n",
        "1.0 1.0 True 1.0\n",
        "1.0 1.0 True 1.0\n",
        "1.0 1.0 True 1.0\n",
        "1.0 1.0 True 1.0\n",
        "-1.0 -1.0 True -1.0\n",
        "-1.0 -1.0 True -1.0\n",
        "1.0 1.0 True 1.0\n",
        "1.0 1.0 True 1.0\n",
        "1.0 1.0 True 1.0\n",
        "-1.0 -1.0 True -1.0\n",
        "1.0 1.0 True 1.0\n",
        "1.0 1.0 True 1.0\n",
        "1.0 1.0 True 1.0\n",
        "1.0 1.0 True 1.0\n",
        "-1.0 -1.0 True -1.0\n",
        "1.0 1.0 True 1.0\n",
        "1.0 1.0 True 1.0\n",
        "1.0 1.0 True 1.0\n",
        "1.0 1.0 True 1.0\n",
        "-1.0 -1.0 True -1.0\n",
        "1.0 1.0 True 1.0\n",
        "1.0"
       ]
      },
      {
       "output_type": "stream",
       "stream": "stdout",
       "text": [
        " 1.0 True 1.0\n",
        "-1.0 -1.0 True -1.0\n",
        "1.0 1.0 True 1.0\n",
        "1.0 1.0 True 1.0\n",
        "1.0 1.0 True 1.0\n",
        "1.0 1.0 True 1.0\n",
        "1.0 1.0 True 1.0\n",
        "-1.0 -1.0 True -1.0\n",
        "1.0 1.0 True 1.0\n",
        "1.0 1.0 True 1.0\n",
        "1.0 1.0 True 1.0\n",
        "1.0 1.0 True 1.0\n",
        "-1.0 -1.0 True -1.0\n",
        "1.0 1.0 True 1.0\n",
        "-1.0 -1.0 True -1.0\n",
        "1.0 1.0 True 1.0\n",
        "1.0 1.0 True 1.0\n",
        "1.0 1.0 True 1.0\n",
        "1.0 1.0 True 1.0\n",
        "1.0 1.0 True 1.0\n",
        "1.0 1.0 True 1.0\n",
        "1.0 1.0 True 1.0\n",
        "-1.0 -1.0 True -1.0\n",
        "-1.0 -1.0 True -1.0\n",
        "1.0 1.0 True 1.0\n",
        "1.0 1.0 True 1.0\n",
        "1.0 1.0 True 1.0\n",
        "-1.0 -1.0 True -1.0\n",
        "-1.0 -1.0 True -1.0\n",
        "-1.0 -1.0 True -1.0\n",
        "-1.0 -1.0 True -1.0\n",
        "1.0 1.0 True 1.0\n",
        "1.0 1.0 True 1.0\n",
        "1.0 1.0 True 1.0\n",
        "-1.0 -1.0 True -1.0\n",
        "1.0 1.0 True 1.0\n",
        "1.0 1.0 True 1.0\n",
        "1.0 1.0 True 1.0\n",
        "1.0 1.0 True 1.0\n",
        "1.0 1.0 True 1.0\n",
        "1.0 1.0 True 1.0\n",
        "1.0 1.0 True 1.0\n",
        "-1.0 -1.0 True -1.0\n",
        "-1.0 -1.0 True -1.0\n",
        "1.0 1.0 True 1.0\n",
        "1.0 1.0 True 1.0\n",
        "-1.0 -1.0 True -1.0\n",
        "-1.0 -1.0 True -1.0\n",
        "1.0 1.0 True 1.0\n",
        "-1.0 -1.0 True -1.0\n",
        "-1.0 -1.0 True -1.0\n",
        "1.0 1.0 True 1.0\n",
        "1.0 1.0 True 1.0\n",
        "1.0 1.0 True 1.0\n",
        "-1.0 -1.0 True -1.0\n",
        "1.0 1.0 True 1.0\n",
        "1.0 1.0 True 1.0\n",
        "1.0 1.0 True 1.0\n",
        "1.0 1.0 True 1.0\n",
        "1.0 1.0 True 1.0\n",
        "1.0 1.0 True 1.0\n",
        "1.0 1.0 True 1.0\n",
        "1.0 1.0 True 1.0\n",
        "1.0 1.0 True 1.0\n",
        "1.0 1.0 True 1.0\n",
        "1.0 1.0 True 1.0\n",
        "1.0 1.0 True 1.0\n",
        "-1.0 -1.0 True -1.0\n",
        "1.0 1.0 True 1.0\n",
        "1.0 1.0 True 1.0\n",
        "-1.0 -1.0 True -1.0\n",
        "1.0 1.0 True 1.0\n",
        "-1.0 -1.0 True -1.0\n",
        "1.0 1.0 True 1.0\n",
        "1.0 1.0 True 1.0\n",
        "-1.0 -1.0 True -1.0\n",
        "-1.0"
       ]
      },
      {
       "output_type": "stream",
       "stream": "stdout",
       "text": [
        " -1.0 True -1.0\n",
        "1.0 1.0 True 1.0\n",
        "1.0 1.0 True 1.0\n",
        "1.0 1.0 True 1.0\n",
        "1.0 1.0 True 1.0\n",
        "-1.0 -1.0 True -1.0\n",
        "1.0 1.0 True 1.0\n",
        "-1.0 -1.0 True -1.0\n",
        "1.0 1.0 True 1.0\n",
        "1.0 1.0 True 1.0\n",
        "1.0 1.0 True 1.0\n",
        "-1.0 -1.0 True -1.0\n",
        "1.0 1.0 True 1.0\n",
        "-1.0 -1.0 True -1.0\n",
        "1.0 1.0 True 1.0\n",
        "-1.0 -1.0 True -1.0\n",
        "1.0 1.0 True 1.0\n",
        "1.0 1.0 True 1.0\n",
        "-1.0 -1.0 True -1.0\n",
        "1.0 1.0 True 1.0\n",
        "-1.0 -1.0 True -1.0\n",
        "1.0 1.0 True 1.0\n",
        "-1.0 -1.0 True -1.0\n",
        "-1.0 -1.0 True -1.0\n",
        "1.0 1.0 True 1.0\n",
        "1.0 1.0 True 1.0\n",
        "1.0 1.0 True 1.0\n",
        "1.0 1.0 True 1.0\n",
        "1.0 1.0 True 1.0\n",
        "1.0 1.0 True 1.0\n",
        "1.0 1.0 True 1.0\n",
        "1.0 1.0 True 1.0\n",
        "1.0 1.0 True 1.0\n",
        "-1.0 -1.0 True -1.0\n",
        "-1.0 -1.0 True -1.0\n",
        "1.0 1.0 True 1.0\n",
        "1.0 1.0 True 1.0\n",
        "1.0 1.0 True 1.0\n",
        "1.0 1.0 True 1.0\n",
        "1.0 1.0 True 1.0\n",
        "1.0 1.0 True 1.0\n",
        "1.0 1.0 True 1.0\n",
        "1.0 1.0 True 1.0\n",
        "1.0 1.0 True 1.0\n",
        "1.0 1.0 True 1.0\n",
        "1.0 1.0 True 1.0\n",
        "-1.0 -1.0 True -1.0\n",
        "-1.0 -1.0 True -1.0\n",
        "1.0 1.0 True 1.0\n",
        "1.0 1.0 True 1.0\n",
        "1.0 1.0 True 1.0\n",
        "-1.0 -1.0 True -1.0\n",
        "1.0 1.0 True 1.0\n",
        "1.0 1.0 True 1.0\n",
        "1.0 1.0 True 1.0\n",
        "1.0 1.0 True 1.0\n",
        "1.0 1.0 True 1.0\n",
        "-1.0 -1.0 True -1.0\n",
        "-1.0 -1.0 True -1.0\n",
        "-1.0 -1.0 True -1.0\n",
        "-1.0 -1.0 True -1.0\n",
        "-1.0 -1.0 True -1.0\n",
        "-1.0 -1.0 True -1.0\n",
        "1.0 1.0 True 1.0\n",
        "1.0 1.0 True 1.0\n",
        "1.0 1.0 True 1.0\n",
        "1.0 1.0 True 1.0\n",
        "1.0 1.0 True 1.0\n",
        "-1.0 -1.0 True -1.0\n",
        "-1.0 -1.0 True -1.0\n",
        "-1.0 -1.0 True -1.0\n",
        "1.0 1.0 True 1.0\n",
        "1.0 1.0 True 1.0\n",
        "1.0 1.0 True 1.0\n",
        "1.0 1.0 True 1.0\n",
        "1.0 1.0 True 1.0\n",
        "1.0 1.0 True 1.0\n",
        "1.0 1.0 True 1.0\n",
        "-1.0 -1.0 True -1.0\n",
        "-1.0 -1.0 True -1.0\n",
        "-1.0 -1.0 True -1.0\n",
        "-1.0"
       ]
      },
      {
       "output_type": "stream",
       "stream": "stdout",
       "text": [
        " -1.0 True -1.0\n",
        "1.0 1.0 True 1.0\n",
        "-1.0 -1.0 True -1.0\n",
        "1.0 1.0 True 1.0\n",
        "1.0 1.0 True 1.0\n",
        "-1.0 -1.0 True -1.0\n",
        "-1.0 -1.0 True -1.0\n",
        "-1.0 -1.0 True -1.0\n",
        "1.0 1.0 True 1.0\n",
        "1.0 1.0 True 1.0\n",
        "1.0 1.0 True 1.0\n",
        "-1.0 -1.0 True -1.0\n",
        "1.0 1.0 True 1.0\n",
        "1.0 1.0 True 1.0\n",
        "1.0 1.0 True 1.0\n",
        "1.0 1.0 True 1.0\n",
        "-1.0 -1.0 True -1.0\n",
        "1.0 1.0 True 1.0\n",
        "-1.0 -1.0 True -1.0\n",
        "1.0 1.0 True 1.0\n",
        "1.0 1.0 True 1.0\n",
        "1.0 1.0 True 1.0\n",
        "-1.0 -1.0 True -1.0\n",
        "1.0 1.0 True 1.0\n",
        "1.0 1.0 True 1.0\n",
        "-1.0 -1.0 True -1.0\n",
        "1.0 1.0 True 1.0\n",
        "-1.0 -1.0 True -1.0\n",
        "1.0 1.0 True 1.0\n",
        "-1.0 -1.0 True -1.0\n",
        "1.0 1.0 True 1.0\n",
        "1.0 1.0 True 1.0\n",
        "1.0 1.0 True 1.0\n",
        "1.0 1.0 True 1.0\n",
        "1.0 1.0 True 1.0\n",
        "1.0 1.0 True 1.0\n",
        "-1.0 -1.0 True -1.0\n",
        "1.0 1.0 True 1.0\n",
        "1.0 1.0 True 1.0\n",
        "1.0 1.0 True 1.0\n",
        "-1.0 -1.0 True -1.0\n",
        "1.0 1.0 True 1.0\n",
        "1.0 1.0 True 1.0\n",
        "1.0 1.0 True 1.0\n",
        "1.0 1.0 True 1.0\n",
        "1.0 1.0 True 1.0\n",
        "1.0 1.0 True 1.0\n",
        "-1.0 -1.0 True -1.0\n",
        "1.0 1.0 True 1.0\n",
        "1.0 1.0 True 1.0\n",
        "-1.0 -1.0 True -1.0\n",
        "1.0 1.0 True 1.0\n",
        "-1.0 -1.0 True -1.0\n",
        "1.0 1.0 True 1.0\n",
        "-1.0 -1.0 True -1.0\n",
        "1.0 1.0 True 1.0\n",
        "1.0 1.0 True 1.0\n",
        "1.0 1.0 True 1.0\n",
        "1.0 1.0 True 1.0\n",
        "1.0 1.0 True 1.0\n",
        "-1.0 -1.0 True -1.0\n",
        "1.0 1.0 True 1.0\n",
        "-1.0 -1.0 True -1.0\n",
        "-1.0 -1.0 True -1.0\n",
        "1.0 1.0 True 1.0\n",
        "1.0 1.0 True 1.0\n",
        "1.0 1.0 True 1.0\n",
        "-1.0 -1.0 True -1.0\n",
        "1.0 1.0 True 1.0\n",
        "1.0 1.0 True 1.0\n",
        "1.0 1.0 True 1.0\n",
        "1.0 1.0 True 1.0\n",
        "1.0 1.0 True 1.0\n",
        "-1.0 -1.0 True "
       ]
      },
      {
       "output_type": "stream",
       "stream": "stdout",
       "text": [
        "-1.0\n",
        "1.0 1.0 True 1.0\n",
        "1.0 1.0 True 1.0\n",
        "-1.0 -1.0 True -1.0\n",
        "-1.0 -1.0 True -1.0\n",
        "-1.0 -1.0 True -1.0\n",
        "1.0 1.0 True 1.0\n",
        "1.0 1.0 True 1.0\n",
        "1.0 1.0 True 1.0\n",
        "1.0 1.0 True 1.0\n",
        "1.0 1.0 True 1.0\n",
        "1.0 1.0 True 1.0\n",
        "1.0 1.0 True 1.0\n",
        "1.0 1.0 True 1.0\n",
        "-1.0 -1.0 True -1.0\n",
        "1.0 1.0 True 1.0\n",
        "-1.0 -1.0 True -1.0\n",
        "1.0 1.0 True 1.0\n",
        "1.0 1.0 True 1.0\n",
        "1.0 1.0 True 1.0\n",
        "1.0 1.0 True 1.0\n",
        "1.0 1.0 True 1.0\n",
        "1.0 1.0 True 1.0\n",
        "-1.0 -1.0 True -1.0\n",
        "1.0 1.0 True 1.0\n",
        "1.0 1.0 True 1.0\n",
        "-1.0 -1.0 True -1.0\n",
        "1.0 1.0 True 1.0\n",
        "1.0 1.0 True 1.0\n",
        "1.0 1.0 True 1.0\n",
        "1.0 1.0 True 1.0\n",
        "-1.0 -1.0 True -1.0\n",
        "1.0 1.0 True 1.0\n",
        "-1.0 -1.0 True -1.0\n",
        "1.0 1.0 True 1.0\n",
        "-1.0 -1.0 True -1.0\n",
        "-1.0 -1.0 True -1.0\n",
        "-1.0 -1.0 True -1.0\n",
        "-1.0 -1.0 True -1.0\n",
        "-1.0 -1.0 True -1.0\n",
        "1.0 1.0 True 1.0\n",
        "1.0 1.0 True 1.0\n",
        "-1.0 -1.0 True -1.0\n",
        "1.0 1.0 True 1.0\n",
        "-1.0 -1.0 True -1.0\n",
        "1.0 1.0 True 1.0\n",
        "-1.0 -1.0 True -1.0\n",
        "1.0 1.0 True 1.0\n",
        "1.0 1.0 True 1.0\n",
        "1.0 1.0 True 1.0\n",
        "-1.0 -1.0 True -1.0\n",
        "-1.0 -1.0 True -1.0\n",
        "-1.0 -1.0 True -1.0\n",
        "-1.0 -1.0 True -1.0\n",
        "1.0 1.0 True 1.0\n",
        "1.0 1.0 True 1.0\n",
        "-1.0 -1.0 True -1.0\n",
        "-1.0 -1.0 True -1.0\n",
        "1.0 1.0 True 1.0\n",
        "-1.0 -1.0 True -1.0\n",
        "1.0 1.0 True 1.0\n",
        "-1.0 -1.0 True -1.0\n",
        "1.0 1.0 True 1.0\n",
        "1.0 1.0 True 1.0\n",
        "1.0 1.0 True 1.0\n",
        "1.0 1.0 True 1.0\n",
        "1.0 1.0 True 1.0\n",
        "1.0 1.0 True 1.0\n",
        "1.0 1.0 True 1.0\n",
        "1.0 1.0 True 1.0\n",
        "-1.0 -1.0 True -1.0\n",
        "-1.0 -1.0 True -1.0\n",
        "1.0 1.0 True 1.0\n",
        "1.0 1.0 True 1.0\n",
        "1.0 1.0 True 1.0\n",
        "1.0 1.0 True 1.0\n",
        "1.0 1.0 True 1.0\n",
        "1.0 1.0 True 1.0\n",
        "1.0 1.0 True 1.0\n",
        "1.0 1.0 True 1.0\n",
        "1.0 1.0 True "
       ]
      },
      {
       "output_type": "stream",
       "stream": "stdout",
       "text": [
        "1.0\n",
        "1.0 1.0 True 1.0\n",
        "1.0 1.0 True 1.0\n",
        "1.0 1.0 True 1.0\n",
        "1.0 1.0 True 1.0\n",
        "1.0 1.0 True 1.0\n",
        "1.0 1.0 True 1.0\n",
        "1.0 1.0 True 1.0\n",
        "-1.0 -1.0 True -1.0\n",
        "1.0 1.0 True 1.0\n",
        "1.0 1.0 True 1.0\n",
        "1.0 1.0 True 1.0\n",
        "-1.0 -1.0 True -1.0\n",
        "1.0 1.0 True 1.0\n",
        "1.0 1.0 True 1.0\n",
        "182 265 0.68679245283\n"
       ]
      }
     ],
     "prompt_number": 64
    },
    {
     "cell_type": "code",
     "collapsed": false,
     "input": [
      "indices = client(\"select index from tourney_table;\", pretty=False)\n",
      "print tmp, indices"
     ],
     "language": "python",
     "metadata": {},
     "outputs": [
      {
       "output_type": "stream",
       "stream": "stdout",
       "text": [
        "[{'data': [(0, '1.0'), (1, '-1.0'), (2, '-1.0'), (3, '-1.0'), (4, '1.0'), (5, '1.0'), (6, '1.0'), (7, '1.0'), (8, '1.0'), (9, '-1.0'), (10, '1.0'), (11, '1.0'), (12, '1.0'), (13, '1.0'), (14, '1.0'), (15, '1.0'), (16, '1.0'), (17, '1.0'), (18, '1.0'), (19, '1.0'), (20, '1.0'), (21, '-1.0'), (22, '-1.0'), (23, '1.0'), (24, '1.0'), (25, '-1.0'), (26, '1.0'), (27, '1.0'), (28, '1.0'), (29, '1.0'), (30, '1.0'), (31, '-1.0'), (32, '1.0'), (33, '1.0'), (34, '1.0'), (35, '1.0'), (36, '-1.0'), (37, '1.0'), (38, '1.0'), (39, '1.0'), (40, '-1.0'), (41, '1.0'), (42, '1.0'), (43, '-1.0'), (44, '-1.0'), (45, '1.0'), (46, '1.0'), (47, '-1.0'), (48, '-1.0'), (49, '-1.0'), (50, '1.0'), (51, '1.0'), (52, '-1.0'), (53, '1.0'), (54, '-1.0'), (55, '1.0'), (56, '1.0'), (57, '1.0'), (58, '1.0'), (59, '-1.0'), (60, '1.0'), (61, '1.0'), (62, '1.0'), (63, '1.0'), (64, '1.0'), (65, '-1.0'), (66, '-1.0'), (67, '-1.0'), (68, '1.0'), (69, '1.0'), (70, '-1.0'), (71, '1.0'), (72, '1.0'), (73, '-1.0'), (74, '1.0'), (75, '1.0'), (76, '1.0'), (77, '1.0'), (78, '-1.0'), (79, '1.0'), (80, '1.0'), (81, '1.0'), (82, '-1.0'), (83, '1.0'), (84, '-1.0'), (85, '1.0'), (86, '-1.0'), (87, '1.0'), (88, '-1.0'), (89, '1.0'), (90, '1.0'), (91, '1.0'), (92, '-1.0'), (93, '-1.0'), (94, '1.0'), (95, '1.0'), (96, '1.0'), (97, '-1.0'), (98, '1.0'), (99, '1.0'), (100, '-1.0'), (101, '1.0'), (102, '1.0'), (103, '1.0'), (104, '1.0'), (105, '1.0'), (106, '1.0'), (107, '1.0'), (108, '1.0'), (109, '1.0'), (110, '1.0'), (111, '1.0'), (112, '1.0'), (113, '-1.0'), (114, '1.0'), (115, '1.0'), (116, '-1.0'), (117, '1.0'), (118, '1.0'), (119, '1.0'), (120, '1.0'), (121, '1.0'), (122, '1.0'), (123, '1.0'), (124, '-1.0'), (125, '1.0'), (126, '1.0'), (127, '-1.0'), (128, '1.0'), (129, '1.0'), (130, '1.0'), (131, '1.0'), (132, '1.0'), (133, '1.0'), (134, '1.0'), (135, '-1.0'), (136, '1.0'), (137, '-1.0'), (138, '1.0'), (139, '1.0'), (140, '1.0'), (141, '1.0'), (142, '-1.0'), (143, '1.0'), (144, '1.0'), (145, '-1.0'), (146, '-1.0'), (147, '1.0'), (148, '1.0'), (149, '1.0'), (150, '1.0'), (151, '1.0'), (152, '1.0'), (153, '1.0'), (154, '-1.0'), (155, '-1.0'), (156, '1.0'), (157, '-1.0'), (158, '-1.0'), (159, '1.0'), (160, '1.0'), (161, '1.0'), (162, '-1.0'), (163, '1.0'), (164, '-1.0'), (165, '1.0'), (166, '1.0'), (167, '1.0'), (168, '1.0'), (169, '1.0'), (170, '1.0'), (171, '1.0'), (172, '1.0'), (173, '1.0'), (174, '1.0'), (175, '1.0'), (176, '1.0'), (177, '1.0'), (178, '1.0'), (179, '1.0'), (180, '1.0'), (181, '-1.0'), (182, '1.0'), (183, '1.0'), (184, '1.0'), (185, '-1.0'), (186, '1.0'), (187, '1.0'), (188, '-1.0'), (189, '1.0'), (190, '1.0'), (191, '1.0'), (192, '1.0'), (193, '1.0'), (194, '1.0'), (195, '1.0'), (196, '1.0'), (197, '1.0'), (198, '1.0'), (199, '1.0'), (200, '1.0'), (201, '1.0'), (202, '-1.0'), (203, '-1.0'), (204, '1.0'), (205, '1.0'), (206, '-1.0'), (207, '1.0'), (208, '-1.0'), (209, '-1.0'), (210, '-1.0'), (211, '-1.0'), (212, '-1.0'), (213, '-1.0'), (214, '1.0'), (215, '1.0'), (216, '1.0'), (217, '-1.0'), (218, '-1.0'), (219, '-1.0'), (220, '1.0'), (221, '1.0'), (222, '-1.0'), (223, '-1.0'), (224, '1.0'), (225, '-1.0'), (226, '-1.0'), (227, '-1.0'), (228, '1.0'), (229, '1.0'), (230, '-1.0'), (231, '1.0'), (232, '1.0'), (233, '1.0'), (234, '1.0'), (235, '1.0'), (236, '1.0'), (237, '1.0'), (238, '1.0'), (239, '1.0'), (240, '1.0'), (241, '1.0'), (242, '1.0'), (243, '-1.0'), (244, '1.0'), (245, '1.0'), (246, '1.0'), (247, '1.0'), (248, '1.0'), (249, '1.0'), (250, '1.0'), (251, '1.0'), (252, '1.0'), (253, '1.0'), (254, '1.0'), (255, '-1.0'), (256, '1.0'), (257, '-1.0'), (258, '-1.0'), (259, '-1.0'), (260, '1.0'), (261, '1.0'), (262, '1.0'), (263, '-1.0'), (264, '1.0'), (265, '-1.0'), (266, '1.0'), (267, '-1.0'), (268, '1.0'), (269, '-1.0'), (270, '1.0'), (271, '-1.0'), (272, '1.0'), (273, '-1.0'), (274, '1.0'), (275, '-1.0'), (276, '1.0'), (277, '1.0'), (278, '1.0'), (279, '1.0'), (280, '1.0'), (281, '-1.0'), (282, '1.0'), (283, '-1.0'), (284, '-1.0'), (285, '-1.0'), (286, '1.0'), (287, '-1.0'), (288, '-1.0'), (289, '1.0'), (290, '1.0'), (291, '1.0'), (292, '-1.0'), (293, '-1.0'), (294, '-1.0'), (295, '-1.0'), (296, '-1.0'), (297, '-1.0'), (298, '-1.0'), (299, '-1.0'), (300, '1.0'), (301, '1.0'), (302, '1.0'), (303, '1.0'), (304, '1.0'), (305, '1.0'), (306, '1.0'), (307, '-1.0'), (308, '-1.0'), (309, '1.0'), (310, '1.0'), (311, '1.0'), (312, '-1.0'), (313, '1.0'), (314, '1.0'), (315, '1.0'), (316, '1.0'), (317, '-1.0'), (318, '1.0'), (319, '1.0'), (320, '1.0'), (321, '1.0'), (322, '-1.0'), (323, '1.0'), (324, '1.0'), (325, '-1.0'), (326, '1.0'), (327, '1.0'), (328, '1.0'), (329, '1.0'), (330, '1.0'), (331, '-1.0'), (332, '1.0'), (333, '1.0'), (334, '1.0'), (335, '1.0'), (336, '-1.0'), (337, '1.0'), (338, '-1.0'), (339, '1.0'), (340, '1.0'), (341, '1.0'), (342, '1.0'), (343, '1.0'), (344, '1.0'), (345, '1.0'), (346, '-1.0'), (347, '-1.0'), (348, '1.0'), (349, '1.0'), (350, '1.0'), (351, '-1.0'), (352, '-1.0'), (353, '-1.0'), (354, '-1.0'), (355, '1.0'), (356, '1.0'), (357, '1.0'), (358, '-1.0'), (359, '1.0'), (360, '1.0'), (361, '1.0'), (362, '1.0'), (363, '1.0'), (364, '1.0'), (365, '1.0'), (366, '-1.0'), (367, '-1.0'), (368, '1.0'), (369, '1.0'), (370, '-1.0'), (371, '-1.0'), (372, '1.0'), (373, '-1.0'), (374, '-1.0'), (375, '1.0'), (376, '1.0'), (377, '1.0'), (378, '-1.0'), (379, '1.0'), (380, '1.0'), (381, '1.0'), (382, '1.0'), (383, '1.0'), (384, '1.0'), (385, '1.0'), (386, '1.0'), (387, '1.0'), (388, '1.0'), (389, '1.0'), (390, '1.0'), (391, '-1.0'), (392, '1.0'), (393, '1.0'), (394, '-1.0'), (395, '1.0'), (396, '-1.0'), (397, '1.0'), (398, '1.0'), (399, '-1.0'), (400, '-1.0'), (401, '1.0'), (402, '1.0'), (403, '1.0'), (404, '1.0'), (405, '-1.0'), (406, '1.0'), (407, '-1.0'), (408, '1.0'), (409, '1.0'), (410, '1.0'), (411, '-1.0'), (412, '1.0'), (413, '-1.0'), (414, '1.0'), (415, '-1.0'), (416, '1.0'), (417, '1.0'), (418, '-1.0'), (419, '1.0'), (420, '-1.0'), (421, '1.0'), (422, '-1.0'), (423, '-1.0'), (424, '1.0'), (425, '1.0'), (426, '1.0'), (427, '1.0'), (428, '1.0'), (429, '1.0'), (430, '1.0'), (431, '1.0'), (432, '1.0'), (433, '-1.0'), (434, '-1.0'), (435, '1.0'), (436, '1.0'), (437, '1.0'), (438, '1.0'), (439, '1.0'), (440, '1.0'), (441, '1.0'), (442, '1.0'), (443, '1.0'), (444, '1.0'), (445, '1.0'), (446, '-1.0'), (447, '-1.0'), (448, '1.0'), (449, '1.0'), (450, '1.0'), (451, '-1.0'), (452, '1.0'), (453, '1.0'), (454, '1.0'), (455, '1.0'), (456, '1.0'), (457, '-1.0'), (458, '-1.0'), (459, '-1.0'), (460, '-1.0'), (461, '-1.0'), (462, '-1.0'), (463, '1.0'), (464, '1.0'), (465, '1.0'), (466, '1.0'), (467, '1.0'), (468, '-1.0'), (469, '-1.0'), (470, '-1.0'), (471, '1.0'), (472, '1.0'), (473, '1.0'), (474, '1.0'), (475, '1.0'), (476, '1.0'), (477, '1.0'), (478, '-1.0'), (479, '-1.0'), (480, '-1.0'), (481, '-1.0'), (482, '1.0'), (483, '-1.0'), (484, '1.0'), (485, '1.0'), (486, '-1.0'), (487, '-1.0'), (488, '-1.0'), (489, '1.0'), (490, '1.0'), (491, '1.0'), (492, '-1.0'), (493, '1.0'), (494, '1.0'), (495, '1.0'), (496, '1.0'), (497, '-1.0'), (498, '1.0'), (499, '-1.0'), (500, '1.0'), (501, '1.0'), (502, '1.0'), (503, '-1.0'), (504, '1.0'), (505, '1.0'), (506, '-1.0'), (507, '1.0'), (508, '-1.0'), (509, '1.0'), (510, '-1.0'), (511, '1.0'), (512, '1.0'), (513, '1.0'), (514, '1.0'), (515, '1.0'), (516, '1.0'), (517, '-1.0'), (518, '1.0'), (519, '1.0'), (520, '1.0'), (521, '-1.0'), (522, '1.0'), (523, '1.0'), (524, '1.0'), (525, '1.0'), (526, '1.0'), (527, '1.0'), (528, '-1.0'), (529, '1.0'), (530, '1.0'), (531, '-1.0'), (532, '1.0'), (533, '-1.0'), (534, '1.0'), (535, '-1.0'), (536, '1.0'), (537, '1.0'), (538, '1.0'), (539, '1.0'), (540, '1.0'), (541, '-1.0'), (542, '1.0'), (543, '-1.0'), (544, '-1.0'), (545, '1.0'), (546, '1.0'), (547, '1.0'), (548, '-1.0'), (549, '1.0'), (550, '1.0'), (551, '1.0'), (552, '1.0'), (553, '1.0'), (554, '-1.0'), (555, '1.0'), (556, '1.0'), (557, '-1.0'), (558, '-1.0'), (559, '-1.0'), (560, '1.0'), (561, '1.0'), (562, '1.0'), (563, '1.0'), (564, '1.0'), (565, '1.0'), (566, '1.0'), (567, '1.0'), (568, '-1.0'), (569, '1.0'), (570, '-1.0'), (571, '1.0'), (572, '1.0'), (573, '1.0'), (574, '1.0'), (575, '1.0'), (576, '1.0'), (577, '-1.0'), (578, '1.0'), (579, '1.0'), (580, '-1.0'), (581, '1.0'), (582, '1.0'), (583, '1.0'), (584, '1.0'), (585, '-1.0'), (586, '1.0'), (587, '-1.0'), (588, '1.0'), (589, '-1.0'), (590, '-1.0'), (591, '-1.0'), (592, '-1.0'), (593, '-1.0'), (594, '1.0'), (595, '1.0'), (596, '-1.0'), (597, '1.0'), (598, '-1.0'), (599, '1.0'), (600, '-1.0'), (601, '1.0'), (602, '1.0'), (603, '1.0'), (604, '-1.0'), (605, '-1.0'), (606, '-1.0'), (607, '-1.0'), (608, '1.0'), (609, '1.0'), (610, '-1.0'), (611, '-1.0'), (612, '1.0'), (613, '-1.0'), (614, '1.0'), (615, '-1.0'), (616, '1.0'), (617, '1.0'), (618, '1.0'), (619, '1.0'), (620, '1.0'), (621, '1.0'), (622, '1.0'), (623, '1.0'), (624, '-1.0'), (625, '-1.0'), (626, '1.0'), (627, '1.0'), (628, '1.0'), (629, '1.0'), (630, '1.0'), (631, '1.0'), (632, '1.0'), (633, '1.0'), (634, '1.0'), (635, '1.0'), (636, '1.0'), (637, '1.0'), (638, '1.0'), (639, '1.0'), (640, '1.0'), (641, '1.0'), (642, '-1.0'), (643, '1.0'), (644, '1.0'), (645, '1.0'), (646, '-1.0'), (647, '1.0'), (648, '1.0')], 'columns': ['row_id', 'winner']}] [{'data': [(0, 0.0), (1, 1.0), (2, 2.0), (3, 3.0), (4, 4.0), (5, 5.0), (6, 6.0), (7, 7.0), (8, 8.0), (9, 9.0), (10, 10.0), (11, 11.0), (12, 12.0), (13, 13.0), (14, 14.0), (15, 15.0), (16, 16.0), (17, 17.0), (18, 18.0), (19, 19.0), (20, 20.0), (21, 21.0), (22, 22.0), (23, 23.0), (24, 24.0), (25, 25.0), (26, 26.0), (27, 27.0), (28, 28.0), (29, 29.0), (30, 30.0), (31, 31.0), (32, 32.0), (33, 33.0), (34, 34.0), (35, 35.0), (36, 36.0), (37, 37.0), (38, 38.0), (39, 39.0), (40, 40.0), (41, 41.0), (42, 42.0), (43, 43.0), (44, 44.0), (45, 45.0), (46, 46.0), (47, 47.0), (48, 48.0), (49, 49.0), (50, 50.0), (51, 51.0), (52, 52.0), (53, 53.0), (54, 54.0), (55, 55.0), (56, 56.0), (57, 57.0), (58, 58.0), (59, 59.0), (60, 60.0), (61, 61.0), (62, 62.0), (63, 63.0), (64, 64.0), (65, 65.0), (66, 66.0), (67, 67.0), (68, 68.0), (69, 69.0), (70, 70.0), (71, 71.0), (72, 72.0), (73, 73.0), (74, 74.0), (75, 75.0), (76, 76.0), (77, 77.0), (78, 78.0), (79, 79.0), (80, 80.0), (81, 81.0), (82, 82.0), (83, 83.0), (84, 84.0), (85, 85.0), (86, 86.0), (87, 87.0), (88, 88.0), (89, 89.0), (90, 90.0), (91, 91.0), (92, 92.0), (93, 93.0), (94, 94.0), (95, 95.0), (96, 96.0), (97, 97.0), (98, 98.0), (99, 99.0), (100, 100.0), (101, 101.0), (102, 102.0), (103, 103.0), (104, 104.0), (105, 105.0), (106, 106.0), (107, 107.0), (108, 108.0), (109, 109.0), (110, 110.0), (111, 111.0), (112, 112.0), (113, 113.0), (114, 114.0), (115, 115.0), (116, 116.0), (117, 117.0), (118, 118.0), (119, 119.0), (120, 120.0), (121, 121.0), (122, 122.0), (123, 123.0), (124, 124.0), (125, 125.0), (126, 126.0), (127, 127.0), (128, 128.0), (129, 129.0), (130, 130.0), (131, 131.0), (132, 132.0), (133, 133.0), (134, 134.0), (135, 135.0), (136, 136.0), (137, 137.0), (138, 138.0), (139, 139.0), (140, 140.0), (141, 141.0), (142, 142.0), (143, 143.0), (144, 144.0), (145, 145.0), (146, 146.0), (147, 147.0), (148, 148.0), (149, 149.0), (150, 150.0), (151, 151.0), (152, 152.0), (153, 153.0), (154, 154.0), (155, 155.0), (156, 156.0), (157, 157.0), (158, 158.0), (159, 159.0), (160, 160.0), (161, 161.0), (162, 162.0), (163, 163.0), (164, 164.0), (165, 165.0), (166, 166.0), (167, 167.0), (168, 168.0), (169, 169.0), (170, 170.0), (171, 171.0), (172, 172.0), (173, 173.0), (174, 174.0), (175, 175.0), (176, 176.0), (177, 177.0), (178, 178.0), (179, 179.0), (180, 180.0), (181, 181.0), (182, 182.0), (183, 183.0), (184, 184.0), (185, 185.0), (186, 186.0), (187, 187.0), (188, 188.0), (189, 189.0), (190, 190.0), (191, 191.0), (192, 192.0), (193, 193.0), (194, 194.0), (195, 195.0), (196, 196.0), (197, 197.0), (198, 198.0), (199, 199.0), (200, 200.0), (201, 201.0), (202, 202.0), (203, 203.0), (204, 204.0), (205, 205.0), (206, 206.0), (207, 207.0), (208, 208.0), (209, 209.0), (210, 210.0), (211, 211.0), (212, 212.0), (213, 213.0), (214, 214.0), (215, 215.0), (216, 216.0), (217, 217.0), (218, 218.0), (219, 219.0), (220, 220.0), (221, 221.0), (222, 222.0), (223, 223.0), (224, 224.0), (225, 225.0), (226, 226.0), (227, 227.0), (228, 228.0), (229, 229.0), (230, 230.0), (231, 231.0), (232, 232.0), (233, 233.0), (234, 234.0), (235, 235.0), (236, 236.0), (237, 237.0), (238, 238.0), (239, 239.0), (240, 240.0), (241, 241.0), (242, 242.0), (243, 243.0), (244, 244.0), (245, 245.0), (246, 246.0), (247, 247.0), (248, 248.0), (249, 249.0), (250, 250.0), (251, 251.0), (252, 252.0), (253, 253.0), (254, 254.0), (255, 255.0), (256, 256.0), (257, 257.0), (258, 258.0), (259, 259.0), (260, 260.0), (261, 261.0), (262, 262.0), (263, 263.0), (264, 264.0), (265, 265.0), (266, 266.0), (267, 267.0), (268, 268.0), (269, 269.0), (270, 270.0), (271, 271.0), (272, 272.0), (273, 273.0), (274, 274.0), (275, 275.0), (276, 276.0), (277, 277.0), (278, 278.0), (279, 279.0), (280, 280.0), (281, 281.0), (282, 282.0), (283, 283.0), (284, 284.0), (285, 285.0), (286, 286.0), (287, 287.0), (288, 288.0), (289, 289.0), (290, 290.0), (291, 291.0), (292, 292.0), (293, 293.0), (294, 294.0), (295, 295.0), (296, 296.0), (297, 297.0), (298, 298.0), (299, 299.0), (300, 300.0), (301, 301.0), (302, 302.0), (303, 303.0), (304, 304.0), (305, 305.0), (306, 306.0), (307, 307.0), (308, 308.0), (309, 309.0), (310, 310.0), (311, 311.0), (312, 312.0), (313, 313.0), (314, 314.0), (315, 315.0), (316, 316.0), (317, 317.0), (318, 318.0), (319, 319.0), (320, 320.0), (321, 321.0), (322, 322.0), (323, 323.0), (324, 324.0), (325, 325.0), (326, 326.0), (327, 327.0), (328, 328.0), (329, 329.0), (330, 330.0), (331, 331.0), (332, 332.0), (333, 333.0), (334, 334.0), (335, 335.0), (336, 336.0), (337, 337.0), (338, 338.0), (339, 339.0), (340, 340.0), (341, 341.0), (342, 342.0), (343, 343.0), (344, 344.0), (345, 345.0), (346, 346.0), (347, 347.0), (348, 348.0), (349, 349.0), (350, 350.0), (351, 351.0), (352, 352.0), (353, 353.0), (354, 354.0), (355, 355.0), (356, 356.0), (357, 357.0), (358, 358.0), (359, 359.0), (360, 360.0), (361, 361.0), (362, 362.0), (363, 363.0), (364, 364.0), (365, 365.0), (366, 366.0), (367, 367.0), (368, 368.0), (369, 369.0), (370, 370.0), (371, 371.0), (372, 372.0), (373, 373.0), (374, 374.0), (375, 375.0), (376, 376.0), (377, 377.0), (378, 378.0), (379, 379.0), (380, 380.0), (381, 381.0), (382, 382.0), (383, 383.0), (384, 384.0), (385, 385.0), (386, 386.0), (387, 387.0), (388, 388.0), (389, 389.0), (390, 390.0), (391, 391.0), (392, 392.0), (393, 393.0), (394, 394.0), (395, 395.0), (396, 396.0), (397, 397.0), (398, 398.0), (399, 399.0), (400, 400.0), (401, 401.0), (402, 402.0), (403, 403.0), (404, 404.0), (405, 405.0), (406, 406.0), (407, 407.0), (408, 408.0), (409, 409.0), (410, 410.0), (411, 411.0), (412, 412.0), (413, 413.0), (414, 414.0), (415, 415.0), (416, 416.0), (417, 417.0), (418, 418.0), (419, 419.0), (420, 420.0), (421, 421.0), (422, 422.0), (423, 423.0), (424, 424.0), (425, 425.0), (426, 426.0), (427, 427.0), (428, 428.0), (429, 429.0), (430, 430.0), (431, 431.0), (432, 432.0), (433, 433.0), (434, 434.0), (435, 435.0), (436, 436.0), (437, 437.0), (438, 438.0), (439, 439.0), (440, 440.0), (441, 441.0), (442, 442.0), (443, 443.0), (444, 444.0), (445, 445.0), (446, 446.0), (447, 447.0), (448, 448.0), (449, 449.0), (450, 450.0), (451, 451.0), (452, 452.0), (453, 453.0), (454, 454.0), (455, 455.0), (456, 456.0), (457, 457.0), (458, 458.0), (459, 459.0), (460, 460.0), (461, 461.0), (462, 462.0), (463, 463.0), (464, 464.0), (465, 465.0), (466, 466.0), (467, 467.0), (468, 468.0), (469, 469.0), (470, 470.0), (471, 471.0), (472, 472.0), (473, 473.0), (474, 474.0), (475, 475.0), (476, 476.0), (477, 477.0), (478, 478.0), (479, 479.0), (480, 480.0), (481, 481.0), (482, 482.0), (483, 483.0), (484, 484.0), (485, 485.0), (486, 486.0), (487, 487.0), (488, 488.0), (489, 489.0), (490, 490.0), (491, 491.0), (492, 492.0), (493, 493.0), (494, 494.0), (495, 495.0), (496, 496.0), (497, 497.0), (498, 498.0), (499, 499.0), (500, 500.0), (501, 501.0), (502, 502.0), (503, 503.0), (504, 504.0), (505, 505.0), (506, 506.0), (507, 507.0), (508, 508.0), (509, 509.0), (510, 510.0), (511, 511.0), (512, 512.0), (513, 513.0), (514, 514.0), (515, 515.0), (516, 516.0), (517, 517.0), (518, 518.0), (519, 519.0), (520, 520.0), (521, 521.0), (522, 522.0), (523, 523.0), (524, 524.0), (525, 525.0), (526, 526.0), (527, 527.0), (528, 528.0), (529, 529.0), (530, 530.0), (531, 531.0), (532, 532.0), (533, 533.0), (534, 534.0), (535, 535.0), (536, 536.0), (537, 537.0), (538, 538.0), (539, 539.0), (540, 540.0), (541, 541.0), (542, 542.0), (543, 543.0), (544, 544.0), (545, 545.0), (546, 546.0), (547, 547.0), (548, 548.0), (549, 549.0), (550, 550.0), (551, 551.0), (552, 552.0), (553, 553.0), (554, 554.0), (555, 555.0), (556, 556.0), (557, 557.0), (558, 558.0), (559, 559.0), (560, 560.0), (561, 561.0), (562, 562.0), (563, 563.0), (564, 564.0), (565, 565.0), (566, 566.0), (567, 567.0), (568, 568.0), (569, 569.0), (570, 570.0), (571, 571.0), (572, 572.0), (573, 573.0), (574, 574.0), (575, 575.0), (576, 576.0), (577, 577.0), (578, 578.0), (579, 579.0), (580, 580.0), (581, 581.0), (582, 582.0), (583, 583.0), (584, 584.0), (585, 585.0), (586, 586.0), (587, 587.0), (588, 588.0), (589, 589.0), (590, 590.0), (591, 591.0), (592, 592.0), (593, 593.0), (594, 594.0), (595, 595.0), (596, 596.0), (597, 597.0), (598, 598.0), (599, 599.0), (600, 600.0), (601, 601.0), (602, 602.0), (603, 603.0), (604, 604.0), (605, 605.0), (606, 606.0), (607, 607.0), (608, 608.0), (609, 609.0), (610, 610.0), (611, 611.0), (612, 612.0), (613, 613.0), (614, 614.0), (615, 615.0), (616, 616.0), (617, 617.0), (618, 618.0), (619, 619.0), (620, 620.0), (621, 621.0), (622, 622.0), (623, 623.0), (624, 624.0), (625, 625.0), (626, 626.0), (627, 627.0), (628, 628.0), (629, 629.0), (630, 630.0), (631, 631.0), (632, 632.0), (633, 633.0), (634, 634.0), (635, 635.0), (636, 636.0), (637, 637.0), (638, 638.0), (639, 639.0), (640, 640.0), (641, 641.0), (642, 642.0), (643, 643.0), (644, 644.0), (645, 645.0), (646, 646.0), (647, 647.0), (648, 648.0)], 'columns': ['row_id', 'index']}]\n"
       ]
      }
     ],
     "prompt_number": 53
    },
    {
     "cell_type": "code",
     "collapsed": false,
     "input": [
      "print train_features[train_features['TEAM1_year'] > 2009]['WINNER']\n",
      "print test_features[test_features['TEAM1_year'] > 2009]['WINNER']"
     ],
     "language": "python",
     "metadata": {},
     "outputs": [
      {
       "output_type": "stream",
       "stream": "stdout",
       "text": [
        "index\n",
        "0       NaN\n",
        "1       NaN\n",
        "2       NaN\n",
        "3       NaN\n",
        "4       NaN\n",
        "5       NaN\n",
        "6       NaN\n",
        "7       NaN\n",
        "8       NaN\n",
        "9       NaN\n",
        "10      NaN\n",
        "11      NaN\n",
        "12      NaN\n",
        "13      NaN\n",
        "14      NaN\n",
        "...\n",
        "250     NaN\n",
        "251     NaN\n",
        "252     NaN\n",
        "253     NaN\n",
        "254     NaN\n",
        "255     NaN\n",
        "256     NaN\n",
        "257     NaN\n",
        "258     NaN\n",
        "259     NaN\n",
        "260     NaN\n",
        "261     NaN\n",
        "262     NaN\n",
        "263     NaN\n",
        "264     NaN\n",
        "Name: WINNER, Length: 265, dtype: float64\n",
        "index\n",
        "0        1\n",
        "1        1\n",
        "2        1\n",
        "3       -1\n",
        "4        1\n",
        "5       -1\n",
        "6        1\n",
        "7        1\n",
        "8        1\n",
        "9        1\n",
        "10       1\n",
        "11       1\n",
        "12       1\n",
        "13       1\n",
        "14      -1\n",
        "...\n",
        "250      1\n",
        "251      1\n",
        "252      1\n",
        "253      1\n",
        "254     -1\n",
        "255     -1\n",
        "256      1\n",
        "257     -1\n",
        "258      1\n",
        "259     -1\n",
        "260      1\n",
        "261     -1\n",
        "262     -1\n",
        "263      1\n",
        "264      1\n",
        "Name: WINNER, Length: 265, dtype: int64\n"
       ]
      }
     ],
     "prompt_number": 86
    },
    {
     "cell_type": "code",
     "collapsed": false,
     "input": [],
     "language": "python",
     "metadata": {},
     "outputs": []
    }
   ],
   "metadata": {}
  }
 ]
}