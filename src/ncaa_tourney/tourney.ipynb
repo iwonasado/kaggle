{
 "metadata": {
  "name": ""
 },
 "nbformat": 3,
 "nbformat_minor": 0,
 "worksheets": [
  {
   "cells": [
    {
     "cell_type": "code",
     "collapsed": false,
     "input": [
      "import pandas as pd\n",
      "import numpy as np\n",
      "import types\n",
      "import dateutil\n",
      "import datetime\n",
      "from dateutil import tz\n",
      "from multiprocessing import Pool\n",
      "import os, sys\n",
      "import random\n",
      "import pickle\n",
      "import pytz\n",
      "from pytz import timezone\n",
      "from sklearn.ensemble import RandomForestClassifier\n",
      "from sklearn.ensemble import ExtraTreesClassifier\n",
      "from sklearn import cross_validation\n",
      "import traceback\n",
      "from sklearn.metrics.pairwise import check_pairwise_arrays\n",
      "from sklearn.metrics.pairwise import linear_kernel\n",
      "from sklearn.preprocessing import normalize\n",
      "from sklearn.utils.extmath import safe_sparse_dot\n",
      "import matplotlib.pyplot as plt\n",
      "import csv"
     ],
     "language": "python",
     "metadata": {},
     "outputs": [],
     "prompt_number": 223
    },
    {
     "cell_type": "code",
     "collapsed": false,
     "input": [
      "data_prefix = '/Users/jostheim/workspace/kaggle/data/ncaa_tourney/'"
     ],
     "language": "python",
     "metadata": {},
     "outputs": [],
     "prompt_number": 224
    },
    {
     "cell_type": "code",
     "collapsed": false,
     "input": [
      "def smart_split_teams(x):\n",
      "    splits = x.split(\" \")\n",
      "    if splits[len(splits)-1].isdigit():\n",
      "        t = \" \".join(x.split(\" \")[0:len(x.split(\" \"))-1]).strip()\n",
      "        return t\n",
      "    return x"
     ],
     "language": "python",
     "metadata": {},
     "outputs": [],
     "prompt_number": 225
    },
    {
     "cell_type": "code",
     "collapsed": false,
     "input": [
      "def check_names(all_results, all_kpom):\n",
      "    names = []\n",
      "    for ix, row in all_results.iterrows():\n",
      "        tmp = len(all_kpom[all_kpom['team'] == row['TEAM1']])\n",
      "        if tmp == 0:\n",
      "            if row['TEAM1'] not in name_map.keys():\n",
      "                if row['TEAM1'] not in names:\n",
      "                    names.append(row['TEAM1'])\n",
      "                    print \"Team1: {0} name not in original\".format(row['TEAM1'])\n",
      "        tmp = len(all_kpom[all_kpom['team'] == row['TEAM2']])\n",
      "        if tmp == 0:\n",
      "            if row['TEAM2'] not in name_map.keys():\n",
      "                if row['TEAM2'] not in names:\n",
      "                    names.append(row['TEAM2'])\n",
      "                    print \"Team2: {0} name not in original\".format(row['TEAM2'])"
     ],
     "language": "python",
     "metadata": {},
     "outputs": [],
     "prompt_number": 226
    },
    {
     "cell_type": "code",
     "collapsed": false,
     "input": [
      "def generate_final_data(data_prefix, all_kpom, all_results):\n",
      "    # don't have conf_rate for current year\n",
      "    if 'conf_rate' in all_kpom.columns:\n",
      "        del all_kpom['conf_rate']\n",
      "    # we can get bid if we need to\n",
      "    if 'bid' in all_kpom.columns:\n",
      "        del all_kpom['bid']\n",
      "    join_data = []\n",
      "    for ix, row in all_results.iterrows():\n",
      "        final_row = {\"index\":ix, \"ROUND\":row[\"ROUND\"], \"SEED1\":row[\"SEED1\"], \"SEED2\":row[\"SEED2\"], \"SCORE1\":row[\"SCORE1\"], \"SCORE2\":row[\"SCORE2\"], \"TEAM1\":row[\"TEAM1\"], \"TEAM2\":row[\"TEAM2\"]}\n",
      "#        if row[\"SCORE1\"] != \"TBD\":\n",
      "#            final_row[\"WINNER\"] = float(row[\"SCORE1\"] - row[\"SCORE2\"])\n",
      "#        else:\n",
      "#            final_row[\"WINNER\"] = \"-1000\"\n",
      "        if row[\"SCORE1\"] > row[\"SCORE2\"]:\n",
      "            final_row[\"WINNER\"] = 1\n",
      "        else:\n",
      "            final_row[\"WINNER\"] = -1\n",
      "        tmp = all_kpom[all_kpom['team'] == row['TEAM1']]\n",
      "        tmp = tmp[tmp['year'] == row['YEAR']]\n",
      "        if len(tmp) == 0:\n",
      "            print row['TEAM1']\n",
      "            continue\n",
      "        for col, val in tmp.iteritems():\n",
      "            final_row[\"{0}_{1}\".format(\"TEAM1\", col)] = val.values[0]\n",
      "        tmp = all_kpom[all_kpom['team'] == row['TEAM2']]\n",
      "        tmp = tmp[tmp['year'] == row['YEAR']]\n",
      "        if len(tmp) == 0:\n",
      "            print row['TEAM2']\n",
      "            continue\n",
      "        for col, val in tmp.iteritems():\n",
      "            final_row[\"{0}_{1}\".format(\"TEAM2\", col)] = val.values[0]\n",
      "        join_data.append(final_row)\n",
      "    final_df = pd.DataFrame(join_data)\n",
      "    final_df.set_index(\"index\", inplace=True, verify_integrity=True)\n",
      "    final_df.convert_objects()\n",
      "    final_df.to_csv(\"joined.csv\")\n",
      "    return final_df"
     ],
     "language": "python",
     "metadata": {},
     "outputs": [],
     "prompt_number": 624
    },
    {
     "cell_type": "code",
     "collapsed": false,
     "input": [
      "def convert_categorical_to_features(train, test, columns, train_fea, test_fea):\n",
      "    for col in columns:\n",
      "        if train[col].dtype == np.dtype('object'):\n",
      "            s = np.unique(train[col].values)\n",
      "            mapping = pd.Series([x[0] for x in enumerate(s)], index = s)\n",
      "#            print mapping\n",
      "            train_fea = train_fea.join(train[col].map(mapping))\n",
      "            test_fea = test_fea.join(test[col].map(mapping))\n",
      "        else:\n",
      "            train_fea = train_fea.join(train[col])\n",
      "            if col in test.columns:\n",
      "                test_fea = test_fea.join(test[col])\n",
      "    return train_fea, test_fea"
     ],
     "language": "python",
     "metadata": {},
     "outputs": [],
     "prompt_number": 686
    },
    {
     "cell_type": "code",
     "collapsed": false,
     "input": [
      "def random_forest_learn(targets, features):\n",
      "    cfr = RandomForestClassifier(\n",
      "        n_estimators=1000,\n",
      "        max_features=None,\n",
      "        verbose=0,\n",
      "        compute_importances=True,\n",
      "        n_jobs=6,\n",
      "        random_state=0,\n",
      "        )\n",
      "    cfr.fit(features, targets)\n",
      "    pickle.dump(cfr, open(\"model.p\", 'wb'))\n",
      "    return cfr"
     ],
     "language": "python",
     "metadata": {},
     "outputs": [],
     "prompt_number": 687
    },
    {
     "cell_type": "code",
     "collapsed": false,
     "input": [
      "def random_forest_cross_validate(targets, features, nprocesses=-1):\n",
      "    num_cv = 5\n",
      "    cv = cross_validation.KFold(len(features), k=num_cv, indices=False)\n",
      "    #iterate through the training and test cross validation segments and\n",
      "    #run the classifier on each one, aggregating the results into a list\n",
      "    score_sum = 0.0\n",
      "    testcvs = None\n",
      "    for i, (traincv, testcv) in enumerate(cv):\n",
      "        cfr = RandomForestClassifier(\n",
      "            n_estimators=100,\n",
      "            max_features=None,\n",
      "            verbose=0,\n",
      "            compute_importances=True,\n",
      "            n_jobs=nprocesses,\n",
      "            random_state=0,\n",
      "        )\n",
      "        print \"Fitting cross validation #{0}\".format(i)\n",
      "        cfr.fit(features[traincv], targets[traincv])\n",
      "        print \"Scoring cross validation #{0}\".format(i)\n",
      "        cfr.set_params(n_jobs=1)\n",
      "        predicted = cfr.predict(features[testcv])\n",
      "        p = cfr.predict_proba(features[testcv])\n",
      "        score = cfr.score(features[testcv], targets[testcv])\n",
      "        score_sum += score\n",
      "        # add stuff to the dataframe so we can plot things\n",
      "        summer = 0.0\n",
      "        for j, pred in enumerate(predicted):\n",
      "            print predicted[j], targets[testcv][j]\n",
      "            summer += np.power((predicted[j] - targets[testcv][j]), 2)\n",
      "        print \"score error: {0}\".format(np.sqrt(summer)/len(testcv))\n",
      "        testcv = pd.DataFrame(features[testcv])\n",
      "        testcv['prediction'] = np.nan\n",
      "        testcv['prob'] = np.nan\n",
      "        for j, (ix, row) in enumerate(testcv.iterrows()):\n",
      "            print predicted[j], targets[testcv][j]\n",
      "            testcv['prediction'].ix[ix] = predicted[j]\n",
      "            if predicted[j] == 1:\n",
      "                testcv['prob'].ix[ix] = p[j][0]\n",
      "            else:\n",
      "                testcv['prob'].ix[ix] = p[j][1]\n",
      "        if testcvs is None:\n",
      "            testcvs = testcv\n",
      "        else:\n",
      "            testcvs.append(testcv)\n",
      "        print \"Score for cross validation #{0}, score: {1}\".format(i, score)\n",
      "        print \"Features importance\"\n",
      "        features_list = []\n",
      "        for j, importance in enumerate(cfr.feature_importances_):\n",
      "            if importance > 0.0:\n",
      "                column = features.columns[j]\n",
      "                features_list.append((column, importance))\n",
      "        features_list = sorted(features_list, key=lambda x: x[1], reverse=True)\n",
      "        for j, tup in enumerate(features_list):\n",
      "            print j, tup\n",
      "        pickle.dump(features_list, open(\"important_features.p\", 'wb'))\n",
      "    print \"Average Accuracy: {0}\".format(float(score_sum)/float(num_cv))\n",
      "    return testcvs"
     ],
     "language": "python",
     "metadata": {},
     "outputs": [],
     "prompt_number": 688
    },
    {
     "cell_type": "code",
     "collapsed": false,
     "input": [
      "def get_predictions(cfr, features):\n",
      "    max_prob = []\n",
      "    predicted = cfr.predict(features)\n",
      "    p = cfr.predict_proba(features)\n",
      "    unique_classes = sorted(cfr.classes_[0])\n",
      "    expectations = []\n",
      "    probs = []\n",
      "    for k, (ix, row) in enumerate(features.iterrows()):\n",
      "        expectation = np.sum(unique_classes*p[k])\n",
      "        probs.append(p[k])\n",
      "        expectations.append(expectation)\n",
      "        max_prob.append(predicted[k])\n",
      "    return expectations, max_prob, probs"
     ],
     "language": "python",
     "metadata": {},
     "outputs": [],
     "prompt_number": 689
    },
    {
     "cell_type": "code",
     "collapsed": false,
     "input": [
      "def get_metric(cfr, features, targets):\n",
      "    sum_diff = 0.0\n",
      "    p = cfr.predict_proba(features)\n",
      "    unique_classes = sorted(cfr.classes_[0])\n",
      "    for k, target in enumerate(targets):\n",
      "        # expectation across all classes\n",
      "        expectation = np.sum(unique_classes*p[k])\n",
      "        print expectation, target\n",
      "        sum_diff += np.sqrt(np.power((expectation - target),2))\n",
      "    mean_diff = sum_diff/float(len(targets))\n",
      "    return mean_diff"
     ],
     "language": "python",
     "metadata": {},
     "outputs": [],
     "prompt_number": 690
    },
    {
     "cell_type": "code",
     "collapsed": false,
     "input": [
      "def check_names_kaggle(kpom, kaggle_names):\n",
      "    no_match = []\n",
      "    for ix, row in kpom.iterrows():\n",
      "        if row['team'] not in kaggle_names['name'].values:\n",
      "            if row['team'] not in no_match:\n",
      "                no_match.append(row['team'])\n",
      "                print '\"\":\"'+row['team']+'\",'\n"
     ],
     "language": "python",
     "metadata": {},
     "outputs": [],
     "prompt_number": 691
    },
    {
     "cell_type": "code",
     "collapsed": false,
     "input": [
      "name_map = {\n",
      "            \"Colorado State\":\"Colorado St.\",\n",
      "            \"Oklahoma State\":\"Oklahoma St.\",\n",
      "            \"New Mexico State\":\"New Mexico St.\",\n",
      "            \"Middle Tennessee St.\":\"Middle Tennessee\",\n",
      "            \"St. Mary's (Cal.)\":\"St. Mary's\",\n",
      "            \"Michigan State\":\"Michigan St.\",\n",
      "            \"Albany (N.Y.)\":\"Albany\",\n",
      "            \"UNLV\":\"Nevada Las Vegas\",\n",
      "            \"Miami (Fla.)\":\"Miami FL\",\n",
      "            \"Loyola (Md.)\":\"Loyola MD\",\n",
      "            \"Texas-San Antonio\":\"Texas San Antonio\",\n",
      "            \"UNC Asheville\":\"NC Asheville\",\n",
      "            \"Arkansas-Little Rock\":\"Arkansas Little Rock\",\n",
      "            \"Alabama-Birmingham\":\"UAB\",\n",
      "            \"Arkansas-Pine Bluff\":\"Arkansas Pine Bluff\",\n",
      "            \"UTEP\":\"Texas El Paso\",\n",
      "            \"LSU\":\"Louisiana St.\",\n",
      "            \"Texas-Arlington\":\"Texas Arlington\",\n",
      "            \"Maryland-Baltimore County\":\"MD Baltimore County\",\n",
      "            \"Miami (Ohio)\":\"Miami OH\",\n",
      "            \"Texas A&M-Corpus Christi\":\"Texas A&M Corpus Chris\",\n",
      "            \"Penn\":\"Pennsylvania\",\n",
      "            \"Central Connecticut St.\":\"Central Connecticut\",\n",
      "            \"Wisconsin-Milwaukee\":\"Wisconsin Milwaukee\",\n",
      "            \"UNC Wilmington\":\"NC Wilmington\",\n",
      "            \"Louisiana-Lafayette\":\"Louisiana Lafayette\",\n",
      "            \"Illinois-Chicago\":\"Illinois Chicago\",\n",
      "            \"Southeastern Louisiana\":\"SE Louisiana\",\n",
      "            \"St. Joseph's\":\"Saint Joseph's\"\n",
      "            }"
     ],
     "language": "python",
     "metadata": {},
     "outputs": [],
     "prompt_number": 692
    },
    {
     "cell_type": "code",
     "collapsed": false,
     "input": [
      "def kaggle_metric(y, yhat):\n",
      "    print len(y)\n",
      "    score = -np.sum(y*np.log(yhat) + (1-y)*np.log(1-yhat))/len(y)\n",
      "    return score"
     ],
     "language": "python",
     "metadata": {},
     "outputs": [],
     "prompt_number": 1000
    },
    {
     "cell_type": "code",
     "collapsed": false,
     "input": [
      "def fix_kpom_names(kpom_all):\n",
      "    kpom_all['team'] = kpom_all['team'].apply(lambda x:smart_split_teams(x))\n",
      "\n",
      "    \n",
      "def fix_kaggle_names(kaggle_names):\n",
      "#     kaggle_names['name'] = kaggle_names['name'].apply(lambda x:x if \"S \" not in x else x.replace(\"S \", \"Southern\"))\n",
      "#     kaggle_names['name'] = kaggle_names['name'].apply(lambda x:x if \"E \" not in x else x.replace(\"E \", \"Eastern\"))\n",
      "#     kaggle_names['name'] = kaggle_names['name'].apply(lambda x:x if \"W \" not in x else x.replace(\"W \", \"Western\"))\n",
      "#     kaggle_names['name'] = kaggle_names['name'].apply(lambda x:x if \"N \" not in x else x.replace(\"N \", \"Northern\"))\n",
      "#     kaggle_names['name'] = kaggle_names['name'].apply(lambda x:x if \"St \" not in x else x.replace(\"St \", \"St. \"))\n",
      "    kaggle_names['name'] = kaggle_names['name'].apply(lambda x:x if \" St\" not in x else x.replace(\" St\", \" St.\"))\n",
      "    kaggle_names['name'] = kaggle_names['name'].apply(lambda x: x if x not in kaggle_name_mapping else kaggle_name_mapping[x])\n",
      "\n",
      "def fix_all_results_names(all_results):\n",
      "    all_results['TEAM1'] = all_results['TEAM1'].apply(lambda x:x if \"State\" not in x else x.replace(\"State\", \"St.\"))\n",
      "    all_results['TEAM2'] = all_results['TEAM2'].apply(lambda x:x if \"State\" not in x else x.replace(\"State\", \"St.\"))\n",
      "    all_results['TEAM1'] = all_results['TEAM1'].apply(lambda x:x if x not in name_map.keys() else name_map[x])\n",
      "    all_results['TEAM2'] = all_results['TEAM2'].apply(lambda x:x if x not in name_map.keys() else name_map[x])\n"
     ],
     "language": "python",
     "metadata": {},
     "outputs": [],
     "prompt_number": 677
    },
    {
     "cell_type": "code",
     "collapsed": false,
     "input": [
      "kaggle_name_mapping = {\n",
      "                        \"St Joseph's PA\":\"Saint Joseph's\",\n",
      "                        \"St Louis\":\"St. Louis\",\n",
      "                        \"St Bonaventure\":\"St. Bonaventure\",\n",
      "                        \"St John's\":\"St. John's\",\n",
      "                        \"St Francis NY\":\"St. Francis NY\",\n",
      "                        \"St Francis PA\":\"St. Francis PA\",\n",
      "                        \"St Peter's\":\"St. Peter's\",\n",
      "                        \"NC St.ate\":\"North Carolina St.\",\n",
      "                        \"S Illinois\":\"Southern Illinois\",\n",
      "                        \"W Michigan\":\"Western Michigan\",\n",
      "                        \"BYU\": \"Brigham Young\",\n",
      "                        \"VA Commonwealth\": \"Virginia Commonwealth\",\n",
      "                        \"IL Chicago\": \"Illinois Chicago\",\n",
      "                        \"ETSU\":\"East Tennessee St.\", \n",
      "                        \"E Washington\":\"Eastern Washington\",\n",
      "                        \"UTEP\":\"Texas El Paso\",\n",
      "                        \"UCF\":\"Central Florida\",\n",
      "                        \"ULL\":\"Louisiana Lafayette\",\n",
      "                        \"Monmouth NJ\":\"Monmouth\",\n",
      "                        \"UT San Antonio\":\"Texas San Antonio\",\n",
      "                        \"G Washington\":\"George Washington\",\n",
      "                        \"Boston Univ\":\"Boston University\",\n",
      "                        \"Kent\": \"Kent St.\",\n",
      "                        \"UNLV\":\"Nevada Las Vegas\",\n",
      "                        \"LSU\":\"Louisiana St.\",\n",
      "                        \"UMBC\":\"MD Baltimore County\",\n",
      "                        \"Albany NY\":\"Albany\",\n",
      "                        \"FL Atlantic\":\"Florida Atlantic\",\n",
      "                        \"CS Sacramento\":\"Sacramento St.\", #?\n",
      "                        \"Birmingham So\":\"Birmingham Southern\",\n",
      "                        \"Coastal Car\":\"Coastal Carolina\",\n",
      "                        \"UNC Asheville\":\"NC Asheville\",\n",
      "                        \"Charleston So\":\"Charleston Southern\",\n",
      "                        \"VMI\":\"Virginia Military Inst\",\n",
      "                        \"CS Northridge\":\"Cal St. Northridge\",\n",
      "                        \"CS Fullerton\":\"Cal St. Fullerton\",\n",
      "                        \"Cal Poly SLO\":\"Cal Poly\",\n",
      "                        \"UNC Wilmington\":\"NC Wilmington\",\n",
      "                        \"TCU\":\"Texas Christian\",\n",
      "                        \"Southern Miss\":\"Southern Mississippi\",\n",
      "                        \"WI Milwaukee\":\"Wisconsin Milwaukee\",\n",
      "                        \"WI Green Bay\":\"Wisconsin Green Bay\",\n",
      "                        \"Loyola-Chicago\":\"Loyola Chicago\",\n",
      "                        \"TAM C. Christi\":\"Texas A&M Corpus Chris\",\n",
      "                        \"TX Pan American\":\"Texas Pan American\",\n",
      "                        \"Penn\":\"Pennsylvania\",\n",
      "                        \"N Illinois\":\"Northern Illinois\",\n",
      "                        \"E Michigan\":\"Eastern Michigan\",\n",
      "                        \"C Michigan\":\"Central Michigan\",\n",
      "                        \"Missouri KC\":\"Missouri Kansas City\",\n",
      "                        \"W Illinois\":\"Western Illinois\",\n",
      "                        \"S Carolina St.\":\"South Carolina St.\",\n",
      "                        \"Bethune-Cookman\":\"Bethune Cookman\",\n",
      "                        \"MD E Shore\":\"Maryland Eastern Shore\",\n",
      "                        \"NC A&T\":\"North Carolina A&T\",\n",
      "                        \"F Dickinson\":\"Fairleigh Dickinson\",\n",
      "                        \"Central Conn\":\"Central Connecticut\",\n",
      "                        \"Mt St. Mary's\":\"Mount St. Mary's\",\n",
      "                        \"SE Missouri St.\":\"Southeast Missouri St.\",\n",
      "                        \"TN Martin\":\"Tennessee Martin\",\n",
      "                        \"E Illinois\":\"Eastern Illinois\",\n",
      "                        \"USC\":\"Southern California\",\n",
      "                        \"American Univ\":\"American\",\n",
      "                        \"W Kentucky\":\"Western Kentucky\",\n",
      "                        \"E Kentucky\":\"Eastern Kentucky\",\n",
      "                        \"Middle Tenn St.\":\"Middle Tennessee\",\n",
      "                        \"Ark Little Rock\":\"Arkansas Little Rock\",\n",
      "                        \"Florida Intl\":\"Florida International\",\n",
      "                        \"Col Charleston\":\"College of Charleston\",\n",
      "                        \"Ga Southern\":\"Georgia Southern\",\n",
      "                        \"UNC Greensboro\":\"NC Greensboro\",\n",
      "                        \"W Carolina\":\"Western Carolina\",\n",
      "                        \"Citadel\":\"The Citadel\",\n",
      "                        \"SF Austin\":\"Stephen F. Austin\",\n",
      "                        \"UT Arlington\":\"Texas Arlington\",\n",
      "                        \"Northwestern LA\":\"Northwestern St.\", \n",
      "                        \"ULM\":\"Louisiana Monroe\", \n",
      "                        \"MS Valley St.\":\"Mississippi Valley St.\",\n",
      "                        \"Southern Univ\":\"Southern\", #not in kaggle file\n",
      "                        \"TX Southern\":\"Texas Southern\",\n",
      "                        \"Prairie View\":\"Prairie View A&M\",\n",
      "                        \"Ark Pine Bluff\":\"Arkansas Pine Bluff\",\n",
      "                        \"SMU\":\"Southern Methodist\",\n",
      "                        \"St Mary's CA\":\"St. Mary's\",\n",
      "                        \"Loy Marymount\":\"Loyola Marymount\",\n",
      "                        \"Kennesaw\":\"Kennesaw St.\",\n",
      "                        \"North Florida\":\"N Florida\",\n",
      "                        \"Santa Barbara\":\"UC Santa Barbara\",\n",
      "                        \"S Dakota St.\":\"South Dakota St.\",\n",
      "                        \"W Salem St.\":\"Winston Salem St.\",\n",
      "                        \"NJIT\":\"NJ Inst of Technology\",\n",
      "                        \"Cent Arkansas\":\"Central Arkansas\",\n",
      "                        \"SC Upstate\":\"South Carolina Upstate\",\n",
      "                        \"FL Gulf Coast\":\"Florida Gulf Coast\",\n",
      "                        \"CS Bakersfield\":\"Cal St. Bakersfield\",\n",
      "                        \"NC Central\":\"North Carolina Central\",\n",
      "                        \"Houston Bap\":\"Houston Baptist\",\n",
      "                        \"North Dakota\":\"North Dakota\",\n",
      "                        \"N Dakota St.\":\"North Dakota St.\",\n",
      "                        \"North Florida\":\"North Florida\",\n",
      "                        \"N Colorado\":\"Northern Colorado\",\n",
      "                        \"Edwardsville\":\"SIU Edwardsville\",\n",
      "                        \"Southern Utah\":\"Southern Utah\",\n",
      "                        \"N Kentucky\":\"Northern Kentucky\",\n",
      "                        \"NE Omaha\": \"Nebraska Omaha\"\n",
      "                       }"
     ],
     "language": "python",
     "metadata": {},
     "outputs": [],
     "prompt_number": 938
    },
    {
     "cell_type": "code",
     "collapsed": false,
     "input": [
      "ordinal_ranks_df = pd.read_csv(\"{0}{1}\".format(data_prefix, \"ordinal_ranks_core_33.csv\"))\n",
      "grouped = ordinal_ranks_df.groupby('sys_name')\n",
      "systems = {}\n",
      "for name, group in grouped:\n",
      "    s = []\n",
      "    for ix, row in group.iterrows():\n",
      "        if row['season'] in season_map.keys():\n",
      "            d = {}\n",
      "            d['team'] = row['team']\n",
      "            d['orank'] = row['orank']\n",
      "            d['year'] = season_map[row['season']]\n",
      "            s.append(d)\n",
      "    systems[name] = pd.DataFrame(s)\n",
      "print systems"
     ],
     "language": "python",
     "metadata": {},
     "outputs": [
      {
       "output_type": "stream",
       "stream": "stdout",
       "text": [
        "{'DOK': <class 'pandas.core.frame.DataFrame'>\n",
        "Int64Index: 40374 entries, 0 to 40373\n",
        "Data columns (total 3 columns):\n",
        "orank    40374  non-null values\n",
        "team     40374  non-null values\n",
        "year     40374  non-null values\n",
        "dtypes: int64(3), 'WIL': <class 'pandas.core.frame.DataFrame'>\n",
        "Int64Index: 32120 entries, 0 to 32119\n",
        "Data columns (total 3 columns):\n",
        "orank    32120  non-null values\n",
        "team     32120  non-null values\n",
        "year     32120  non-null values\n",
        "dtypes: int64(3), 'DOL': <class 'pandas.core.frame.DataFrame'>\n",
        "Int64Index: 31032 entries, 0 to 31031\n",
        "Data columns (total 3 columns):\n",
        "orank    31032  non-null values\n",
        "team     31032  non-null values\n",
        "year     31032  non-null values\n",
        "dtypes: int64(3), 'BPI': <class 'pandas.core.frame.DataFrame'>\n",
        "Int64Index: 12465 entries, 0 to 12464\n",
        "Data columns (total 3 columns):\n",
        "orank    12465  non-null values\n",
        "team     12465  non-null values\n",
        "year     12465  non-null values\n",
        "dtypes: int64(3), 'CPA': <class 'pandas.core.frame.DataFrame'>\n",
        "Int64Index: 6916 entries, 0 to 6915\n",
        "Data columns (total 3 columns):\n",
        "orank    6916  non-null values\n",
        "team     6916  non-null values\n",
        "year     6916  non-null values\n",
        "dtypes: int64(3), 'DES': <class 'pandas.core.frame.DataFrame'>\n",
        "Int64Index: 2600 entries, 0 to 2599\n",
        "Data columns (total 3 columns):\n",
        "orank    2600  non-null values\n",
        "team     2600  non-null values\n",
        "year     2600  non-null values\n",
        "dtypes: int64(3), 'DC': <class 'pandas.core.frame.DataFrame'>\n",
        "Int64Index: 15159 entries, 0 to 15158\n",
        "Data columns (total 3 columns):\n",
        "orank    15159  non-null values\n",
        "team     15159  non-null values\n",
        "year     15159  non-null values\n",
        "dtypes: int64(3), 'WLK': <class 'pandas.core.frame.DataFrame'>\n",
        "Int64Index: 28971 entries, 0 to 28970\n",
        "Data columns (total 3 columns):\n",
        "orank    28971  non-null values\n",
        "team     28971  non-null values\n",
        "year     28971  non-null values\n",
        "dtypes: int64(3), 'CPR': <class 'pandas.core.frame.DataFrame'>\n",
        "Int64Index: 7257 entries, 0 to 7256\n",
        "Data columns (total 3 columns):\n",
        "orank    7257  non-null values\n",
        "team     7257  non-null values\n",
        "year     7257  non-null values\n",
        "dtypes: int64(3), 'SPW': <class 'pandas.core.frame.DataFrame'>\n",
        "Int64Index: 17267 entries, 0 to 17266\n",
        "Data columns (total 3 columns):\n",
        "orank    17267  non-null values\n",
        "team     17267  non-null values\n",
        "year     17267  non-null values\n",
        "dtypes: int64(3), 'BOB': <class 'pandas.core.frame.DataFrame'>\n",
        "Int64Index: 31064 entries, 0 to 31063\n",
        "Data columns (total 3 columns):\n",
        "orank    31064  non-null values\n",
        "team     31064  non-null values\n",
        "year     31064  non-null values\n",
        "dtypes: int64(3), 'USA': <class 'pandas.core.frame.DataFrame'>\n",
        "Int64Index: 2976 entries, 0 to 2975\n",
        "Data columns (total 3 columns):\n",
        "orank    2976  non-null values\n",
        "team     2976  non-null values\n",
        "year     2976  non-null values\n",
        "dtypes: int64(3), 'DCI': <class 'pandas.core.frame.DataFrame'>\n",
        "Int64Index: 20375 entries, 0 to 20374\n",
        "Data columns (total 3 columns):\n",
        "orank    20375  non-null values\n",
        "team     20375  non-null values\n",
        "year     20375  non-null values\n",
        "dtypes: int64(3), 'SAG': <class 'pandas.core.frame.DataFrame'>\n",
        "Int64Index: 40388 entries, 0 to 40387\n",
        "Data columns (total 3 columns):\n",
        "orank    40388  non-null values\n",
        "team     40388  non-null values\n",
        "year     40388  non-null values\n",
        "dtypes: int64(3), 'RTH': <class 'pandas.core.frame.DataFrame'>\n",
        "Int64Index: 27618 entries, 0 to 27617\n",
        "Data columns (total 3 columns):\n",
        "orank    27618  non-null values\n",
        "team     27618  non-null values\n",
        "year     27618  non-null values\n",
        "dtypes: int64(3), 'PGH': <class 'pandas.core.frame.DataFrame'>\n",
        "Int64Index: 35161 entries, 0 to 35160\n",
        "Data columns (total 3 columns):\n",
        "orank    35161  non-null values\n",
        "team     35161  non-null values\n",
        "year     35161  non-null values\n",
        "dtypes: int64(3), 'PIG': <class 'pandas.core.frame.DataFrame'>\n",
        "Int64Index: 40903 entries, 0 to 40902\n",
        "Data columns (total 3 columns):\n",
        "orank    40903  non-null values\n",
        "team     40903  non-null values\n",
        "year     40903  non-null values\n",
        "dtypes: int64(3), 'POM': <class 'pandas.core.frame.DataFrame'>\n",
        "Int64Index: 36907 entries, 0 to 36906\n",
        "Data columns (total 3 columns):\n",
        "orank    36907  non-null values\n",
        "team     36907  non-null values\n",
        "year     36907  non-null values\n",
        "dtypes: int64(3), 'RTR': <class 'pandas.core.frame.DataFrame'>\n",
        "Int64Index: 31016 entries, 0 to 31015\n",
        "Data columns (total 3 columns):\n",
        "orank    31016  non-null values\n",
        "team     31016  non-null values\n",
        "year     31016  non-null values\n",
        "dtypes: int64(3), 'RPI': <class 'pandas.core.frame.DataFrame'>\n",
        "Int64Index: 27221 entries, 0 to 27220\n",
        "Data columns (total 3 columns):\n",
        "orank    27221  non-null values\n",
        "team     27221  non-null values\n",
        "year     27221  non-null values\n",
        "dtypes: int64(3), 'DUN': <class 'pandas.core.frame.DataFrame'>\n",
        "Int64Index: 27617 entries, 0 to 27616\n",
        "Data columns (total 3 columns):\n",
        "orank    27617  non-null values\n",
        "team     27617  non-null values\n",
        "year     27617  non-null values\n",
        "dtypes: int64(3), 'STH': <class 'pandas.core.frame.DataFrame'>\n",
        "Int64Index: 23470 entries, 0 to 23469\n",
        "Data columns (total 3 columns):\n",
        "orank    23470  non-null values\n",
        "team     23470  non-null values\n",
        "year     23470  non-null values\n",
        "dtypes: int64(3), 'REW': <class 'pandas.core.frame.DataFrame'>\n",
        "Int64Index: 21058 entries, 0 to 21057\n",
        "Data columns (total 3 columns):\n",
        "orank    21058  non-null values\n",
        "team     21058  non-null values\n",
        "year     21058  non-null values\n",
        "dtypes: int64(3), 'CNG': <class 'pandas.core.frame.DataFrame'>\n",
        "Int64Index: 25160 entries, 0 to 25159\n",
        "Data columns (total 3 columns):\n",
        "orank    25160  non-null values\n",
        "team     25160  non-null values\n",
        "year     25160  non-null values\n",
        "dtypes: int64(3), 'COL': <class 'pandas.core.frame.DataFrame'>\n",
        "Int64Index: 28604 entries, 0 to 28603\n",
        "Data columns (total 3 columns):\n",
        "orank    28604  non-null values\n",
        "team     28604  non-null values\n",
        "year     28604  non-null values\n",
        "dtypes: int64(3), 'WOL': <class 'pandas.core.frame.DataFrame'>\n",
        "Int64Index: 26593 entries, 0 to 26592\n",
        "Data columns (total 3 columns):\n",
        "orank    26593  non-null values\n",
        "team     26593  non-null values\n",
        "year     26593  non-null values\n",
        "dtypes: int64(3), 'NOL': <class 'pandas.core.frame.DataFrame'>\n",
        "Int64Index: 26251 entries, 0 to 26250\n",
        "Data columns (total 3 columns):\n",
        "orank    26251  non-null values\n",
        "team     26251  non-null values\n",
        "year     26251  non-null values\n",
        "dtypes: int64(3), 'AP': <class 'pandas.core.frame.DataFrame'>\n",
        "Int64Index: 2876 entries, 0 to 2875\n",
        "Data columns (total 3 columns):\n",
        "orank    2876  non-null values\n",
        "team     2876  non-null values\n",
        "year     2876  non-null values\n",
        "dtypes: int64(3), 'MOR': <class 'pandas.core.frame.DataFrame'>\n",
        "Int64Index: 41028 entries, 0 to 41027\n",
        "Data columns (total 3 columns):\n",
        "orank    41028  non-null values\n",
        "team     41028  non-null values\n",
        "year     41028  non-null values\n",
        "dtypes: int64(3), 'MB': <class 'pandas.core.frame.DataFrame'>\n",
        "Int64Index: 32808 entries, 0 to 32807\n",
        "Data columns (total 3 columns):\n",
        "orank    32808  non-null values\n",
        "team     32808  non-null values\n",
        "year     32808  non-null values\n",
        "dtypes: int64(3), 'RTB': <class 'pandas.core.frame.DataFrame'>\n",
        "Int64Index: 28323 entries, 0 to 28322\n",
        "Data columns (total 3 columns):\n",
        "orank    28323  non-null values\n",
        "team     28323  non-null values\n",
        "year     28323  non-null values\n",
        "dtypes: int64(3), 'LMC': <class 'pandas.core.frame.DataFrame'>\n",
        "Int64Index: 15563 entries, 0 to 15562\n",
        "Data columns (total 3 columns):\n",
        "orank    15563  non-null values\n",
        "team     15563  non-null values\n",
        "year     15563  non-null values\n",
        "dtypes: int64(3), 'SE': <class 'pandas.core.frame.DataFrame'>\n",
        "Int64Index: 39356 entries, 0 to 39355\n",
        "Data columns (total 3 columns):\n",
        "orank    39356  non-null values\n",
        "team     39356  non-null values\n",
        "year     39356  non-null values\n",
        "dtypes: int64(3)}\n"
       ]
      }
     ],
     "prompt_number": 1049
    },
    {
     "cell_type": "code",
     "collapsed": false,
     "input": [
      "season_map = {'M':2008,\n",
      "              'N':2009,\n",
      "              'O':2010,\n",
      "              'P':2011,\n",
      "              'Q':2012,\n",
      "              'R':2013,\n",
      "              'S':2014\n",
      "              }\n",
      "\n",
      "def get_kaggle_ids(kpom_all):\n",
      "    kpom_copy = kpom_all.copy(deep=True)\n",
      "    fix_kpom_names(kpom_copy)\n",
      "    kaggle_names = pd.read_csv(data_prefix+\"teams.csv\")\n",
      "    fix_kaggle_names(kaggle_names)\n",
      "#     print kaggle_names\n",
      "    check_names_kaggle(kpom_copy, kaggle_names)\n",
      "    kaggle_ids_arr = []\n",
      "    for ix, row in kpom_copy.iterrows():\n",
      "#         if \"Morehead\" in row['team']:\n",
      "#             print row['team'], kaggle_names[kaggle_names['name'] == row['team']]['id'].values[0]\n",
      "        kaggle_ids_arr.append(int(kaggle_names[kaggle_names['name'] == row['team']]['id'].values[0]))\n",
      "    kaggle_ids = pd.Series(np.array(kaggle_ids_arr), index=kpom_copy.index)\n",
      "    return kaggle_ids\n",
      "\n",
      "def do_cross_validate(data_prefix):\n",
      "    cfrs = {}\n",
      "    kpom_2012 = pd.read_csv(\"{0}{1}\".format(data_prefix, \"2012_ncaa_kpom.csv\"), index_col=1)\n",
      "    rpi_2012 = pd.read_csv(\"{0}{1}\".format(data_prefix, \"2012_rpi.csv\"), index_col=1)\n",
      "    for ix in kpom_2012.index:\n",
      "        if ix not in rpi_2012.index:\n",
      "            print ix\n",
      "    kpom_2012 = kpom_2012.join(rpi_2012)\n",
      "    kpom_2012['w_per'] = kpom_2012['w'] / (kpom_2012['w'] + kpom_2012['l'] + 0.0)\n",
      "    kpom_2012['year'] = 2012\n",
      "    kpom_2012['tour'] = 'ncaa'\n",
      "    kpom_2012 = kpom_2012.reset_index()\n",
      "    \n",
      "    kpom_2013 = pd.read_csv(\"{0}{1}\".format(data_prefix, \"raw_2013_kenpom.csv\"), index_col=1)\n",
      "    #print kpom_2013['seed']\n",
      "    rpi_2013 = pd.read_csv(\"{0}{1}\".format(data_prefix, \"rpi_2013.csv\"), index_col=1)\n",
      "    for ix in kpom_2013.index:\n",
      "        if ix not in rpi_2013.index:\n",
      "            print 'missing', ix\n",
      "    kpom_2013 = kpom_2013.join(rpi_2013)\n",
      "    kpom_2013 = kpom_2013.reset_index()\n",
      "    kpom_2013['w'] = kpom_2013['WL'].apply(lambda x: np.float(x.split(\"-\")[0]))\n",
      "    kpom_2013['l'] = kpom_2013['WL'].apply(lambda x: np.float(x.split(\"-\")[1]))\n",
      "    del kpom_2013['WL']\n",
      "    kpom_2013['w_per'] = kpom_2013['w'] / (kpom_2013['w'] + kpom_2013['l'] + 0.0)\n",
      "    kpom_2013['year'] = 2013\n",
      "    kpom_2013['tour'] = 'ncaa'\n",
      "    kpom_2013['team'] = kpom_2013['team'].apply(lambda x:x if \"VCU\" not in x else x.replace(\"VCU\", \"Virginia Commonwealth\"))\n",
      "    kpom_2013['team'] = kpom_2013['team'].apply(lambda x:x if \"BYU\" != x else x.replace(\"BYU\", \"Brigham Young\"))\n",
      "    kpom_2013['team'] = kpom_2013['team'].apply(lambda x:x if \"Southern Miss\" != x else x.replace(\"Southern Miss\", \"Southern Mississippi\"))\n",
      "    kpom_2013['team'] = kpom_2013['team'].apply(lambda x:x if \"LSU\" != x else x.replace(\"LSU\", \"Louisiana St.\"))\n",
      "    kpom_2013['team'] = kpom_2013['team'].apply(lambda x:x if \"USC\" != x else x.replace(\"USC\", \"Southern California\"))\n",
      "    kpom_2013['team'] = kpom_2013['team'].apply(lambda x:x if \"UTEP\" != x else x.replace(\"UTEP\", \"Texas El Paso\"))\n",
      "    kpom_2013['team'] = kpom_2013['team'].apply(lambda x:x if \"Green Bay\" != x else x.replace(\"Green Bay\", \"Wisconsin Green Bay\"))\n",
      "    kpom_2013['team'] = kpom_2013['team'].apply(lambda x:x if \"UCF\" != x else x.replace(\"UCF\", \"Central Florida\"))\n",
      "    kpom_2013['team'] = kpom_2013['team'].apply(lambda x:x if \"UT Arlington\" != x else x.replace(\"UT Arlington\", \"Texas Arlington\"))\n",
      "    kpom_2013['team'] = kpom_2013['team'].apply(lambda x:x if \"SMU\" != x else x.replace(\"SMU\", \"Southern Methodist\"))\n",
      "    kpom_2013['team'] = kpom_2013['team'].apply(lambda x:x if \"FIU\" != x else x.replace(\"FIU\", \"Florida International\"))\n",
      "    kpom_2013['team'] = kpom_2013['team'].apply(lambda x:x if \"LIU Brooklyn\" not in x else x.replace(\"LIU Brooklyn\", \"Long Island\"))\n",
      "    kpom_2013['team'] = kpom_2013['team'].apply(lambda x:x if \"USC Upstate\" != x else x.replace(\"USC Upstate\", \"South Carolina Upstate\"))\n",
      "    kpom_2013['team'] = kpom_2013['team'].apply(lambda x:x if \"UNC Asheville\" != x else x.replace(\"UNC Asheville\", \"NC Asheville\"))\n",
      "    kpom_2013['team'] = kpom_2013['team'].apply(lambda x:x if \"Penn\" != x else x.replace(\"Penn\", \"Pennsylvania\"))\n",
      "    kpom_2013['team'] = kpom_2013['team'].apply(lambda x:x if \"UTSA\" != x else x.replace(\"UTSA\", \"Texas San Antonio\"))\n",
      "    kpom_2013['team'] = kpom_2013['team'].apply(lambda x:x if \"NJIT\" != x else x.replace(\"NJIT\", \"NJ Inst of Technology\"))\n",
      "    kpom_2013['team'] = kpom_2013['team'].apply(lambda x:x if \"TCU\" != x else x.replace(\"TCU\", \"Texas Christian\"))\n",
      "    kpom_2013['team'] = kpom_2013['team'].apply(lambda x:x if \"VMI\" != x else x.replace(\"VMI\", \"Virginia Military Inst\"))\n",
      "    kpom_2013['team'] = kpom_2013['team'].apply(lambda x:x if \"UNC Wilmington\" != x else x.replace(\"UNC Wilmington\", \"NC Wilmington\"))\n",
      "    kpom_2013['team'] = kpom_2013['team'].apply(lambda x:x if \"UNC Greensboro\" != x else x.replace(\"UNC Greensboro\", \"NC Greensboro\"))\n",
      "    kpom_2013['team'] = kpom_2013['team'].apply(lambda x:x if \"Milwaukee\" != x else x.replace(\"Milwaukee\", \"Wisconsin Milwaukee\"))\n",
      "    kpom_2013['team'] = kpom_2013['team'].apply(lambda x:x if \"UMBC\" != x else x.replace(\"UMBC\", \"MD Baltimore County\"))\n",
      "    kpom_2013['team'] = kpom_2013['team'].apply(lambda x:x if \"UMKC\" != x else x.replace(\"UMKC\", \"Missouri Kansas City\"))\n",
      "    kpom_2013['team'] = kpom_2013['team'].apply(lambda x:x if \"Grambling St.\" != x else x.replace(\"Grambling St.\", \"Grambling\"))\n",
      "\n",
      "    #print kpom_2012.columns\n",
      "    #print kpom_2013.columns\n",
      "    \n",
      "    kpom_all = pd.read_csv(\"{0}{1}\".format(data_prefix, \"ncaa_all_kenpom.csv\"))\n",
      "    kpom_all = kpom_all.append(kpom_2012)\n",
      "    kpom_all = kpom_all.append(kpom_2013)\n",
      "    kpom_all['team'] = kpom_all['team'].apply(lambda x:x if \"Cal Irvine\" != x else x.replace(\"Cal Irvine\", \"UC Irvine\"))\n",
      "    kpom_all['team'] = kpom_all['team'].apply(lambda x:x if \"Cal Davis\" != x else x.replace(\"Cal Davis\", \"UC Davis\"))\n",
      "    kpom_all['team'] = kpom_all['team'].apply(lambda x:x if \"Cal Riverside\" != x else x.replace(\"Cal Riverside\", \"UC Riverside\"))\n",
      "    kpom_all['team'] = kpom_all['team'].apply(lambda x:x if \"Cal Santa Barbara\" != x else x.replace(\"Cal Santa Barbara\", \"UC Santa Barbara\"))\n",
      "    kpom_all['team'] = kpom_all['team'].apply(lambda x:x if \"IUPU Fort Wayne\" != x else x.replace(\"IUPU Fort Wayne\", \"IUPUI\"))\n",
      "    kpom_all['team'] = kpom_all['team'].apply(lambda x:x if \"Southeastern Louisiana\" not in x else x.replace(\"Southeastern Louisiana\", \"SE Louisiana\"))\n",
      "    kpom_all['team'] = kpom_all['team'].apply(lambda x:x if \"Alabama Birmingham\" not in x else x.replace(\"Alabama Birmingham\", \"UAB\"))\n",
      "    kpom_all['team'] = kpom_all['team'].apply(lambda x:x if \"Troy St.\" != x else x.replace(\"Troy St.\", \"Troy\"))                    \n",
      "    kpom_all['team'] = kpom_all['team'].apply(lambda x:x if \"Southwest Missouri St.\" not in x else x.replace(\"Southwest Missouri St\", \"Missouri St\"))                    \n",
      "    kpom_all['team'] = kpom_all['team'].apply(lambda x:x if \"Utah Valley St.\" not in x else x.replace(\"Utah Valley St.\", \"Utah Valley\"))                    \n",
      "    kpom_all['team'] = kpom_all['team'].apply(lambda x:x if \"UNLV\" not in x else x.replace(\"UNLV\", \"Nevada Las Vegas\"))\n",
      "    kpom_all['team'] = kpom_all['team'].apply(lambda x:x if \"Saint Louis\" not in x else x.replace(\"Saint Louis\", \"St. Louis\"))\n",
      "    kpom_all['team'] = kpom_all['team'].apply(lambda x:x if \"Saint Mary's\" not in x else x.replace(\"Saint Mary's\", \"St. Mary's\"))\n",
      "    kpom_all['team'] = kpom_all['team'].apply(lambda x:x if \"Saint Peter's\" not in x else x.replace(\"Saint Peter's\", \"St. Peter's\"))\n",
      "    \n",
      "    kaggle_ids = get_kaggle_ids(kpom_all)\n",
      "    \n",
      "    kpom_all['kaggle_id'] = kaggle_ids\n",
      "    print kpom_all[kpom_all['team'] == \"Morehead St.\"]['kaggle_id'].values[0]\n",
      "    fix_kpom_names(kpom_all)\n",
      "\n",
      "    all_results = pd.read_csv(\"{0}{1}\".format(data_prefix, \"ncaa_all_results.csv\"))\n",
      "    fix_all_results_names(all_results)\n",
      "    check_names(all_results, kpom_all)\n",
      "    \n",
      "   \n",
      "    \n",
      "    kaggle_id_1_arr = []\n",
      "    kaggle_id_2_arr = []\n",
      "    for ix, row in all_results.iterrows():\n",
      "        kaggle_id_1_arr.append(kpom_all[kpom_all['team'] == row['TEAM1']]['kaggle_id'].values[0])\n",
      "        kaggle_id_2_arr.append(kpom_all[kpom_all['team'] == row['TEAM2']]['kaggle_id'].values[0])\n",
      "    kaggle_id_1 = pd.Series(np.array(kaggle_id_1_arr), index=all_results.index)\n",
      "    kaggle_id_2 = pd.Series(np.array(kaggle_id_2_arr), index=all_results.index)\n",
      "    all_results['kaggle_id_team1'] = kaggle_id_1\n",
      "    all_results['kaggle_id_team2'] = kaggle_id_2\n",
      "    all_results.to_csv(\"{0}{1}\".format(data_prefix, \"all_results_with_kaggle_ids.csv\"))\n",
      "    print \"all_results >= 2008\", len(all_results[all_results['YEAR'] >= 2008])\n",
      "    \n",
      "    kaggle_tourney_results = pd.read_csv(\"{0}{1}\".format(data_prefix, \"tourney_results.csv\"))\n",
      "    seasons = ['N', 'O', 'P', 'Q', 'R', 'S']\n",
      "    kaggle_tourney_results = kaggle_tourney_results[(kaggle_tourney_results['season'] == 'N') | (kaggle_tourney_results['season'] == 'O') | (kaggle_tourney_results['season'] == 'P') | (kaggle_tourney_results['season'] == 'Q') | (kaggle_tourney_results['season'] == 'R') | (kaggle_tourney_results['season'] == 'S')]\n",
      "    print \"kaggle tourney\",len(kaggle_tourney_results)\n",
      "    for ix, row in kaggle_tourney_results.iterrows():\n",
      "        team1 = row['wteam']\n",
      "        team2 = row['lteam']\n",
      "        match = False\n",
      "        for ix1, row1 in all_results[all_results['YEAR'] >= 2008].iterrows():\n",
      "            #print team1, team2, row1['kaggle_id_team1'], row1['kaggle_id_team2']\n",
      "            if (team1 == row1['kaggle_id_team1'] and team2 == row1['kaggle_id_team2']) or (team2 == row1['kaggle_id_team1'] and team1 == row1['kaggle_id_team2']):\n",
      "                match = True\n",
      "                break\n",
      "        if not match:\n",
      "            print row['season'],team1, team2\n",
      "    final_df = generate_final_data(data_prefix, kpom_all, all_results)\n",
      "    #print final_df\n",
      "    final_df = final_df.dropna()\n",
      "    final_df.to_csv(\"final_raw.csv\")\n",
      "    train_fea = pd.DataFrame(index=final_df.index)\n",
      "    test_fea = pd.DataFrame(index=final_df.index)\n",
      "    columns = set(final_df.columns)\n",
      "    test_features = final_df\n",
      "    train_features, test_features = convert_categorical_to_features(final_df, final_df, columns, train_fea, test_fea)\n",
      "    for year in xrange(2008, 2014):\n",
      "        train_fea = train_features.copy(deep=True)\n",
      "        train_fea = train_fea[(train_fea['TEAM1_year'] != year) & (train_fea['TEAM2_year'] != year)]    \n",
      "        print len(train_fea)\n",
      "        train_fea.to_csv(\"final_features.csv\")\n",
      "        del train_fea[\"SCORE1\"]\n",
      "        del train_fea[\"SCORE2\"]\n",
      "        del train_fea[\"TEAM1_team\"]\n",
      "        del train_fea[\"TEAM2_team\"]\n",
      "        train_targets = train_fea['WINNER']\n",
      "        del train_fea['WINNER']\n",
      "    #    x_train, x_test, y_train, y_test = cross_validation.train_test_split(train_fea, train_targets, test_size=0.4, random_state=0)\n",
      "        cfr = ExtraTreesClassifier(\n",
      "            oob_score = True, bootstrap=True, verbose = 1, max_features = None, n_estimators = 1000, min_samples_leaf = 1,\n",
      "            n_jobs=7,\n",
      "            random_state=0,\n",
      "        )\n",
      "        cfr.fit(train_fea, train_targets)\n",
      "        cfrs[year] = cfr\n",
      "    \n",
      "        test_fea = test_features.copy(deep=True)\n",
      "        test_fea = test_fea[(test_fea['TEAM1_year'] == year) & (test_fea['TEAM2_year'] == year)]    \n",
      "        print len(test_fea)\n",
      "        if len(test_fea) > 0:\n",
      "            del test_fea[\"SCORE1\"]\n",
      "            del test_fea[\"SCORE2\"]\n",
      "            del test_fea[\"TEAM1_team\"]\n",
      "            del test_fea[\"TEAM2_team\"]\n",
      "            test_targets = test_fea['WINNER']\n",
      "            del test_fea['WINNER']\n",
      "            score = cfr.score(test_fea, test_targets)\n",
      "            print \"Score is {0}\".format(score)\n",
      "            p = cfr.predict_proba(test_fea)\n",
      "        #     print p[:, 0]\n",
      "            print cfr.classes_\n",
      "            print \"Kaggle score is {0}\".format(kaggle_metric(test_targets, p[:, 1]))\n",
      "        feature_importance = []\n",
      "#         for i, importance in enumerate(cfr.feature_importances_):\n",
      "#             feature_importance.append((float(importance), train_fea.columns[i]))\n",
      "#         print sorted(feature_importance, reverse=True)\n",
      "    print len(test_features)\n",
      "    return cfrs, test_features\n",
      "\n",
      "    #predicted_df = random_forest_cross_validate(targets, train_fea, 1)\n",
      "    #return predicted_df"
     ],
     "language": "python",
     "metadata": {},
     "outputs": [],
     "prompt_number": 1043
    },
    {
     "cell_type": "code",
     "collapsed": false,
     "input": [
      "cfrs, test_features = do_cross_validate(data_prefix)\n",
      "#predicted_df.to_csv(\"predictions.csv\")"
     ],
     "language": "python",
     "metadata": {},
     "outputs": [
      {
       "output_type": "stream",
       "stream": "stdout",
       "text": [
        "682\n",
        "all_results >= 2008"
       ]
      },
      {
       "output_type": "stream",
       "stream": "stdout",
       "text": [
        " 393\n",
        "kaggle tourney 329\n",
        "583"
       ]
      },
      {
       "output_type": "stream",
       "stream": "stderr",
       "text": [
        "[Parallel(n_jobs=7)]: Done   1 out of   7 | elapsed:    1.0s remaining:    5.7s\n",
        "[Parallel(n_jobs=7)]: Done   7 out of   7 | elapsed:    1.0s finished\n"
       ]
      },
      {
       "output_type": "stream",
       "stream": "stdout",
       "text": [
        "\n",
        "63"
       ]
      },
      {
       "output_type": "stream",
       "stream": "stderr",
       "text": [
        "[Parallel(n_jobs=7)]: Done   1 out of   0 | elapsed:    0.0s remaining:   -0.0s\n",
        "[Parallel(n_jobs=7)]: Done   7 out of   7 | elapsed:    0.1s finished\n"
       ]
      },
      {
       "output_type": "stream",
       "stream": "stdout",
       "text": [
        "\n",
        "Score is 0.825396825397"
       ]
      },
      {
       "output_type": "stream",
       "stream": "stderr",
       "text": [
        "[Parallel(n_jobs=7)]: Done   1 out of   7 | elapsed:    0.0s remaining:    0.2s\n",
        "[Parallel(n_jobs=7)]: Done   7 out of   7 | elapsed:    0.1s finished\n"
       ]
      },
      {
       "output_type": "stream",
       "stream": "stdout",
       "text": [
        "\n",
        "[-1  1]"
       ]
      },
      {
       "output_type": "stream",
       "stream": "stderr",
       "text": [
        "[Parallel(n_jobs=7)]: Done   1 out of   7 | elapsed:    1.1s remaining:    6.6s\n",
        "[Parallel(n_jobs=7)]: Done   7 out of   7 | elapsed:    1.2s finished\n"
       ]
      },
      {
       "output_type": "stream",
       "stream": "stdout",
       "text": [
        "\n",
        "63\n",
        "Kaggle score is 0.381989538381\n",
        "582\n",
        "64"
       ]
      },
      {
       "output_type": "stream",
       "stream": "stderr",
       "text": [
        "[Parallel(n_jobs=7)]: Done   1 out of   1 | elapsed:    0.0s remaining:    0.0s\n",
        "[Parallel(n_jobs=7)]: Done   7 out of   7 | elapsed:    0.1s finished\n"
       ]
      },
      {
       "output_type": "stream",
       "stream": "stdout",
       "text": [
        "\n",
        "Score is 0.78125"
       ]
      },
      {
       "output_type": "stream",
       "stream": "stderr",
       "text": [
        "[Parallel(n_jobs=7)]: Done   1 out of   1 | elapsed:    0.0s remaining:    0.0s\n",
        "[Parallel(n_jobs=7)]: Done   7 out of   7 | elapsed:    0.1s finished\n"
       ]
      },
      {
       "output_type": "stream",
       "stream": "stdout",
       "text": [
        "\n",
        "[-1  1]"
       ]
      },
      {
       "output_type": "stream",
       "stream": "stdout",
       "text": [
        "\n",
        "64\n",
        "Kaggle score is 0.162428740551\n",
        "583\n",
        "63"
       ]
      },
      {
       "output_type": "stream",
       "stream": "stderr",
       "text": [
        "[Parallel(n_jobs=7)]: Done   1 out of   7 | elapsed:    1.2s remaining:    6.9s\n",
        "[Parallel(n_jobs=7)]: Done   7 out of   7 | elapsed:    1.2s finished\n",
        "[Parallel(n_jobs=7)]: Done   1 out of   1 | elapsed:    0.0s remaining:    0.0s\n",
        "[Parallel(n_jobs=7)]: Done   7 out of   7 | elapsed:    0.1s finished\n"
       ]
      },
      {
       "output_type": "stream",
       "stream": "stdout",
       "text": [
        "\n",
        "Score is 0.825396825397"
       ]
      },
      {
       "output_type": "stream",
       "stream": "stderr",
       "text": [
        "[Parallel(n_jobs=7)]: Done   1 out of   1 | elapsed:    0.0s remaining:    0.0s\n",
        "[Parallel(n_jobs=7)]: Done   7 out of   7 | elapsed:    0.1s finished\n"
       ]
      },
      {
       "output_type": "stream",
       "stream": "stdout",
       "text": [
        "\n",
        "[-1  1]"
       ]
      },
      {
       "output_type": "stream",
       "stream": "stderr",
       "text": [
        "[Parallel(n_jobs=7)]: Done   1 out of   7 | elapsed:    1.0s remaining:    6.2s\n",
        "[Parallel(n_jobs=7)]: Done   7 out of   7 | elapsed:    1.1s finished\n"
       ]
      },
      {
       "output_type": "stream",
       "stream": "stdout",
       "text": [
        "\n",
        "63\n",
        "Kaggle score is 0.268111787035\n",
        "579\n",
        "67"
       ]
      },
      {
       "output_type": "stream",
       "stream": "stderr",
       "text": [
        "[Parallel(n_jobs=7)]: Done   1 out of   1 | elapsed:    0.0s remaining:    0.0s\n",
        "[Parallel(n_jobs=7)]: Done   7 out of   7 | elapsed:    0.1s finished\n"
       ]
      },
      {
       "output_type": "stream",
       "stream": "stdout",
       "text": [
        "\n",
        "Score is 0.686567164179"
       ]
      },
      {
       "output_type": "stream",
       "stream": "stderr",
       "text": [
        "[Parallel(n_jobs=7)]: Done   1 out of   4 | elapsed:    0.0s remaining:    0.1s\n",
        "[Parallel(n_jobs=7)]: Done   7 out of   7 | elapsed:    0.1s finished\n"
       ]
      },
      {
       "output_type": "stream",
       "stream": "stdout",
       "text": [
        "\n",
        "[-1  1]"
       ]
      },
      {
       "output_type": "stream",
       "stream": "stdout",
       "text": [
        "\n",
        "67\n",
        "Kaggle score is 0.536765592311\n",
        "579\n",
        "67"
       ]
      },
      {
       "output_type": "stream",
       "stream": "stderr",
       "text": [
        "[Parallel(n_jobs=7)]: Done   1 out of   7 | elapsed:    1.0s remaining:    6.2s\n",
        "[Parallel(n_jobs=7)]: Done   7 out of   7 | elapsed:    1.0s finished\n",
        "[Parallel(n_jobs=7)]: Done   1 out of   7 | elapsed:    0.1s remaining:    0.4s\n",
        "[Parallel(n_jobs=7)]: Done   7 out of   7 | elapsed:    0.1s finished\n"
       ]
      },
      {
       "output_type": "stream",
       "stream": "stdout",
       "text": [
        "\n",
        "Score is 0.761194029851"
       ]
      },
      {
       "output_type": "stream",
       "stream": "stdout",
       "text": [
        "\n",
        "[-1  1]"
       ]
      },
      {
       "output_type": "stream",
       "stream": "stderr",
       "text": [
        "[Parallel(n_jobs=7)]: Done   1 out of   7 | elapsed:    0.1s remaining:    0.6s\n",
        "[Parallel(n_jobs=7)]: Done   7 out of   7 | elapsed:    0.1s finished\n",
        "[Parallel(n_jobs=7)]: Done   1 out of   7 | elapsed:    1.2s remaining:    6.9s\n",
        "[Parallel(n_jobs=7)]: Done   7 out of   7 | elapsed:    1.2s finished\n"
       ]
      },
      {
       "output_type": "stream",
       "stream": "stdout",
       "text": [
        "\n",
        "67\n",
        "Kaggle score is 0.371344472239\n",
        "579\n",
        "67"
       ]
      },
      {
       "output_type": "stream",
       "stream": "stderr",
       "text": [
        "[Parallel(n_jobs=7)]: Done   1 out of   2 | elapsed:    0.0s remaining:    0.0s\n",
        "[Parallel(n_jobs=7)]: Done   7 out of   7 | elapsed:    0.1s finished\n"
       ]
      },
      {
       "output_type": "stream",
       "stream": "stdout",
       "text": [
        "\n",
        "Score is 0.776119402985"
       ]
      },
      {
       "output_type": "stream",
       "stream": "stderr",
       "text": [
        "[Parallel(n_jobs=7)]: Done   1 out of   2 | elapsed:    0.0s remaining:    0.0s\n",
        "[Parallel(n_jobs=7)]: Done   7 out of   7 | elapsed:    0.1s finished\n"
       ]
      },
      {
       "output_type": "stream",
       "stream": "stdout",
       "text": [
        "\n",
        "[-1  1]"
       ]
      },
      {
       "output_type": "stream",
       "stream": "stdout",
       "text": [
        "\n",
        "67\n",
        "Kaggle score is 0.443048412738\n",
        "646\n"
       ]
      }
     ],
     "prompt_number": 1044
    },
    {
     "cell_type": "code",
     "collapsed": false,
     "input": [
      "print test_features.columns\n",
      "print cfrs.keys()"
     ],
     "language": "python",
     "metadata": {},
     "outputs": [
      {
       "output_type": "stream",
       "stream": "stdout",
       "text": [
        "Index([u'TEAM2_pyth', u'TEAM1_oppd_rnk', u'TEAM1_kaggle_id', u'TEAM1_opp_pyth_rnk', u'TEAM1_w', u'TEAM2_adjt_rnk', u'TEAM2_conf', u'TEAM2_adjd_rnk', u'TEAM2_kaggle_id', u'TEAM2_w_per', u'TEAM2_seed', u'TEAM2_w', u'TEAM2_kenpom', u'TEAM1_adjo_rnk', u'TEAM2_oppd_rnk', u'TEAM2_adjo_rnk', u'ROUND', u'TEAM1_l', u'TEAM1_oppo_rnk', u'TEAM2_opp_pyth_rnk', u'TEAM1_ncopp_pyth_rnk', u'TEAM2_adjo', u'TEAM2_ncopp_pyth', u'WINNER', u'TEAM1_seed', u'TEAM1_oppd', u'SEED1', u'SEED2', u'SCORE1', u'SCORE2', u'TEAM2_rpi', u'TEAM1_ncopp_pyth', u'TEAM1_oppo', u'TEAM2_ncopp_pyth_rnk', u'TEAM1_team', u'TEAM2_adjt', u'TEAM1_adjo', u'TEAM2_oppo_rnk', u'TEAM1_w_per', u'TEAM1_adjd', u'TEAM1_rpi', u'TEAM2_adjd', u'TEAM2_oppo', u'TEAM2_luck', u'TEAM1_conf', u'TEAM1_adjt', u'TEAM2_oppd', u'TEAM1_opp_pyth', u'TEAM2_opp_pyth', u'TEAM1_year', u'TEAM1_pyth', u'TEAM2_team', u'TEAM2_luck_rnk', u'TEAM1_luck', u'TEAM1_tour', u'TEAM1_luck_rnk', u'TEAM1', u'TEAM2', u'TEAM1_kenpom', u'TEAM2_l', u'TEAM2_tour', u'TEAM2_year', u'TEAM1_adjt_rnk', u'TEAM1_adjd_rnk'], dtype=object)\n",
        "[2008, 2009, 2010, 2011, 2012, 2013]\n"
       ]
      }
     ],
     "prompt_number": 973
    },
    {
     "cell_type": "code",
     "collapsed": false,
     "input": [
      "sample_submission_df = pd.read_csv(\"{0}{1}\".format(data_prefix, \"sample_submission.csv\"), index_col=[0])\n",
      "kaggle_tourney_results = pd.read_csv(\"{0}{1}\".format(data_prefix, \"tourney_results.csv\"))\n",
      "seasons = ['N', 'O', 'P', 'Q', 'R', 'S']\n",
      "kaggle_tourney_results = kaggle_tourney_results[(kaggle_tourney_results['season'] == 'N') | (kaggle_tourney_results['season'] == 'O') | (kaggle_tourney_results['season'] == 'P') | (kaggle_tourney_results['season'] == 'Q') | (kaggle_tourney_results['season'] == 'R') | (kaggle_tourney_results['season'] == 'S')]\n",
      "kaggle_tourney_results = kaggle_tourney_results[kaggle_tourney_results['daynum'] >= 136]\n",
      "print \"kaggle tourney\",len(kaggle_tourney_results)\n",
      "winner_arr = []\n",
      "for ix, row in sample_submission_df.iterrows():\n",
      "    season, team1, team2 = ix.split(\"_\")\n",
      "    team1 = int(team1)\n",
      "    team2 = int(team2)\n",
      "    row = kaggle_tourney_results[(kaggle_tourney_results['season'] == season) & (kaggle_tourney_results['wteam'] == team1) & (kaggle_tourney_results['lteam'] == team2)] \n",
      "    if len(row) == 0:\n",
      "        row = kaggle_tourney_results[(kaggle_tourney_results['season'] == season) & (kaggle_tourney_results['wteam'] == team2) & (kaggle_tourney_results['lteam'] == team1)] \n",
      "        if len(row) == 0:\n",
      "            winner_arr.append(np.nan)\n",
      "            continue\n",
      "            #print \"warning\", team1, \"vs\", team2\n",
      "        winner_arr.append(0.0)\n",
      "    else:\n",
      "#         print team1, \"vs\", team2\n",
      "        winner_arr.append(1.0)\n",
      "sample_submission_df['winner'] = pd.Series(np.array(winner_arr), index=sample_submission_df.index)"
     ],
     "language": "python",
     "metadata": {},
     "outputs": [
      {
       "output_type": "stream",
       "stream": "stdout",
       "text": [
        "kaggle tourney 315\n"
       ]
      }
     ],
     "prompt_number": 1039
    },
    {
     "cell_type": "code",
     "collapsed": false,
     "input": [
      "test_features = test_features[(test_features['TEAM1_year'] >= 2009) & (test_features['TEAM2_year'] >= 2009)]    \n",
      "\n",
      "\n",
      "\n",
      "# count = 0\n",
      "# for ix, row in test_features.iterrows():\n",
      "#     team1 = int(row['TEAM1_kaggle_id'])\n",
      "#     team2 = int(row['TEAM2_kaggle_id'])\n",
      "#     season = int(row['TEAM1_year'])\n",
      "#     match = False\n",
      "#     for ix_t, row_t in sample_submission_df.iterrows():\n",
      "#         season_key, team1_t, team2_t = ix_t.split(\"_\")\n",
      "#         season_t = season_map[season_key]\n",
      "#         team1_t = int(team1_t)\n",
      "#         team2_t = int(team2_t)\n",
      "#         if ((team1_t == team1 and team2_t == team2) or (team1_t == team2 and team2_t == team1)) and season_t == season:\n",
      "#             match = True\n",
      "#             count += 1\n",
      "#             break\n",
      "#     if not match:\n",
      "# #         print row.keys()\n",
      "#         print team1, team2, season, row['TEAM1'], row['TEAM2']\n",
      "# print count\n",
      "num_predicted = 0\n",
      "predictions = []\n",
      "for ix, row in sample_submission_df.iterrows():\n",
      "    season_key, team1, team2 = ix.split(\"_\")\n",
      "    season = season_map[season_key]\n",
      "    team1 = int(team1)\n",
      "    team2 = int(team2)\n",
      "    test_feature = test_features[((test_features['TEAM1_year'] == season) & (test_features['TEAM2_year'] == season)) & ((test_features['TEAM1_kaggle_id'] == team1) & (test_features['TEAM2_kaggle_id'] == team2)) ]\n",
      "    if len(test_feature) > 0:\n",
      "        del test_feature[\"SCORE1\"]\n",
      "        del test_feature[\"SCORE2\"]\n",
      "        del test_feature[\"TEAM1_team\"]\n",
      "        del test_feature[\"TEAM2_team\"]\n",
      "        win = test_feature['WINNER']\n",
      "        del test_feature['WINNER']\n",
      "        cfr = cfrs[season]\n",
      "        ps = cfr.predict_proba(test_feature)\n",
      "        p = ps[0, 1]\n",
      "        print \"pred\", p, row['winner']\n",
      "        predictions.append(p)\n",
      "        num_predicted += 1\n",
      "        continue\n",
      "    test_feature = test_features[((test_features['TEAM1_year'] == season) & (test_features['TEAM2_year'] == season)) & (test_features['TEAM2_kaggle_id'] == team1) & (test_features['TEAM1_kaggle_id'] == team2)]\n",
      "    if len(test_feature) > 0:\n",
      "        del test_feature[\"SCORE1\"]\n",
      "        del test_feature[\"SCORE2\"]\n",
      "        win = test_feature['WINNER']\n",
      "        del test_feature['WINNER']\n",
      "        del test_feature[\"TEAM1_team\"]\n",
      "        del test_feature[\"TEAM2_team\"]\n",
      "        cfr = cfrs[season]\n",
      "        ps = cfr.predict_proba(test_feature)\n",
      "        p = ps[0, 1]\n",
      "        print \"pred\",(1.0 - p), row['winner']\n",
      "        predictions.append((1.0 - p))\n",
      "        num_predicted += 1\n",
      "        continue\n",
      "    predictions.append(0.5)\n",
      "predict_series = pd.Series(np.array(predictions), index=sample_submission_df.index)\n",
      "sample_submission_df['pred'] = predict_series\n",
      "sample_submission_df.to_csv(\"kaggle_submission.csv\", cols=['pred'])\n",
      "print \"predicted {0}/{1}\".format(num_predicted, len(sample_submission_df))\n",
      "\n"
     ],
     "language": "python",
     "metadata": {},
     "outputs": [
      {
       "output_type": "stream",
       "stream": "stderr",
       "text": [
        "[Parallel(n_jobs=7)]: Done   1 out of   1 | elapsed:    0.0s remaining:    0.0s\n",
        "[Parallel(n_jobs=7)]: Done   7 out of   7 | elapsed:    0.1s finished\n"
       ]
      },
      {
       "output_type": "stream",
       "stream": "stderr",
       "text": [
        "[Parallel(n_jobs=7)]: Done   1 out of   1 | elapsed:    0.0s remaining:    0.0s\n",
        "[Parallel(n_jobs=7)]: Done   7 out of   7 | elapsed:    0.1s finished\n"
       ]
      },
      {
       "output_type": "stream",
       "stream": "stdout",
       "text": [
        "pred 0.137 0.0\n",
        "pred"
       ]
      },
      {
       "output_type": "stream",
       "stream": "stderr",
       "text": [
        "[Parallel(n_jobs=7)]: Done   1 out of   1 | elapsed:    0.0s remaining:    0.0s\n",
        "[Parallel(n_jobs=7)]: Done   7 out of   7 | elapsed:    0.1s finished\n"
       ]
      },
      {
       "output_type": "stream",
       "stream": "stdout",
       "text": [
        " 0.106 nan\n",
        "pred"
       ]
      },
      {
       "output_type": "stream",
       "stream": "stderr",
       "text": [
        "[Parallel(n_jobs=7)]: Done   1 out of   1 | elapsed:    0.0s remaining:    0.0s\n",
        "[Parallel(n_jobs=7)]: Done   7 out of   7 | elapsed:    0.1s finished\n"
       ]
      },
      {
       "output_type": "stream",
       "stream": "stdout",
       "text": [
        " 0.013 0.0\n",
        "pred"
       ]
      },
      {
       "output_type": "stream",
       "stream": "stderr",
       "text": [
        "[Parallel(n_jobs=7)]: Done   1 out of   1 | elapsed:    0.0s remaining:    0.0s\n",
        "[Parallel(n_jobs=7)]: Done   7 out of   7 | elapsed:    0.1s finished\n"
       ]
      },
      {
       "output_type": "stream",
       "stream": "stdout",
       "text": [
        " 0.514 1.0\n",
        "pred"
       ]
      },
      {
       "output_type": "stream",
       "stream": "stderr",
       "text": [
        "[Parallel(n_jobs=7)]: Done   1 out of   1 | elapsed:    0.0s remaining:    0.0s\n",
        "[Parallel(n_jobs=7)]: Done   7 out of   7 | elapsed:    0.1s finished\n"
       ]
      },
      {
       "output_type": "stream",
       "stream": "stdout",
       "text": [
        " 0.124 0.0\n",
        "pred"
       ]
      },
      {
       "output_type": "stream",
       "stream": "stderr",
       "text": [
        "[Parallel(n_jobs=7)]: Done   1 out of   3 | elapsed:    0.0s remaining:    0.0s\n",
        "[Parallel(n_jobs=7)]: Done   7 out of   7 | elapsed:    0.1s finished\n"
       ]
      },
      {
       "output_type": "stream",
       "stream": "stdout",
       "text": [
        " 0.265 1.0\n",
        "pred"
       ]
      },
      {
       "output_type": "stream",
       "stream": "stdout",
       "text": [
        " 0.467 0.0\n",
        "pred"
       ]
      },
      {
       "output_type": "stream",
       "stream": "stderr",
       "text": [
        "[Parallel(n_jobs=7)]: Done   1 out of   7 | elapsed:    0.1s remaining:    0.6s\n",
        "[Parallel(n_jobs=7)]: Done   7 out of   7 | elapsed:    0.1s finished\n",
        "[Parallel(n_jobs=7)]: Done   1 out of   1 | elapsed:    0.0s remaining:    0.0s\n",
        "[Parallel(n_jobs=7)]: Done   7 out of   7 | elapsed:    0.1s finished\n"
       ]
      },
      {
       "output_type": "stream",
       "stream": "stdout",
       "text": [
        " 0.68 1.0\n",
        "pred"
       ]
      },
      {
       "output_type": "stream",
       "stream": "stdout",
       "text": [
        " 0.01 0.0\n",
        "pred"
       ]
      },
      {
       "output_type": "stream",
       "stream": "stderr",
       "text": [
        "[Parallel(n_jobs=7)]: Done   1 out of   7 | elapsed:    0.1s remaining:    0.6s\n",
        "[Parallel(n_jobs=7)]: Done   7 out of   7 | elapsed:    0.1s finished\n",
        "[Parallel(n_jobs=7)]: Done   1 out of   1 | elapsed:    0.0s remaining:    0.0s\n",
        "[Parallel(n_jobs=7)]: Done   7 out of   7 | elapsed:    0.1s finished\n"
       ]
      },
      {
       "output_type": "stream",
       "stream": "stdout",
       "text": [
        " 0.294 0.0\n",
        "pred"
       ]
      },
      {
       "output_type": "stream",
       "stream": "stderr",
       "text": [
        "[Parallel(n_jobs=7)]: Done   1 out of   1 | elapsed:    0.0s remaining:    0.0s\n",
        "[Parallel(n_jobs=7)]: Done   7 out of   7 | elapsed:    0.1s finished\n"
       ]
      },
      {
       "output_type": "stream",
       "stream": "stdout",
       "text": [
        " 0.564 0.0\n",
        "pred"
       ]
      },
      {
       "output_type": "stream",
       "stream": "stderr",
       "text": [
        "[Parallel(n_jobs=7)]: Done   1 out of   2 | elapsed:    0.0s remaining:    0.0s\n",
        "[Parallel(n_jobs=7)]: Done   7 out of   7 | elapsed:    0.1s finished\n"
       ]
      },
      {
       "output_type": "stream",
       "stream": "stdout",
       "text": [
        " 0.643 0.0\n",
        "pred"
       ]
      },
      {
       "output_type": "stream",
       "stream": "stderr",
       "text": [
        "[Parallel(n_jobs=7)]: Done   1 out of   1 | elapsed:    0.0s remaining:    0.0s\n",
        "[Parallel(n_jobs=7)]: Done   7 out of   7 | elapsed:    0.1s finished\n"
       ]
      },
      {
       "output_type": "stream",
       "stream": "stdout",
       "text": [
        " 0.493 0.0\n",
        "pred"
       ]
      },
      {
       "output_type": "stream",
       "stream": "stderr",
       "text": [
        "[Parallel(n_jobs=7)]: Done   1 out of   1 | elapsed:    0.0s remaining:    0.0s\n",
        "[Parallel(n_jobs=7)]: Done   7 out of   7 | elapsed:    0.1s finished\n"
       ]
      },
      {
       "output_type": "stream",
       "stream": "stdout",
       "text": [
        " 0.044 0.0\n",
        "pred"
       ]
      },
      {
       "output_type": "stream",
       "stream": "stdout",
       "text": [
        " 0.485 0.0\n",
        "pred"
       ]
      },
      {
       "output_type": "stream",
       "stream": "stderr",
       "text": [
        "[Parallel(n_jobs=7)]: Done   1 out of   7 | elapsed:    0.1s remaining:    0.4s\n",
        "[Parallel(n_jobs=7)]: Done   7 out of   7 | elapsed:    0.1s finished\n",
        "[Parallel(n_jobs=7)]: Done   1 out of   1 | elapsed:    0.0s remaining:    0.0s\n",
        "[Parallel(n_jobs=7)]: Done   7 out of   7 | elapsed:    0.1s finished\n"
       ]
      },
      {
       "output_type": "stream",
       "stream": "stdout",
       "text": [
        " 0.425 1.0\n",
        "pred"
       ]
      },
      {
       "output_type": "stream",
       "stream": "stderr",
       "text": [
        "[Parallel(n_jobs=7)]: Done   1 out of   1 | elapsed:    0.0s remaining:    0.0s\n",
        "[Parallel(n_jobs=7)]: Done   7 out of   7 | elapsed:    0.1s finished\n"
       ]
      },
      {
       "output_type": "stream",
       "stream": "stdout",
       "text": [
        " 0.712 0.0\n",
        "pred"
       ]
      },
      {
       "output_type": "stream",
       "stream": "stderr",
       "text": [
        "[Parallel(n_jobs=7)]: Done   1 out of   1 | elapsed:    0.0s remaining:    0.0s\n",
        "[Parallel(n_jobs=7)]: Done   7 out of   7 | elapsed:    0.1s finished\n"
       ]
      },
      {
       "output_type": "stream",
       "stream": "stdout",
       "text": [
        " 0.547 1.0\n",
        "pred"
       ]
      },
      {
       "output_type": "stream",
       "stream": "stderr",
       "text": [
        "[Parallel(n_jobs=7)]: Done   1 out of   1 | elapsed:    0.0s remaining:    0.0s\n",
        "[Parallel(n_jobs=7)]: Done   7 out of   7 | elapsed:    0.1s finished\n"
       ]
      },
      {
       "output_type": "stream",
       "stream": "stdout",
       "text": [
        " 0.747 1.0\n",
        "pred"
       ]
      },
      {
       "output_type": "stream",
       "stream": "stdout",
       "text": [
        " 0.92 1.0\n",
        "pred"
       ]
      },
      {
       "output_type": "stream",
       "stream": "stderr",
       "text": [
        "[Parallel(n_jobs=7)]: Done   1 out of   7 | elapsed:    0.1s remaining:    0.6s\n",
        "[Parallel(n_jobs=7)]: Done   7 out of   7 | elapsed:    0.1s finished\n",
        "[Parallel(n_jobs=7)]: Done   1 out of   7 | elapsed:    0.1s remaining:    0.5s\n",
        "[Parallel(n_jobs=7)]: Done   7 out of   7 | elapsed:    0.1s finished\n"
       ]
      },
      {
       "output_type": "stream",
       "stream": "stdout",
       "text": [
        " 0.014 0.0\n",
        "pred"
       ]
      },
      {
       "output_type": "stream",
       "stream": "stderr",
       "text": [
        "[Parallel(n_jobs=7)]: Done   1 out of   1 | elapsed:    0.0s remaining:    0.0s\n",
        "[Parallel(n_jobs=7)]: Done   7 out of   7 | elapsed:    0.1s finished\n"
       ]
      },
      {
       "output_type": "stream",
       "stream": "stdout",
       "text": [
        " 0.064 0.0\n",
        "pred"
       ]
      },
      {
       "output_type": "stream",
       "stream": "stdout",
       "text": [
        " 0.227 0.0\n",
        "pred"
       ]
      },
      {
       "output_type": "stream",
       "stream": "stderr",
       "text": [
        "[Parallel(n_jobs=7)]: Done   1 out of   7 | elapsed:    0.1s remaining:    0.4s\n",
        "[Parallel(n_jobs=7)]: Done   7 out of   7 | elapsed:    0.1s finished\n",
        "[Parallel(n_jobs=7)]: Done   1 out of   1 | elapsed:    0.0s remaining:    0.0s\n",
        "[Parallel(n_jobs=7)]: Done   7 out of   7 | elapsed:    0.1s finished\n"
       ]
      },
      {
       "output_type": "stream",
       "stream": "stdout",
       "text": [
        " 0.262 1.0\n",
        "pred"
       ]
      },
      {
       "output_type": "stream",
       "stream": "stderr",
       "text": [
        "[Parallel(n_jobs=7)]: Done   1 out of   3 | elapsed:    0.0s remaining:    0.0s\n",
        "[Parallel(n_jobs=7)]: Done   7 out of   7 | elapsed:    0.1s finished\n"
       ]
      },
      {
       "output_type": "stream",
       "stream": "stdout",
       "text": [
        " 0.739 1.0\n",
        "pred"
       ]
      },
      {
       "output_type": "stream",
       "stream": "stderr",
       "text": [
        "[Parallel(n_jobs=7)]: Done   1 out of   1 | elapsed:    0.0s remaining:    0.0s\n",
        "[Parallel(n_jobs=7)]: Done   7 out of   7 | elapsed:    0.1s finished\n"
       ]
      },
      {
       "output_type": "stream",
       "stream": "stdout",
       "text": [
        " 0.592 0.0\n",
        "pred"
       ]
      },
      {
       "output_type": "stream",
       "stream": "stderr",
       "text": [
        "[Parallel(n_jobs=7)]: Done   1 out of   4 | elapsed:    0.0s remaining:    0.0s\n",
        "[Parallel(n_jobs=7)]: Done   7 out of   7 | elapsed:    0.1s finished\n"
       ]
      },
      {
       "output_type": "stream",
       "stream": "stdout",
       "text": [
        " 0.004 0.0\n",
        "pred"
       ]
      },
      {
       "output_type": "stream",
       "stream": "stderr",
       "text": [
        "[Parallel(n_jobs=7)]: Done   1 out of   3 | elapsed:    0.0s remaining:    0.0s\n",
        "[Parallel(n_jobs=7)]: Done   7 out of   7 | elapsed:    0.1s finished\n"
       ]
      },
      {
       "output_type": "stream",
       "stream": "stdout",
       "text": [
        " 0.56 0.0\n",
        "pred"
       ]
      },
      {
       "output_type": "stream",
       "stream": "stderr",
       "text": [
        "[Parallel(n_jobs=7)]: Done   1 out of   6 | elapsed:    0.0s remaining:    0.2s\n",
        "[Parallel(n_jobs=7)]: Done   7 out of   7 | elapsed:    0.1s finished\n"
       ]
      },
      {
       "output_type": "stream",
       "stream": "stdout",
       "text": [
        " 0.234 0.0\n",
        "pred"
       ]
      },
      {
       "output_type": "stream",
       "stream": "stderr",
       "text": [
        "[Parallel(n_jobs=7)]: Done   1 out of   1 | elapsed:    0.0s remaining:    0.0s\n",
        "[Parallel(n_jobs=7)]: Done   7 out of   7 | elapsed:    0.1s finished\n"
       ]
      },
      {
       "output_type": "stream",
       "stream": "stdout",
       "text": [
        " 0.721 1.0\n",
        "pred"
       ]
      },
      {
       "output_type": "stream",
       "stream": "stdout",
       "text": [
        " 0.58 0.0\n",
        "pred"
       ]
      },
      {
       "output_type": "stream",
       "stream": "stderr",
       "text": [
        "[Parallel(n_jobs=7)]: Done   1 out of   7 | elapsed:    0.1s remaining:    0.5s\n",
        "[Parallel(n_jobs=7)]: Done   7 out of   7 | elapsed:    0.1s finished\n",
        "[Parallel(n_jobs=7)]: Done   1 out of   1 | elapsed:    0.0s remaining:    0.0s\n",
        "[Parallel(n_jobs=7)]: Done   7 out of   7 | elapsed:    0.1s finished\n"
       ]
      },
      {
       "output_type": "stream",
       "stream": "stdout",
       "text": [
        " 0.329 0.0\n",
        "pred"
       ]
      },
      {
       "output_type": "stream",
       "stream": "stderr",
       "text": [
        "[Parallel(n_jobs=7)]: Done   1 out of   1 | elapsed:    0.0s remaining:    0.0s\n",
        "[Parallel(n_jobs=7)]: Done   7 out of   7 | elapsed:    0.1s finished\n"
       ]
      },
      {
       "output_type": "stream",
       "stream": "stdout",
       "text": [
        " 0.913 1.0\n",
        "pred"
       ]
      },
      {
       "output_type": "stream",
       "stream": "stderr",
       "text": [
        "[Parallel(n_jobs=7)]: Done   1 out of   1 | elapsed:    0.0s remaining:    0.0s\n",
        "[Parallel(n_jobs=7)]: Done   7 out of   7 | elapsed:    0.1s finished\n"
       ]
      },
      {
       "output_type": "stream",
       "stream": "stdout",
       "text": [
        " 0.461 0.0\n",
        "pred"
       ]
      },
      {
       "output_type": "stream",
       "stream": "stderr",
       "text": [
        "[Parallel(n_jobs=7)]: Done   1 out of   7 | elapsed:    0.0s remaining:    0.1s\n",
        "[Parallel(n_jobs=7)]: Done   7 out of   7 | elapsed:    0.1s finished\n"
       ]
      },
      {
       "output_type": "stream",
       "stream": "stdout",
       "text": [
        " 0.959 1.0\n",
        "pred"
       ]
      },
      {
       "output_type": "stream",
       "stream": "stderr",
       "text": [
        "[Parallel(n_jobs=7)]: Done   1 out of   1 | elapsed:    0.0s remaining:    0.0s\n",
        "[Parallel(n_jobs=7)]: Done   7 out of   7 | elapsed:    0.1s finished\n"
       ]
      },
      {
       "output_type": "stream",
       "stream": "stdout",
       "text": [
        " 0.828 1.0\n",
        "pred"
       ]
      },
      {
       "output_type": "stream",
       "stream": "stdout",
       "text": [
        " 0.029 0.0\n",
        "pred"
       ]
      },
      {
       "output_type": "stream",
       "stream": "stderr",
       "text": [
        "[Parallel(n_jobs=7)]: Done   1 out of   7 | elapsed:    0.1s remaining:    0.6s\n",
        "[Parallel(n_jobs=7)]: Done   7 out of   7 | elapsed:    0.1s finished\n",
        "[Parallel(n_jobs=7)]: Done   1 out of   1 | elapsed:    0.0s remaining:    0.0s\n",
        "[Parallel(n_jobs=7)]: Done   7 out of   7 | elapsed:    0.1s finished\n"
       ]
      },
      {
       "output_type": "stream",
       "stream": "stdout",
       "text": [
        " 0.291 0.0\n",
        "pred"
       ]
      },
      {
       "output_type": "stream",
       "stream": "stderr",
       "text": [
        "[Parallel(n_jobs=7)]: Done   1 out of   0 | elapsed:    0.0s remaining:   -0.0s\n",
        "[Parallel(n_jobs=7)]: Done   7 out of   7 | elapsed:    0.1s finished\n"
       ]
      },
      {
       "output_type": "stream",
       "stream": "stdout",
       "text": [
        " 0.6 1.0\n",
        "pred"
       ]
      },
      {
       "output_type": "stream",
       "stream": "stderr",
       "text": [
        "[Parallel(n_jobs=7)]: Done   1 out of   1 | elapsed:    0.0s remaining:    0.0s\n",
        "[Parallel(n_jobs=7)]: Done   7 out of   7 | elapsed:    0.1s finished\n"
       ]
      },
      {
       "output_type": "stream",
       "stream": "stdout",
       "text": [
        " 0.097 0.0\n",
        "pred"
       ]
      },
      {
       "output_type": "stream",
       "stream": "stdout",
       "text": [
        " 0.768 0.0\n",
        "pred"
       ]
      },
      {
       "output_type": "stream",
       "stream": "stderr",
       "text": [
        "[Parallel(n_jobs=7)]: Done   1 out of   7 | elapsed:    0.1s remaining:    0.6s\n",
        "[Parallel(n_jobs=7)]: Done   7 out of   7 | elapsed:    0.1s finished\n",
        "[Parallel(n_jobs=7)]: Done   1 out of   2 | elapsed:    0.0s remaining:    0.0s\n",
        "[Parallel(n_jobs=7)]: Done   7 out of   7 | elapsed:    0.1s finished\n"
       ]
      },
      {
       "output_type": "stream",
       "stream": "stdout",
       "text": [
        " 0.189 0.0\n",
        "pred"
       ]
      },
      {
       "output_type": "stream",
       "stream": "stderr",
       "text": [
        "[Parallel(n_jobs=7)]: Done   1 out of   0 | elapsed:    0.0s remaining:   -0.0s\n",
        "[Parallel(n_jobs=7)]: Done   7 out of   7 | elapsed:    0.1s finished\n"
       ]
      },
      {
       "output_type": "stream",
       "stream": "stdout",
       "text": [
        " 0.349 0.0\n",
        "pred"
       ]
      },
      {
       "output_type": "stream",
       "stream": "stderr",
       "text": [
        "[Parallel(n_jobs=7)]: Done   1 out of   1 | elapsed:    0.0s remaining:    0.0s\n",
        "[Parallel(n_jobs=7)]: Done   7 out of   7 | elapsed:    0.1s finished\n"
       ]
      },
      {
       "output_type": "stream",
       "stream": "stdout",
       "text": [
        " 0.964 1.0\n",
        "pred"
       ]
      },
      {
       "output_type": "stream",
       "stream": "stdout",
       "text": [
        " 0.776 1.0\n",
        "pred"
       ]
      },
      {
       "output_type": "stream",
       "stream": "stderr",
       "text": [
        "[Parallel(n_jobs=7)]: Done   1 out of   7 | elapsed:    0.1s remaining:    0.6s\n",
        "[Parallel(n_jobs=7)]: Done   7 out of   7 | elapsed:    0.1s finished\n",
        "[Parallel(n_jobs=7)]: Done   1 out of   1 | elapsed:    0.0s remaining:    0.0s\n",
        "[Parallel(n_jobs=7)]: Done   7 out of   7 | elapsed:    0.1s finished\n"
       ]
      },
      {
       "output_type": "stream",
       "stream": "stdout",
       "text": [
        " 0.266 0.0\n",
        "pred"
       ]
      },
      {
       "output_type": "stream",
       "stream": "stderr",
       "text": [
        "[Parallel(n_jobs=7)]: Done   1 out of   1 | elapsed:    0.0s remaining:    0.0s\n",
        "[Parallel(n_jobs=7)]: Done   7 out of   7 | elapsed:    0.1s finished\n"
       ]
      },
      {
       "output_type": "stream",
       "stream": "stdout",
       "text": [
        " 0.1 0.0\n",
        "pred"
       ]
      },
      {
       "output_type": "stream",
       "stream": "stderr",
       "text": [
        "[Parallel(n_jobs=7)]: Done   1 out of   1 | elapsed:    0.0s remaining:    0.0s\n",
        "[Parallel(n_jobs=7)]: Done   7 out of   7 | elapsed:    0.1s finished\n"
       ]
      },
      {
       "output_type": "stream",
       "stream": "stdout",
       "text": [
        " 0.008 0.0\n",
        "pred"
       ]
      },
      {
       "output_type": "stream",
       "stream": "stderr",
       "text": [
        "[Parallel(n_jobs=7)]: Done   1 out of   1 | elapsed:    0.0s remaining:    0.0s\n",
        "[Parallel(n_jobs=7)]: Done   7 out of   7 | elapsed:    0.1s finished\n"
       ]
      },
      {
       "output_type": "stream",
       "stream": "stdout",
       "text": [
        " 0.745 1.0\n",
        "pred"
       ]
      },
      {
       "output_type": "stream",
       "stream": "stderr",
       "text": [
        "[Parallel(n_jobs=7)]: Done   1 out of   1 | elapsed:    0.0s remaining:    0.0s\n",
        "[Parallel(n_jobs=7)]: Done   7 out of   7 | elapsed:    0.1s finished\n"
       ]
      },
      {
       "output_type": "stream",
       "stream": "stdout",
       "text": [
        " 0.995 1.0\n",
        "pred"
       ]
      },
      {
       "output_type": "stream",
       "stream": "stdout",
       "text": [
        " 0.674 1.0\n",
        "pred"
       ]
      },
      {
       "output_type": "stream",
       "stream": "stderr",
       "text": [
        "[Parallel(n_jobs=7)]: Done   1 out of   7 | elapsed:    0.1s remaining:    0.6s\n",
        "[Parallel(n_jobs=7)]: Done   7 out of   7 | elapsed:    0.1s finished\n",
        "[Parallel(n_jobs=7)]: Done   1 out of   7 | elapsed:    0.1s remaining:    0.6s\n",
        "[Parallel(n_jobs=7)]: Done   7 out of   7 | elapsed:    0.1s finished\n"
       ]
      },
      {
       "output_type": "stream",
       "stream": "stdout",
       "text": [
        " 0.128 0.0\n",
        "pred"
       ]
      },
      {
       "output_type": "stream",
       "stream": "stderr",
       "text": [
        "[Parallel(n_jobs=7)]: Done   1 out of   7 | elapsed:    0.0s remaining:    0.3s\n",
        "[Parallel(n_jobs=7)]: Done   7 out of   7 | elapsed:    0.1s finished\n"
       ]
      },
      {
       "output_type": "stream",
       "stream": "stdout",
       "text": [
        " 0.492 0.0\n",
        "pred"
       ]
      },
      {
       "output_type": "stream",
       "stream": "stderr",
       "text": [
        "[Parallel(n_jobs=7)]: Done   1 out of   1 | elapsed:    0.0s remaining:    0.0s\n",
        "[Parallel(n_jobs=7)]: Done   7 out of   7 | elapsed:    0.1s finished\n"
       ]
      },
      {
       "output_type": "stream",
       "stream": "stdout",
       "text": [
        " 0.459 1.0\n",
        "pred"
       ]
      },
      {
       "output_type": "stream",
       "stream": "stderr",
       "text": [
        "[Parallel(n_jobs=7)]: Done   1 out of   1 | elapsed:    0.0s remaining:    0.0s\n",
        "[Parallel(n_jobs=7)]: Done   7 out of   7 | elapsed:    0.1s finished\n"
       ]
      },
      {
       "output_type": "stream",
       "stream": "stdout",
       "text": [
        " 0.042 0.0\n",
        "pred"
       ]
      },
      {
       "output_type": "stream",
       "stream": "stderr",
       "text": [
        "[Parallel(n_jobs=7)]: Done   1 out of   1 | elapsed:    0.0s remaining:    0.0s\n",
        "[Parallel(n_jobs=7)]: Done   7 out of   7 | elapsed:    0.1s finished\n"
       ]
      },
      {
       "output_type": "stream",
       "stream": "stdout",
       "text": [
        " 0.617 1.0\n",
        "pred"
       ]
      },
      {
       "output_type": "stream",
       "stream": "stdout",
       "text": [
        " 0.621 0.0\n",
        "pred"
       ]
      },
      {
       "output_type": "stream",
       "stream": "stderr",
       "text": [
        "[Parallel(n_jobs=7)]: Done   1 out of   7 | elapsed:    0.1s remaining:    0.4s\n",
        "[Parallel(n_jobs=7)]: Done   7 out of   7 | elapsed:    0.1s finished\n",
        "[Parallel(n_jobs=7)]: Done   1 out of   1 | elapsed:    0.0s remaining:    0.0s\n",
        "[Parallel(n_jobs=7)]: Done   7 out of   7 | elapsed:    0.1s finished\n"
       ]
      },
      {
       "output_type": "stream",
       "stream": "stdout",
       "text": [
        " 0.728 1.0\n",
        "pred"
       ]
      },
      {
       "output_type": "stream",
       "stream": "stderr",
       "text": [
        "[Parallel(n_jobs=7)]: Done   1 out of   1 | elapsed:    0.0s remaining:    0.0s\n",
        "[Parallel(n_jobs=7)]: Done   7 out of   7 | elapsed:    0.1s finished\n"
       ]
      },
      {
       "output_type": "stream",
       "stream": "stdout",
       "text": [
        " 0.083 0.0\n",
        "pred"
       ]
      },
      {
       "output_type": "stream",
       "stream": "stderr",
       "text": [
        "[Parallel(n_jobs=7)]: Done   1 out of   1 | elapsed:    0.0s remaining:    0.0s\n",
        "[Parallel(n_jobs=7)]: Done   7 out of   7 | elapsed:    0.1s finished\n"
       ]
      },
      {
       "output_type": "stream",
       "stream": "stdout",
       "text": [
        " 0.479 1.0\n",
        "pred"
       ]
      },
      {
       "output_type": "stream",
       "stream": "stderr",
       "text": [
        "[Parallel(n_jobs=7)]: Done   1 out of   1 | elapsed:    0.0s remaining:    0.0s\n",
        "[Parallel(n_jobs=7)]: Done   7 out of   7 | elapsed:    0.1s finished\n"
       ]
      },
      {
       "output_type": "stream",
       "stream": "stdout",
       "text": [
        " 0.178 0.0\n",
        "pred"
       ]
      },
      {
       "output_type": "stream",
       "stream": "stdout",
       "text": [
        " 0.764 1.0\n",
        "pred"
       ]
      },
      {
       "output_type": "stream",
       "stream": "stderr",
       "text": [
        "[Parallel(n_jobs=7)]: Done   1 out of   7 | elapsed:    0.1s remaining:    0.6s\n",
        "[Parallel(n_jobs=7)]: Done   7 out of   7 | elapsed:    0.1s finished\n",
        "[Parallel(n_jobs=7)]: Done   1 out of   7 | elapsed:    0.1s remaining:    0.4s\n",
        "[Parallel(n_jobs=7)]: Done   7 out of   7 | elapsed:    0.1s finished\n"
       ]
      },
      {
       "output_type": "stream",
       "stream": "stdout",
       "text": [
        " 0.442 0.0\n",
        "pred"
       ]
      },
      {
       "output_type": "stream",
       "stream": "stderr",
       "text": [
        "[Parallel(n_jobs=7)]: Done   1 out of   4 | elapsed:    0.0s remaining:    0.1s\n",
        "[Parallel(n_jobs=7)]: Done   7 out of   7 | elapsed:    0.1s finished\n"
       ]
      },
      {
       "output_type": "stream",
       "stream": "stdout",
       "text": [
        " 0.34 0.0\n",
        "pred"
       ]
      },
      {
       "output_type": "stream",
       "stream": "stdout",
       "text": [
        " 0.026 0.0\n",
        "pred"
       ]
      },
      {
       "output_type": "stream",
       "stream": "stderr",
       "text": [
        "[Parallel(n_jobs=7)]: Done   1 out of   7 | elapsed:    0.1s remaining:    0.6s\n",
        "[Parallel(n_jobs=7)]: Done   7 out of   7 | elapsed:    0.1s finished\n",
        "[Parallel(n_jobs=7)]: Done   1 out of   1 | elapsed:    0.0s remaining:    0.0s\n",
        "[Parallel(n_jobs=7)]: Done   7 out of   7 | elapsed:    0.1s finished\n"
       ]
      },
      {
       "output_type": "stream",
       "stream": "stdout",
       "text": [
        " 0.813 nan\n",
        "pred"
       ]
      },
      {
       "output_type": "stream",
       "stream": "stderr",
       "text": [
        "[Parallel(n_jobs=7)]: Done   1 out of   0 | elapsed:    0.0s remaining:   -0.0s\n",
        "[Parallel(n_jobs=7)]: Done   7 out of   7 | elapsed:    0.1s finished\n"
       ]
      },
      {
       "output_type": "stream",
       "stream": "stdout",
       "text": [
        " 0.228 0.0\n",
        "pred"
       ]
      },
      {
       "output_type": "stream",
       "stream": "stderr",
       "text": [
        "[Parallel(n_jobs=7)]: Done   1 out of   1 | elapsed:    0.0s remaining:    0.0s\n",
        "[Parallel(n_jobs=7)]: Done   7 out of   7 | elapsed:    0.1s finished\n"
       ]
      },
      {
       "output_type": "stream",
       "stream": "stdout",
       "text": [
        " 0.768 1.0\n",
        "pred"
       ]
      },
      {
       "output_type": "stream",
       "stream": "stdout",
       "text": [
        " 0.929 1.0\n",
        "pred"
       ]
      },
      {
       "output_type": "stream",
       "stream": "stderr",
       "text": [
        "[Parallel(n_jobs=7)]: Done   1 out of   7 | elapsed:    0.1s remaining:    0.5s\n",
        "[Parallel(n_jobs=7)]: Done   7 out of   7 | elapsed:    0.1s finished\n",
        "[Parallel(n_jobs=7)]: Done   1 out of   1 | elapsed:    0.0s remaining:    0.0s\n",
        "[Parallel(n_jobs=7)]: Done   7 out of   7 | elapsed:    0.1s finished\n"
       ]
      },
      {
       "output_type": "stream",
       "stream": "stdout",
       "text": [
        " 0.767 1.0\n",
        "pred"
       ]
      },
      {
       "output_type": "stream",
       "stream": "stdout",
       "text": [
        " 0.267 0.0\n",
        "pred"
       ]
      },
      {
       "output_type": "stream",
       "stream": "stderr",
       "text": [
        "[Parallel(n_jobs=7)]: Done   1 out of   7 | elapsed:    0.1s remaining:    0.6s\n",
        "[Parallel(n_jobs=7)]: Done   7 out of   7 | elapsed:    0.1s finished\n",
        "[Parallel(n_jobs=7)]: Done   1 out of   7 | elapsed:    0.1s remaining:    0.5s\n",
        "[Parallel(n_jobs=7)]: Done   7 out of   7 | elapsed:    0.1s finished\n"
       ]
      },
      {
       "output_type": "stream",
       "stream": "stdout",
       "text": [
        " 0.346 1.0\n",
        "pred"
       ]
      },
      {
       "output_type": "stream",
       "stream": "stdout",
       "text": [
        " 0.672 1.0\n",
        "pred"
       ]
      },
      {
       "output_type": "stream",
       "stream": "stderr",
       "text": [
        "[Parallel(n_jobs=7)]: Done   1 out of   7 | elapsed:    0.1s remaining:    0.6s\n",
        "[Parallel(n_jobs=7)]: Done   7 out of   7 | elapsed:    0.1s finished\n",
        "[Parallel(n_jobs=7)]: Done   1 out of   1 | elapsed:    0.0s remaining:    0.0s\n",
        "[Parallel(n_jobs=7)]: Done   7 out of   7 | elapsed:    0.1s finished\n"
       ]
      },
      {
       "output_type": "stream",
       "stream": "stdout",
       "text": [
        " 0.726 1.0\n",
        "pred"
       ]
      },
      {
       "output_type": "stream",
       "stream": "stdout",
       "text": [
        " 0.463 1.0\n",
        "pred"
       ]
      },
      {
       "output_type": "stream",
       "stream": "stderr",
       "text": [
        "[Parallel(n_jobs=7)]: Done   1 out of   7 | elapsed:    0.1s remaining:    0.6s\n",
        "[Parallel(n_jobs=7)]: Done   7 out of   7 | elapsed:    0.1s finished\n",
        "[Parallel(n_jobs=7)]: Done   1 out of   1 | elapsed:    0.0s remaining:    0.0s\n",
        "[Parallel(n_jobs=7)]: Done   7 out of   7 | elapsed:    0.1s finished\n"
       ]
      },
      {
       "output_type": "stream",
       "stream": "stdout",
       "text": [
        " 0.776 1.0\n",
        "pred"
       ]
      },
      {
       "output_type": "stream",
       "stream": "stderr",
       "text": [
        "[Parallel(n_jobs=7)]: Done   1 out of   1 | elapsed:    0.0s remaining:    0.0s\n",
        "[Parallel(n_jobs=7)]: Done   7 out of   7 | elapsed:    0.1s finished\n"
       ]
      },
      {
       "output_type": "stream",
       "stream": "stdout",
       "text": [
        " 0.721 1.0\n",
        "pred"
       ]
      },
      {
       "output_type": "stream",
       "stream": "stdout",
       "text": [
        " 0.354 0.0\n",
        "pred"
       ]
      },
      {
       "output_type": "stream",
       "stream": "stderr",
       "text": [
        "[Parallel(n_jobs=7)]: Done   1 out of   7 | elapsed:    0.1s remaining:    0.6s\n",
        "[Parallel(n_jobs=7)]: Done   7 out of   7 | elapsed:    0.1s finished\n",
        "[Parallel(n_jobs=7)]: Done   1 out of   7 | elapsed:    0.1s remaining:    0.5s\n",
        "[Parallel(n_jobs=7)]: Done   7 out of   7 | elapsed:    0.1s finished\n"
       ]
      },
      {
       "output_type": "stream",
       "stream": "stdout",
       "text": [
        " 0.071 0.0\n",
        "pred"
       ]
      },
      {
       "output_type": "stream",
       "stream": "stdout",
       "text": [
        " 0.679 1.0\n",
        "pred"
       ]
      },
      {
       "output_type": "stream",
       "stream": "stderr",
       "text": [
        "[Parallel(n_jobs=7)]: Done   1 out of   7 | elapsed:    0.1s remaining:    0.6s\n",
        "[Parallel(n_jobs=7)]: Done   7 out of   7 | elapsed:    0.1s finished\n",
        "[Parallel(n_jobs=7)]: Done   1 out of   1 | elapsed:    0.0s remaining:    0.0s\n",
        "[Parallel(n_jobs=7)]: Done   7 out of   7 | elapsed:    0.1s finished\n"
       ]
      },
      {
       "output_type": "stream",
       "stream": "stdout",
       "text": [
        " 0.415 0.0\n",
        "pred"
       ]
      },
      {
       "output_type": "stream",
       "stream": "stderr",
       "text": [
        "[Parallel(n_jobs=7)]: Done   1 out of   3 | elapsed:    0.0s remaining:    0.0s\n",
        "[Parallel(n_jobs=7)]: Done   7 out of   7 | elapsed:    0.1s finished\n"
       ]
      },
      {
       "output_type": "stream",
       "stream": "stdout",
       "text": [
        " 0.11 0.0\n",
        "pred"
       ]
      },
      {
       "output_type": "stream",
       "stream": "stderr",
       "text": [
        "[Parallel(n_jobs=7)]: Done   1 out of   1 | elapsed:    0.0s remaining:    0.0s\n",
        "[Parallel(n_jobs=7)]: Done   7 out of   7 | elapsed:    0.1s finished\n"
       ]
      },
      {
       "output_type": "stream",
       "stream": "stdout",
       "text": [
        " 0.409 1.0\n",
        "pred"
       ]
      },
      {
       "output_type": "stream",
       "stream": "stderr",
       "text": [
        "[Parallel(n_jobs=7)]: Done   1 out of   1 | elapsed:    0.0s remaining:    0.0s\n",
        "[Parallel(n_jobs=7)]: Done   7 out of   7 | elapsed:    0.1s finished\n"
       ]
      },
      {
       "output_type": "stream",
       "stream": "stdout",
       "text": [
        " 0.49 1.0\n",
        "pred"
       ]
      },
      {
       "output_type": "stream",
       "stream": "stdout",
       "text": [
        " 0.818 1.0\n",
        "pred"
       ]
      },
      {
       "output_type": "stream",
       "stream": "stderr",
       "text": [
        "[Parallel(n_jobs=7)]: Done   1 out of   7 | elapsed:    0.1s remaining:    0.5s\n",
        "[Parallel(n_jobs=7)]: Done   7 out of   7 | elapsed:    0.1s finished\n",
        "[Parallel(n_jobs=7)]: Done   1 out of   7 | elapsed:    0.1s remaining:    0.5s\n",
        "[Parallel(n_jobs=7)]: Done   7 out of   7 | elapsed:    0.1s finished\n"
       ]
      },
      {
       "output_type": "stream",
       "stream": "stdout",
       "text": [
        " 0.805 1.0\n",
        "pred"
       ]
      },
      {
       "output_type": "stream",
       "stream": "stderr",
       "text": [
        "[Parallel(n_jobs=7)]: Done   1 out of   0 | elapsed:    0.0s remaining:   -0.0s\n",
        "[Parallel(n_jobs=7)]: Done   7 out of   7 | elapsed:    0.1s finished\n"
       ]
      },
      {
       "output_type": "stream",
       "stream": "stdout",
       "text": [
        " 0.03 0.0\n",
        "pred"
       ]
      },
      {
       "output_type": "stream",
       "stream": "stderr",
       "text": [
        "[Parallel(n_jobs=7)]: Done   1 out of   1 | elapsed:    0.0s remaining:    0.0s\n",
        "[Parallel(n_jobs=7)]: Done   7 out of   7 | elapsed:    0.1s finished\n"
       ]
      },
      {
       "output_type": "stream",
       "stream": "stdout",
       "text": [
        " 0.434 0.0\n",
        "pred"
       ]
      },
      {
       "output_type": "stream",
       "stream": "stderr",
       "text": [
        "[Parallel(n_jobs=7)]: Done   1 out of   1 | elapsed:    0.0s remaining:    0.0s\n",
        "[Parallel(n_jobs=7)]: Done   7 out of   7 | elapsed:    0.1s finished\n"
       ]
      },
      {
       "output_type": "stream",
       "stream": "stdout",
       "text": [
        " 0.886 0.0\n",
        "pred"
       ]
      },
      {
       "output_type": "stream",
       "stream": "stdout",
       "text": [
        " 0.273 0.0\n",
        "pred"
       ]
      },
      {
       "output_type": "stream",
       "stream": "stderr",
       "text": [
        "[Parallel(n_jobs=7)]: Done   1 out of   7 | elapsed:    0.1s remaining:    0.6s\n",
        "[Parallel(n_jobs=7)]: Done   7 out of   7 | elapsed:    0.1s finished\n",
        "[Parallel(n_jobs=7)]: Done   1 out of   7 | elapsed:    0.1s remaining:    0.5s\n",
        "[Parallel(n_jobs=7)]: Done   7 out of   7 | elapsed:    0.1s finished\n"
       ]
      },
      {
       "output_type": "stream",
       "stream": "stdout",
       "text": [
        " 0.687 1.0\n",
        "pred"
       ]
      },
      {
       "output_type": "stream",
       "stream": "stderr",
       "text": [
        "[Parallel(n_jobs=7)]: Done   1 out of   1 | elapsed:    0.0s remaining:    0.0s\n",
        "[Parallel(n_jobs=7)]: Done   7 out of   7 | elapsed:    0.1s finished\n"
       ]
      },
      {
       "output_type": "stream",
       "stream": "stdout",
       "text": [
        " 0.183 0.0\n",
        "pred"
       ]
      },
      {
       "output_type": "stream",
       "stream": "stdout",
       "text": [
        " 0.226 0.0\n",
        "pred"
       ]
      },
      {
       "output_type": "stream",
       "stream": "stderr",
       "text": [
        "[Parallel(n_jobs=7)]: Done   1 out of   7 | elapsed:    0.1s remaining:    0.6s\n",
        "[Parallel(n_jobs=7)]: Done   7 out of   7 | elapsed:    0.1s finished\n",
        "[Parallel(n_jobs=7)]: Done   1 out of   7 | elapsed:    0.1s remaining:    0.6s\n",
        "[Parallel(n_jobs=7)]: Done   7 out of   7 | elapsed:    0.1s finished\n"
       ]
      },
      {
       "output_type": "stream",
       "stream": "stdout",
       "text": [
        " 0.996 1.0\n",
        "pred"
       ]
      },
      {
       "output_type": "stream",
       "stream": "stderr",
       "text": [
        "[Parallel(n_jobs=7)]: Done   1 out of   1 | elapsed:    0.0s remaining:    0.0s\n",
        "[Parallel(n_jobs=7)]: Done   7 out of   7 | elapsed:    0.1s finished\n"
       ]
      },
      {
       "output_type": "stream",
       "stream": "stdout",
       "text": [
        " 0.871 0.0\n",
        "pred"
       ]
      },
      {
       "output_type": "stream",
       "stream": "stderr",
       "text": [
        "[Parallel(n_jobs=7)]: Done   1 out of   0 | elapsed:    0.0s remaining:   -0.0s\n",
        "[Parallel(n_jobs=7)]: Done   7 out of   7 | elapsed:    0.1s finished\n"
       ]
      },
      {
       "output_type": "stream",
       "stream": "stdout",
       "text": [
        " 0.686 1.0\n",
        "pred"
       ]
      },
      {
       "output_type": "stream",
       "stream": "stdout",
       "text": [
        " 0.829 1.0\n",
        "pred"
       ]
      },
      {
       "output_type": "stream",
       "stream": "stderr",
       "text": [
        "[Parallel(n_jobs=7)]: Done   1 out of   7 | elapsed:    0.1s remaining:    0.6s\n",
        "[Parallel(n_jobs=7)]: Done   7 out of   7 | elapsed:    0.1s finished\n",
        "[Parallel(n_jobs=7)]: Done   1 out of   7 | elapsed:    0.0s remaining:    0.2s\n",
        "[Parallel(n_jobs=7)]: Done   7 out of   7 | elapsed:    0.1s finished\n"
       ]
      },
      {
       "output_type": "stream",
       "stream": "stdout",
       "text": [
        " 0.547 0.0\n",
        "pred"
       ]
      },
      {
       "output_type": "stream",
       "stream": "stderr",
       "text": [
        "[Parallel(n_jobs=7)]: Done   1 out of   1 | elapsed:    0.0s remaining:    0.0s\n",
        "[Parallel(n_jobs=7)]: Done   7 out of   7 | elapsed:    0.1s finished\n"
       ]
      },
      {
       "output_type": "stream",
       "stream": "stdout",
       "text": [
        " 0.346 0.0\n",
        "pred"
       ]
      },
      {
       "output_type": "stream",
       "stream": "stderr",
       "text": [
        "[Parallel(n_jobs=7)]: Done   1 out of   1 | elapsed:    0.0s remaining:    0.0s\n",
        "[Parallel(n_jobs=7)]: Done   7 out of   7 | elapsed:    0.1s finished\n"
       ]
      },
      {
       "output_type": "stream",
       "stream": "stdout",
       "text": [
        " 0.198 0.0\n",
        "pred"
       ]
      },
      {
       "output_type": "stream",
       "stream": "stderr",
       "text": [
        "[Parallel(n_jobs=7)]: Done   1 out of   0 | elapsed:    0.0s remaining:   -0.0s\n",
        "[Parallel(n_jobs=7)]: Done   7 out of   7 | elapsed:    0.1s finished\n"
       ]
      },
      {
       "output_type": "stream",
       "stream": "stdout",
       "text": [
        " 0.84 1.0\n",
        "pred"
       ]
      },
      {
       "output_type": "stream",
       "stream": "stderr",
       "text": [
        "[Parallel(n_jobs=7)]: Done   1 out of   0 | elapsed:    0.0s remaining:   -0.0s\n",
        "[Parallel(n_jobs=7)]: Done   7 out of   7 | elapsed:    0.1s finished\n"
       ]
      },
      {
       "output_type": "stream",
       "stream": "stdout",
       "text": [
        " 0.562 1.0\n",
        "pred"
       ]
      },
      {
       "output_type": "stream",
       "stream": "stderr",
       "text": [
        "[Parallel(n_jobs=7)]: Done   1 out of   1 | elapsed:    0.0s remaining:    0.0s\n",
        "[Parallel(n_jobs=7)]: Done   7 out of   7 | elapsed:    0.1s finished\n"
       ]
      },
      {
       "output_type": "stream",
       "stream": "stdout",
       "text": [
        " 0.518 1.0\n",
        "pred"
       ]
      },
      {
       "output_type": "stream",
       "stream": "stderr",
       "text": [
        "[Parallel(n_jobs=7)]: Done   1 out of   1 | elapsed:    0.0s remaining:    0.0s\n",
        "[Parallel(n_jobs=7)]: Done   7 out of   7 | elapsed:    0.1s finished\n"
       ]
      },
      {
       "output_type": "stream",
       "stream": "stdout",
       "text": [
        " 0.149 0.0\n",
        "pred"
       ]
      },
      {
       "output_type": "stream",
       "stream": "stderr",
       "text": [
        "[Parallel(n_jobs=7)]: Done   1 out of   1 | elapsed:    0.0s remaining:    0.0s\n",
        "[Parallel(n_jobs=7)]: Done   7 out of   7 | elapsed:    0.1s finished\n"
       ]
      },
      {
       "output_type": "stream",
       "stream": "stdout",
       "text": [
        " 0.098 0.0\n",
        "pred"
       ]
      },
      {
       "output_type": "stream",
       "stream": "stderr",
       "text": [
        "[Parallel(n_jobs=7)]: Done   1 out of   1 | elapsed:    0.0s remaining:    0.0s\n",
        "[Parallel(n_jobs=7)]: Done   7 out of   7 | elapsed:    0.1s finished\n"
       ]
      },
      {
       "output_type": "stream",
       "stream": "stdout",
       "text": [
        " 0.122 0.0\n",
        "pred"
       ]
      },
      {
       "output_type": "stream",
       "stream": "stderr",
       "text": [
        "[Parallel(n_jobs=7)]: Done   1 out of   1 | elapsed:    0.0s remaining:    0.0s\n",
        "[Parallel(n_jobs=7)]: Done   7 out of   7 | elapsed:    0.1s finished\n"
       ]
      },
      {
       "output_type": "stream",
       "stream": "stdout",
       "text": [
        " 0.038 0.0\n",
        "pred"
       ]
      },
      {
       "output_type": "stream",
       "stream": "stderr",
       "text": [
        "[Parallel(n_jobs=7)]: Done   1 out of   7 | elapsed:    0.0s remaining:    0.2s\n",
        "[Parallel(n_jobs=7)]: Done   7 out of   7 | elapsed:    0.1s finished\n"
       ]
      },
      {
       "output_type": "stream",
       "stream": "stdout",
       "text": [
        " 0.29 1.0\n",
        "pred"
       ]
      },
      {
       "output_type": "stream",
       "stream": "stderr",
       "text": [
        "[Parallel(n_jobs=7)]: Done   1 out of   3 | elapsed:    0.0s remaining:    0.0s\n",
        "[Parallel(n_jobs=7)]: Done   7 out of   7 | elapsed:    0.1s finished\n"
       ]
      },
      {
       "output_type": "stream",
       "stream": "stdout",
       "text": [
        " 0.448 0.0\n",
        "pred"
       ]
      },
      {
       "output_type": "stream",
       "stream": "stderr",
       "text": [
        "[Parallel(n_jobs=7)]: Done   1 out of   1 | elapsed:    0.0s remaining:    0.0s\n",
        "[Parallel(n_jobs=7)]: Done   7 out of   7 | elapsed:    0.1s finished\n"
       ]
      },
      {
       "output_type": "stream",
       "stream": "stdout",
       "text": [
        " 0.674 1.0\n",
        "pred"
       ]
      },
      {
       "output_type": "stream",
       "stream": "stderr",
       "text": [
        "[Parallel(n_jobs=7)]: Done   1 out of   1 | elapsed:    0.0s remaining:    0.0s\n",
        "[Parallel(n_jobs=7)]: Done   7 out of   7 | elapsed:    0.1s finished\n"
       ]
      },
      {
       "output_type": "stream",
       "stream": "stdout",
       "text": [
        " 0.268 0.0\n",
        "pred"
       ]
      },
      {
       "output_type": "stream",
       "stream": "stderr",
       "text": [
        "[Parallel(n_jobs=7)]: Done   1 out of   1 | elapsed:    0.0s remaining:    0.0s\n",
        "[Parallel(n_jobs=7)]: Done   7 out of   7 | elapsed:    0.1s finished\n"
       ]
      },
      {
       "output_type": "stream",
       "stream": "stdout",
       "text": [
        " 0.326 0.0\n",
        "pred"
       ]
      },
      {
       "output_type": "stream",
       "stream": "stderr",
       "text": [
        "[Parallel(n_jobs=7)]: Done   1 out of   1 | elapsed:    0.0s remaining:    0.0s\n",
        "[Parallel(n_jobs=7)]: Done   7 out of   7 | elapsed:    0.1s finished\n"
       ]
      },
      {
       "output_type": "stream",
       "stream": "stdout",
       "text": [
        " 0.144 0.0\n",
        "pred"
       ]
      },
      {
       "output_type": "stream",
       "stream": "stdout",
       "text": [
        " 0.958 1.0\n",
        "pred"
       ]
      },
      {
       "output_type": "stream",
       "stream": "stderr",
       "text": [
        "[Parallel(n_jobs=7)]: Done   1 out of   7 | elapsed:    0.1s remaining:    0.3s\n",
        "[Parallel(n_jobs=7)]: Done   7 out of   7 | elapsed:    0.1s finished\n",
        "[Parallel(n_jobs=7)]: Done   1 out of   1 | elapsed:    0.0s remaining:    0.0s\n",
        "[Parallel(n_jobs=7)]: Done   7 out of   7 | elapsed:    0.1s finished\n"
       ]
      },
      {
       "output_type": "stream",
       "stream": "stdout",
       "text": [
        " 0.546 0.0\n",
        "pred"
       ]
      },
      {
       "output_type": "stream",
       "stream": "stderr",
       "text": [
        "[Parallel(n_jobs=7)]: Done   1 out of   1 | elapsed:    0.0s remaining:    0.0s\n",
        "[Parallel(n_jobs=7)]: Done   7 out of   7 | elapsed:    0.1s finished\n"
       ]
      },
      {
       "output_type": "stream",
       "stream": "stdout",
       "text": [
        " 0.263 0.0\n",
        "pred"
       ]
      },
      {
       "output_type": "stream",
       "stream": "stderr",
       "text": [
        "[Parallel(n_jobs=7)]: Done   1 out of   1 | elapsed:    0.0s remaining:    0.0s\n",
        "[Parallel(n_jobs=7)]: Done   7 out of   7 | elapsed:    0.1s finished\n"
       ]
      },
      {
       "output_type": "stream",
       "stream": "stdout",
       "text": [
        " 0.779 1.0\n",
        "pred"
       ]
      },
      {
       "output_type": "stream",
       "stream": "stderr",
       "text": [
        "[Parallel(n_jobs=7)]: Done   1 out of   1 | elapsed:    0.0s remaining:    0.0s\n",
        "[Parallel(n_jobs=7)]: Done   7 out of   7 | elapsed:    0.1s finished\n"
       ]
      },
      {
       "output_type": "stream",
       "stream": "stdout",
       "text": [
        " 0.677 1.0\n",
        "pred"
       ]
      },
      {
       "output_type": "stream",
       "stream": "stderr",
       "text": [
        "[Parallel(n_jobs=7)]: Done   1 out of   1 | elapsed:    0.0s remaining:    0.0s\n",
        "[Parallel(n_jobs=7)]: Done   7 out of   7 | elapsed:    0.1s finished\n"
       ]
      },
      {
       "output_type": "stream",
       "stream": "stdout",
       "text": [
        " 0.499 0.0\n",
        "pred"
       ]
      },
      {
       "output_type": "stream",
       "stream": "stderr",
       "text": [
        "[Parallel(n_jobs=7)]: Done   1 out of   1 | elapsed:    0.0s remaining:    0.0s\n",
        "[Parallel(n_jobs=7)]: Done   7 out of   7 | elapsed:    0.1s finished\n"
       ]
      },
      {
       "output_type": "stream",
       "stream": "stdout",
       "text": [
        " 0.039 0.0\n",
        "pred"
       ]
      },
      {
       "output_type": "stream",
       "stream": "stderr",
       "text": [
        "[Parallel(n_jobs=7)]: Done   1 out of   1 | elapsed:    0.0s remaining:    0.0s\n",
        "[Parallel(n_jobs=7)]: Done   7 out of   7 | elapsed:    0.1s finished\n"
       ]
      },
      {
       "output_type": "stream",
       "stream": "stdout",
       "text": [
        " 0.32 0.0\n",
        "pred"
       ]
      },
      {
       "output_type": "stream",
       "stream": "stderr",
       "text": [
        "[Parallel(n_jobs=7)]: Done   1 out of   0 | elapsed:    0.0s remaining:   -0.0s\n",
        "[Parallel(n_jobs=7)]: Done   7 out of   7 | elapsed:    0.1s finished\n"
       ]
      },
      {
       "output_type": "stream",
       "stream": "stdout",
       "text": [
        " 0.601 1.0\n",
        "pred"
       ]
      },
      {
       "output_type": "stream",
       "stream": "stderr",
       "text": [
        "[Parallel(n_jobs=7)]: Done   1 out of   1 | elapsed:    0.0s remaining:    0.0s\n",
        "[Parallel(n_jobs=7)]: Done   7 out of   7 | elapsed:    0.1s finished\n"
       ]
      },
      {
       "output_type": "stream",
       "stream": "stdout",
       "text": [
        " 0.979 1.0\n",
        "pred"
       ]
      },
      {
       "output_type": "stream",
       "stream": "stdout",
       "text": [
        " 0.572 0.0\n",
        "pred"
       ]
      },
      {
       "output_type": "stream",
       "stream": "stderr",
       "text": [
        "[Parallel(n_jobs=7)]: Done   1 out of   7 | elapsed:    0.1s remaining:    0.6s\n",
        "[Parallel(n_jobs=7)]: Done   7 out of   7 | elapsed:    0.1s finished\n",
        "[Parallel(n_jobs=7)]: Done   1 out of   1 | elapsed:    0.0s remaining:    0.0s\n",
        "[Parallel(n_jobs=7)]: Done   7 out of   7 | elapsed:    0.1s finished\n"
       ]
      },
      {
       "output_type": "stream",
       "stream": "stdout",
       "text": [
        " 0.731 1.0\n",
        "pred"
       ]
      },
      {
       "output_type": "stream",
       "stream": "stderr",
       "text": [
        "[Parallel(n_jobs=7)]: Done   1 out of   1 | elapsed:    0.0s remaining:    0.0s\n",
        "[Parallel(n_jobs=7)]: Done   7 out of   7 | elapsed:    0.1s finished\n"
       ]
      },
      {
       "output_type": "stream",
       "stream": "stdout",
       "text": [
        " 0.173 0.0\n",
        "pred"
       ]
      },
      {
       "output_type": "stream",
       "stream": "stderr",
       "text": [
        "[Parallel(n_jobs=7)]: Done   1 out of   0 | elapsed:    0.0s remaining:   -0.0s\n",
        "[Parallel(n_jobs=7)]: Done   7 out of   7 | elapsed:    0.1s finished\n"
       ]
      },
      {
       "output_type": "stream",
       "stream": "stdout",
       "text": [
        " 0.796 1.0\n",
        "pred"
       ]
      },
      {
       "output_type": "stream",
       "stream": "stderr",
       "text": [
        "[Parallel(n_jobs=7)]: Done   1 out of   1 | elapsed:    0.0s remaining:    0.0s\n",
        "[Parallel(n_jobs=7)]: Done   7 out of   7 | elapsed:    0.1s finished\n"
       ]
      },
      {
       "output_type": "stream",
       "stream": "stdout",
       "text": [
        " 0.071 0.0\n",
        "pred"
       ]
      },
      {
       "output_type": "stream",
       "stream": "stdout",
       "text": [
        " 0.115 nan\n",
        "pred"
       ]
      },
      {
       "output_type": "stream",
       "stream": "stderr",
       "text": [
        "[Parallel(n_jobs=7)]: Done   1 out of   7 | elapsed:    0.1s remaining:    0.6s\n",
        "[Parallel(n_jobs=7)]: Done   7 out of   7 | elapsed:    0.1s finished\n",
        "[Parallel(n_jobs=7)]: Done   1 out of   1 | elapsed:    0.0s remaining:    0.0s\n",
        "[Parallel(n_jobs=7)]: Done   7 out of   7 | elapsed:    0.1s finished\n"
       ]
      },
      {
       "output_type": "stream",
       "stream": "stdout",
       "text": [
        " 0.617 0.0\n",
        "pred"
       ]
      },
      {
       "output_type": "stream",
       "stream": "stderr",
       "text": [
        "[Parallel(n_jobs=7)]: Done   1 out of   1 | elapsed:    0.0s remaining:    0.0s\n",
        "[Parallel(n_jobs=7)]: Done   7 out of   7 | elapsed:    0.1s finished\n"
       ]
      },
      {
       "output_type": "stream",
       "stream": "stdout",
       "text": [
        " 0.138 1.0\n",
        "pred"
       ]
      },
      {
       "output_type": "stream",
       "stream": "stderr",
       "text": [
        "[Parallel(n_jobs=7)]: Done   1 out of   1 | elapsed:    0.0s remaining:    0.0s\n",
        "[Parallel(n_jobs=7)]: Done   7 out of   7 | elapsed:    0.1s finished\n"
       ]
      },
      {
       "output_type": "stream",
       "stream": "stdout",
       "text": [
        " 0.765 1.0\n",
        "pred"
       ]
      },
      {
       "output_type": "stream",
       "stream": "stdout",
       "text": [
        " 0.512 1.0\n",
        "pred"
       ]
      },
      {
       "output_type": "stream",
       "stream": "stderr",
       "text": [
        "[Parallel(n_jobs=7)]: Done   1 out of   7 | elapsed:    0.1s remaining:    0.3s\n",
        "[Parallel(n_jobs=7)]: Done   7 out of   7 | elapsed:    0.1s finished\n",
        "[Parallel(n_jobs=7)]: Done   1 out of   1 | elapsed:    0.0s remaining:    0.0s\n",
        "[Parallel(n_jobs=7)]: Done   7 out of   7 | elapsed:    0.1s finished\n"
       ]
      },
      {
       "output_type": "stream",
       "stream": "stdout",
       "text": [
        " 0.063 nan\n",
        "pred"
       ]
      },
      {
       "output_type": "stream",
       "stream": "stderr",
       "text": [
        "[Parallel(n_jobs=7)]: Done   1 out of   1 | elapsed:    0.0s remaining:    0.0s\n",
        "[Parallel(n_jobs=7)]: Done   7 out of   7 | elapsed:    0.1s finished\n"
       ]
      },
      {
       "output_type": "stream",
       "stream": "stdout",
       "text": [
        " 0.462 0.0\n",
        "pred"
       ]
      },
      {
       "output_type": "stream",
       "stream": "stderr",
       "text": [
        "[Parallel(n_jobs=7)]: Done   1 out of   1 | elapsed:    0.0s remaining:    0.0s\n",
        "[Parallel(n_jobs=7)]: Done   7 out of   7 | elapsed:    0.1s finished\n"
       ]
      },
      {
       "output_type": "stream",
       "stream": "stdout",
       "text": [
        " 0.021 0.0\n",
        "pred"
       ]
      },
      {
       "output_type": "stream",
       "stream": "stderr",
       "text": [
        "[Parallel(n_jobs=7)]: Done   1 out of   0 | elapsed:    0.0s remaining:   -0.0s\n",
        "[Parallel(n_jobs=7)]: Done   7 out of   7 | elapsed:    0.1s finished\n"
       ]
      },
      {
       "output_type": "stream",
       "stream": "stdout",
       "text": [
        " 0.099 0.0\n",
        "pred"
       ]
      },
      {
       "output_type": "stream",
       "stream": "stderr",
       "text": [
        "[Parallel(n_jobs=7)]: Done   1 out of   1 | elapsed:    0.0s remaining:    0.0s\n",
        "[Parallel(n_jobs=7)]: Done   7 out of   7 | elapsed:    0.1s finished\n"
       ]
      },
      {
       "output_type": "stream",
       "stream": "stdout",
       "text": [
        " 0.243 0.0\n",
        "pred"
       ]
      },
      {
       "output_type": "stream",
       "stream": "stdout",
       "text": [
        " 0.396 1.0\n",
        "pred"
       ]
      },
      {
       "output_type": "stream",
       "stream": "stderr",
       "text": [
        "[Parallel(n_jobs=7)]: Done   1 out of   7 | elapsed:    0.1s remaining:    0.7s\n",
        "[Parallel(n_jobs=7)]: Done   7 out of   7 | elapsed:    0.1s finished\n",
        "[Parallel(n_jobs=7)]: Done   1 out of   1 | elapsed:    0.0s remaining:    0.0s\n",
        "[Parallel(n_jobs=7)]: Done   7 out of   7 | elapsed:    0.1s finished\n"
       ]
      },
      {
       "output_type": "stream",
       "stream": "stdout",
       "text": [
        " 0.548 1.0\n",
        "pred"
       ]
      },
      {
       "output_type": "stream",
       "stream": "stdout",
       "text": [
        " 0.259 1.0\n",
        "pred"
       ]
      },
      {
       "output_type": "stream",
       "stream": "stderr",
       "text": [
        "[Parallel(n_jobs=7)]: Done   1 out of   7 | elapsed:    0.1s remaining:    0.4s\n",
        "[Parallel(n_jobs=7)]: Done   7 out of   7 | elapsed:    0.1s finished\n",
        "[Parallel(n_jobs=7)]: Done   1 out of   7 | elapsed:    0.0s remaining:    0.1s\n",
        "[Parallel(n_jobs=7)]: Done   7 out of   7 | elapsed:    0.1s finished\n"
       ]
      },
      {
       "output_type": "stream",
       "stream": "stdout",
       "text": [
        " 0.52 1.0\n",
        "pred"
       ]
      },
      {
       "output_type": "stream",
       "stream": "stderr",
       "text": [
        "[Parallel(n_jobs=7)]: Done   1 out of   1 | elapsed:    0.0s remaining:    0.0s\n",
        "[Parallel(n_jobs=7)]: Done   7 out of   7 | elapsed:    0.1s finished\n"
       ]
      },
      {
       "output_type": "stream",
       "stream": "stdout",
       "text": [
        " 0.542 1.0\n",
        "pred"
       ]
      },
      {
       "output_type": "stream",
       "stream": "stderr",
       "text": [
        "[Parallel(n_jobs=7)]: Done   1 out of   0 | elapsed:    0.0s remaining:   -0.0s\n",
        "[Parallel(n_jobs=7)]: Done   7 out of   7 | elapsed:    0.1s finished\n"
       ]
      },
      {
       "output_type": "stream",
       "stream": "stdout",
       "text": [
        " 0.727 0.0\n",
        "pred"
       ]
      },
      {
       "output_type": "stream",
       "stream": "stdout",
       "text": [
        " 0.743 1.0\n",
        "pred"
       ]
      },
      {
       "output_type": "stream",
       "stream": "stderr",
       "text": [
        "[Parallel(n_jobs=7)]: Done   1 out of   7 | elapsed:    0.1s remaining:    0.8s\n",
        "[Parallel(n_jobs=7)]: Done   7 out of   7 | elapsed:    0.1s finished\n",
        "[Parallel(n_jobs=7)]: Done   1 out of   0 | elapsed:    0.0s remaining:   -0.0s\n",
        "[Parallel(n_jobs=7)]: Done   7 out of   7 | elapsed:    0.1s finished\n"
       ]
      },
      {
       "output_type": "stream",
       "stream": "stdout",
       "text": [
        " 0.891 1.0\n",
        "pred"
       ]
      },
      {
       "output_type": "stream",
       "stream": "stderr",
       "text": [
        "[Parallel(n_jobs=7)]: Done   1 out of   1 | elapsed:    0.0s remaining:    0.0s\n",
        "[Parallel(n_jobs=7)]: Done   7 out of   7 | elapsed:    0.1s finished\n"
       ]
      },
      {
       "output_type": "stream",
       "stream": "stdout",
       "text": [
        " 0.35 0.0\n",
        "pred"
       ]
      },
      {
       "output_type": "stream",
       "stream": "stderr",
       "text": [
        "[Parallel(n_jobs=7)]: Done   1 out of   2 | elapsed:    0.0s remaining:    0.0s\n",
        "[Parallel(n_jobs=7)]: Done   7 out of   7 | elapsed:    0.1s finished\n"
       ]
      },
      {
       "output_type": "stream",
       "stream": "stdout",
       "text": [
        " 0.551 1.0\n",
        "pred"
       ]
      },
      {
       "output_type": "stream",
       "stream": "stderr",
       "text": [
        "[Parallel(n_jobs=7)]: Done   1 out of   1 | elapsed:    0.0s remaining:    0.0s\n",
        "[Parallel(n_jobs=7)]: Done   7 out of   7 | elapsed:    0.1s finished\n"
       ]
      },
      {
       "output_type": "stream",
       "stream": "stdout",
       "text": [
        " 0.609 nan\n",
        "pred"
       ]
      },
      {
       "output_type": "stream",
       "stream": "stderr",
       "text": [
        "[Parallel(n_jobs=7)]: Done   1 out of   0 | elapsed:    0.0s remaining:   -0.0s\n",
        "[Parallel(n_jobs=7)]: Done   7 out of   7 | elapsed:    0.1s finished\n"
       ]
      },
      {
       "output_type": "stream",
       "stream": "stdout",
       "text": [
        " 0.339 0.0\n",
        "pred"
       ]
      },
      {
       "output_type": "stream",
       "stream": "stdout",
       "text": [
        " 0.293 1.0\n",
        "pred"
       ]
      },
      {
       "output_type": "stream",
       "stream": "stderr",
       "text": [
        "[Parallel(n_jobs=7)]: Done   1 out of   7 | elapsed:    0.1s remaining:    0.6s\n",
        "[Parallel(n_jobs=7)]: Done   7 out of   7 | elapsed:    0.1s finished\n",
        "[Parallel(n_jobs=7)]: Done   1 out of   1 | elapsed:    0.0s remaining:    0.0s\n",
        "[Parallel(n_jobs=7)]: Done   7 out of   7 | elapsed:    0.1s finished\n"
       ]
      },
      {
       "output_type": "stream",
       "stream": "stdout",
       "text": [
        " 0.304 1.0\n",
        "pred"
       ]
      },
      {
       "output_type": "stream",
       "stream": "stderr",
       "text": [
        "[Parallel(n_jobs=7)]: Done   1 out of   1 | elapsed:    0.0s remaining:    0.0s\n",
        "[Parallel(n_jobs=7)]: Done   7 out of   7 | elapsed:    0.1s finished\n"
       ]
      },
      {
       "output_type": "stream",
       "stream": "stdout",
       "text": [
        " 0.995 1.0\n",
        "pred"
       ]
      },
      {
       "output_type": "stream",
       "stream": "stderr",
       "text": [
        "[Parallel(n_jobs=7)]: Done   1 out of   1 | elapsed:    0.0s remaining:    0.0s\n",
        "[Parallel(n_jobs=7)]: Done   7 out of   7 | elapsed:    0.1s finished\n"
       ]
      },
      {
       "output_type": "stream",
       "stream": "stdout",
       "text": [
        " 0.925 1.0\n",
        "pred"
       ]
      },
      {
       "output_type": "stream",
       "stream": "stderr",
       "text": [
        "[Parallel(n_jobs=7)]: Done   1 out of   7 | elapsed:    0.0s remaining:    0.1s\n",
        "[Parallel(n_jobs=7)]: Done   7 out of   7 | elapsed:    0.1s finished\n"
       ]
      },
      {
       "output_type": "stream",
       "stream": "stdout",
       "text": [
        " 0.914 1.0\n",
        "pred"
       ]
      },
      {
       "output_type": "stream",
       "stream": "stderr",
       "text": [
        "[Parallel(n_jobs=7)]: Done   1 out of   1 | elapsed:    0.0s remaining:    0.0s\n",
        "[Parallel(n_jobs=7)]: Done   7 out of   7 | elapsed:    0.1s finished\n"
       ]
      },
      {
       "output_type": "stream",
       "stream": "stdout",
       "text": [
        " 0.673 1.0\n",
        "pred"
       ]
      },
      {
       "output_type": "stream",
       "stream": "stderr",
       "text": [
        "[Parallel(n_jobs=7)]: Done   1 out of   1 | elapsed:    0.0s remaining:    0.0s\n",
        "[Parallel(n_jobs=7)]: Done   7 out of   7 | elapsed:    0.1s finished\n"
       ]
      },
      {
       "output_type": "stream",
       "stream": "stdout",
       "text": [
        " 0.37 1.0\n",
        "pred"
       ]
      },
      {
       "output_type": "stream",
       "stream": "stdout",
       "text": [
        " 0.651 1.0\n",
        "pred"
       ]
      },
      {
       "output_type": "stream",
       "stream": "stderr",
       "text": [
        "[Parallel(n_jobs=7)]: Done   1 out of   7 | elapsed:    0.1s remaining:    0.5s\n",
        "[Parallel(n_jobs=7)]: Done   7 out of   7 | elapsed:    0.1s finished\n",
        "[Parallel(n_jobs=7)]: Done   1 out of   1 | elapsed:    0.0s remaining:    0.0s\n",
        "[Parallel(n_jobs=7)]: Done   7 out of   7 | elapsed:    0.1s finished\n"
       ]
      },
      {
       "output_type": "stream",
       "stream": "stdout",
       "text": [
        " 0.397 0.0\n",
        "pred"
       ]
      },
      {
       "output_type": "stream",
       "stream": "stderr",
       "text": [
        "[Parallel(n_jobs=7)]: Done   1 out of   1 | elapsed:    0.0s remaining:    0.0s\n",
        "[Parallel(n_jobs=7)]: Done   7 out of   7 | elapsed:    0.1s finished\n"
       ]
      },
      {
       "output_type": "stream",
       "stream": "stdout",
       "text": [
        " 0.172 0.0\n",
        "pred"
       ]
      },
      {
       "output_type": "stream",
       "stream": "stderr",
       "text": [
        "[Parallel(n_jobs=7)]: Done   1 out of   0 | elapsed:    0.0s remaining:   -0.0s\n",
        "[Parallel(n_jobs=7)]: Done   7 out of   7 | elapsed:    0.1s finished\n"
       ]
      },
      {
       "output_type": "stream",
       "stream": "stdout",
       "text": [
        " 0.757 1.0\n",
        "pred"
       ]
      },
      {
       "output_type": "stream",
       "stream": "stderr",
       "text": [
        "[Parallel(n_jobs=7)]: Done   1 out of   0 | elapsed:    0.0s remaining:   -0.0s\n",
        "[Parallel(n_jobs=7)]: Done   7 out of   7 | elapsed:    0.1s finished\n"
       ]
      },
      {
       "output_type": "stream",
       "stream": "stdout",
       "text": [
        " 0.504 0.0\n",
        "pred"
       ]
      },
      {
       "output_type": "stream",
       "stream": "stderr",
       "text": [
        "[Parallel(n_jobs=7)]: Done   1 out of   1 | elapsed:    0.0s remaining:    0.0s\n",
        "[Parallel(n_jobs=7)]: Done   7 out of   7 | elapsed:    0.1s finished\n"
       ]
      },
      {
       "output_type": "stream",
       "stream": "stdout",
       "text": [
        " 0.224 0.0\n",
        "pred"
       ]
      },
      {
       "output_type": "stream",
       "stream": "stdout",
       "text": [
        " 0.494 1.0\n",
        "pred"
       ]
      },
      {
       "output_type": "stream",
       "stream": "stderr",
       "text": [
        "[Parallel(n_jobs=7)]: Done   1 out of   7 | elapsed:    0.1s remaining:    0.6s\n",
        "[Parallel(n_jobs=7)]: Done   7 out of   7 | elapsed:    0.1s finished\n",
        "[Parallel(n_jobs=7)]: Done   1 out of   1 | elapsed:    0.0s remaining:    0.0s\n",
        "[Parallel(n_jobs=7)]: Done   7 out of   7 | elapsed:    0.1s finished\n"
       ]
      },
      {
       "output_type": "stream",
       "stream": "stdout",
       "text": [
        " 0.179 0.0\n",
        "pred"
       ]
      },
      {
       "output_type": "stream",
       "stream": "stderr",
       "text": [
        "[Parallel(n_jobs=7)]: Done   1 out of   3 | elapsed:    0.0s remaining:    0.0s\n",
        "[Parallel(n_jobs=7)]: Done   7 out of   7 | elapsed:    0.1s finished\n"
       ]
      },
      {
       "output_type": "stream",
       "stream": "stdout",
       "text": [
        " 0.598 1.0\n",
        "pred"
       ]
      },
      {
       "output_type": "stream",
       "stream": "stderr",
       "text": [
        "[Parallel(n_jobs=7)]: Done   1 out of   1 | elapsed:    0.0s remaining:    0.0s\n",
        "[Parallel(n_jobs=7)]: Done   7 out of   7 | elapsed:    0.1s finished\n"
       ]
      },
      {
       "output_type": "stream",
       "stream": "stdout",
       "text": [
        " 0.139 0.0\n",
        "pred"
       ]
      },
      {
       "output_type": "stream",
       "stream": "stderr",
       "text": [
        "[Parallel(n_jobs=7)]: Done   1 out of   1 | elapsed:    0.0s remaining:    0.0s\n",
        "[Parallel(n_jobs=7)]: Done   7 out of   7 | elapsed:    0.1s finished\n"
       ]
      },
      {
       "output_type": "stream",
       "stream": "stdout",
       "text": [
        " 0.825 1.0\n",
        "pred"
       ]
      },
      {
       "output_type": "stream",
       "stream": "stderr",
       "text": [
        "[Parallel(n_jobs=7)]: Done   1 out of   0 | elapsed:    0.0s remaining:   -0.0s\n",
        "[Parallel(n_jobs=7)]: Done   7 out of   7 | elapsed:    0.1s finished\n"
       ]
      },
      {
       "output_type": "stream",
       "stream": "stdout",
       "text": [
        " 0.827 0.0\n",
        "pred"
       ]
      },
      {
       "output_type": "stream",
       "stream": "stderr",
       "text": [
        "[Parallel(n_jobs=7)]: Done   1 out of   1 | elapsed:    0.0s remaining:    0.0s\n",
        "[Parallel(n_jobs=7)]: Done   7 out of   7 | elapsed:    0.1s finished\n"
       ]
      },
      {
       "output_type": "stream",
       "stream": "stdout",
       "text": [
        " 0.417 1.0\n",
        "pred"
       ]
      },
      {
       "output_type": "stream",
       "stream": "stderr",
       "text": [
        "[Parallel(n_jobs=7)]: Done   1 out of   1 | elapsed:    0.0s remaining:    0.0s\n",
        "[Parallel(n_jobs=7)]: Done   7 out of   7 | elapsed:    0.1s finished\n"
       ]
      },
      {
       "output_type": "stream",
       "stream": "stdout",
       "text": [
        " 0.504 0.0\n",
        "pred"
       ]
      },
      {
       "output_type": "stream",
       "stream": "stdout",
       "text": [
        " 0.534 1.0\n",
        "pred"
       ]
      },
      {
       "output_type": "stream",
       "stream": "stderr",
       "text": [
        "[Parallel(n_jobs=7)]: Done   1 out of   7 | elapsed:    0.1s remaining:    0.5s\n",
        "[Parallel(n_jobs=7)]: Done   7 out of   7 | elapsed:    0.1s finished\n",
        "[Parallel(n_jobs=7)]: Done   1 out of   1 | elapsed:    0.0s remaining:    0.0s\n",
        "[Parallel(n_jobs=7)]: Done   7 out of   7 | elapsed:    0.1s finished\n"
       ]
      },
      {
       "output_type": "stream",
       "stream": "stdout",
       "text": [
        " 0.228 1.0\n",
        "pred"
       ]
      },
      {
       "output_type": "stream",
       "stream": "stderr",
       "text": [
        "[Parallel(n_jobs=7)]: Done   1 out of   1 | elapsed:    0.0s remaining:    0.0s\n",
        "[Parallel(n_jobs=7)]: Done   7 out of   7 | elapsed:    0.1s finished\n"
       ]
      },
      {
       "output_type": "stream",
       "stream": "stdout",
       "text": [
        " 0.902 1.0\n",
        "pred"
       ]
      },
      {
       "output_type": "stream",
       "stream": "stdout",
       "text": [
        " 0.621 1.0\n",
        "pred"
       ]
      },
      {
       "output_type": "stream",
       "stream": "stderr",
       "text": [
        "[Parallel(n_jobs=7)]: Done   1 out of   7 | elapsed:    0.1s remaining:    0.6s\n",
        "[Parallel(n_jobs=7)]: Done   7 out of   7 | elapsed:    0.1s finished\n",
        "[Parallel(n_jobs=7)]: Done   1 out of   1 | elapsed:    0.0s remaining:    0.0s\n",
        "[Parallel(n_jobs=7)]: Done   7 out of   7 | elapsed:    0.1s finished\n"
       ]
      },
      {
       "output_type": "stream",
       "stream": "stdout",
       "text": [
        " 0.044 0.0\n",
        "pred"
       ]
      },
      {
       "output_type": "stream",
       "stream": "stderr",
       "text": [
        "[Parallel(n_jobs=7)]: Done   1 out of   7 | elapsed:    0.0s remaining:    0.1s\n",
        "[Parallel(n_jobs=7)]: Done   7 out of   7 | elapsed:    0.1s finished\n"
       ]
      },
      {
       "output_type": "stream",
       "stream": "stdout",
       "text": [
        " 0.706 0.0\n",
        "pred"
       ]
      },
      {
       "output_type": "stream",
       "stream": "stderr",
       "text": [
        "[Parallel(n_jobs=7)]: Done   1 out of   1 | elapsed:    0.0s remaining:    0.0s\n",
        "[Parallel(n_jobs=7)]: Done   7 out of   7 | elapsed:    0.1s finished\n"
       ]
      },
      {
       "output_type": "stream",
       "stream": "stdout",
       "text": [
        " 0.22 0.0\n",
        "pred"
       ]
      },
      {
       "output_type": "stream",
       "stream": "stderr",
       "text": [
        "[Parallel(n_jobs=7)]: Done   1 out of   1 | elapsed:    0.0s remaining:    0.0s\n",
        "[Parallel(n_jobs=7)]: Done   7 out of   7 | elapsed:    0.1s finished\n"
       ]
      },
      {
       "output_type": "stream",
       "stream": "stdout",
       "text": [
        " 0.273 1.0\n",
        "pred"
       ]
      },
      {
       "output_type": "stream",
       "stream": "stdout",
       "text": [
        " 0.364 1.0\n",
        "pred"
       ]
      },
      {
       "output_type": "stream",
       "stream": "stderr",
       "text": [
        "[Parallel(n_jobs=7)]: Done   1 out of   7 | elapsed:    0.1s remaining:    0.6s\n",
        "[Parallel(n_jobs=7)]: Done   7 out of   7 | elapsed:    0.1s finished\n",
        "[Parallel(n_jobs=7)]: Done   1 out of   1 | elapsed:    0.0s remaining:    0.0s\n",
        "[Parallel(n_jobs=7)]: Done   7 out of   7 | elapsed:    0.1s finished\n"
       ]
      },
      {
       "output_type": "stream",
       "stream": "stdout",
       "text": [
        " 0.592 1.0\n",
        "pred"
       ]
      },
      {
       "output_type": "stream",
       "stream": "stderr",
       "text": [
        "[Parallel(n_jobs=7)]: Done   1 out of   1 | elapsed:    0.0s remaining:    0.0s\n",
        "[Parallel(n_jobs=7)]: Done   7 out of   7 | elapsed:    0.1s finished\n"
       ]
      },
      {
       "output_type": "stream",
       "stream": "stdout",
       "text": [
        " 0.722 0.0\n",
        "pred"
       ]
      },
      {
       "output_type": "stream",
       "stream": "stderr",
       "text": [
        "[Parallel(n_jobs=7)]: Done   1 out of   0 | elapsed:    0.0s remaining:   -0.0s\n",
        "[Parallel(n_jobs=7)]: Done   7 out of   7 | elapsed:    0.1s finished\n"
       ]
      },
      {
       "output_type": "stream",
       "stream": "stdout",
       "text": [
        " 0.183 0.0\n",
        "pred"
       ]
      },
      {
       "output_type": "stream",
       "stream": "stderr",
       "text": [
        "[Parallel(n_jobs=7)]: Done   1 out of   1 | elapsed:    0.0s remaining:    0.0s\n",
        "[Parallel(n_jobs=7)]: Done   7 out of   7 | elapsed:    0.1s finished\n"
       ]
      },
      {
       "output_type": "stream",
       "stream": "stdout",
       "text": [
        " 0.012 0.0\n",
        "pred"
       ]
      },
      {
       "output_type": "stream",
       "stream": "stderr",
       "text": [
        "[Parallel(n_jobs=7)]: Done   1 out of   3 | elapsed:    0.0s remaining:    0.0s\n",
        "[Parallel(n_jobs=7)]: Done   7 out of   7 | elapsed:    0.1s finished\n"
       ]
      },
      {
       "output_type": "stream",
       "stream": "stdout",
       "text": [
        " 0.684 1.0\n",
        "pred"
       ]
      },
      {
       "output_type": "stream",
       "stream": "stderr",
       "text": [
        "[Parallel(n_jobs=7)]: Done   1 out of   1 | elapsed:    0.0s remaining:    0.0s\n",
        "[Parallel(n_jobs=7)]: Done   7 out of   7 | elapsed:    0.1s finished\n"
       ]
      },
      {
       "output_type": "stream",
       "stream": "stdout",
       "text": [
        " 0.16 0.0\n",
        "pred"
       ]
      },
      {
       "output_type": "stream",
       "stream": "stderr",
       "text": [
        "[Parallel(n_jobs=7)]: Done   1 out of   1 | elapsed:    0.0s remaining:    0.0s\n",
        "[Parallel(n_jobs=7)]: Done   7 out of   7 | elapsed:    0.1s finished\n"
       ]
      },
      {
       "output_type": "stream",
       "stream": "stdout",
       "text": [
        " 0.966 1.0\n",
        "pred"
       ]
      },
      {
       "output_type": "stream",
       "stream": "stderr",
       "text": [
        "[Parallel(n_jobs=7)]: Done   1 out of   7 | elapsed:    0.1s remaining:    0.4s\n",
        "[Parallel(n_jobs=7)]: Done   7 out of   7 | elapsed:    0.1s finished\n"
       ]
      },
      {
       "output_type": "stream",
       "stream": "stdout",
       "text": [
        " 0.372 0.0\n",
        "pred"
       ]
      },
      {
       "output_type": "stream",
       "stream": "stderr",
       "text": [
        "[Parallel(n_jobs=7)]: Done   1 out of   1 | elapsed:    0.0s remaining:    0.0s\n",
        "[Parallel(n_jobs=7)]: Done   7 out of   7 | elapsed:    0.1s finished\n"
       ]
      },
      {
       "output_type": "stream",
       "stream": "stdout",
       "text": [
        " 0.952 1.0\n",
        "pred"
       ]
      },
      {
       "output_type": "stream",
       "stream": "stderr",
       "text": [
        "[Parallel(n_jobs=7)]: Done   1 out of   1 | elapsed:    0.0s remaining:    0.0s\n",
        "[Parallel(n_jobs=7)]: Done   7 out of   7 | elapsed:    0.1s finished\n"
       ]
      },
      {
       "output_type": "stream",
       "stream": "stdout",
       "text": [
        " 0.805 1.0\n",
        "pred"
       ]
      },
      {
       "output_type": "stream",
       "stream": "stderr",
       "text": [
        "[Parallel(n_jobs=7)]: Done   1 out of   1 | elapsed:    0.0s remaining:    0.0s\n",
        "[Parallel(n_jobs=7)]: Done   7 out of   7 | elapsed:    0.1s finished\n"
       ]
      },
      {
       "output_type": "stream",
       "stream": "stdout",
       "text": [
        " 0.514 0.0\n",
        "pred"
       ]
      },
      {
       "output_type": "stream",
       "stream": "stderr",
       "text": [
        "[Parallel(n_jobs=7)]: Done   1 out of   1 | elapsed:    0.0s remaining:    0.0s\n",
        "[Parallel(n_jobs=7)]: Done   7 out of   7 | elapsed:    0.1s finished\n"
       ]
      },
      {
       "output_type": "stream",
       "stream": "stdout",
       "text": [
        " 0.49 1.0\n",
        "pred"
       ]
      },
      {
       "output_type": "stream",
       "stream": "stdout",
       "text": [
        " 0.826 1.0\n",
        "pred"
       ]
      },
      {
       "output_type": "stream",
       "stream": "stderr",
       "text": [
        "[Parallel(n_jobs=7)]: Done   1 out of   7 | elapsed:    0.1s remaining:    0.6s\n",
        "[Parallel(n_jobs=7)]: Done   7 out of   7 | elapsed:    0.1s finished\n",
        "[Parallel(n_jobs=7)]: Done   1 out of   1 | elapsed:    0.0s remaining:    0.0s\n",
        "[Parallel(n_jobs=7)]: Done   7 out of   7 | elapsed:    0.1s finished\n"
       ]
      },
      {
       "output_type": "stream",
       "stream": "stdout",
       "text": [
        " 0.411 nan\n",
        "pred"
       ]
      },
      {
       "output_type": "stream",
       "stream": "stderr",
       "text": [
        "[Parallel(n_jobs=7)]: Done   1 out of   7 | elapsed:    0.0s remaining:    0.1s\n",
        "[Parallel(n_jobs=7)]: Done   7 out of   7 | elapsed:    0.1s finished\n"
       ]
      },
      {
       "output_type": "stream",
       "stream": "stdout",
       "text": [
        " 0.334 0.0\n",
        "pred"
       ]
      },
      {
       "output_type": "stream",
       "stream": "stderr",
       "text": [
        "[Parallel(n_jobs=7)]: Done   1 out of   1 | elapsed:    0.0s remaining:    0.0s\n",
        "[Parallel(n_jobs=7)]: Done   7 out of   7 | elapsed:    0.1s finished\n"
       ]
      },
      {
       "output_type": "stream",
       "stream": "stdout",
       "text": [
        " 0.702 1.0\n",
        "pred"
       ]
      },
      {
       "output_type": "stream",
       "stream": "stderr",
       "text": [
        "[Parallel(n_jobs=7)]: Done   1 out of   1 | elapsed:    0.0s remaining:    0.0s\n",
        "[Parallel(n_jobs=7)]: Done   7 out of   7 | elapsed:    0.1s finished\n"
       ]
      },
      {
       "output_type": "stream",
       "stream": "stdout",
       "text": [
        " 0.371 0.0\n",
        "pred"
       ]
      },
      {
       "output_type": "stream",
       "stream": "stderr",
       "text": [
        "[Parallel(n_jobs=7)]: Done   1 out of   1 | elapsed:    0.0s remaining:    0.0s\n",
        "[Parallel(n_jobs=7)]: Done   7 out of   7 | elapsed:    0.1s finished\n"
       ]
      },
      {
       "output_type": "stream",
       "stream": "stdout",
       "text": [
        " 0.885 1.0\n",
        "pred"
       ]
      },
      {
       "output_type": "stream",
       "stream": "stderr",
       "text": [
        "[Parallel(n_jobs=7)]: Done   1 out of   1 | elapsed:    0.0s remaining:    0.0s\n",
        "[Parallel(n_jobs=7)]: Done   7 out of   7 | elapsed:    0.1s finished\n"
       ]
      },
      {
       "output_type": "stream",
       "stream": "stdout",
       "text": [
        " 0.689 1.0\n",
        "pred"
       ]
      },
      {
       "output_type": "stream",
       "stream": "stderr",
       "text": [
        "[Parallel(n_jobs=7)]: Done   1 out of   0 | elapsed:    0.0s remaining:   -0.0s\n",
        "[Parallel(n_jobs=7)]: Done   7 out of   7 | elapsed:    0.1s finished\n"
       ]
      },
      {
       "output_type": "stream",
       "stream": "stdout",
       "text": [
        " 0.321 0.0\n",
        "pred"
       ]
      },
      {
       "output_type": "stream",
       "stream": "stderr",
       "text": [
        "[Parallel(n_jobs=7)]: Done   1 out of   1 | elapsed:    0.0s remaining:    0.0s\n",
        "[Parallel(n_jobs=7)]: Done   7 out of   7 | elapsed:    0.1s finished\n"
       ]
      },
      {
       "output_type": "stream",
       "stream": "stdout",
       "text": [
        " 0.512 nan\n",
        "pred"
       ]
      },
      {
       "output_type": "stream",
       "stream": "stderr",
       "text": [
        "[Parallel(n_jobs=7)]: Done   1 out of   1 | elapsed:    0.0s remaining:    0.0s\n",
        "[Parallel(n_jobs=7)]: Done   7 out of   7 | elapsed:    0.1s finished\n"
       ]
      },
      {
       "output_type": "stream",
       "stream": "stdout",
       "text": [
        " 0.177 0.0\n",
        "pred"
       ]
      },
      {
       "output_type": "stream",
       "stream": "stderr",
       "text": [
        "[Parallel(n_jobs=7)]: Done   1 out of   1 | elapsed:    0.0s remaining:    0.0s\n",
        "[Parallel(n_jobs=7)]: Done   7 out of   7 | elapsed:    0.1s finished\n"
       ]
      },
      {
       "output_type": "stream",
       "stream": "stdout",
       "text": [
        " 0.386 nan\n",
        "pred"
       ]
      },
      {
       "output_type": "stream",
       "stream": "stderr",
       "text": [
        "[Parallel(n_jobs=7)]: Done   1 out of   1 | elapsed:    0.0s remaining:    0.0s\n",
        "[Parallel(n_jobs=7)]: Done   7 out of   7 | elapsed:    0.1s finished\n"
       ]
      },
      {
       "output_type": "stream",
       "stream": "stdout",
       "text": [
        " 0.408 1.0\n",
        "pred"
       ]
      },
      {
       "output_type": "stream",
       "stream": "stdout",
       "text": [
        " 0.231 0.0\n",
        "pred"
       ]
      },
      {
       "output_type": "stream",
       "stream": "stderr",
       "text": [
        "[Parallel(n_jobs=7)]: Done   1 out of   7 | elapsed:    0.1s remaining:    0.5s\n",
        "[Parallel(n_jobs=7)]: Done   7 out of   7 | elapsed:    0.1s finished\n",
        "[Parallel(n_jobs=7)]: Done   1 out of   1 | elapsed:    0.0s remaining:    0.0s\n",
        "[Parallel(n_jobs=7)]: Done   7 out of   7 | elapsed:    0.1s finished\n"
       ]
      },
      {
       "output_type": "stream",
       "stream": "stdout",
       "text": [
        " 0.562 1.0\n",
        "pred"
       ]
      },
      {
       "output_type": "stream",
       "stream": "stderr",
       "text": [
        "[Parallel(n_jobs=7)]: Done   1 out of   1 | elapsed:    0.0s remaining:    0.0s\n",
        "[Parallel(n_jobs=7)]: Done   7 out of   7 | elapsed:    0.1s finished\n"
       ]
      },
      {
       "output_type": "stream",
       "stream": "stdout",
       "text": [
        " 0.407 1.0\n",
        "pred"
       ]
      },
      {
       "output_type": "stream",
       "stream": "stderr",
       "text": [
        "[Parallel(n_jobs=7)]: Done   1 out of   1 | elapsed:    0.0s remaining:    0.0s\n",
        "[Parallel(n_jobs=7)]: Done   7 out of   7 | elapsed:    0.1s finished\n"
       ]
      },
      {
       "output_type": "stream",
       "stream": "stdout",
       "text": [
        " 0.426 0.0\n",
        "pred"
       ]
      },
      {
       "output_type": "stream",
       "stream": "stderr",
       "text": [
        "[Parallel(n_jobs=7)]: Done   1 out of   7 | elapsed:    0.0s remaining:    0.1s\n",
        "[Parallel(n_jobs=7)]: Done   7 out of   7 | elapsed:    0.1s finished\n"
       ]
      },
      {
       "output_type": "stream",
       "stream": "stdout",
       "text": [
        " 0.512 0.0\n",
        "pred"
       ]
      },
      {
       "output_type": "stream",
       "stream": "stdout",
       "text": [
        " 0.313 0.0\n",
        "pred"
       ]
      },
      {
       "output_type": "stream",
       "stream": "stderr",
       "text": [
        "[Parallel(n_jobs=7)]: Done   1 out of   7 | elapsed:    0.1s remaining:    0.5s\n",
        "[Parallel(n_jobs=7)]: Done   7 out of   7 | elapsed:    0.1s finished\n",
        "[Parallel(n_jobs=7)]: Done   1 out of   1 | elapsed:    0.0s remaining:    0.0s\n",
        "[Parallel(n_jobs=7)]: Done   7 out of   7 | elapsed:    0.1s finished\n"
       ]
      },
      {
       "output_type": "stream",
       "stream": "stdout",
       "text": [
        " 0.372 0.0\n",
        "pred"
       ]
      },
      {
       "output_type": "stream",
       "stream": "stdout",
       "text": [
        " 0.046 0.0\n",
        "pred"
       ]
      },
      {
       "output_type": "stream",
       "stream": "stderr",
       "text": [
        "[Parallel(n_jobs=7)]: Done   1 out of   7 | elapsed:    0.1s remaining:    0.5s\n",
        "[Parallel(n_jobs=7)]: Done   7 out of   7 | elapsed:    0.1s finished\n",
        "[Parallel(n_jobs=7)]: Done   1 out of   1 | elapsed:    0.0s remaining:    0.0s\n",
        "[Parallel(n_jobs=7)]: Done   7 out of   7 | elapsed:    0.1s finished\n"
       ]
      },
      {
       "output_type": "stream",
       "stream": "stdout",
       "text": [
        " 0.914 0.0\n",
        "pred"
       ]
      },
      {
       "output_type": "stream",
       "stream": "stderr",
       "text": [
        "[Parallel(n_jobs=7)]: Done   1 out of   1 | elapsed:    0.0s remaining:    0.0s\n",
        "[Parallel(n_jobs=7)]: Done   7 out of   7 | elapsed:    0.1s finished\n"
       ]
      },
      {
       "output_type": "stream",
       "stream": "stdout",
       "text": [
        " 0.427 0.0\n",
        "pred"
       ]
      },
      {
       "output_type": "stream",
       "stream": "stderr",
       "text": [
        "[Parallel(n_jobs=7)]: Done   1 out of   1 | elapsed:    0.0s remaining:    0.0s\n",
        "[Parallel(n_jobs=7)]: Done   7 out of   7 | elapsed:    0.1s finished\n"
       ]
      },
      {
       "output_type": "stream",
       "stream": "stdout",
       "text": [
        " 0.37 1.0\n",
        "pred"
       ]
      },
      {
       "output_type": "stream",
       "stream": "stderr",
       "text": [
        "[Parallel(n_jobs=7)]: Done   1 out of   1 | elapsed:    0.0s remaining:    0.0s\n",
        "[Parallel(n_jobs=7)]: Done   7 out of   7 | elapsed:    0.1s finished\n"
       ]
      },
      {
       "output_type": "stream",
       "stream": "stdout",
       "text": [
        " 0.856 1.0\n",
        "pred"
       ]
      },
      {
       "output_type": "stream",
       "stream": "stderr",
       "text": [
        "[Parallel(n_jobs=7)]: Done   1 out of   0 | elapsed:    0.0s remaining:   -0.0s\n",
        "[Parallel(n_jobs=7)]: Done   7 out of   7 | elapsed:    0.1s finished\n"
       ]
      },
      {
       "output_type": "stream",
       "stream": "stdout",
       "text": [
        " 0.712 1.0\n",
        "pred"
       ]
      },
      {
       "output_type": "stream",
       "stream": "stdout",
       "text": [
        " 0.637 1.0\n",
        "pred"
       ]
      },
      {
       "output_type": "stream",
       "stream": "stderr",
       "text": [
        "[Parallel(n_jobs=7)]: Done   1 out of   7 | elapsed:    0.1s remaining:    0.5s\n",
        "[Parallel(n_jobs=7)]: Done   7 out of   7 | elapsed:    0.1s finished\n",
        "[Parallel(n_jobs=7)]: Done   1 out of   1 | elapsed:    0.0s remaining:    0.0s\n",
        "[Parallel(n_jobs=7)]: Done   7 out of   7 | elapsed:    0.1s finished\n"
       ]
      },
      {
       "output_type": "stream",
       "stream": "stdout",
       "text": [
        " 0.537 0.0\n",
        "pred"
       ]
      },
      {
       "output_type": "stream",
       "stream": "stderr",
       "text": [
        "[Parallel(n_jobs=7)]: Done   1 out of   3 | elapsed:    0.0s remaining:    0.0s\n",
        "[Parallel(n_jobs=7)]: Done   7 out of   7 | elapsed:    0.1s finished\n"
       ]
      },
      {
       "output_type": "stream",
       "stream": "stdout",
       "text": [
        " 0.278 0.0\n",
        "pred"
       ]
      },
      {
       "output_type": "stream",
       "stream": "stderr",
       "text": [
        "[Parallel(n_jobs=7)]: Done   1 out of   1 | elapsed:    0.0s remaining:    0.0s\n",
        "[Parallel(n_jobs=7)]: Done   7 out of   7 | elapsed:    0.1s finished\n"
       ]
      },
      {
       "output_type": "stream",
       "stream": "stdout",
       "text": [
        " 0.716 1.0\n",
        "pred"
       ]
      },
      {
       "output_type": "stream",
       "stream": "stderr",
       "text": [
        "[Parallel(n_jobs=7)]: Done   1 out of   1 | elapsed:    0.0s remaining:    0.0s\n",
        "[Parallel(n_jobs=7)]: Done   7 out of   7 | elapsed:    0.1s finished\n"
       ]
      },
      {
       "output_type": "stream",
       "stream": "stdout",
       "text": [
        " 0.25 0.0\n",
        "pred"
       ]
      },
      {
       "output_type": "stream",
       "stream": "stderr",
       "text": [
        "[Parallel(n_jobs=7)]: Done   1 out of   1 | elapsed:    0.0s remaining:    0.0s\n",
        "[Parallel(n_jobs=7)]: Done   7 out of   7 | elapsed:    0.1s finished\n"
       ]
      },
      {
       "output_type": "stream",
       "stream": "stdout",
       "text": [
        " 0.327 0.0\n",
        "pred"
       ]
      },
      {
       "output_type": "stream",
       "stream": "stderr",
       "text": [
        "[Parallel(n_jobs=7)]: Done   1 out of   1 | elapsed:    0.0s remaining:    0.0s\n",
        "[Parallel(n_jobs=7)]: Done   7 out of   7 | elapsed:    0.1s finished\n"
       ]
      },
      {
       "output_type": "stream",
       "stream": "stdout",
       "text": [
        " 0.873 1.0\n",
        "pred"
       ]
      },
      {
       "output_type": "stream",
       "stream": "stderr",
       "text": [
        "[Parallel(n_jobs=7)]: Done   1 out of   1 | elapsed:    0.0s remaining:    0.0s\n",
        "[Parallel(n_jobs=7)]: Done   7 out of   7 | elapsed:    0.1s finished\n"
       ]
      },
      {
       "output_type": "stream",
       "stream": "stdout",
       "text": [
        " 0.57 1.0\n",
        "pred"
       ]
      },
      {
       "output_type": "stream",
       "stream": "stderr",
       "text": [
        "[Parallel(n_jobs=7)]: Done   1 out of   0 | elapsed:    0.0s remaining:   -0.0s\n",
        "[Parallel(n_jobs=7)]: Done   7 out of   7 | elapsed:    0.1s finished\n"
       ]
      },
      {
       "output_type": "stream",
       "stream": "stdout",
       "text": [
        " 0.099 0.0\n",
        "pred"
       ]
      },
      {
       "output_type": "stream",
       "stream": "stderr",
       "text": [
        "[Parallel(n_jobs=7)]: Done   1 out of   1 | elapsed:    0.0s remaining:    0.0s\n",
        "[Parallel(n_jobs=7)]: Done   7 out of   7 | elapsed:    0.1s finished\n"
       ]
      },
      {
       "output_type": "stream",
       "stream": "stdout",
       "text": [
        " 0.503 0.0\n",
        "pred"
       ]
      },
      {
       "output_type": "stream",
       "stream": "stderr",
       "text": [
        "[Parallel(n_jobs=7)]: Done   1 out of   1 | elapsed:    0.0s remaining:    0.0s\n",
        "[Parallel(n_jobs=7)]: Done   7 out of   7 | elapsed:    0.1s finished\n"
       ]
      },
      {
       "output_type": "stream",
       "stream": "stdout",
       "text": [
        " 0.952 1.0\n",
        "pred"
       ]
      },
      {
       "output_type": "stream",
       "stream": "stdout",
       "text": [
        " 0.772 1.0\n",
        "pred"
       ]
      },
      {
       "output_type": "stream",
       "stream": "stderr",
       "text": [
        "[Parallel(n_jobs=7)]: Done   1 out of   7 | elapsed:    0.1s remaining:    0.4s\n",
        "[Parallel(n_jobs=7)]: Done   7 out of   7 | elapsed:    0.1s finished\n",
        "[Parallel(n_jobs=7)]: Done   1 out of   1 | elapsed:    0.0s remaining:    0.0s\n",
        "[Parallel(n_jobs=7)]: Done   7 out of   7 | elapsed:    0.1s finished\n"
       ]
      },
      {
       "output_type": "stream",
       "stream": "stdout",
       "text": [
        " 0.747 1.0\n",
        "pred"
       ]
      },
      {
       "output_type": "stream",
       "stream": "stderr",
       "text": [
        "[Parallel(n_jobs=7)]: Done   1 out of   1 | elapsed:    0.0s remaining:    0.0s\n",
        "[Parallel(n_jobs=7)]: Done   7 out of   7 | elapsed:    0.1s finished\n"
       ]
      },
      {
       "output_type": "stream",
       "stream": "stdout",
       "text": [
        " 0.934 1.0\n",
        "pred"
       ]
      },
      {
       "output_type": "stream",
       "stream": "stderr",
       "text": [
        "[Parallel(n_jobs=7)]: Done   1 out of   1 | elapsed:    0.0s remaining:    0.0s\n",
        "[Parallel(n_jobs=7)]: Done   7 out of   7 | elapsed:    0.1s finished\n"
       ]
      },
      {
       "output_type": "stream",
       "stream": "stdout",
       "text": [
        " 0.528 1.0\n",
        "pred"
       ]
      },
      {
       "output_type": "stream",
       "stream": "stderr",
       "text": [
        "[Parallel(n_jobs=7)]: Done   1 out of   1 | elapsed:    0.0s remaining:    0.0s\n",
        "[Parallel(n_jobs=7)]: Done   7 out of   7 | elapsed:    0.1s finished\n"
       ]
      },
      {
       "output_type": "stream",
       "stream": "stdout",
       "text": [
        " 0.099 0.0\n",
        "pred"
       ]
      },
      {
       "output_type": "stream",
       "stream": "stdout",
       "text": [
        " 0.611 1.0\n",
        "pred"
       ]
      },
      {
       "output_type": "stream",
       "stream": "stderr",
       "text": [
        "[Parallel(n_jobs=7)]: Done   1 out of   7 | elapsed:    0.1s remaining:    0.7s\n",
        "[Parallel(n_jobs=7)]: Done   7 out of   7 | elapsed:    0.1s finished\n",
        "[Parallel(n_jobs=7)]: Done   1 out of   0 | elapsed:    0.0s remaining:   -0.0s\n",
        "[Parallel(n_jobs=7)]: Done   7 out of   7 | elapsed:    0.1s finished\n"
       ]
      },
      {
       "output_type": "stream",
       "stream": "stdout",
       "text": [
        " 0.953 1.0\n",
        "pred"
       ]
      },
      {
       "output_type": "stream",
       "stream": "stderr",
       "text": [
        "[Parallel(n_jobs=7)]: Done   1 out of   1 | elapsed:    0.0s remaining:    0.0s\n",
        "[Parallel(n_jobs=7)]: Done   7 out of   7 | elapsed:    0.1s finished\n"
       ]
      },
      {
       "output_type": "stream",
       "stream": "stdout",
       "text": [
        " 0.859 nan\n",
        "pred"
       ]
      },
      {
       "output_type": "stream",
       "stream": "stderr",
       "text": [
        "[Parallel(n_jobs=7)]: Done   1 out of   1 | elapsed:    0.0s remaining:    0.0s\n",
        "[Parallel(n_jobs=7)]: Done   7 out of   7 | elapsed:    0.1s finished\n"
       ]
      },
      {
       "output_type": "stream",
       "stream": "stdout",
       "text": [
        " 0.205 0.0\n",
        "pred"
       ]
      },
      {
       "output_type": "stream",
       "stream": "stderr",
       "text": [
        "[Parallel(n_jobs=7)]: Done   1 out of   1 | elapsed:    0.0s remaining:    0.0s\n",
        "[Parallel(n_jobs=7)]: Done   7 out of   7 | elapsed:    0.1s finished\n"
       ]
      },
      {
       "output_type": "stream",
       "stream": "stdout",
       "text": [
        " 0.478 0.0\n",
        "pred"
       ]
      },
      {
       "output_type": "stream",
       "stream": "stderr",
       "text": [
        "[Parallel(n_jobs=7)]: Done   1 out of   1 | elapsed:    0.0s remaining:    0.0s\n",
        "[Parallel(n_jobs=7)]: Done   7 out of   7 | elapsed:    0.1s finished\n"
       ]
      },
      {
       "output_type": "stream",
       "stream": "stdout",
       "text": [
        " 0.01 0.0\n",
        "pred"
       ]
      },
      {
       "output_type": "stream",
       "stream": "stderr",
       "text": [
        "[Parallel(n_jobs=7)]: Done   1 out of   7 | elapsed:    0.0s remaining:    0.2s\n",
        "[Parallel(n_jobs=7)]: Done   7 out of   7 | elapsed:    0.1s finished\n"
       ]
      },
      {
       "output_type": "stream",
       "stream": "stdout",
       "text": [
        " 0.552 1.0\n",
        "pred"
       ]
      },
      {
       "output_type": "stream",
       "stream": "stderr",
       "text": [
        "[Parallel(n_jobs=7)]: Done   1 out of   5 | elapsed:    0.0s remaining:    0.0s\n",
        "[Parallel(n_jobs=7)]: Done   7 out of   7 | elapsed:    0.1s finished\n"
       ]
      },
      {
       "output_type": "stream",
       "stream": "stdout",
       "text": [
        " 0.727 1.0\n",
        "pred"
       ]
      },
      {
       "output_type": "stream",
       "stream": "stderr",
       "text": [
        "[Parallel(n_jobs=7)]: Done   1 out of   1 | elapsed:    0.0s remaining:    0.0s\n",
        "[Parallel(n_jobs=7)]: Done   7 out of   7 | elapsed:    0.1s finished\n"
       ]
      },
      {
       "output_type": "stream",
       "stream": "stdout",
       "text": [
        " 0.027 0.0\n",
        "pred"
       ]
      },
      {
       "output_type": "stream",
       "stream": "stderr",
       "text": [
        "[Parallel(n_jobs=7)]: Done   1 out of   1 | elapsed:    0.0s remaining:    0.0s\n",
        "[Parallel(n_jobs=7)]: Done   7 out of   7 | elapsed:    0.1s finished\n"
       ]
      },
      {
       "output_type": "stream",
       "stream": "stdout",
       "text": [
        " 0.602 1.0\n",
        "pred"
       ]
      },
      {
       "output_type": "stream",
       "stream": "stderr",
       "text": [
        "[Parallel(n_jobs=7)]: Done   1 out of   1 | elapsed:    0.0s remaining:    0.0s\n",
        "[Parallel(n_jobs=7)]: Done   7 out of   7 | elapsed:    0.1s finished\n"
       ]
      },
      {
       "output_type": "stream",
       "stream": "stdout",
       "text": [
        " 0.667 0.0\n",
        "pred"
       ]
      },
      {
       "output_type": "stream",
       "stream": "stderr",
       "text": [
        "[Parallel(n_jobs=7)]: Done   1 out of   1 | elapsed:    0.0s remaining:    0.0s\n",
        "[Parallel(n_jobs=7)]: Done   7 out of   7 | elapsed:    0.1s finished\n"
       ]
      },
      {
       "output_type": "stream",
       "stream": "stdout",
       "text": [
        " 0.661 0.0\n",
        "pred"
       ]
      },
      {
       "output_type": "stream",
       "stream": "stderr",
       "text": [
        "[Parallel(n_jobs=7)]: Done   1 out of   3 | elapsed:    0.0s remaining:    0.0s\n",
        "[Parallel(n_jobs=7)]: Done   7 out of   7 | elapsed:    0.1s finished\n"
       ]
      },
      {
       "output_type": "stream",
       "stream": "stdout",
       "text": [
        " 0.746 1.0\n",
        "pred"
       ]
      },
      {
       "output_type": "stream",
       "stream": "stderr",
       "text": [
        "[Parallel(n_jobs=7)]: Done   1 out of   1 | elapsed:    0.0s remaining:    0.0s\n",
        "[Parallel(n_jobs=7)]: Done   7 out of   7 | elapsed:    0.1s finished\n"
       ]
      },
      {
       "output_type": "stream",
       "stream": "stdout",
       "text": [
        " 0.861 0.0\n",
        "pred"
       ]
      },
      {
       "output_type": "stream",
       "stream": "stdout",
       "text": [
        " 0.096 0.0\n",
        "pred"
       ]
      },
      {
       "output_type": "stream",
       "stream": "stderr",
       "text": [
        "[Parallel(n_jobs=7)]: Done   1 out of   7 | elapsed:    0.1s remaining:    0.6s\n",
        "[Parallel(n_jobs=7)]: Done   7 out of   7 | elapsed:    0.1s finished\n",
        "[Parallel(n_jobs=7)]: Done   1 out of   1 | elapsed:    0.0s remaining:    0.0s\n",
        "[Parallel(n_jobs=7)]: Done   7 out of   7 | elapsed:    0.1s finished\n"
       ]
      },
      {
       "output_type": "stream",
       "stream": "stdout",
       "text": [
        " 0.784 nan\n",
        "pred"
       ]
      },
      {
       "output_type": "stream",
       "stream": "stderr",
       "text": [
        "[Parallel(n_jobs=7)]: Done   1 out of   3 | elapsed:    0.0s remaining:    0.0s\n",
        "[Parallel(n_jobs=7)]: Done   7 out of   7 | elapsed:    0.1s finished\n"
       ]
      },
      {
       "output_type": "stream",
       "stream": "stdout",
       "text": [
        " 0.641 1.0\n",
        "pred"
       ]
      },
      {
       "output_type": "stream",
       "stream": "stderr",
       "text": [
        "[Parallel(n_jobs=7)]: Done   1 out of   1 | elapsed:    0.0s remaining:    0.0s\n",
        "[Parallel(n_jobs=7)]: Done   7 out of   7 | elapsed:    0.1s finished\n"
       ]
      },
      {
       "output_type": "stream",
       "stream": "stdout",
       "text": [
        " 0.888 1.0\n",
        "pred"
       ]
      },
      {
       "output_type": "stream",
       "stream": "stderr",
       "text": [
        "[Parallel(n_jobs=7)]: Done   1 out of   1 | elapsed:    0.0s remaining:    0.0s\n",
        "[Parallel(n_jobs=7)]: Done   7 out of   7 | elapsed:    0.1s finished\n"
       ]
      },
      {
       "output_type": "stream",
       "stream": "stdout",
       "text": [
        " 0.995 1.0\n",
        "pred"
       ]
      },
      {
       "output_type": "stream",
       "stream": "stderr",
       "text": [
        "[Parallel(n_jobs=7)]: Done   1 out of   0 | elapsed:    0.0s remaining:   -0.0s\n",
        "[Parallel(n_jobs=7)]: Done   7 out of   7 | elapsed:    0.1s finished\n"
       ]
      },
      {
       "output_type": "stream",
       "stream": "stdout",
       "text": [
        " 0.252 0.0\n",
        "pred"
       ]
      },
      {
       "output_type": "stream",
       "stream": "stdout",
       "text": [
        " 0.418 1.0\n",
        "pred"
       ]
      },
      {
       "output_type": "stream",
       "stream": "stderr",
       "text": [
        "[Parallel(n_jobs=7)]: Done   1 out of   7 | elapsed:    0.1s remaining:    0.6s\n",
        "[Parallel(n_jobs=7)]: Done   7 out of   7 | elapsed:    0.1s finished\n",
        "[Parallel(n_jobs=7)]: Done   1 out of   1 | elapsed:    0.0s remaining:    0.0s\n",
        "[Parallel(n_jobs=7)]: Done   7 out of   7 | elapsed:    0.1s finished\n"
       ]
      },
      {
       "output_type": "stream",
       "stream": "stdout",
       "text": [
        " 0.555 1.0\n",
        "pred"
       ]
      },
      {
       "output_type": "stream",
       "stream": "stderr",
       "text": [
        "[Parallel(n_jobs=7)]: Done   1 out of   1 | elapsed:    0.0s remaining:    0.0s\n",
        "[Parallel(n_jobs=7)]: Done   7 out of   7 | elapsed:    0.1s finished\n"
       ]
      },
      {
       "output_type": "stream",
       "stream": "stdout",
       "text": [
        " 0.428 1.0\n",
        "pred"
       ]
      },
      {
       "output_type": "stream",
       "stream": "stdout",
       "text": [
        " 0.489 1.0\n",
        "pred"
       ]
      },
      {
       "output_type": "stream",
       "stream": "stderr",
       "text": [
        "[Parallel(n_jobs=7)]: Done   1 out of   7 | elapsed:    0.1s remaining:    0.6s\n",
        "[Parallel(n_jobs=7)]: Done   7 out of   7 | elapsed:    0.1s finished\n",
        "[Parallel(n_jobs=7)]: Done   1 out of   7 | elapsed:    0.1s remaining:    0.5s\n",
        "[Parallel(n_jobs=7)]: Done   7 out of   7 | elapsed:    0.1s finished\n"
       ]
      },
      {
       "output_type": "stream",
       "stream": "stdout",
       "text": [
        " 0.985 1.0\n",
        "pred"
       ]
      },
      {
       "output_type": "stream",
       "stream": "stdout",
       "text": [
        " 0.711 1.0\n",
        "pred"
       ]
      },
      {
       "output_type": "stream",
       "stream": "stderr",
       "text": [
        "[Parallel(n_jobs=7)]: Done   1 out of   7 | elapsed:    0.1s remaining:    0.6s\n",
        "[Parallel(n_jobs=7)]: Done   7 out of   7 | elapsed:    0.1s finished\n",
        "[Parallel(n_jobs=7)]: Done   1 out of   1 | elapsed:    0.0s remaining:    0.0s\n",
        "[Parallel(n_jobs=7)]: Done   7 out of   7 | elapsed:    0.1s finished\n"
       ]
      },
      {
       "output_type": "stream",
       "stream": "stdout",
       "text": [
        " 0.425 1.0\n",
        "pred"
       ]
      },
      {
       "output_type": "stream",
       "stream": "stderr",
       "text": [
        "[Parallel(n_jobs=7)]: Done   1 out of   1 | elapsed:    0.0s remaining:    0.0s\n",
        "[Parallel(n_jobs=7)]: Done   7 out of   7 | elapsed:    0.1s finished\n"
       ]
      },
      {
       "output_type": "stream",
       "stream": "stdout",
       "text": [
        " 0.63 0.0\n",
        "pred"
       ]
      },
      {
       "output_type": "stream",
       "stream": "stdout",
       "text": [
        " 0.269 0.0\n",
        "pred"
       ]
      },
      {
       "output_type": "stream",
       "stream": "stderr",
       "text": [
        "[Parallel(n_jobs=7)]: Done   1 out of   7 | elapsed:    0.1s remaining:    0.5s\n",
        "[Parallel(n_jobs=7)]: Done   7 out of   7 | elapsed:    0.1s finished\n",
        "[Parallel(n_jobs=7)]: Done   1 out of   1 | elapsed:    0.0s remaining:    0.0s\n",
        "[Parallel(n_jobs=7)]: Done   7 out of   7 | elapsed:    0.1s finished\n"
       ]
      },
      {
       "output_type": "stream",
       "stream": "stdout",
       "text": [
        " 0.059 0.0\n",
        "pred"
       ]
      },
      {
       "output_type": "stream",
       "stream": "stderr",
       "text": [
        "[Parallel(n_jobs=7)]: Done   1 out of   1 | elapsed:    0.0s remaining:    0.0s\n",
        "[Parallel(n_jobs=7)]: Done   7 out of   7 | elapsed:    0.1s finished\n"
       ]
      },
      {
       "output_type": "stream",
       "stream": "stdout",
       "text": [
        " 0.731 1.0\n",
        "pred"
       ]
      },
      {
       "output_type": "stream",
       "stream": "stderr",
       "text": [
        "[Parallel(n_jobs=7)]: Done   1 out of   1 | elapsed:    0.0s remaining:    0.0s\n",
        "[Parallel(n_jobs=7)]: Done   7 out of   7 | elapsed:    0.1s finished\n"
       ]
      },
      {
       "output_type": "stream",
       "stream": "stdout",
       "text": [
        " 0.849 1.0\n",
        "pred"
       ]
      },
      {
       "output_type": "stream",
       "stream": "stderr",
       "text": [
        "[Parallel(n_jobs=7)]: Done   1 out of   3 | elapsed:    0.0s remaining:    0.0s\n",
        "[Parallel(n_jobs=7)]: Done   7 out of   7 | elapsed:    0.1s finished\n"
       ]
      },
      {
       "output_type": "stream",
       "stream": "stdout",
       "text": [
        " 0.4 0.0\n",
        "pred"
       ]
      },
      {
       "output_type": "stream",
       "stream": "stdout",
       "text": [
        " 0.447 nan\n",
        "pred"
       ]
      },
      {
       "output_type": "stream",
       "stream": "stderr",
       "text": [
        "[Parallel(n_jobs=7)]: Done   1 out of   7 | elapsed:    0.1s remaining:    0.6s\n",
        "[Parallel(n_jobs=7)]: Done   7 out of   7 | elapsed:    0.1s finished\n",
        "[Parallel(n_jobs=7)]: Done   1 out of   1 | elapsed:    0.0s remaining:    0.0s\n",
        "[Parallel(n_jobs=7)]: Done   7 out of   7 | elapsed:    0.1s finished\n"
       ]
      },
      {
       "output_type": "stream",
       "stream": "stdout",
       "text": [
        " 0.367 0.0\n",
        "pred"
       ]
      },
      {
       "output_type": "stream",
       "stream": "stderr",
       "text": [
        "[Parallel(n_jobs=7)]: Done   1 out of   1 | elapsed:    0.0s remaining:    0.0s\n",
        "[Parallel(n_jobs=7)]: Done   7 out of   7 | elapsed:    0.1s finished\n"
       ]
      },
      {
       "output_type": "stream",
       "stream": "stdout",
       "text": [
        " 0.595 0.0\n",
        "pred"
       ]
      },
      {
       "output_type": "stream",
       "stream": "stdout",
       "text": [
        " 0.266 0.0\n",
        "pred"
       ]
      },
      {
       "output_type": "stream",
       "stream": "stderr",
       "text": [
        "[Parallel(n_jobs=7)]: Done   1 out of   7 | elapsed:    0.1s remaining:    0.5s\n",
        "[Parallel(n_jobs=7)]: Done   7 out of   7 | elapsed:    0.1s finished\n",
        "[Parallel(n_jobs=7)]: Done   1 out of   1 | elapsed:    0.0s remaining:    0.0s\n",
        "[Parallel(n_jobs=7)]: Done   7 out of   7 | elapsed:    0.1s finished\n"
       ]
      },
      {
       "output_type": "stream",
       "stream": "stdout",
       "text": [
        " 0.578 1.0\n",
        "pred"
       ]
      },
      {
       "output_type": "stream",
       "stream": "stderr",
       "text": [
        "[Parallel(n_jobs=7)]: Done   1 out of   2 | elapsed:    0.0s remaining:    0.0s\n",
        "[Parallel(n_jobs=7)]: Done   7 out of   7 | elapsed:    0.1s finished\n"
       ]
      },
      {
       "output_type": "stream",
       "stream": "stdout",
       "text": [
        " 0.271 0.0\n",
        "pred"
       ]
      },
      {
       "output_type": "stream",
       "stream": "stderr",
       "text": [
        "[Parallel(n_jobs=7)]: Done   1 out of   1 | elapsed:    0.0s remaining:    0.0s\n",
        "[Parallel(n_jobs=7)]: Done   7 out of   7 | elapsed:    0.1s finished\n"
       ]
      },
      {
       "output_type": "stream",
       "stream": "stdout",
       "text": [
        " 0.532 0.0\n",
        "pred"
       ]
      },
      {
       "output_type": "stream",
       "stream": "stderr",
       "text": [
        "[Parallel(n_jobs=7)]: Done   1 out of   7 | elapsed:    0.0s remaining:    0.1s\n",
        "[Parallel(n_jobs=7)]: Done   7 out of   7 | elapsed:    0.1s finished\n"
       ]
      },
      {
       "output_type": "stream",
       "stream": "stdout",
       "text": [
        " 0.17 0.0\n",
        "pred"
       ]
      },
      {
       "output_type": "stream",
       "stream": "stdout",
       "text": [
        " 0.665 1.0\n",
        "pred"
       ]
      },
      {
       "output_type": "stream",
       "stream": "stderr",
       "text": [
        "[Parallel(n_jobs=7)]: Done   1 out of   7 | elapsed:    0.1s remaining:    0.4s\n",
        "[Parallel(n_jobs=7)]: Done   7 out of   7 | elapsed:    0.1s finished\n",
        "[Parallel(n_jobs=7)]: Done   1 out of   1 | elapsed:    0.0s remaining:    0.0s\n",
        "[Parallel(n_jobs=7)]: Done   7 out of   7 | elapsed:    0.1s finished\n"
       ]
      },
      {
       "output_type": "stream",
       "stream": "stdout",
       "text": [
        " 0.279 0.0\n",
        "pred"
       ]
      },
      {
       "output_type": "stream",
       "stream": "stderr",
       "text": [
        "[Parallel(n_jobs=7)]: Done   1 out of   5 | elapsed:    0.0s remaining:    0.2s\n",
        "[Parallel(n_jobs=7)]: Done   7 out of   7 | elapsed:    0.1s finished\n"
       ]
      },
      {
       "output_type": "stream",
       "stream": "stdout",
       "text": [
        " 0.278 0.0\n",
        "pred"
       ]
      },
      {
       "output_type": "stream",
       "stream": "stderr",
       "text": [
        "[Parallel(n_jobs=7)]: Done   1 out of   1 | elapsed:    0.0s remaining:    0.0s\n",
        "[Parallel(n_jobs=7)]: Done   7 out of   7 | elapsed:    0.1s finished\n"
       ]
      },
      {
       "output_type": "stream",
       "stream": "stdout",
       "text": [
        " 0.389 0.0\n",
        "pred"
       ]
      },
      {
       "output_type": "stream",
       "stream": "stderr",
       "text": [
        "[Parallel(n_jobs=7)]: Done   1 out of   1 | elapsed:    0.0s remaining:    0.0s\n",
        "[Parallel(n_jobs=7)]: Done   7 out of   7 | elapsed:    0.1s finished\n"
       ]
      },
      {
       "output_type": "stream",
       "stream": "stdout",
       "text": [
        " 0.625 1.0\n",
        "pred"
       ]
      },
      {
       "output_type": "stream",
       "stream": "stderr",
       "text": [
        "[Parallel(n_jobs=7)]: Done   1 out of   1 | elapsed:    0.0s remaining:    0.0s\n",
        "[Parallel(n_jobs=7)]: Done   7 out of   7 | elapsed:    0.1s finished\n"
       ]
      },
      {
       "output_type": "stream",
       "stream": "stdout",
       "text": [
        " 0.149 0.0\n",
        "pred"
       ]
      },
      {
       "output_type": "stream",
       "stream": "stderr",
       "text": [
        "[Parallel(n_jobs=7)]: Done   1 out of   0 | elapsed:    0.0s remaining:   -0.0s\n",
        "[Parallel(n_jobs=7)]: Done   7 out of   7 | elapsed:    0.1s finished\n"
       ]
      },
      {
       "output_type": "stream",
       "stream": "stdout",
       "text": [
        " 0.485 1.0\n",
        "pred"
       ]
      },
      {
       "output_type": "stream",
       "stream": "stdout",
       "text": [
        " 0.356 1.0\n",
        "pred"
       ]
      },
      {
       "output_type": "stream",
       "stream": "stderr",
       "text": [
        "[Parallel(n_jobs=7)]: Done   1 out of   7 | elapsed:    0.1s remaining:    0.6s\n",
        "[Parallel(n_jobs=7)]: Done   7 out of   7 | elapsed:    0.1s finished\n",
        "[Parallel(n_jobs=7)]: Done   1 out of   1 | elapsed:    0.0s remaining:    0.0s\n",
        "[Parallel(n_jobs=7)]: Done   7 out of   7 | elapsed:    0.1s finished\n"
       ]
      },
      {
       "output_type": "stream",
       "stream": "stdout",
       "text": [
        " 0.532 0.0\n",
        "pred"
       ]
      },
      {
       "output_type": "stream",
       "stream": "stderr",
       "text": [
        "[Parallel(n_jobs=7)]: Done   1 out of   1 | elapsed:    0.0s remaining:    0.0s\n",
        "[Parallel(n_jobs=7)]: Done   7 out of   7 | elapsed:    0.1s finished\n"
       ]
      },
      {
       "output_type": "stream",
       "stream": "stdout",
       "text": [
        " 0.714 1.0\n",
        "pred"
       ]
      },
      {
       "output_type": "stream",
       "stream": "stderr",
       "text": [
        "[Parallel(n_jobs=7)]: Done   1 out of   1 | elapsed:    0.0s remaining:    0.0s\n",
        "[Parallel(n_jobs=7)]: Done   7 out of   7 | elapsed:    0.1s finished\n"
       ]
      },
      {
       "output_type": "stream",
       "stream": "stdout",
       "text": [
        " 0.887 1.0\n",
        "pred"
       ]
      },
      {
       "output_type": "stream",
       "stream": "stderr",
       "text": [
        "[Parallel(n_jobs=7)]: Done   1 out of   1 | elapsed:    0.0s remaining:    0.0s\n",
        "[Parallel(n_jobs=7)]: Done   7 out of   7 | elapsed:    0.1s finished\n"
       ]
      },
      {
       "output_type": "stream",
       "stream": "stdout",
       "text": [
        " 0.902 1.0\n",
        "pred"
       ]
      },
      {
       "output_type": "stream",
       "stream": "stdout",
       "text": [
        " 0.585 0.0\n",
        "pred"
       ]
      },
      {
       "output_type": "stream",
       "stream": "stderr",
       "text": [
        "[Parallel(n_jobs=7)]: Done   1 out of   7 | elapsed:    0.1s remaining:    0.4s\n",
        "[Parallel(n_jobs=7)]: Done   7 out of   7 | elapsed:    0.1s finished\n",
        "[Parallel(n_jobs=7)]: Done   1 out of   1 | elapsed:    0.0s remaining:    0.0s\n",
        "[Parallel(n_jobs=7)]: Done   7 out of   7 | elapsed:    0.1s finished\n"
       ]
      },
      {
       "output_type": "stream",
       "stream": "stdout",
       "text": [
        " 0.141 1.0\n",
        "pred"
       ]
      },
      {
       "output_type": "stream",
       "stream": "stderr",
       "text": [
        "[Parallel(n_jobs=7)]: Done   1 out of   1 | elapsed:    0.0s remaining:    0.0s\n",
        "[Parallel(n_jobs=7)]: Done   7 out of   7 | elapsed:    0.1s finished\n"
       ]
      },
      {
       "output_type": "stream",
       "stream": "stdout",
       "text": [
        " 0.221 0.0\n",
        "pred"
       ]
      },
      {
       "output_type": "stream",
       "stream": "stderr",
       "text": [
        "[Parallel(n_jobs=7)]: Done   1 out of   0 | elapsed:    0.0s remaining:   -0.0s\n",
        "[Parallel(n_jobs=7)]: Done   7 out of   7 | elapsed:    0.1s finished\n"
       ]
      },
      {
       "output_type": "stream",
       "stream": "stdout",
       "text": [
        " 0.747 1.0\n",
        "pred"
       ]
      },
      {
       "output_type": "stream",
       "stream": "stderr",
       "text": [
        "[Parallel(n_jobs=7)]: Done   1 out of   1 | elapsed:    0.0s remaining:    0.0s\n",
        "[Parallel(n_jobs=7)]: Done   7 out of   7 | elapsed:    0.1s finished\n"
       ]
      },
      {
       "output_type": "stream",
       "stream": "stdout",
       "text": [
        " 0.43 0.0\n",
        "pred"
       ]
      },
      {
       "output_type": "stream",
       "stream": "stderr",
       "text": [
        "[Parallel(n_jobs=7)]: Done   1 out of   2 | elapsed:    0.0s remaining:    0.0s\n",
        "[Parallel(n_jobs=7)]: Done   7 out of   7 | elapsed:    0.1s finished\n"
       ]
      },
      {
       "output_type": "stream",
       "stream": "stdout",
       "text": [
        " 0.688 1.0\n",
        "pred"
       ]
      },
      {
       "output_type": "stream",
       "stream": "stderr",
       "text": [
        "[Parallel(n_jobs=7)]: Done   1 out of   1 | elapsed:    0.0s remaining:    0.0s\n",
        "[Parallel(n_jobs=7)]: Done   7 out of   7 | elapsed:    0.1s finished\n"
       ]
      },
      {
       "output_type": "stream",
       "stream": "stdout",
       "text": [
        " 0.231 0.0\n",
        "pred"
       ]
      },
      {
       "output_type": "stream",
       "stream": "stderr",
       "text": [
        "[Parallel(n_jobs=7)]: Done   1 out of   1 | elapsed:    0.0s remaining:    0.0s\n",
        "[Parallel(n_jobs=7)]: Done   7 out of   7 | elapsed:    0.1s finished\n"
       ]
      },
      {
       "output_type": "stream",
       "stream": "stdout",
       "text": [
        " 0.5 1.0\n",
        "pred"
       ]
      },
      {
       "output_type": "stream",
       "stream": "stdout",
       "text": [
        " 0.308 0.0\n",
        "pred"
       ]
      },
      {
       "output_type": "stream",
       "stream": "stderr",
       "text": [
        "[Parallel(n_jobs=7)]: Done   1 out of   7 | elapsed:    0.1s remaining:    0.5s\n",
        "[Parallel(n_jobs=7)]: Done   7 out of   7 | elapsed:    0.1s finished\n",
        "[Parallel(n_jobs=7)]: Done   1 out of   1 | elapsed:    0.0s remaining:    0.0s\n",
        "[Parallel(n_jobs=7)]: Done   7 out of   7 | elapsed:    0.1s finished\n"
       ]
      },
      {
       "output_type": "stream",
       "stream": "stdout",
       "text": [
        " 0.379 nan\n",
        "pred"
       ]
      },
      {
       "output_type": "stream",
       "stream": "stderr",
       "text": [
        "[Parallel(n_jobs=7)]: Done   1 out of   1 | elapsed:    0.0s remaining:    0.0s\n",
        "[Parallel(n_jobs=7)]: Done   7 out of   7 | elapsed:    0.1s finished\n"
       ]
      },
      {
       "output_type": "stream",
       "stream": "stdout",
       "text": [
        " 0.483 0.0\n",
        "pred"
       ]
      },
      {
       "output_type": "stream",
       "stream": "stderr",
       "text": [
        "[Parallel(n_jobs=7)]: Done   1 out of   1 | elapsed:    0.0s remaining:    0.0s\n",
        "[Parallel(n_jobs=7)]: Done   7 out of   7 | elapsed:    0.1s finished\n"
       ]
      },
      {
       "output_type": "stream",
       "stream": "stdout",
       "text": [
        " 0.76 1.0\n",
        "pred"
       ]
      },
      {
       "output_type": "stream",
       "stream": "stdout",
       "text": [
        " 0.917 1.0\n",
        "pred"
       ]
      },
      {
       "output_type": "stream",
       "stream": "stderr",
       "text": [
        "[Parallel(n_jobs=7)]: Done   1 out of   7 | elapsed:    0.1s remaining:    0.6s\n",
        "[Parallel(n_jobs=7)]: Done   7 out of   7 | elapsed:    0.1s finished\n",
        "[Parallel(n_jobs=7)]: Done   1 out of   7 | elapsed:    0.0s remaining:    0.3s\n",
        "[Parallel(n_jobs=7)]: Done   7 out of   7 | elapsed:    0.1s finished\n"
       ]
      },
      {
       "output_type": "stream",
       "stream": "stdout",
       "text": [
        " 0.639 0.0\n",
        "pred"
       ]
      },
      {
       "output_type": "stream",
       "stream": "stderr",
       "text": [
        "[Parallel(n_jobs=7)]: Done   1 out of   0 | elapsed:    0.0s remaining:   -0.0s\n",
        "[Parallel(n_jobs=7)]: Done   7 out of   7 | elapsed:    0.1s finished\n"
       ]
      },
      {
       "output_type": "stream",
       "stream": "stdout",
       "text": [
        " 0.515 1.0\n",
        "pred"
       ]
      },
      {
       "output_type": "stream",
       "stream": "stdout",
       "text": [
        " 0.267 0.0\n",
        "pred"
       ]
      },
      {
       "output_type": "stream",
       "stream": "stderr",
       "text": [
        "[Parallel(n_jobs=7)]: Done   1 out of   7 | elapsed:    0.1s remaining:    0.6s\n",
        "[Parallel(n_jobs=7)]: Done   7 out of   7 | elapsed:    0.1s finished\n",
        "[Parallel(n_jobs=7)]: Done   1 out of   1 | elapsed:    0.0s remaining:    0.0s\n",
        "[Parallel(n_jobs=7)]: Done   7 out of   7 | elapsed:    0.1s finished\n"
       ]
      },
      {
       "output_type": "stream",
       "stream": "stdout",
       "text": [
        " 0.225 nan\n",
        "pred"
       ]
      },
      {
       "output_type": "stream",
       "stream": "stderr",
       "text": [
        "[Parallel(n_jobs=7)]: Done   1 out of   1 | elapsed:    0.0s remaining:    0.0s\n",
        "[Parallel(n_jobs=7)]: Done   7 out of   7 | elapsed:    0.1s finished\n"
       ]
      },
      {
       "output_type": "stream",
       "stream": "stdout",
       "text": [
        " 0.634 1.0\n",
        "pred"
       ]
      },
      {
       "output_type": "stream",
       "stream": "stdout",
       "text": [
        " 0.968 1.0\n",
        "pred"
       ]
      },
      {
       "output_type": "stream",
       "stream": "stderr",
       "text": [
        "[Parallel(n_jobs=7)]: Done   1 out of   7 | elapsed:    0.0s remaining:    0.3s\n",
        "[Parallel(n_jobs=7)]: Done   7 out of   7 | elapsed:    0.1s finished\n",
        "[Parallel(n_jobs=7)]: Done   1 out of   1 | elapsed:    0.0s remaining:    0.0s\n",
        "[Parallel(n_jobs=7)]: Done   7 out of   7 | elapsed:    0.1s finished\n"
       ]
      },
      {
       "output_type": "stream",
       "stream": "stdout",
       "text": [
        " 0.796 1.0\n",
        "pred"
       ]
      },
      {
       "output_type": "stream",
       "stream": "stderr",
       "text": [
        "[Parallel(n_jobs=7)]: Done   1 out of   1 | elapsed:    0.0s remaining:    0.0s\n",
        "[Parallel(n_jobs=7)]: Done   7 out of   7 | elapsed:    0.1s finished\n"
       ]
      },
      {
       "output_type": "stream",
       "stream": "stdout",
       "text": [
        " 0.677 1.0\n",
        "pred"
       ]
      },
      {
       "output_type": "stream",
       "stream": "stderr",
       "text": [
        "[Parallel(n_jobs=7)]: Done   1 out of   1 | elapsed:    0.0s remaining:    0.0s\n",
        "[Parallel(n_jobs=7)]: Done   7 out of   7 | elapsed:    0.1s finished\n"
       ]
      },
      {
       "output_type": "stream",
       "stream": "stdout",
       "text": [
        " 0.385 1.0\n",
        "pred"
       ]
      },
      {
       "output_type": "stream",
       "stream": "stdout",
       "text": [
        " 0.387 0.0\n",
        "pred"
       ]
      },
      {
       "output_type": "stream",
       "stream": "stderr",
       "text": [
        "[Parallel(n_jobs=7)]: Done   1 out of   7 | elapsed:    0.1s remaining:    0.5s\n",
        "[Parallel(n_jobs=7)]: Done   7 out of   7 | elapsed:    0.1s finished\n",
        "[Parallel(n_jobs=7)]: Done   1 out of   7 | elapsed:    0.1s remaining:    0.3s\n",
        "[Parallel(n_jobs=7)]: Done   7 out of   7 | elapsed:    0.1s finished\n"
       ]
      },
      {
       "output_type": "stream",
       "stream": "stdout",
       "text": [
        " 0.375 0.0\n",
        "pred"
       ]
      },
      {
       "output_type": "stream",
       "stream": "stdout",
       "text": [
        " 0.553 1.0\n",
        "pred"
       ]
      },
      {
       "output_type": "stream",
       "stream": "stderr",
       "text": [
        "[Parallel(n_jobs=7)]: Done   1 out of   7 | elapsed:    0.1s remaining:    0.7s\n",
        "[Parallel(n_jobs=7)]: Done   7 out of   7 | elapsed:    0.1s finished\n",
        "[Parallel(n_jobs=7)]: Done   1 out of   1 | elapsed:    0.0s remaining:    0.0s\n",
        "[Parallel(n_jobs=7)]: Done   7 out of   7 | elapsed:    0.1s finished\n"
       ]
      },
      {
       "output_type": "stream",
       "stream": "stdout",
       "text": [
        " 0.905 1.0\n",
        "pred"
       ]
      },
      {
       "output_type": "stream",
       "stream": "stderr",
       "text": [
        "[Parallel(n_jobs=7)]: Done   1 out of   1 | elapsed:    0.0s remaining:    0.0s\n",
        "[Parallel(n_jobs=7)]: Done   7 out of   7 | elapsed:    0.1s finished\n"
       ]
      },
      {
       "output_type": "stream",
       "stream": "stdout",
       "text": [
        " 0.711 1.0\n",
        "pred"
       ]
      },
      {
       "output_type": "stream",
       "stream": "stderr",
       "text": [
        "[Parallel(n_jobs=7)]: Done   1 out of   2 | elapsed:    0.0s remaining:    0.0s\n",
        "[Parallel(n_jobs=7)]: Done   7 out of   7 | elapsed:    0.1s finished\n"
       ]
      },
      {
       "output_type": "stream",
       "stream": "stdout",
       "text": [
        " 0.454 1.0\n",
        "pred"
       ]
      },
      {
       "output_type": "stream",
       "stream": "stdout",
       "text": [
        " 0.668 1.0\n",
        "pred"
       ]
      },
      {
       "output_type": "stream",
       "stream": "stderr",
       "text": [
        "[Parallel(n_jobs=7)]: Done   1 out of   7 | elapsed:    0.1s remaining:    0.7s\n",
        "[Parallel(n_jobs=7)]: Done   7 out of   7 | elapsed:    0.1s finished\n",
        "[Parallel(n_jobs=7)]: Done   1 out of   1 | elapsed:    0.0s remaining:    0.0s\n",
        "[Parallel(n_jobs=7)]: Done   7 out of   7 | elapsed:    0.1s finished\n"
       ]
      },
      {
       "output_type": "stream",
       "stream": "stdout",
       "text": [
        " 0.859 1.0\n",
        "pred"
       ]
      },
      {
       "output_type": "stream",
       "stream": "stdout",
       "text": [
        " 0.469 nan\n",
        "pred"
       ]
      },
      {
       "output_type": "stream",
       "stream": "stderr",
       "text": [
        "[Parallel(n_jobs=7)]: Done   1 out of   7 | elapsed:    0.1s remaining:    0.7s\n",
        "[Parallel(n_jobs=7)]: Done   7 out of   7 | elapsed:    0.1s finished\n",
        "[Parallel(n_jobs=7)]: Done   1 out of   2 | elapsed:    0.0s remaining:    0.0s\n",
        "[Parallel(n_jobs=7)]: Done   7 out of   7 | elapsed:    0.1s finished\n"
       ]
      },
      {
       "output_type": "stream",
       "stream": "stdout",
       "text": [
        " 0.506 1.0\n",
        "pred"
       ]
      },
      {
       "output_type": "stream",
       "stream": "stderr",
       "text": [
        "[Parallel(n_jobs=7)]: Done   1 out of   2 | elapsed:    0.0s remaining:    0.0s\n",
        "[Parallel(n_jobs=7)]: Done   7 out of   7 | elapsed:    0.1s finished\n"
       ]
      },
      {
       "output_type": "stream",
       "stream": "stdout",
       "text": [
        " 0.372 1.0\n",
        "pred"
       ]
      },
      {
       "output_type": "stream",
       "stream": "stderr",
       "text": [
        "[Parallel(n_jobs=7)]: Done   1 out of   0 | elapsed:    0.0s remaining:   -0.0s\n",
        "[Parallel(n_jobs=7)]: Done   7 out of   7 | elapsed:    0.1s finished\n"
       ]
      },
      {
       "output_type": "stream",
       "stream": "stdout",
       "text": [
        " 0.362 0.0\n",
        "pred"
       ]
      },
      {
       "output_type": "stream",
       "stream": "stdout",
       "text": [
        " 0.515 0.0\n",
        "pred"
       ]
      },
      {
       "output_type": "stream",
       "stream": "stderr",
       "text": [
        "[Parallel(n_jobs=7)]: Done   1 out of   7 | elapsed:    0.1s remaining:    0.5s\n",
        "[Parallel(n_jobs=7)]: Done   7 out of   7 | elapsed:    0.1s finished\n",
        "[Parallel(n_jobs=7)]: Done   1 out of   7 | elapsed:    0.1s remaining:    0.5s\n",
        "[Parallel(n_jobs=7)]: Done   7 out of   7 | elapsed:    0.1s finished\n"
       ]
      },
      {
       "output_type": "stream",
       "stream": "stdout",
       "text": [
        " 0.428 0.0\n",
        "pred"
       ]
      },
      {
       "output_type": "stream",
       "stream": "stderr",
       "text": [
        "[Parallel(n_jobs=7)]: Done   1 out of   1 | elapsed:    0.0s remaining:    0.0s\n",
        "[Parallel(n_jobs=7)]: Done   7 out of   7 | elapsed:    0.1s finished\n"
       ]
      },
      {
       "output_type": "stream",
       "stream": "stdout",
       "text": [
        " 0.515 1.0\n",
        "pred"
       ]
      },
      {
       "output_type": "stream",
       "stream": "stdout",
       "text": [
        " 0.618 0.0\n",
        "pred"
       ]
      },
      {
       "output_type": "stream",
       "stream": "stderr",
       "text": [
        "[Parallel(n_jobs=7)]: Done   1 out of   7 | elapsed:    0.1s remaining:    0.6s\n",
        "[Parallel(n_jobs=7)]: Done   7 out of   7 | elapsed:    0.1s finished\n",
        "[Parallel(n_jobs=7)]: Done   1 out of   1 | elapsed:    0.0s remaining:    0.0s\n",
        "[Parallel(n_jobs=7)]: Done   7 out of   7 | elapsed:    0.1s finished\n"
       ]
      },
      {
       "output_type": "stream",
       "stream": "stdout",
       "text": [
        " 0.456 0.0\n",
        "pred"
       ]
      },
      {
       "output_type": "stream",
       "stream": "stderr",
       "text": [
        "[Parallel(n_jobs=7)]: Done   1 out of   1 | elapsed:    0.0s remaining:    0.0s\n",
        "[Parallel(n_jobs=7)]: Done   7 out of   7 | elapsed:    0.1s finished\n"
       ]
      },
      {
       "output_type": "stream",
       "stream": "stdout",
       "text": [
        " 0.436 0.0\n",
        "pred"
       ]
      },
      {
       "output_type": "stream",
       "stream": "stdout",
       "text": [
        " 0.433 1.0\n",
        "pred"
       ]
      },
      {
       "output_type": "stream",
       "stream": "stdout",
       "text": [
        " 0.317 0.0\n",
        "predicted 328/10994"
       ]
      },
      {
       "output_type": "stream",
       "stream": "stdout",
       "text": [
        "\n"
       ]
      },
      {
       "output_type": "stream",
       "stream": "stderr",
       "text": [
        "[Parallel(n_jobs=7)]: Done   1 out of   7 | elapsed:    0.1s remaining:    0.6s\n",
        "[Parallel(n_jobs=7)]: Done   7 out of   7 | elapsed:    0.1s finished\n"
       ]
      }
     ],
     "prompt_number": 1040
    },
    {
     "cell_type": "code",
     "collapsed": false,
     "input": [
      "print sample_submission_df.columns\n",
      "sample_submission_df.to_csv(\"kaggle_submission.csv\", cols=['pred'])"
     ],
     "language": "python",
     "metadata": {},
     "outputs": [
      {
       "output_type": "stream",
       "stream": "stdout",
       "text": [
        "Index([u'pred', u'winner'], dtype=object)\n"
       ]
      }
     ],
     "prompt_number": 1038
    },
    {
     "cell_type": "code",
     "collapsed": false,
     "input": [
      "print \"Kaggle score is {0}\".format(kaggle_metric(sample_submission_df.dropna()['winner'], sample_submission_df.dropna()['pred']))    "
     ],
     "language": "python",
     "metadata": {},
     "outputs": [
      {
       "output_type": "stream",
       "stream": "stdout",
       "text": [
        "315\n",
        "Kaggle score is 0.477871119495\n"
       ]
      }
     ],
     "prompt_number": 1035
    },
    {
     "cell_type": "code",
     "collapsed": false,
     "input": [
      "sample_submission_df_tmp = sample_submission_df.dropna()\n",
      "print \"Kaggle score is {0}\".format(kaggle_metric(sample_submission_df_tmp['winner'].values, sample_submission_df_tmp['pred'].values))    \n",
      "print sample_submission_df_tmp.dropna().winner.values\n",
      "print sample_submission_df_tmp.dropna().pred.values\n",
      "score = 0.0\n",
      "for ix, row in sample_submission_df_tmp.iterrows():\n",
      "    print row['pred'], row['winner'], score\n",
      "    if row['pred'] == 0:\n",
      "        print \"index\",ix\n",
      "        score += 0\n",
      "    else:\n",
      "        score += row['winner']*log(row['pred']) + (1-row['winner'])*log(1-row['pred'])\n",
      "print -1*score/float(len(sample_submission_df))"
     ],
     "language": "python",
     "metadata": {},
     "outputs": [
      {
       "output_type": "stream",
       "stream": "stdout",
       "text": [
        "315\n",
        "Kaggle score is inf\n",
        "[ 0.  0.  1.  0.  1.  0.  1.  0.  0.  0.  0.  0.  0.  0.  1.  0.  1.  1.\n",
        "  1.  0.  0.  0.  1.  1.  0.  0.  0.  0.  1.  0.  0.  1.  0.  1.  1.  0.\n",
        "  0.  1.  0.  0.  0.  0.  1.  1.  0.  0.  0.  1.  1.  1.  0.  0.  1.  0.\n",
        "  1.  0.  1.  0.  1.  0.  1.  0.  0.  0.  0.  1.  1.  1.  0.  1.  1.  1.\n",
        "  1.  1.  1.  0.  0.  1.  0.  0.  1.  1.  1.  1.  0.  0.  0.  0.  1.  0.\n",
        "  0.  1.  0.  1.  1.  1.  0.  0.  0.  1.  1.  1.  0.  0.  0.  0.  1.  0.\n",
        "  1.  0.  0.  0.  1.  0.  0.  1.  1.  0.  0.  0.  1.  1.  0.  1.  0.  1.\n",
        "  0.  0.  1.  1.  1.  0.  0.  0.  0.  1.  1.  1.  1.  1.  0.  1.  1.  0.\n",
        "  1.  0.  1.  1.  1.  1.  1.  1.  1.  1.  0.  0.  1.  0.  0.  1.  0.  1.\n",
        "  0.  1.  0.  1.  0.  1.  1.  1.  1.  0.  0.  0.  1.  1.  1.  0.  0.  0.\n",
        "  1.  0.  1.  0.  1.  1.  0.  1.  1.  0.  1.  0.  1.  1.  0.  0.  1.  0.\n",
        "  1.  1.  0.  0.  0.  0.  0.  0.  0.  1.  1.  1.  1.  0.  0.  1.  0.  0.\n",
        "  1.  1.  0.  0.  1.  1.  1.  1.  1.  0.  1.  1.  0.  0.  0.  1.  1.  0.\n",
        "  1.  0.  0.  1.  0.  0.  1.  1.  1.  0.  1.  1.  1.  1.  1.  1.  1.  0.\n",
        "  0.  0.  1.  1.  0.  0.  0.  0.  1.  0.  0.  0.  1.  0.  0.  0.  1.  0.\n",
        "  1.  1.  0.  1.  1.  1.  0.  1.  0.  1.  0.  1.  0.  1.  0.  0.  1.  1.\n",
        "  0.  1.  0.  1.  1.  1.  1.  1.  0.  0.  1.  1.  1.  1.  1.  1.  1.  1.\n",
        "  0.  0.  0.  1.  0.  0.  0.  1.  0.]\n",
        "[ 0.137  0.013  0.514  0.124  0.265  0.467  0.68   0.01   0.294  0.564\n",
        "  0.643  0.493  0.044  0.485  0.425  0.712  0.547  0.747  0.92   0.014\n",
        "  0.064  0.227  0.262  0.739  0.592  0.004  0.56   0.234  0.721  0.58\n",
        "  0.329  0.913  0.461  0.959  0.828  0.029  0.291  0.6    0.097  0.768\n",
        "  0.189  0.349  0.964  0.776  0.266  0.1    0.008  0.745  0.995  0.674\n",
        "  0.128  0.492  0.459  0.042  0.617  0.621  0.728  0.083  0.479  0.178\n",
        "  0.764  0.442  0.34   0.026  0.228  0.768  0.929  0.767  0.267  0.346\n",
        "  0.672  0.726  0.463  0.776  0.721  0.354  0.071  0.679  0.415  0.11\n",
        "  0.409  0.49   0.818  0.805  0.03   0.434  0.886  0.273  0.687  0.183\n",
        "  0.226  0.996  0.871  0.     0.686  0.829  0.547  0.346  0.198  0.84\n",
        "  0.562  0.518  0.149  0.098  0.122  0.038  0.29   0.448  0.674  0.268\n",
        "  0.326  0.144  0.958  0.546  0.263  0.779  0.677  0.499  0.039  0.32\n",
        "  0.601  0.979  0.572  0.731  0.173  0.796  0.071  0.617  0.138  0.765\n",
        "  0.512  0.462  0.021  0.099  0.243  0.396  0.548  0.259  0.52   0.542\n",
        "  0.727  0.743  0.891  0.35   0.551  0.339  0.293  0.304  0.995  0.925\n",
        "  0.914  0.673  0.37   0.651  0.397  0.172  0.757  0.504  0.224  0.494\n",
        "  0.179  0.598  0.139  0.825  0.827  0.417  0.504  0.534  0.228  0.902\n",
        "  0.621  0.044  0.706  0.22   0.273  0.364  0.592  0.722  0.183  0.012\n",
        "  0.684  0.16   0.966  0.372  0.952  0.805  0.514  0.49   0.826  0.334\n",
        "  0.702  0.371  0.885  0.689  0.321  0.177  0.408  0.231  0.562  0.407\n",
        "  0.426  0.512  0.313  0.372  0.046  0.914  0.427  0.37   0.856  0.712\n",
        "  0.637  0.537  0.278  0.716  0.25   0.327  0.873  0.57   0.099  0.503\n",
        "  0.952  0.772  0.747  0.934  0.528  0.099  0.611  0.953  0.205  0.478\n",
        "  0.01   0.552  0.727  0.027  0.602  0.667  0.661  0.746  0.861  0.096\n",
        "  0.641  0.888  0.995  0.252  0.418  0.555  0.428  0.489  0.985  0.711\n",
        "  0.425  0.63   0.269  0.059  0.731  0.849  0.4    0.367  0.595  0.266\n",
        "  0.578  0.271  0.532  0.17   0.665  0.279  0.278  0.389  0.625  0.149\n",
        "  0.485  0.356  0.532  0.714  0.887  0.902  0.585  0.141  0.221  0.747\n",
        "  0.43   0.688  0.231  0.5    0.308  0.483  0.76   0.917  0.639  0.515\n",
        "  0.267  0.634  0.968  0.796  0.677  0.385  0.387  0.375  0.553  0.905\n",
        "  0.711  0.454  0.668  0.859  0.506  0.372  0.362  0.515  0.428  0.515\n",
        "  0.618  0.456  0.436  0.433  0.317]\n",
        "0.137 0.0 0.0\n",
        "0.013 0.0 -0.147340587899\n",
        "0.514 1.0 -0.160425827447\n",
        "0.124 0.0 -0.825957840974\n",
        "0.265 1.0 -0.95834702902\n",
        "0.467 0.0 -2.28637248202\n",
        "0.68 1.0 -2.91560633683\n",
        "0.01 0.0 -3.30126881764\n",
        "0.294 0.0 -3.3113191535\n",
        "0.564 0.0 -3.65945919499\n",
        "0.643 0.0 -4.48957223062\n",
        "0.493 0.0 -5.51959172782\n",
        "0.044 0.0 -6.19883600321\n",
        "0.485 0.0 -6.24383336914\n",
        "0.425 1.0 -6.90742174746\n",
        "0.712 0.0 -7.76308785752\n",
        "0.547 1.0 -9.00788265637\n",
        "0.747 1.0 -9.61118913293\n",
        "0.92 1.0 -9.90287922678\n",
        "0.014 0.0 -9.98626083571\n",
        "0.064 0.0 -10.0003597601\n",
        "0.227 0.0 -10.0664995626\n",
        "0.262 1.0 -10.323975793\n",
        "0.739 1.0 -11.6633865682\n",
        "0.592 0.0 -11.9658439262\n",
        "0.004 0.0 -12.8623320308\n",
        "0.56 0.0 -12.8663400522\n",
        "0.234 0.0 -13.6873206043\n",
        "0.721 1.0 -13.9538937135\n",
        "0.58 0.0 -14.2810098552\n",
        "0.329 0.0 -15.1485104229\n",
        "0.913 1.0 -15.5474965649\n",
        "0.461 0.0 -15.6385159633\n",
        "0.959 1.0 -16.2565556714\n",
        "0.828 1.0 -16.2984198755\n",
        "0.029 0.0 -16.4871620001\n",
        "0.291 0.0 -16.5165908108\n",
        "0.6 1.0 -16.8604905632\n",
        "0.097 0.0 -17.371316187\n",
        "0.768 0.0 -17.4733489126\n",
        "0.189 0.0 -18.9343668199\n",
        "0.349 0.0 -19.1438540448\n",
        "0.964 1.0 -19.5730996815\n",
        "0.776 1.0 -19.6097636659\n",
        "0.266 0.0 -19.8633664247\n",
        "0.1 0.0 -20.1726126751\n",
        "0.008 0.0 -20.2779731907\n",
        "0.745 1.0 -20.2860053624\n",
        "0.995 1.0 -20.580376423\n",
        "0.674 1.0 -20.5853889649\n",
        "0.128 0.0 -20.9799141329\n",
        "0.492 0.0 -21.116879988\n",
        "0.459 1.0 -21.7941538194\n",
        "0.042 0.0 -22.5728588883\n",
        "0.617 1.0 -22.6157663893\n",
        "0.621 0.0 -23.0986526444\n",
        "0.728 1.0 -24.0688717183\n",
        "0.083 0.0 -24.3863259491\n",
        "0.479 1.0 -24.4729737558\n",
        "0.178 0.0 -25.2090284374\n",
        "0.764 1.0 -25.4050433213\n",
        "0.442 0.0 -25.6742308111\n",
        "0.34 0.0 -26.2576271277\n",
        "0.026 0.0 -26.6731425717\n",
        "0.228 0.0 -26.699486547\n",
        "0.768 1.0 -26.958257276\n",
        "0.929 1.0 -27.2222228218\n",
        "0.767 1.0 -27.295869362\n",
        "0.267 0.0 -27.5611378396\n",
        "0.346 1.0 -27.8717474167\n",
        "0.672 1.0 -28.9330639206\n",
        "0.726 1.0 -29.3305608591\n",
        "0.463 1.0 -29.6507661232\n",
        "0.776 1.0 -30.4207943481\n",
        "0.721 1.0 -30.6743971069\n",
        "0.354 0.0 -31.0015132486\n",
        "0.071 0.0 -31.4384690238\n",
        "0.679 1.0 -31.512115564\n",
        "0.415 0.0 -31.8992497154\n",
        "0.11 0.0 -32.4353931472\n",
        "0.409 1.0 -32.5519269634\n",
        "0.49 1.0 -33.4459670864\n",
        "0.818 1.0 -34.1593169743\n",
        "0.805 1.0 -34.3602099166\n",
        "0.03 0.0 -34.5771229182\n",
        "0.434 0.0 -34.6075821257\n",
        "0.886 0.0 -35.1767433265\n",
        "0.273 0.0 -37.348300157\n",
        "0.687 1.0 -37.6671289585\n",
        "0.183 0.0 -38.0425499453\n",
        "0.226 0.0 -38.2446661294\n",
        "0.996 1.0 -38.5008495348\n",
        "0.871 0.0 -38.5048575562\n",
        "0.0 1.0 -40.5528004308\n",
        "index O_637_711\n",
        "0.686 1.0 -40.5528004308\n",
        "0.829 1.0 -40.929678082\n",
        "0.547 0.0 -41.1172132059\n",
        "0.346 0.0 -41.9090763594\n",
        "0.198 0.0 -42.3337242869\n",
        "0.84 1.0 -42.554370958\n",
        "0.562 1.0 -42.7287243452\n",
        "0.518 1.0 -43.3049777743\n",
        "0.149 0.0 -43.962757811\n",
        "0.098 0.0 -44.1241009614\n",
        "0.122 0.0 -44.2272417203\n",
        "0.038 0.0 -44.3573504057\n",
        "0.29 1.0 -44.396091234\n",
        "0.448 0.0 -45.63396559\n",
        "0.674 1.0 -46.2281728227\n",
        "0.268 0.0 -46.6226979908\n",
        "0.326 0.0 -46.9346727558\n",
        "0.144 0.0 -47.3291979238\n",
        "0.958 1.0 -47.4846828267\n",
        "0.546 0.0 -47.5275903277\n",
        "0.263 0.0 -48.3172484086\n",
        "0.779 1.0 -48.6224157954\n",
        "0.677 1.0 -48.8721600285\n",
        "0.499 0.0 -49.2622440346\n",
        "0.039 0.0 -49.9533932125\n",
        "0.32 0.0 -49.9931740825\n",
        "0.601 1.0 -50.3788365633\n",
        "0.979 1.0 -50.8879969078\n",
        "0.572 0.0 -50.9092205442\n",
        "0.731 1.0 -51.7578526276\n",
        "0.173 0.0 -52.0711944469\n",
        "0.796 1.0 -52.2611450308\n",
        "0.071 0.0 -52.489301124\n",
        "0.617 0.0 -52.5629476641\n",
        "0.138 1.0 -53.5226679539\n",
        "0.765 1.0 -55.5031695478\n",
        "0.512 1.0 -55.7710489929\n",
        "0.462 0.0 -56.4404796469\n",
        "0.021 0.0 -57.0603763657\n",
        "0.099"
       ]
      },
      {
       "output_type": "stream",
       "stream": "stdout",
       "text": [
        " 0.0 -57.0816000021\n",
        "0.243 0.0 -57.1858500235\n",
        "0.396 1.0 -57.464242049\n",
        "0.548 1.0 -58.3905831168\n",
        "0.259 1.0 -58.9920631088\n",
        "0.52 1.0 -60.3429903261\n",
        "0.542 1.0 -60.9969167935\n",
        "0.727 0.0 -61.609406071\n",
        "0.743 1.0 -62.9076895548\n",
        "0.891 1.0 -63.2047487891\n",
        "0.35 0.0 -63.3201596406\n",
        "0.551 1.0 -63.7509425567\n",
        "0.339 0.0 -64.3469630265\n",
        "0.293 1.0 -64.7609644657\n",
        "0.304 1.0 -65.9885471356\n",
        "0.995 1.0 -67.1792747132\n",
        "0.925 1.0 -67.184287255\n",
        "0.914 1.0 -67.2622487965\n",
        "0.673 1.0 -67.352173504\n",
        "0.37 1.0 -67.7481834534\n",
        "0.651 1.0 -68.7424357267\n",
        "0.397 0.0 -69.1716813635\n",
        "0.172 0.0 -69.6775194457\n",
        "0.757 1.0 -69.8662615703\n",
        "0.504 0.0 -70.1446535959\n",
        "0.224 0.0 -70.8458329481\n",
        "0.494 1.0 -71.0994357069\n",
        "0.179 0.0 -71.8046554687\n",
        "0.598 1.0 -72.0018876383\n",
        "0.139 0.0 -72.5160521633\n",
        "0.825 1.0 -72.6657129378\n",
        "0.827 0.0 -72.8580848305\n",
        "0.417 1.0 -74.612548515\n",
        "0.504 0.0 -75.4872175722\n",
        "0.534 1.0 -76.1883969244\n",
        "0.228 1.0 -76.8157563644\n",
        "0.902 1.0 -78.2941660145\n",
        "0.621 1.0 -78.3973067734\n",
        "0.044 0.0 -78.8737309704\n",
        "0.706 0.0 -78.9187283364\n",
        "0.22 0.0 -80.142903848\n",
        "0.273 1.0 -80.3913652073\n",
        "0.364 1.0 -81.6896486911\n",
        "0.592 1.0 -82.7002501024\n",
        "0.722 0.0 -83.2244987465\n",
        "0.183 0.0 -84.5046329118\n",
        "0.012 0.0 -84.706749096\n",
        "0.684 1.0 -84.7188216772\n",
        "0.16 0.0 -85.0986190386\n",
        "0.966 1.0 -85.2729724257\n",
        "0.372 0.0 -85.3075638705\n",
        "0.952 1.0 -85.772778983\n",
        "0.805 1.0 -85.8219692272\n",
        "0.514 0.0 -86.0388822287\n",
        "0.49 1.0 -86.7604288838\n",
        "0.826 1.0 -87.4737787717\n",
        "0.334 0.0 -87.6649392772\n",
        "0.702 1.0 -88.0714048856\n",
        "0.371 0.0 -88.4252267606\n",
        "0.885 1.0 -88.8888507828\n",
        "0.689 1.0 -89.0110184168\n",
        "0.321 0.0 -89.3835324248\n",
        "0.177 0.0 -89.7706665762\n",
        "0.408 1.0 -89.9654656545\n",
        "0.231 0.0 -90.8619537591\n",
        "0.562 1.0 -91.1246180686\n",
        "0.407 1.0 -91.7008714976\n",
        "0.426 0.0 -92.5998135912\n",
        "0.512 0.0 -93.1549394738\n",
        "0.313 0.0 -93.872379347\n",
        "0.372 0.0 -94.2478003337\n",
        "0.046 0.0 -94.7130154463\n",
        "0.914 0.0 -94.7601070538\n",
        "0.427 0.0 -97.2135150365\n",
        "0.37 1.0 -97.7703845988\n",
        "0.856 1.0 -98.7646368721\n",
        "0.712 1.0 -98.920121775\n",
        "0.637 1.0 -99.2597991425\n",
        "0.537 0.0 -99.7107847659\n",
        "0.278 0.0 -100.480812991\n",
        "0.716 1.0 -100.806543131\n",
        "0.25 0.0 -101.140618243\n",
        "0.327 0.0 -101.428300315\n",
        "0.873 1.0 -101.824310265\n",
        "0.57 1.0 -101.960129988\n",
        "0.099 0.0 -102.522248906\n",
        "0.503 0.0 -102.626498927\n",
        "0.952 1.0 -103.32566418\n",
        "0.772 1.0 -103.374854424\n",
        "0.747 1.0 -103.633625153\n",
        "0.934 1.0 -103.925315247\n",
        "0.528 1.0 -103.993594088\n",
        "0.099 0.0 -104.632253083\n",
        "0.611 1.0 -104.736503105\n",
        "0.953 1.0 -105.229161425\n",
        "0.205 0.0 -105.2773018\n",
        "0.478 0.0 -105.506714964\n",
        "0.01 0.0 -106.156802655\n",
        "0.552 1.0 -106.166852991\n",
        "0.727 1.0 -106.761060224\n",
        "0.027 0.0 -107.079889025\n",
        "0.602 1.0 -107.107260222\n",
        "0.667 0.0 -107.614758056\n",
        "0.661 0.0 -108.714370845\n",
        "0.746 1.0 -109.796126016\n",
        "0.861 0.0 -110.089155695\n",
        "0.096 0.0 -112.062437041\n",
        "0.641 1.0 -112.16336296\n",
        "0.888 1.0 -112.608088782\n",
        "0.995 1.0 -112.726872318\n",
        "0.252 0.0 -112.731884859\n",
        "0.418 1.0 -113.02223716\n",
        "0.555 1.0 -113.894511007\n",
        "0.428 1.0 -114.483298172\n",
        "0.489 1.0 -115.331930256\n",
        "0.985 1.0 -116.047323045\n",
        "0.711 1.0 -116.062436683\n",
        "0.425 1.0 -116.403519532\n",
        "0.63 0.0 -117.259185642\n",
        "0.269 0.0 -118.253437915\n",
        "0.059 0.0 -118.566779735\n",
        "0.731 1.0 -118.627591874\n",
        "0.849 1.0 -118.940933693\n",
        "0.4 0.0 -119.104629786\n",
        "0.367 0.0 -119.61545541\n",
        "0.595 0.0 -120.072740267\n",
        "0.266 0.0 -120.976608478\n",
        "0.578 1.0 -121.285854729\n",
        "0.271 0.0 -121.834036139\n",
        "0.532 0.0 -122.150117686\n",
        "0.17 0.0 -122.909404669\n",
        "0.665 1.0 -123.095734247\n",
        "0.279 0.0 -123.503702486\n",
        "0.278 0.0 -123.830818627\n",
        "0.389 0.0 -124.156548767\n",
        "0.625 1.0 -124.649207087\n",
        "0.149 0.0 -125.119210717\n",
        "0.485 1.0 -125.280553867\n",
        "0.356 1.0 -126.004160255\n",
        "0.532 0.0 -127.036984803\n",
        "0.714 1.0 -127.796271786\n",
        "0.887 1.0 -128.133144103\n",
        "0.902 1.0 -128.253054399\n",
        "0.585 0.0 -128.356195158\n",
        "0.141 1.0 -129.235671917\n",
        "0.221 0.0 -131.194667306\n",
        "0.747 1.0 -131.444411539\n",
        "0.43 0.0 -131.736101633\n",
        "0.688 1.0 -132.298220551\n",
        "0.231 0.0 -132.672186992\n",
        "0.5 1.0 -132.934851301\n",
        "0.308 0.0 -133.627998482\n",
        "0.483 0.0 -133.996167805\n",
        "0.76 1.0 -134.65588021\n",
        "0.917 1.0 -134.930317056\n",
        "0.639 0.0 -135.016964862\n",
        "0.515 1.0 -136.035842183\n",
        "0.267 0.0 -136.699430561\n",
        "0.634 1.0 -137.010040138\n",
        "0.968 1.0 -137.465746463\n",
        "0.796 1.0 -137.498269655\n",
        "0.677 1.0 -137.726425748\n",
        "0.385 1.0 -138.116509754\n",
        "0.387 0.0 -139.071021698\n",
        "0.375 0.0 -139.560412041\n",
        "0.553 1.0 -140.030415671\n",
        "0.905 1.0 -140.622812948\n",
        "0.711 1.0 -140.722633283\n",
        "0.454 1.0 -141.063716133\n",
        "0.668 1.0 -141.853374214\n",
        "0.859 1.0 -142.256841319\n",
        "0.506 1.0 -142.408827676\n",
        "0.372 1.0 -143.090046286\n",
        "0.362 0.0 -144.07890771\n",
        "0.515 0.0 -144.528324706\n",
        "0.428 0.0 -145.251931094\n",
        "0.515 1.0 -145.810547382\n",
        "0.618 0.0 -146.47413576\n",
        "0.456 0.0 -147.43647043\n",
        "0.436 0.0 -148.045276463\n",
        "0.433 1.0 -148.61797749\n",
        "0.317 0.0 -149.454995041\n",
        "0.475670652255\n"
       ]
      }
     ],
     "prompt_number": 1032
    },
    {
     "cell_type": "code",
     "collapsed": false,
     "input": [],
     "language": "python",
     "metadata": {},
     "outputs": []
    }
   ],
   "metadata": {}
  }
 ]
}