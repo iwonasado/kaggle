{
 "metadata": {
  "name": ""
 },
 "nbformat": 3,
 "nbformat_minor": 0,
 "worksheets": [
  {
   "cells": [
    {
     "cell_type": "code",
     "collapsed": false,
     "input": [
      "import pandas as pd\n",
      "import pylab as p\n",
      "import matplotlib.pyplot as plt\n",
      "import sklearn\n",
      "from sklearn.ensemble import RandomForestRegressor\n",
      "from sklearn.ensemble import RandomForestClassifier\n",
      "from sklearn.ensemble import ExtraTreesRegressor\n",
      "from sklearn import cross_validation\n",
      "import numpy as np\n",
      "from scipy import stats\n",
      "import scipy\n",
      "import scipy.spatial.distance as dist\n",
      "import os\n",
      "import random\n",
      "from scipy.interpolate import UnivariateSpline\n",
      "import operator\n",
      "import pickle\n",
      "import cPickle\n",
      "from multiprocessing import Pool\n",
      "import time\n"
     ],
     "language": "python",
     "metadata": {},
     "outputs": []
    },
    {
     "cell_type": "code",
     "collapsed": false,
     "input": [
      "sklearn.__version__"
     ],
     "language": "python",
     "metadata": {},
     "outputs": []
    },
    {
     "cell_type": "code",
     "collapsed": false,
     "input": [
      "def get_metric(cfr, features, targets):\n",
      "    p = cfr.predict(features)\n",
      "    sum_diff = np.power((p - targets),2)\n",
      "    mean_diff = np.sqrt(np.sum(sum_diff)/float(len(targets)))\n",
      "    return mean_diff"
     ],
     "language": "python",
     "metadata": {},
     "outputs": []
    },
    {
     "cell_type": "code",
     "collapsed": false,
     "input": [
      "def rmse_score(features, targets):\n",
      "    print \"Splitting test/train\"\n",
      "    x_train, x_test, y_train, y_test = cross_validation.train_test_split(features, targets, test_size=0.4, random_state=0)\n",
      "    print \"Initializing CFR\"\n",
      "    cfr = RandomForestRegressor(\n",
      "        oob_score = True, verbose = 10000, max_features = None, n_estimators = 100, min_samples_leaf = 1,\n",
      "        n_jobs=8,\n",
      "        random_state=0,\n",
      "    )\n",
      "#     cfr = ExtraTreesRegressor(\n",
      "#         oob_score = True, bootstrap=True, verbose = 1, max_features = None, n_estimators = 100, min_samples_leaf = 1,\n",
      "#         n_jobs=8,\n",
      "#         random_state=0,\n",
      "#     )\n",
      "    print \"Fitting...\"\n",
      "    cfr.fit(x_train, y_train)\n",
      "    print \"Scoring...\"\n",
      "    score = get_metric(cfr, x_test, y_test)\n",
      "    return cfr, score, x_train, x_test, y_train, y_test"
     ],
     "language": "python",
     "metadata": {},
     "outputs": []
    },
    {
     "cell_type": "code",
     "collapsed": false,
     "input": [
      "thetas = np.linspace(0, 360, num=10)\n",
      "thetas = thetas[:len(thetas)-1]\n",
      "print thetas"
     ],
     "language": "python",
     "metadata": {},
     "outputs": []
    },
    {
     "cell_type": "code",
     "collapsed": false,
     "input": [
      "def read_image_proxy(args):\n",
      "    images = []\n",
      "    indices = []\n",
      "    image_id = args[0]\n",
      "    thetas = args[1]\n",
      "    image = scipy.misc.imread('/Users/jostheim/workspace/kaggle/data/galaxy_zoo/images_training_rev1/{0}.jpg'.format(image_id), flatten=True)\n",
      "    size_x, size_y = image.shape\n",
      "    cut_image = image[int((size_x/2.0)-50):int((size_x/2.0)+50), int((size_y/2.0)-50):int((size_y/2.0)+50)]\n",
      "    mirror_image = scipy.misc.imrotate(cut_image, 180)\n",
      "\n",
      "#     images.append(np.hstack((cut_image.flatten(), (cut_image - mirror_image).flatten())))\n",
      "#     indices.append(image_id)\n",
      "#     indices.append(image_id)\n",
      "    npix, npiy = cut_image.shape\n",
      "    for rotate_theta in thetas:\n",
      "        x1 = np.arange(-npix/2.,npix/2.)\n",
      "        y1 = np.arange(-npiy/2.,npiy/2.)\n",
      "        x,y = np.meshgrid(y1,x1)\n",
      "        rot_image = scipy.misc.imrotate(cut_image, rotate_theta)\n",
      "        r = np.sqrt(x**2 + y**2)\n",
      "        thisindex = ((r>=0) * (r<100)) \n",
      "        rot_data = rot_image[thisindex]\n",
      "        images.append(rot_data.flatten())\n",
      "        indices.append(image_id)\n",
      "    #print cut_image, ix\n",
      "    return images, indices"
     ],
     "language": "python",
     "metadata": {},
     "outputs": []
    },
    {
     "cell_type": "code",
     "collapsed": false,
     "input": [
      "galaxy_training = pd.read_csv('/Users/jostheim/workspace/kaggle/data/galaxy_zoo/training_solutions_rev1.csv', index_col=[0], dtype={\"Class1.1\":np.float32,\"Class1.2\":np.float32,\"Class1.3\":np.float32,\"Class2.1\":np.float32,\"Class2.2\":np.float32,\"Class3.1\":np.float32,\"Class3.2\":np.float32,\"Class4.1\":np.float32,\"Class4.2\":np.float32,\"Class5.1\":np.float32,\"Class5.2\":np.float32,\"Class5.3\":np.float32,\"Class5.4\":np.float32,\"Class6.1\":np.float32,\"Class6.2\":np.float32,\"Class7.1\":np.float32,\"Class7.2\":np.float32,\"Class7.3\":np.float32,\"Class8.1\":np.float32,\"Class8.2\":np.float32,\"Class8.3\":np.float32,\"Class8.4\":np.float32,\"Class8.5\":np.float32,\"Class8.6\":np.float32,\"Class8.7\":np.float32,\"Class9.1\":np.float32,\"Class9.2\":np.float32,\"Class9.3\":np.float32,\"Class10.1\":np.float32,\"Class10.2\":np.float32,\"Class10.3\":np.float32,\"Class11.1\":np.float32,\"Class11.2\":np.float32,\"Class11.3\":np.float32,\"Class11.4\":np.float32,\"Class11.5\":np.float32,\"Class11.6\":np.float32})"
     ],
     "language": "python",
     "metadata": {},
     "outputs": []
    },
    {
     "cell_type": "code",
     "collapsed": false,
     "input": [
      "#if pool:\n",
      "#    pool.terminate()\n",
      "number_samples = 20000 # len(galaxy_training.index)#10000\n",
      "if number_samples is not None:\n",
      "    random_sample_indices = random.sample(galaxy_training.index, number_samples)\n",
      "# print random_sample_indices\n",
      "galaxy_training = galaxy_training.ix[random_sample_indices]\n",
      "start = 0\n",
      "batch_size = 1 #len(galaxy_training.index)\n",
      "batch_width = (len(galaxy_training.index)-start)/batch_size\n",
      "raw_flat_images = []\n",
      "indices = []\n",
      "for j in xrange(0, batch_size):\n",
      "    pool = Pool(processes=8)\n",
      "    features = None\n",
      "    features_dicts = None\n",
      "    if j+1 < batch_size:\n",
      "        current_batch = [j*batch_width if start == 0 else start, (j+1)*batch_width] \n",
      "    else:\n",
      "        current_batch = [j*batch_width if start == 0 else start, len(galaxy_training.index)] \n",
      "    pool_queue = []\n",
      "    for i, (ix, row) in enumerate(galaxy_training[current_batch[0]:current_batch[1]].iterrows()):\n",
      "        pool_queue.append([ix, thetas])\n",
      "        \n",
      "    \n",
      "    results = pool.map_async(read_image_proxy, pool_queue, 1)\n",
      "    pool.close() # No more work\n",
      "    while (True):\n",
      "        #print results._value\n",
      "        if (results._number_left == 0): break\n",
      "        remaining = results._number_left\n",
      "        print \"\\r Waiting for\", remaining, \"tasks to complete...\"\n",
      "        time.sleep(10.0)\n",
      "    \n",
      "    \n",
      "    for image_array, galaxy_id in results._value:\n",
      "        raw_flat_images = raw_flat_images + image_array\n",
      "        indices = indices + galaxy_id\n",
      "            \n",
      "    #features.to_csv(\"/Users/jostheim/workspace/kaggle/data/galaxy_zoo/pieces/features_{0}_{1}_data_{2}_theta_bins_{3}_linear_radial_bins.csv\".format(current_batch[0], current_batch[1], number_theta_bins, number_radial_bins))\n",
      "#print raw_flat_images\n",
      "pool.terminate()\n",
      "raw_pixels_df = pd.DataFrame(raw_flat_images, indices)\n",
      "raw_flat_images = None\n",
      "results = None\n",
      "indices = None"
     ],
     "language": "python",
     "metadata": {},
     "outputs": [
      {
       "output_type": "stream",
       "stream": "stdout",
       "text": [
        " 19425 tasks to complete...\n",
        "\r",
        " Waiting for"
       ]
      },
      {
       "output_type": "stream",
       "stream": "stdout",
       "text": [
        " 18834 tasks to complete...\n",
        "\r",
        " Waiting for"
       ]
      },
      {
       "output_type": "stream",
       "stream": "stdout",
       "text": [
        " 18193 tasks to complete...\n",
        "\r",
        " Waiting for"
       ]
      },
      {
       "output_type": "stream",
       "stream": "stdout",
       "text": [
        " 17404 tasks to complete...\n",
        "\r",
        " Waiting for"
       ]
      },
      {
       "output_type": "stream",
       "stream": "stdout",
       "text": [
        " 16652 tasks to complete...\n",
        "\r",
        " Waiting for"
       ]
      },
      {
       "output_type": "stream",
       "stream": "stdout",
       "text": [
        " 15804 tasks to complete...\n",
        "\r",
        " Waiting for"
       ]
      },
      {
       "output_type": "stream",
       "stream": "stdout",
       "text": [
        " 15016 tasks to complete...\n",
        "\r",
        " Waiting for"
       ]
      },
      {
       "output_type": "stream",
       "stream": "stdout",
       "text": [
        " 14227 tasks to complete...\n",
        "\r",
        " Waiting for"
       ]
      },
      {
       "output_type": "stream",
       "stream": "stdout",
       "text": [
        " 13294 tasks to complete...\n",
        "\r",
        " Waiting for"
       ]
      },
      {
       "output_type": "stream",
       "stream": "stdout",
       "text": [
        " 12394 tasks to complete...\n",
        "\r",
        " Waiting for"
       ]
      },
      {
       "output_type": "stream",
       "stream": "stdout",
       "text": [
        " 11504 tasks to complete...\n",
        "\r",
        " Waiting for"
       ]
      },
      {
       "output_type": "stream",
       "stream": "stdout",
       "text": [
        " 10571 tasks to complete...\n",
        "\r",
        " Waiting for"
       ]
      },
      {
       "output_type": "stream",
       "stream": "stdout",
       "text": [
        " 9687 tasks to complete...\n",
        "\r",
        " Waiting for"
       ]
      },
      {
       "output_type": "stream",
       "stream": "stdout",
       "text": [
        " 8677 tasks to complete...\n",
        "\r",
        " Waiting for"
       ]
      },
      {
       "output_type": "stream",
       "stream": "stdout",
       "text": [
        " 7796 tasks to complete...\n",
        "\r",
        " Waiting for"
       ]
      },
      {
       "output_type": "stream",
       "stream": "stdout",
       "text": [
        " 6990 tasks to complete...\n",
        "\r",
        " Waiting for"
       ]
      },
      {
       "output_type": "stream",
       "stream": "stdout",
       "text": [
        " 6086 tasks to complete...\n",
        "\r",
        " Waiting for"
       ]
      },
      {
       "output_type": "stream",
       "stream": "stdout",
       "text": [
        " 5193 tasks to complete...\n",
        "\r",
        " Waiting for"
       ]
      },
      {
       "output_type": "stream",
       "stream": "stdout",
       "text": [
        " 4239 tasks to complete...\n",
        "\r",
        " Waiting for"
       ]
      },
      {
       "output_type": "stream",
       "stream": "stdout",
       "text": [
        " 3239 tasks to complete...\n",
        "\r",
        " Waiting for"
       ]
      },
      {
       "output_type": "stream",
       "stream": "stdout",
       "text": [
        " 2259 tasks to complete...\n",
        "\r",
        " Waiting for"
       ]
      },
      {
       "output_type": "stream",
       "stream": "stdout",
       "text": [
        " 1352 tasks to complete...\n",
        "\r",
        " Waiting for"
       ]
      },
      {
       "output_type": "stream",
       "stream": "stdout",
       "text": [
        " 401 tasks to complete...\n"
       ]
      }
     ]
    },
    {
     "cell_type": "code",
     "collapsed": true,
     "input": [
      "print raw_pixels_df"
     ],
     "language": "python",
     "metadata": {},
     "outputs": [
      {
       "output_type": "stream",
       "stream": "stdout",
       "text": [
        "<class 'pandas.core.frame.DataFrame'>\n",
        "Int64Index: 180000 entries, 337667 to 451178\n",
        "Columns: 10000 entries, 0 to 9999\n",
        "dtypes: uint8(10000)\n"
       ]
      }
     ],
     "prompt_number": 12
    },
    {
     "cell_type": "code",
     "collapsed": false,
     "input": [
      "cfrs = {}\n",
      "for i, col in enumerate(galaxy_training.columns):\n",
      "    if \"Class\" in col:\n",
      "        class_to_fit = col\n",
      "        features = None\n",
      "        targets = None\n",
      "        print \"copying\"\n",
      "        features = raw_pixels_df.copy()\n",
      "        print \"dropping na\"\n",
      "        features = features.dropna(axis=1)\n",
      "        if 'GalaxyId' in features:\n",
      "            features.set_index('GalaxyId', inplace=True)\n",
      "        print \"joining\"\n",
      "        #features = features.join(galaxy_training[col])\n",
      "        targets_a = []\n",
      "        targets_probs = []\n",
      "        for i, index in enumerate(features.index):\n",
      "            if galaxy_training[col].ix[index] > 0.5:\n",
      "                targets_a.append(1)\n",
      "            else:\n",
      "                targets_a.append(-1)\n",
      "            targets_probs.append(galaxy_training[col].ix[index])\n",
      "#             targets_a.append(galaxy_training[col].ix[index])\n",
      "        targets = np.array(targets_a)       \n",
      "        targets_probs = np.array(targets_probs)\n",
      "#        print features.columns\n",
      "#        print targets.values\n",
      "        print \"Working on class: {0}\".format(class_to_fit)\n",
      "        cfr, score, x_train, x_test, y_train, y_test = rmse_score(features, targets_probs)\n",
      "#        cfr, score, x_train, x_test, y_train, y_test, train_indices, test_indices = classification_score(features, targets)\n",
      "        cfrs[col] = (cfr, score, x_train, x_test, y_train, y_test)\n",
      "        print \"For class: {0} Score: {1}\".format(class_to_fit, score)\n",
      "        if i > 3:\n",
      "            break"
     ],
     "language": "python",
     "metadata": {},
     "outputs": [],
     "prompt_number": "*"
    },
    {
     "cell_type": "code",
     "collapsed": false,
     "input": [
      "# with sub and regular 100 pixels, 10000 images, Class1.1 Score: 0.215449227356 \n",
      "# with just sub 100 pixels, 10000 images, Class1.1 Score: 0.232292127518\n",
      "# with sub and regular 100 pixels, 60000 images, Class1.1 Score: 0.205458958346\n",
      "\n",
      "print cfrs"
     ],
     "language": "python",
     "metadata": {},
     "outputs": [
      {
       "output_type": "stream",
       "stream": "stdout",
       "text": [
        "{'Class1.1': (RandomForestRegressor(bootstrap=True, compute_importances=None,\n",
        "           criterion='mse', max_depth=None, max_features=None,\n",
        "           max_leaf_nodes=None, min_density=None, min_samples_leaf=1,\n",
        "           min_samples_split=2, n_estimators=100, n_jobs=8, oob_score=True,\n",
        "           random_state=0, verbose=10000), 0.20221134682315728, array([[ 0,  0,  0, ...,  0,  0,  0],\n",
        "       [ 0,  0,  0, ...,  0,  0,  0],\n",
        "       [15, 12,  9, ..., 11, 14, 15],\n",
        "       ..., \n",
        "       [ 0,  0,  0, ...,  0,  0,  0],\n",
        "       [ 0,  0,  0, ...,  0,  0,  0],\n",
        "       [ 0,  0,  0, ...,  0,  0,  0]], dtype=uint8), array([[ 0,  0,  0, ...,  0,  0,  0],\n",
        "       [14, 15, 16, ...,  4,  2,  1],\n",
        "       [ 0,  0,  0, ...,  0,  0,  0],\n",
        "       ..., \n",
        "       [ 0,  0,  0, ...,  0,  0,  0],\n",
        "       [ 0,  0,  0, ...,  0,  0,  0],\n",
        "       [ 0,  0,  0, ...,  0,  0,  0]], dtype=uint8), array([ 0.48735699,  0.604137  ,  0.50879198, ...,  0.006625  ,\n",
        "        0.56331402,  0.186891  ], dtype=float32), array([ 0.499035  ,  0.12299   ,  0.38272101, ...,  0.72064   ,\n",
        "        0.196328  ,  0.273734  ], dtype=float32))}\n"
       ]
      }
     ],
     "prompt_number": 17
    },
    {
     "cell_type": "code",
     "collapsed": false,
     "input": [
      "image = scipy.misc.imread('/Users/jostheim/workspace/kaggle/data/galaxy_zoo/images_training_rev1/{0}.jpg'.format('100008'), flatten=True)\n",
      "size_x, size_y = image.shape\n",
      "cut_image = image[(size_x/2.0)-50:(size_x/2.0)+50, (size_y/2.0)-50:(size_y/2.0)+50]\n",
      "plt.imshow(cut_image)\n",
      "print len(cut_image.flatten())\n",
      "pd.DataFrame([cut_image.flatten()], index=[100008])"
     ],
     "language": "python",
     "metadata": {},
     "outputs": []
    },
    {
     "cell_type": "code",
     "collapsed": false,
     "input": [
      "npix, npiy = image.shape\n",
      "x1 = np.arange(-npix/2.,npix/2.)\n",
      "y1 = np.arange(-npiy/2.,npiy/2.)\n",
      "x,y = np.meshgrid(y1,x1)\n",
      "rot_image = scipy.misc.imrotate(image, 45.0)\n",
      "r = np.sqrt(x**2 + y**2)\n",
      "thisindex = ((r>=100) * (r<100)) \n",
      "rot_data = rot_image[thisindex]\n",
      "plt.imshow(rot_image)\n"
     ],
     "language": "python",
     "metadata": {},
     "outputs": []
    },
    {
     "cell_type": "code",
     "collapsed": false,
     "input": [],
     "language": "python",
     "metadata": {},
     "outputs": []
    }
   ],
   "metadata": {}
  }
 ]
}